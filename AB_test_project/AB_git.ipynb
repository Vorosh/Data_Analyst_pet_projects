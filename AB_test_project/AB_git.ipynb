{
 "cells": [
  {
   "cell_type": "markdown",
   "id": "0b25c58e",
   "metadata": {},
   "source": [
    "# Проект по А/B-тестированию"
   ]
  },
  {
   "cell_type": "markdown",
   "id": "5e4dd634",
   "metadata": {},
   "source": [
    "## Описание данных\n",
    "\n",
    "***ab_project_marketing_events.csv*** — календарь маркетинговых событий на 2020 год.\n",
    "\n",
    "Структура файла:\n",
    "\n",
    "- name — название маркетингового события;\n",
    "- regions — регионы, в которых будет проводиться рекламная кампания;\n",
    "- start_dt — дата начала кампании;\n",
    "- finish_dt — дата завершения кампании.\n",
    "\n",
    "***final_ab_new_users.csv*** — пользователи, зарегистрировавшиеся с 7 по 21 декабря 2020 года.\n",
    "\n",
    "Структура файла:\n",
    "\n",
    "- user_id — идентификатор пользователя;\n",
    "- first_date — дата регистрации;\n",
    "- region — регион пользователя;\n",
    "- device — устройство, с которого происходила регистрация.\n",
    "\n",
    "***final_ab_events.csv*** — действия новых пользователей в период с 7 декабря 2020 по 4 января 2021 года.\n",
    "\n",
    "Структура файла:\n",
    "\n",
    "- user_id — идентификатор пользователя;\n",
    "- event_dt — дата и время покупки;\n",
    "- event_name — тип события;\n",
    "- details — дополнительные данные о событии. Например, для покупок, purchase, в этом поле хранится стоимость покупки в долларах.\n",
    "\n",
    "***final_ab_participants.csv*** — таблица участников тестов.\n",
    "\n",
    "Структура файла:\n",
    "\n",
    "- user_id — идентификатор пользователя;\n",
    "- ab_test — название теста;\n",
    "- group — группа пользователя."
   ]
  },
  {
   "cell_type": "markdown",
   "id": "f5c8340a",
   "metadata": {},
   "source": [
    "## Постановка задачи\n",
    "\n",
    "***Задача — провести оценку результатов A/B-теста.*** В распоряжении есть датасет с действиями пользователей, техническое задание и несколько вспомогательных датасетов.\n",
    "\n",
    "- ***Оценить корректность проведения теста***\n",
    "    - пересечение тестовой аудитории с конкурирующим тестом,\n",
    "    - совпадение теста и маркетинговых событий, другие проблемы временных границ теста.\n",
    "    \n",
    "- ***Проанализировать результаты теста***"
   ]
  },
  {
   "cell_type": "markdown",
   "id": "c6ebf8d9",
   "metadata": {},
   "source": [
    "## Техническое задание\n",
    "\n",
    "- Название теста: ***recommender_system_test***;\n",
    "- группы: А — контрольная, B — новая платёжная воронка;\n",
    "- дата запуска: 2020-12-07;\n",
    "- дата остановки набора новых пользователей: 2020-12-21;\n",
    "- дата остановки: 2021-01-04;\n",
    "- аудитория: 15% новых пользователей из региона EU;\n",
    "- назначение теста: ***тестирование изменений, связанных с внедрением улучшенной рекомендательной системы***;\n",
    "- ожидаемое количество участников теста: 6000.\n",
    "- ожидаемый эффект: за 14 дней с момента регистрации пользователи покажут улучшение каждой метрики не менее, чем на 10%:\n",
    "    - конверсии в просмотр карточек товаров — событие product_page,\n",
    "    - просмотры корзины — product_cart,\n",
    "    - покупки — purchase."
   ]
  },
  {
   "cell_type": "markdown",
   "id": "af7b332a",
   "metadata": {},
   "source": [
    "## План работы"
   ]
  },
  {
   "cell_type": "markdown",
   "id": "de955683",
   "metadata": {},
   "source": [
    "1. ***Загрузка данных и подготовка их к анализу***\n",
    "\n",
    "\n",
    "2. ***Предобработка данных***\n",
    " - Преобразование данных к нужным типам\n",
    "\n",
    "\n",
    "3. ***Оценка корректности проведения теста***\n",
    " - Соответствие данных требованиям технического задания\n",
    " - Время проведения теста\n",
    " - Аудитория теста\n",
    "\n",
    "\n",
    "4. ***Исследовательский анализ данных***\n",
    " - Распределение событий на одного пользователя в выборках\n",
    " - Распределение событий и пользователей по дням\n",
    " - Изменение конверсии в воронке на разных этапах\n",
    "\n",
    "\n",
    "5. ***A/B - тестирование***\n",
    " - Изменение метрик за 14 дней с момента регистрации пользователя\n",
    " - Проверка статистической разницы долей z-критерием\n",
    " \n",
    "\n",
    "6. ***Вывод***"
   ]
  },
  {
   "cell_type": "markdown",
   "id": "e09fbe71",
   "metadata": {},
   "source": [
    "## Загрузка данных и подготовка их к анализу"
   ]
  },
  {
   "cell_type": "code",
   "execution_count": 1,
   "id": "67679abe",
   "metadata": {},
   "outputs": [
    {
     "name": "stdout",
     "output_type": "stream",
     "text": [
      "Requirement already satisfied: kaleido in c:\\users\\alexander\\anaconda3\\lib\\site-packages (0.2.1)\n",
      "Note: you may need to restart the kernel to use updated packages.\n"
     ]
    }
   ],
   "source": [
    "pip install -U kaleido"
   ]
  },
  {
   "cell_type": "code",
   "execution_count": 2,
   "id": "44f3dee6",
   "metadata": {},
   "outputs": [],
   "source": [
    "#Импорт библиотек\n",
    "import pandas as pd\n",
    "import numpy as np\n",
    "from IPython.display import display\n",
    "import warnings\n",
    "import scipy.stats as stats\n",
    "from datetime import datetime, timedelta\n",
    "import plotly.express as px\n",
    "from plotly import graph_objects as go\n",
    "from statsmodels.stats.weightstats import ztest as ztest\n",
    "pd.options.mode.chained_assignment = None  # default='warn'\n",
    "\n",
    "# отключение уведомлений об ошибке при замене исходного набора данных\n",
    "warnings.filterwarnings('ignore')\n",
    "warnings.simplefilter('ignore')\n",
    "\n",
    "# показ всех колонок датафрейма\n",
    "pd.options.display.max_columns = None"
   ]
  },
  {
   "cell_type": "code",
   "execution_count": 3,
   "id": "c5c6d748",
   "metadata": {},
   "outputs": [],
   "source": [
    "# загружаем файлы в переменные\n",
    "try:\n",
    "    marketing_events = pd.read_csv('ab_project_marketing_events.csv')\n",
    "except:\n",
    "    marketing_events = pd.read_csv('https://code.s3.yandex.net/datasets/ab_project_marketing_events.csv')\n",
    "try:\n",
    "    events = pd.read_csv('final_ab_events.csv')\n",
    "except:\n",
    "    events = pd.read_csv('https://code.s3.yandex.net/datasets/final_ab_events.csv')\n",
    "try:\n",
    "    new_users = pd.read_csv('final_ab_new_users.csv')\n",
    "except:\n",
    "    new_users = pd.read_csv('https://code.s3.yandex.net/datasets/final_ab_new_users.csv')\n",
    "try:\n",
    "    participants = pd.read_csv('final_ab_participants.csv')\n",
    "except:\n",
    "    participants = pd.read_csv('https://code.s3.yandex.net/datasets/final_ab_participants.csv')\n",
    "\n",
    "all_tables = [marketing_events, events, new_users, participants]"
   ]
  },
  {
   "cell_type": "code",
   "execution_count": 4,
   "id": "05b41cac",
   "metadata": {},
   "outputs": [
    {
     "data": {
      "text/html": [
       "<div>\n",
       "<style scoped>\n",
       "    .dataframe tbody tr th:only-of-type {\n",
       "        vertical-align: middle;\n",
       "    }\n",
       "\n",
       "    .dataframe tbody tr th {\n",
       "        vertical-align: top;\n",
       "    }\n",
       "\n",
       "    .dataframe thead th {\n",
       "        text-align: right;\n",
       "    }\n",
       "</style>\n",
       "<table border=\"1\" class=\"dataframe\">\n",
       "  <thead>\n",
       "    <tr style=\"text-align: right;\">\n",
       "      <th></th>\n",
       "      <th>name</th>\n",
       "      <th>regions</th>\n",
       "      <th>start_dt</th>\n",
       "      <th>finish_dt</th>\n",
       "    </tr>\n",
       "  </thead>\n",
       "  <tbody>\n",
       "    <tr>\n",
       "      <th>0</th>\n",
       "      <td>Christmas&amp;New Year Promo</td>\n",
       "      <td>EU, N.America</td>\n",
       "      <td>2020-12-25</td>\n",
       "      <td>2021-01-03</td>\n",
       "    </tr>\n",
       "    <tr>\n",
       "      <th>1</th>\n",
       "      <td>St. Valentine's Day Giveaway</td>\n",
       "      <td>EU, CIS, APAC, N.America</td>\n",
       "      <td>2020-02-14</td>\n",
       "      <td>2020-02-16</td>\n",
       "    </tr>\n",
       "    <tr>\n",
       "      <th>2</th>\n",
       "      <td>St. Patric's Day Promo</td>\n",
       "      <td>EU, N.America</td>\n",
       "      <td>2020-03-17</td>\n",
       "      <td>2020-03-19</td>\n",
       "    </tr>\n",
       "    <tr>\n",
       "      <th>3</th>\n",
       "      <td>Easter Promo</td>\n",
       "      <td>EU, CIS, APAC, N.America</td>\n",
       "      <td>2020-04-12</td>\n",
       "      <td>2020-04-19</td>\n",
       "    </tr>\n",
       "    <tr>\n",
       "      <th>4</th>\n",
       "      <td>4th of July Promo</td>\n",
       "      <td>N.America</td>\n",
       "      <td>2020-07-04</td>\n",
       "      <td>2020-07-11</td>\n",
       "    </tr>\n",
       "  </tbody>\n",
       "</table>\n",
       "</div>"
      ],
      "text/plain": [
       "                           name                   regions    start_dt  \\\n",
       "0      Christmas&New Year Promo             EU, N.America  2020-12-25   \n",
       "1  St. Valentine's Day Giveaway  EU, CIS, APAC, N.America  2020-02-14   \n",
       "2        St. Patric's Day Promo             EU, N.America  2020-03-17   \n",
       "3                  Easter Promo  EU, CIS, APAC, N.America  2020-04-12   \n",
       "4             4th of July Promo                 N.America  2020-07-04   \n",
       "\n",
       "    finish_dt  \n",
       "0  2021-01-03  \n",
       "1  2020-02-16  \n",
       "2  2020-03-19  \n",
       "3  2020-04-19  \n",
       "4  2020-07-11  "
      ]
     },
     "metadata": {},
     "output_type": "display_data"
    },
    {
     "data": {
      "text/html": [
       "<div>\n",
       "<style scoped>\n",
       "    .dataframe tbody tr th:only-of-type {\n",
       "        vertical-align: middle;\n",
       "    }\n",
       "\n",
       "    .dataframe tbody tr th {\n",
       "        vertical-align: top;\n",
       "    }\n",
       "\n",
       "    .dataframe thead th {\n",
       "        text-align: right;\n",
       "    }\n",
       "</style>\n",
       "<table border=\"1\" class=\"dataframe\">\n",
       "  <thead>\n",
       "    <tr style=\"text-align: right;\">\n",
       "      <th></th>\n",
       "      <th>user_id</th>\n",
       "      <th>event_dt</th>\n",
       "      <th>event_name</th>\n",
       "      <th>details</th>\n",
       "    </tr>\n",
       "  </thead>\n",
       "  <tbody>\n",
       "    <tr>\n",
       "      <th>0</th>\n",
       "      <td>E1BDDCE0DAFA2679</td>\n",
       "      <td>2020-12-07 20:22:03</td>\n",
       "      <td>purchase</td>\n",
       "      <td>99.99</td>\n",
       "    </tr>\n",
       "    <tr>\n",
       "      <th>1</th>\n",
       "      <td>7B6452F081F49504</td>\n",
       "      <td>2020-12-07 09:22:53</td>\n",
       "      <td>purchase</td>\n",
       "      <td>9.99</td>\n",
       "    </tr>\n",
       "    <tr>\n",
       "      <th>2</th>\n",
       "      <td>9CD9F34546DF254C</td>\n",
       "      <td>2020-12-07 12:59:29</td>\n",
       "      <td>purchase</td>\n",
       "      <td>4.99</td>\n",
       "    </tr>\n",
       "    <tr>\n",
       "      <th>3</th>\n",
       "      <td>96F27A054B191457</td>\n",
       "      <td>2020-12-07 04:02:40</td>\n",
       "      <td>purchase</td>\n",
       "      <td>4.99</td>\n",
       "    </tr>\n",
       "    <tr>\n",
       "      <th>4</th>\n",
       "      <td>1FD7660FDF94CA1F</td>\n",
       "      <td>2020-12-07 10:15:09</td>\n",
       "      <td>purchase</td>\n",
       "      <td>4.99</td>\n",
       "    </tr>\n",
       "  </tbody>\n",
       "</table>\n",
       "</div>"
      ],
      "text/plain": [
       "            user_id             event_dt event_name  details\n",
       "0  E1BDDCE0DAFA2679  2020-12-07 20:22:03   purchase    99.99\n",
       "1  7B6452F081F49504  2020-12-07 09:22:53   purchase     9.99\n",
       "2  9CD9F34546DF254C  2020-12-07 12:59:29   purchase     4.99\n",
       "3  96F27A054B191457  2020-12-07 04:02:40   purchase     4.99\n",
       "4  1FD7660FDF94CA1F  2020-12-07 10:15:09   purchase     4.99"
      ]
     },
     "metadata": {},
     "output_type": "display_data"
    },
    {
     "data": {
      "text/html": [
       "<div>\n",
       "<style scoped>\n",
       "    .dataframe tbody tr th:only-of-type {\n",
       "        vertical-align: middle;\n",
       "    }\n",
       "\n",
       "    .dataframe tbody tr th {\n",
       "        vertical-align: top;\n",
       "    }\n",
       "\n",
       "    .dataframe thead th {\n",
       "        text-align: right;\n",
       "    }\n",
       "</style>\n",
       "<table border=\"1\" class=\"dataframe\">\n",
       "  <thead>\n",
       "    <tr style=\"text-align: right;\">\n",
       "      <th></th>\n",
       "      <th>user_id</th>\n",
       "      <th>first_date</th>\n",
       "      <th>region</th>\n",
       "      <th>device</th>\n",
       "    </tr>\n",
       "  </thead>\n",
       "  <tbody>\n",
       "    <tr>\n",
       "      <th>0</th>\n",
       "      <td>D72A72121175D8BE</td>\n",
       "      <td>2020-12-07</td>\n",
       "      <td>EU</td>\n",
       "      <td>PC</td>\n",
       "    </tr>\n",
       "    <tr>\n",
       "      <th>1</th>\n",
       "      <td>F1C668619DFE6E65</td>\n",
       "      <td>2020-12-07</td>\n",
       "      <td>N.America</td>\n",
       "      <td>Android</td>\n",
       "    </tr>\n",
       "    <tr>\n",
       "      <th>2</th>\n",
       "      <td>2E1BF1D4C37EA01F</td>\n",
       "      <td>2020-12-07</td>\n",
       "      <td>EU</td>\n",
       "      <td>PC</td>\n",
       "    </tr>\n",
       "    <tr>\n",
       "      <th>3</th>\n",
       "      <td>50734A22C0C63768</td>\n",
       "      <td>2020-12-07</td>\n",
       "      <td>EU</td>\n",
       "      <td>iPhone</td>\n",
       "    </tr>\n",
       "    <tr>\n",
       "      <th>4</th>\n",
       "      <td>E1BDDCE0DAFA2679</td>\n",
       "      <td>2020-12-07</td>\n",
       "      <td>N.America</td>\n",
       "      <td>iPhone</td>\n",
       "    </tr>\n",
       "  </tbody>\n",
       "</table>\n",
       "</div>"
      ],
      "text/plain": [
       "            user_id  first_date     region   device\n",
       "0  D72A72121175D8BE  2020-12-07         EU       PC\n",
       "1  F1C668619DFE6E65  2020-12-07  N.America  Android\n",
       "2  2E1BF1D4C37EA01F  2020-12-07         EU       PC\n",
       "3  50734A22C0C63768  2020-12-07         EU   iPhone\n",
       "4  E1BDDCE0DAFA2679  2020-12-07  N.America   iPhone"
      ]
     },
     "metadata": {},
     "output_type": "display_data"
    },
    {
     "data": {
      "text/html": [
       "<div>\n",
       "<style scoped>\n",
       "    .dataframe tbody tr th:only-of-type {\n",
       "        vertical-align: middle;\n",
       "    }\n",
       "\n",
       "    .dataframe tbody tr th {\n",
       "        vertical-align: top;\n",
       "    }\n",
       "\n",
       "    .dataframe thead th {\n",
       "        text-align: right;\n",
       "    }\n",
       "</style>\n",
       "<table border=\"1\" class=\"dataframe\">\n",
       "  <thead>\n",
       "    <tr style=\"text-align: right;\">\n",
       "      <th></th>\n",
       "      <th>user_id</th>\n",
       "      <th>group</th>\n",
       "      <th>ab_test</th>\n",
       "    </tr>\n",
       "  </thead>\n",
       "  <tbody>\n",
       "    <tr>\n",
       "      <th>0</th>\n",
       "      <td>D1ABA3E2887B6A73</td>\n",
       "      <td>A</td>\n",
       "      <td>recommender_system_test</td>\n",
       "    </tr>\n",
       "    <tr>\n",
       "      <th>1</th>\n",
       "      <td>A7A3664BD6242119</td>\n",
       "      <td>A</td>\n",
       "      <td>recommender_system_test</td>\n",
       "    </tr>\n",
       "    <tr>\n",
       "      <th>2</th>\n",
       "      <td>DABC14FDDFADD29E</td>\n",
       "      <td>A</td>\n",
       "      <td>recommender_system_test</td>\n",
       "    </tr>\n",
       "    <tr>\n",
       "      <th>3</th>\n",
       "      <td>04988C5DF189632E</td>\n",
       "      <td>A</td>\n",
       "      <td>recommender_system_test</td>\n",
       "    </tr>\n",
       "    <tr>\n",
       "      <th>4</th>\n",
       "      <td>482F14783456D21B</td>\n",
       "      <td>B</td>\n",
       "      <td>recommender_system_test</td>\n",
       "    </tr>\n",
       "  </tbody>\n",
       "</table>\n",
       "</div>"
      ],
      "text/plain": [
       "            user_id group                  ab_test\n",
       "0  D1ABA3E2887B6A73     A  recommender_system_test\n",
       "1  A7A3664BD6242119     A  recommender_system_test\n",
       "2  DABC14FDDFADD29E     A  recommender_system_test\n",
       "3  04988C5DF189632E     A  recommender_system_test\n",
       "4  482F14783456D21B     B  recommender_system_test"
      ]
     },
     "metadata": {},
     "output_type": "display_data"
    }
   ],
   "source": [
    "# выведем все таблицы вместе, чтобы разобраться в данных\n",
    "for table in all_tables:\n",
    "    display(table.head())"
   ]
  },
  {
   "cell_type": "code",
   "execution_count": 5,
   "id": "885fcfd1",
   "metadata": {},
   "outputs": [],
   "source": [
    "# функция, выводит информацию по столбцам\n",
    "def df_review(df):\n",
    "    start = \"\\033[1m\"\n",
    "    end2 = \"\\033[0;0m\"\n",
    "    print(start + f'Вывод инфо' + end2, end='\\n\\n')\n",
    "    print(df.info())\n",
    "    print('---------------------------------------------------------------------------------------------------------')\n",
    "    print(start + f'Вывод описания' + end2, end='\\n\\n')\n",
    "    print(df.describe().T)\n",
    "    print('---------------------------------------------------------------------------------------------------------')\n",
    "    print(start + f'Количество пропусков' + end2, end='\\n\\n')\n",
    "    print(df.isna().sum())\n",
    "    print('---------------------------------------------------------------------------------------------------------')\n",
    "    print(start + f'Количество пропусков в процентах' + end2, end='\\n\\n')\n",
    "    display(pd.DataFrame(round(df.isna().mean()*100,)).style.background_gradient('coolwarm'))\n",
    "    print('---------------------------------------------------------------------------------------------------------')\n",
    "    print(start + f'Количество дублей' + end2, end='\\n\\n')\n",
    "    print(df.duplicated().sum())"
   ]
  },
  {
   "cell_type": "code",
   "execution_count": 6,
   "id": "2b501f9d",
   "metadata": {},
   "outputs": [
    {
     "name": "stdout",
     "output_type": "stream",
     "text": [
      "\u001b[1mВывод инфо\u001b[0;0m\n",
      "\n",
      "<class 'pandas.core.frame.DataFrame'>\n",
      "RangeIndex: 14 entries, 0 to 13\n",
      "Data columns (total 4 columns):\n",
      " #   Column     Non-Null Count  Dtype \n",
      "---  ------     --------------  ----- \n",
      " 0   name       14 non-null     object\n",
      " 1   regions    14 non-null     object\n",
      " 2   start_dt   14 non-null     object\n",
      " 3   finish_dt  14 non-null     object\n",
      "dtypes: object(4)\n",
      "memory usage: 576.0+ bytes\n",
      "None\n",
      "---------------------------------------------------------------------------------------------------------\n",
      "\u001b[1mВывод описания\u001b[0;0m\n",
      "\n",
      "          count unique                       top freq\n",
      "name         14     14  Christmas&New Year Promo    1\n",
      "regions      14      6                      APAC    4\n",
      "start_dt     14     14                2020-12-25    1\n",
      "finish_dt    14     14                2021-01-03    1\n",
      "---------------------------------------------------------------------------------------------------------\n",
      "\u001b[1mКоличество пропусков\u001b[0;0m\n",
      "\n",
      "name         0\n",
      "regions      0\n",
      "start_dt     0\n",
      "finish_dt    0\n",
      "dtype: int64\n",
      "---------------------------------------------------------------------------------------------------------\n",
      "\u001b[1mКоличество пропусков в процентах\u001b[0;0m\n",
      "\n"
     ]
    },
    {
     "data": {
      "text/html": [
       "<style type=\"text/css\">\n",
       "#T_404e8_row0_col0, #T_404e8_row1_col0, #T_404e8_row2_col0, #T_404e8_row3_col0 {\n",
       "  background-color: #3b4cc0;\n",
       "  color: #f1f1f1;\n",
       "}\n",
       "</style>\n",
       "<table id=\"T_404e8\">\n",
       "  <thead>\n",
       "    <tr>\n",
       "      <th class=\"blank level0\" >&nbsp;</th>\n",
       "      <th id=\"T_404e8_level0_col0\" class=\"col_heading level0 col0\" >0</th>\n",
       "    </tr>\n",
       "  </thead>\n",
       "  <tbody>\n",
       "    <tr>\n",
       "      <th id=\"T_404e8_level0_row0\" class=\"row_heading level0 row0\" >name</th>\n",
       "      <td id=\"T_404e8_row0_col0\" class=\"data row0 col0\" >0.000000</td>\n",
       "    </tr>\n",
       "    <tr>\n",
       "      <th id=\"T_404e8_level0_row1\" class=\"row_heading level0 row1\" >regions</th>\n",
       "      <td id=\"T_404e8_row1_col0\" class=\"data row1 col0\" >0.000000</td>\n",
       "    </tr>\n",
       "    <tr>\n",
       "      <th id=\"T_404e8_level0_row2\" class=\"row_heading level0 row2\" >start_dt</th>\n",
       "      <td id=\"T_404e8_row2_col0\" class=\"data row2 col0\" >0.000000</td>\n",
       "    </tr>\n",
       "    <tr>\n",
       "      <th id=\"T_404e8_level0_row3\" class=\"row_heading level0 row3\" >finish_dt</th>\n",
       "      <td id=\"T_404e8_row3_col0\" class=\"data row3 col0\" >0.000000</td>\n",
       "    </tr>\n",
       "  </tbody>\n",
       "</table>\n"
      ],
      "text/plain": [
       "<pandas.io.formats.style.Styler at 0x180c637b5b0>"
      ]
     },
     "metadata": {},
     "output_type": "display_data"
    },
    {
     "name": "stdout",
     "output_type": "stream",
     "text": [
      "---------------------------------------------------------------------------------------------------------\n",
      "\u001b[1mКоличество дублей\u001b[0;0m\n",
      "\n",
      "0\n"
     ]
    }
   ],
   "source": [
    "df_review(marketing_events)"
   ]
  },
  {
   "cell_type": "code",
   "execution_count": 7,
   "id": "0e480682",
   "metadata": {},
   "outputs": [
    {
     "name": "stdout",
     "output_type": "stream",
     "text": [
      "\u001b[1mВывод инфо\u001b[0;0m\n",
      "\n",
      "<class 'pandas.core.frame.DataFrame'>\n",
      "RangeIndex: 440317 entries, 0 to 440316\n",
      "Data columns (total 4 columns):\n",
      " #   Column      Non-Null Count   Dtype  \n",
      "---  ------      --------------   -----  \n",
      " 0   user_id     440317 non-null  object \n",
      " 1   event_dt    440317 non-null  object \n",
      " 2   event_name  440317 non-null  object \n",
      " 3   details     62740 non-null   float64\n",
      "dtypes: float64(1), object(3)\n",
      "memory usage: 13.4+ MB\n",
      "None\n",
      "---------------------------------------------------------------------------------------------------------\n",
      "\u001b[1mВывод описания\u001b[0;0m\n",
      "\n",
      "           count       mean        std   min   25%   50%   75%     max\n",
      "details  62740.0  23.877631  72.180465  4.99  4.99  4.99  9.99  499.99\n",
      "---------------------------------------------------------------------------------------------------------\n",
      "\u001b[1mКоличество пропусков\u001b[0;0m\n",
      "\n",
      "user_id            0\n",
      "event_dt           0\n",
      "event_name         0\n",
      "details       377577\n",
      "dtype: int64\n",
      "---------------------------------------------------------------------------------------------------------\n",
      "\u001b[1mКоличество пропусков в процентах\u001b[0;0m\n",
      "\n"
     ]
    },
    {
     "data": {
      "text/html": [
       "<style type=\"text/css\">\n",
       "#T_05f3f_row0_col0, #T_05f3f_row1_col0, #T_05f3f_row2_col0 {\n",
       "  background-color: #3b4cc0;\n",
       "  color: #f1f1f1;\n",
       "}\n",
       "#T_05f3f_row3_col0 {\n",
       "  background-color: #b40426;\n",
       "  color: #f1f1f1;\n",
       "}\n",
       "</style>\n",
       "<table id=\"T_05f3f\">\n",
       "  <thead>\n",
       "    <tr>\n",
       "      <th class=\"blank level0\" >&nbsp;</th>\n",
       "      <th id=\"T_05f3f_level0_col0\" class=\"col_heading level0 col0\" >0</th>\n",
       "    </tr>\n",
       "  </thead>\n",
       "  <tbody>\n",
       "    <tr>\n",
       "      <th id=\"T_05f3f_level0_row0\" class=\"row_heading level0 row0\" >user_id</th>\n",
       "      <td id=\"T_05f3f_row0_col0\" class=\"data row0 col0\" >0.000000</td>\n",
       "    </tr>\n",
       "    <tr>\n",
       "      <th id=\"T_05f3f_level0_row1\" class=\"row_heading level0 row1\" >event_dt</th>\n",
       "      <td id=\"T_05f3f_row1_col0\" class=\"data row1 col0\" >0.000000</td>\n",
       "    </tr>\n",
       "    <tr>\n",
       "      <th id=\"T_05f3f_level0_row2\" class=\"row_heading level0 row2\" >event_name</th>\n",
       "      <td id=\"T_05f3f_row2_col0\" class=\"data row2 col0\" >0.000000</td>\n",
       "    </tr>\n",
       "    <tr>\n",
       "      <th id=\"T_05f3f_level0_row3\" class=\"row_heading level0 row3\" >details</th>\n",
       "      <td id=\"T_05f3f_row3_col0\" class=\"data row3 col0\" >86.000000</td>\n",
       "    </tr>\n",
       "  </tbody>\n",
       "</table>\n"
      ],
      "text/plain": [
       "<pandas.io.formats.style.Styler at 0x180c637b580>"
      ]
     },
     "metadata": {},
     "output_type": "display_data"
    },
    {
     "name": "stdout",
     "output_type": "stream",
     "text": [
      "---------------------------------------------------------------------------------------------------------\n",
      "\u001b[1mКоличество дублей\u001b[0;0m\n",
      "\n",
      "0\n"
     ]
    }
   ],
   "source": [
    "df_review(events)"
   ]
  },
  {
   "cell_type": "code",
   "execution_count": 8,
   "id": "1d0c78ca",
   "metadata": {},
   "outputs": [
    {
     "name": "stdout",
     "output_type": "stream",
     "text": [
      "\u001b[1mВывод инфо\u001b[0;0m\n",
      "\n",
      "<class 'pandas.core.frame.DataFrame'>\n",
      "RangeIndex: 61733 entries, 0 to 61732\n",
      "Data columns (total 4 columns):\n",
      " #   Column      Non-Null Count  Dtype \n",
      "---  ------      --------------  ----- \n",
      " 0   user_id     61733 non-null  object\n",
      " 1   first_date  61733 non-null  object\n",
      " 2   region      61733 non-null  object\n",
      " 3   device      61733 non-null  object\n",
      "dtypes: object(4)\n",
      "memory usage: 1.9+ MB\n",
      "None\n",
      "---------------------------------------------------------------------------------------------------------\n",
      "\u001b[1mВывод описания\u001b[0;0m\n",
      "\n",
      "            count unique               top   freq\n",
      "user_id     61733  61733  D72A72121175D8BE      1\n",
      "first_date  61733     17        2020-12-21   6290\n",
      "region      61733      4                EU  46270\n",
      "device      61733      4           Android  27520\n",
      "---------------------------------------------------------------------------------------------------------\n",
      "\u001b[1mКоличество пропусков\u001b[0;0m\n",
      "\n",
      "user_id       0\n",
      "first_date    0\n",
      "region        0\n",
      "device        0\n",
      "dtype: int64\n",
      "---------------------------------------------------------------------------------------------------------\n",
      "\u001b[1mКоличество пропусков в процентах\u001b[0;0m\n",
      "\n"
     ]
    },
    {
     "data": {
      "text/html": [
       "<style type=\"text/css\">\n",
       "#T_2b61a_row0_col0, #T_2b61a_row1_col0, #T_2b61a_row2_col0, #T_2b61a_row3_col0 {\n",
       "  background-color: #3b4cc0;\n",
       "  color: #f1f1f1;\n",
       "}\n",
       "</style>\n",
       "<table id=\"T_2b61a\">\n",
       "  <thead>\n",
       "    <tr>\n",
       "      <th class=\"blank level0\" >&nbsp;</th>\n",
       "      <th id=\"T_2b61a_level0_col0\" class=\"col_heading level0 col0\" >0</th>\n",
       "    </tr>\n",
       "  </thead>\n",
       "  <tbody>\n",
       "    <tr>\n",
       "      <th id=\"T_2b61a_level0_row0\" class=\"row_heading level0 row0\" >user_id</th>\n",
       "      <td id=\"T_2b61a_row0_col0\" class=\"data row0 col0\" >0.000000</td>\n",
       "    </tr>\n",
       "    <tr>\n",
       "      <th id=\"T_2b61a_level0_row1\" class=\"row_heading level0 row1\" >first_date</th>\n",
       "      <td id=\"T_2b61a_row1_col0\" class=\"data row1 col0\" >0.000000</td>\n",
       "    </tr>\n",
       "    <tr>\n",
       "      <th id=\"T_2b61a_level0_row2\" class=\"row_heading level0 row2\" >region</th>\n",
       "      <td id=\"T_2b61a_row2_col0\" class=\"data row2 col0\" >0.000000</td>\n",
       "    </tr>\n",
       "    <tr>\n",
       "      <th id=\"T_2b61a_level0_row3\" class=\"row_heading level0 row3\" >device</th>\n",
       "      <td id=\"T_2b61a_row3_col0\" class=\"data row3 col0\" >0.000000</td>\n",
       "    </tr>\n",
       "  </tbody>\n",
       "</table>\n"
      ],
      "text/plain": [
       "<pandas.io.formats.style.Styler at 0x180c63f6940>"
      ]
     },
     "metadata": {},
     "output_type": "display_data"
    },
    {
     "name": "stdout",
     "output_type": "stream",
     "text": [
      "---------------------------------------------------------------------------------------------------------\n",
      "\u001b[1mКоличество дублей\u001b[0;0m\n",
      "\n",
      "0\n"
     ]
    }
   ],
   "source": [
    "df_review(new_users)"
   ]
  },
  {
   "cell_type": "code",
   "execution_count": 9,
   "id": "47725000",
   "metadata": {},
   "outputs": [
    {
     "name": "stdout",
     "output_type": "stream",
     "text": [
      "\u001b[1mВывод инфо\u001b[0;0m\n",
      "\n",
      "<class 'pandas.core.frame.DataFrame'>\n",
      "RangeIndex: 18268 entries, 0 to 18267\n",
      "Data columns (total 3 columns):\n",
      " #   Column   Non-Null Count  Dtype \n",
      "---  ------   --------------  ----- \n",
      " 0   user_id  18268 non-null  object\n",
      " 1   group    18268 non-null  object\n",
      " 2   ab_test  18268 non-null  object\n",
      "dtypes: object(3)\n",
      "memory usage: 428.3+ KB\n",
      "None\n",
      "---------------------------------------------------------------------------------------------------------\n",
      "\u001b[1mВывод описания\u001b[0;0m\n",
      "\n",
      "         count unique                top   freq\n",
      "user_id  18268  16666   0FDFDA0B2DEC2D91      2\n",
      "group    18268      2                  A   9655\n",
      "ab_test  18268      2  interface_eu_test  11567\n",
      "---------------------------------------------------------------------------------------------------------\n",
      "\u001b[1mКоличество пропусков\u001b[0;0m\n",
      "\n",
      "user_id    0\n",
      "group      0\n",
      "ab_test    0\n",
      "dtype: int64\n",
      "---------------------------------------------------------------------------------------------------------\n",
      "\u001b[1mКоличество пропусков в процентах\u001b[0;0m\n",
      "\n"
     ]
    },
    {
     "data": {
      "text/html": [
       "<style type=\"text/css\">\n",
       "#T_8ec5c_row0_col0, #T_8ec5c_row1_col0, #T_8ec5c_row2_col0 {\n",
       "  background-color: #3b4cc0;\n",
       "  color: #f1f1f1;\n",
       "}\n",
       "</style>\n",
       "<table id=\"T_8ec5c\">\n",
       "  <thead>\n",
       "    <tr>\n",
       "      <th class=\"blank level0\" >&nbsp;</th>\n",
       "      <th id=\"T_8ec5c_level0_col0\" class=\"col_heading level0 col0\" >0</th>\n",
       "    </tr>\n",
       "  </thead>\n",
       "  <tbody>\n",
       "    <tr>\n",
       "      <th id=\"T_8ec5c_level0_row0\" class=\"row_heading level0 row0\" >user_id</th>\n",
       "      <td id=\"T_8ec5c_row0_col0\" class=\"data row0 col0\" >0.000000</td>\n",
       "    </tr>\n",
       "    <tr>\n",
       "      <th id=\"T_8ec5c_level0_row1\" class=\"row_heading level0 row1\" >group</th>\n",
       "      <td id=\"T_8ec5c_row1_col0\" class=\"data row1 col0\" >0.000000</td>\n",
       "    </tr>\n",
       "    <tr>\n",
       "      <th id=\"T_8ec5c_level0_row2\" class=\"row_heading level0 row2\" >ab_test</th>\n",
       "      <td id=\"T_8ec5c_row2_col0\" class=\"data row2 col0\" >0.000000</td>\n",
       "    </tr>\n",
       "  </tbody>\n",
       "</table>\n"
      ],
      "text/plain": [
       "<pandas.io.formats.style.Styler at 0x180c63f9fd0>"
      ]
     },
     "metadata": {},
     "output_type": "display_data"
    },
    {
     "name": "stdout",
     "output_type": "stream",
     "text": [
      "---------------------------------------------------------------------------------------------------------\n",
      "\u001b[1mКоличество дублей\u001b[0;0m\n",
      "\n",
      "0\n"
     ]
    }
   ],
   "source": [
    "df_review(participants)"
   ]
  },
  {
   "cell_type": "markdown",
   "id": "ff7f6db5",
   "metadata": {},
   "source": [
    "<p></p>\n",
    "<div style=\"border:solid black 4px; padding: 10px\">\n",
    "\n",
    "***Вывод***:\n",
    "    \n",
    "- Cтолбцы, содержащие дату, необходимо привести к нужному типу datetime\n",
    "- Cтолбец details датасета events содержит в себе пропуски\n",
    "- Дубликаты в данных не обнаружены   \n",
    "</div>"
   ]
  },
  {
   "cell_type": "markdown",
   "id": "e4114719",
   "metadata": {},
   "source": [
    "## Предобработка данных"
   ]
  },
  {
   "cell_type": "markdown",
   "id": "1806a900",
   "metadata": {},
   "source": [
    "***Преобразование данных к нужным типам***"
   ]
  },
  {
   "cell_type": "code",
   "execution_count": 10,
   "id": "bd98b09e",
   "metadata": {},
   "outputs": [],
   "source": [
    "# преобразуем дату к типу datetime\n",
    "marketing_events['start_dt'] = pd.to_datetime(marketing_events['start_dt'])\n",
    "marketing_events['finish_dt'] = pd.to_datetime(marketing_events['finish_dt'])\n",
    "new_users['first_date'] = pd.to_datetime(new_users['first_date'])\n",
    "events['event_dt'] = pd.to_datetime(events['event_dt'])"
   ]
  },
  {
   "cell_type": "code",
   "execution_count": 11,
   "id": "0dbce2d7",
   "metadata": {},
   "outputs": [
    {
     "data": {
      "text/html": [
       "<div>\n",
       "<style scoped>\n",
       "    .dataframe tbody tr th:only-of-type {\n",
       "        vertical-align: middle;\n",
       "    }\n",
       "\n",
       "    .dataframe tbody tr th {\n",
       "        vertical-align: top;\n",
       "    }\n",
       "\n",
       "    .dataframe thead th {\n",
       "        text-align: right;\n",
       "    }\n",
       "</style>\n",
       "<table border=\"1\" class=\"dataframe\">\n",
       "  <thead>\n",
       "    <tr style=\"text-align: right;\">\n",
       "      <th></th>\n",
       "      <th>user_id</th>\n",
       "      <th>group</th>\n",
       "      <th>ab_test</th>\n",
       "    </tr>\n",
       "  </thead>\n",
       "  <tbody>\n",
       "    <tr>\n",
       "      <th>0</th>\n",
       "      <td>D1ABA3E2887B6A73</td>\n",
       "      <td>A</td>\n",
       "      <td>recommender_system_test</td>\n",
       "    </tr>\n",
       "    <tr>\n",
       "      <th>1</th>\n",
       "      <td>A7A3664BD6242119</td>\n",
       "      <td>A</td>\n",
       "      <td>recommender_system_test</td>\n",
       "    </tr>\n",
       "    <tr>\n",
       "      <th>2</th>\n",
       "      <td>DABC14FDDFADD29E</td>\n",
       "      <td>A</td>\n",
       "      <td>recommender_system_test</td>\n",
       "    </tr>\n",
       "    <tr>\n",
       "      <th>3</th>\n",
       "      <td>04988C5DF189632E</td>\n",
       "      <td>A</td>\n",
       "      <td>recommender_system_test</td>\n",
       "    </tr>\n",
       "    <tr>\n",
       "      <th>4</th>\n",
       "      <td>482F14783456D21B</td>\n",
       "      <td>B</td>\n",
       "      <td>recommender_system_test</td>\n",
       "    </tr>\n",
       "  </tbody>\n",
       "</table>\n",
       "</div>"
      ],
      "text/plain": [
       "            user_id group                  ab_test\n",
       "0  D1ABA3E2887B6A73     A  recommender_system_test\n",
       "1  A7A3664BD6242119     A  recommender_system_test\n",
       "2  DABC14FDDFADD29E     A  recommender_system_test\n",
       "3  04988C5DF189632E     A  recommender_system_test\n",
       "4  482F14783456D21B     B  recommender_system_test"
      ]
     },
     "execution_count": 11,
     "metadata": {},
     "output_type": "execute_result"
    }
   ],
   "source": [
    "participants.head()"
   ]
  },
  {
   "cell_type": "code",
   "execution_count": 12,
   "id": "c5d1aec3",
   "metadata": {},
   "outputs": [
    {
     "data": {
      "text/plain": [
       "1602"
      ]
     },
     "execution_count": 12,
     "metadata": {},
     "output_type": "execute_result"
    }
   ],
   "source": [
    "# смотрим, присутствуют ли пользователи, входящие в оба теста сразу\n",
    "participants['user_id'].duplicated().sum()"
   ]
  },
  {
   "cell_type": "markdown",
   "id": "c54d3e6e",
   "metadata": {},
   "source": [
    "***1602 пользователя участвуют в обоих тестах сразу. Зафиксируем это.***"
   ]
  },
  {
   "cell_type": "code",
   "execution_count": 13,
   "id": "05c50991",
   "metadata": {},
   "outputs": [
    {
     "data": {
      "text/html": [
       "<div>\n",
       "<style scoped>\n",
       "    .dataframe tbody tr th:only-of-type {\n",
       "        vertical-align: middle;\n",
       "    }\n",
       "\n",
       "    .dataframe tbody tr th {\n",
       "        vertical-align: top;\n",
       "    }\n",
       "\n",
       "    .dataframe thead th {\n",
       "        text-align: right;\n",
       "    }\n",
       "</style>\n",
       "<table border=\"1\" class=\"dataframe\">\n",
       "  <thead>\n",
       "    <tr style=\"text-align: right;\">\n",
       "      <th></th>\n",
       "      <th>event_name</th>\n",
       "      <th>user_id</th>\n",
       "      <th>event_dt</th>\n",
       "      <th>details</th>\n",
       "    </tr>\n",
       "  </thead>\n",
       "  <tbody>\n",
       "    <tr>\n",
       "      <th>0</th>\n",
       "      <td>login</td>\n",
       "      <td>189552</td>\n",
       "      <td>189552</td>\n",
       "      <td>0</td>\n",
       "    </tr>\n",
       "    <tr>\n",
       "      <th>1</th>\n",
       "      <td>product_cart</td>\n",
       "      <td>62462</td>\n",
       "      <td>62462</td>\n",
       "      <td>0</td>\n",
       "    </tr>\n",
       "    <tr>\n",
       "      <th>2</th>\n",
       "      <td>product_page</td>\n",
       "      <td>125563</td>\n",
       "      <td>125563</td>\n",
       "      <td>0</td>\n",
       "    </tr>\n",
       "    <tr>\n",
       "      <th>3</th>\n",
       "      <td>purchase</td>\n",
       "      <td>62740</td>\n",
       "      <td>62740</td>\n",
       "      <td>62740</td>\n",
       "    </tr>\n",
       "  </tbody>\n",
       "</table>\n",
       "</div>"
      ],
      "text/plain": [
       "     event_name  user_id  event_dt  details\n",
       "0         login   189552    189552        0\n",
       "1  product_cart    62462     62462        0\n",
       "2  product_page   125563    125563        0\n",
       "3      purchase    62740     62740    62740"
      ]
     },
     "execution_count": 13,
     "metadata": {},
     "output_type": "execute_result"
    }
   ],
   "source": [
    "# посмотрим на пропуски\n",
    "events.groupby('event_name').count().reset_index()"
   ]
  },
  {
   "cell_type": "markdown",
   "id": "bf6cf0c7",
   "metadata": {},
   "source": [
    "<p></p>\n",
    "<div style=\"border:solid black 4px; padding: 10px\">\n",
    "\n",
    "***Вывод***:\n",
    "    \n",
    "- 1602 пользователя входят в обе группы.\n",
    "- Дату привели к типу datetime.\n",
    "- В поле details для purchase - хранится стоимость покупки в долларах. Для event_name со значением purchase пропуски отсутствуют, поэтому пропуски обрабатывать не будем. В данном случае это не ошибка.\n",
    "- Количество тестов - 2 - это interface_eu_test и recommender_system_test. Преобладает interface_eu_test - кол-во пользователей 11567.\n",
    "- Количество регионов - 4 - это ('EU', 'N.America', 'APAC', 'CIS'). Преобладает EU, кол-во пользователей - 46270.\n",
    "- Количество устройств - 4 - это ('PC', 'Android', 'iPhone', 'Mac'). Чаще используют Android гаджеты - 27520.\n",
    "\n",
    "</div>\n"
   ]
  },
  {
   "cell_type": "markdown",
   "id": "c207ac39",
   "metadata": {},
   "source": [
    "## Оценка корректности проведения теста"
   ]
  },
  {
   "cell_type": "markdown",
   "id": "e9895a54",
   "metadata": {},
   "source": [
    "### 1. Соответствие данных требованиям технического задания"
   ]
  },
  {
   "cell_type": "code",
   "execution_count": 14,
   "id": "551279f2",
   "metadata": {},
   "outputs": [
    {
     "data": {
      "text/html": [
       "<div>\n",
       "<style scoped>\n",
       "    .dataframe tbody tr th:only-of-type {\n",
       "        vertical-align: middle;\n",
       "    }\n",
       "\n",
       "    .dataframe tbody tr th {\n",
       "        vertical-align: top;\n",
       "    }\n",
       "\n",
       "    .dataframe thead th {\n",
       "        text-align: right;\n",
       "    }\n",
       "</style>\n",
       "<table border=\"1\" class=\"dataframe\">\n",
       "  <thead>\n",
       "    <tr style=\"text-align: right;\">\n",
       "      <th></th>\n",
       "      <th>user_id</th>\n",
       "      <th>group</th>\n",
       "      <th>ab_test</th>\n",
       "    </tr>\n",
       "  </thead>\n",
       "  <tbody>\n",
       "    <tr>\n",
       "      <th>3469</th>\n",
       "      <td>6DF6E1615D629BA8</td>\n",
       "      <td>A</td>\n",
       "      <td>recommender_system_test</td>\n",
       "    </tr>\n",
       "    <tr>\n",
       "      <th>17055</th>\n",
       "      <td>CDE246B64C8F2175</td>\n",
       "      <td>A</td>\n",
       "      <td>interface_eu_test</td>\n",
       "    </tr>\n",
       "    <tr>\n",
       "      <th>3260</th>\n",
       "      <td>10C5F5234095555F</td>\n",
       "      <td>A</td>\n",
       "      <td>recommender_system_test</td>\n",
       "    </tr>\n",
       "    <tr>\n",
       "      <th>11927</th>\n",
       "      <td>B1425202D2711F90</td>\n",
       "      <td>B</td>\n",
       "      <td>interface_eu_test</td>\n",
       "    </tr>\n",
       "    <tr>\n",
       "      <th>11141</th>\n",
       "      <td>46DDE3779D56852E</td>\n",
       "      <td>A</td>\n",
       "      <td>interface_eu_test</td>\n",
       "    </tr>\n",
       "    <tr>\n",
       "      <th>12834</th>\n",
       "      <td>F1FA8F9BC8F9E45E</td>\n",
       "      <td>B</td>\n",
       "      <td>interface_eu_test</td>\n",
       "    </tr>\n",
       "    <tr>\n",
       "      <th>1841</th>\n",
       "      <td>8F4D2FF4619E575F</td>\n",
       "      <td>A</td>\n",
       "      <td>recommender_system_test</td>\n",
       "    </tr>\n",
       "    <tr>\n",
       "      <th>12313</th>\n",
       "      <td>62414CCAE9E992B3</td>\n",
       "      <td>A</td>\n",
       "      <td>interface_eu_test</td>\n",
       "    </tr>\n",
       "    <tr>\n",
       "      <th>6048</th>\n",
       "      <td>9073CEFFB95784BA</td>\n",
       "      <td>A</td>\n",
       "      <td>recommender_system_test</td>\n",
       "    </tr>\n",
       "    <tr>\n",
       "      <th>10456</th>\n",
       "      <td>10C9D10027ABBD7D</td>\n",
       "      <td>A</td>\n",
       "      <td>interface_eu_test</td>\n",
       "    </tr>\n",
       "  </tbody>\n",
       "</table>\n",
       "</div>"
      ],
      "text/plain": [
       "                user_id group                  ab_test\n",
       "3469   6DF6E1615D629BA8     A  recommender_system_test\n",
       "17055  CDE246B64C8F2175     A        interface_eu_test\n",
       "3260   10C5F5234095555F     A  recommender_system_test\n",
       "11927  B1425202D2711F90     B        interface_eu_test\n",
       "11141  46DDE3779D56852E     A        interface_eu_test\n",
       "12834  F1FA8F9BC8F9E45E     B        interface_eu_test\n",
       "1841   8F4D2FF4619E575F     A  recommender_system_test\n",
       "12313  62414CCAE9E992B3     A        interface_eu_test\n",
       "6048   9073CEFFB95784BA     A  recommender_system_test\n",
       "10456  10C9D10027ABBD7D     A        interface_eu_test"
      ]
     },
     "execution_count": 14,
     "metadata": {},
     "output_type": "execute_result"
    }
   ],
   "source": [
    "# смотрим на таблицу с данными\n",
    "participants.sample(10)"
   ]
  },
  {
   "cell_type": "code",
   "execution_count": 15,
   "id": "fe7096dd",
   "metadata": {},
   "outputs": [
    {
     "data": {
      "text/plain": [
       "interface_eu_test          11567\n",
       "recommender_system_test     6701\n",
       "Name: ab_test, dtype: int64"
      ]
     },
     "execution_count": 15,
     "metadata": {},
     "output_type": "execute_result"
    }
   ],
   "source": [
    "# смотрим распределение тестов в столбце ab_test\n",
    "participants['ab_test'].value_counts()"
   ]
  },
  {
   "cell_type": "markdown",
   "id": "a90fea9e",
   "metadata": {},
   "source": [
    "\n",
    "- ***Название теста верное - recommender_system_test, в таблице есть данные по конкурирующему тесту interface_eu_test***\n",
    "- ***Группа А — контрольная, B — новая платёжная воронка.***  \n"
   ]
  },
  {
   "cell_type": "code",
   "execution_count": 16,
   "id": "88879170",
   "metadata": {},
   "outputs": [
    {
     "data": {
      "text/plain": [
       "Timestamp('2020-12-23 00:00:00')"
      ]
     },
     "execution_count": 16,
     "metadata": {},
     "output_type": "execute_result"
    }
   ],
   "source": [
    "new_users['first_date'].max()"
   ]
  },
  {
   "cell_type": "code",
   "execution_count": 17,
   "id": "fdbea1d1",
   "metadata": {},
   "outputs": [],
   "source": [
    "# делаем фильтр до 21 декабря\n",
    "new_new_users = new_users[new_users['first_date'] <= \"2020-12-21 00:00:00\"]"
   ]
  },
  {
   "cell_type": "code",
   "execution_count": 18,
   "id": "173a8ec3",
   "metadata": {},
   "outputs": [
    {
     "data": {
      "text/plain": [
       "Timestamp('2020-12-21 00:00:00')"
      ]
     },
     "execution_count": 18,
     "metadata": {},
     "output_type": "execute_result"
    }
   ],
   "source": [
    "new_new_users['first_date'].max()"
   ]
  },
  {
   "cell_type": "code",
   "execution_count": 19,
   "id": "c495763f",
   "metadata": {},
   "outputs": [],
   "source": [
    "# фильтр по нужному нам тесту\n",
    "recom_users = new_new_users[new_new_users['user_id'].isin(participants.query('ab_test == \"recommender_system_test\"')['user_id'])]"
   ]
  },
  {
   "cell_type": "code",
   "execution_count": 20,
   "id": "fe50da14",
   "metadata": {},
   "outputs": [
    {
     "data": {
      "text/plain": [
       "Timestamp('2020-12-07 00:00:00')"
      ]
     },
     "metadata": {},
     "output_type": "display_data"
    },
    {
     "data": {
      "text/plain": [
       "Timestamp('2020-12-21 00:00:00')"
      ]
     },
     "execution_count": 20,
     "metadata": {},
     "output_type": "execute_result"
    }
   ],
   "source": [
    "# проверяем даты запуска теста и дата окончания набора новых пользователей\n",
    "display(recom_users['first_date'].min())\n",
    "recom_users['first_date'].max()"
   ]
  },
  {
   "cell_type": "markdown",
   "id": "1060f448",
   "metadata": {},
   "source": [
    "***Даты запуска теста и дата окончания набора новых пользователей верны - 7 и 21 декабря 2020***"
   ]
  },
  {
   "cell_type": "code",
   "execution_count": 21,
   "id": "529b3e33",
   "metadata": {},
   "outputs": [
    {
     "data": {
      "text/plain": [
       "Timestamp('2020-12-30 23:36:33')"
      ]
     },
     "execution_count": 21,
     "metadata": {},
     "output_type": "execute_result"
    }
   ],
   "source": [
    "#смотрим дату последнего события\n",
    "events['event_dt'].max()"
   ]
  },
  {
   "cell_type": "markdown",
   "id": "3d9da441",
   "metadata": {},
   "source": [
    "***Дата последнего события - 30 декабря 2020, по ТЗ тест должен длится до 4 января 2021.***"
   ]
  },
  {
   "cell_type": "code",
   "execution_count": 22,
   "id": "906616e8",
   "metadata": {},
   "outputs": [
    {
     "data": {
      "text/plain": [
       "EU           6351\n",
       "N.America     223\n",
       "APAC           72\n",
       "CIS            55\n",
       "Name: region, dtype: int64"
      ]
     },
     "metadata": {},
     "output_type": "display_data"
    },
    {
     "data": {
      "text/plain": [
       "EU           42340\n",
       "N.America     8347\n",
       "CIS           2900\n",
       "APAC          2883\n",
       "Name: region, dtype: int64"
      ]
     },
     "metadata": {},
     "output_type": "display_data"
    }
   ],
   "source": [
    "display(recom_users['region'].value_counts())\n",
    "display(new_new_users['region'].value_counts())"
   ]
  },
  {
   "cell_type": "code",
   "execution_count": 23,
   "id": "8d4ae8d4",
   "metadata": {},
   "outputs": [
    {
     "data": {
      "text/plain": [
       "15.0"
      ]
     },
     "execution_count": 23,
     "metadata": {},
     "output_type": "execute_result"
    }
   ],
   "source": [
    "# Считаем процент пользователей из EU\n",
    "round((recom_users.query('region == \"EU\"')['region'].count()/new_new_users.query('region == \"EU\"')['region'].count())*100,2)"
   ]
  },
  {
   "cell_type": "markdown",
   "id": "2f15a699",
   "metadata": {},
   "source": [
    "***Аудитория теста - это в основном пользователи из Европы, также присутствуют пользователи из других стран. По ТЗ сказано, что аудиторией теста должны быть 15% новых пользователей из региона EU, по данным видно, что аудитория из Европы составляет 6351 из всех 43340 новых клиентов с этого региона, что соответствует ТЗ в 15%.***"
   ]
  },
  {
   "cell_type": "markdown",
   "id": "35d9e61b",
   "metadata": {},
   "source": [
    "### <p></p>\n",
    "<div style=\"border:solid black 4px; padding: 10px\">\n",
    "\n",
    "***Вывод***:\n",
    "- Название теста верное - recommender_system_test, в таблице есть данные по конкурирующему тесту interface_eu_test\n",
    "- Группа А — контрольная, B — новая платёжная воронка.\n",
    "- Даты запуска теста и дата окончания набора новых пользователей верны - 7 и 21 декабря 2020\n",
    "- Дата последнего события - 30 декабря 2020, по ТЗ тест должен длится до 4 января 2021\n",
    "- Аудитория теста - это в основном пользователи из Европы, также присутствуют пользователи из других стран. По ТЗ сказано, что аудиторией теста должны быть 15% новых пользователей из региона EU, по данным видно, что аудитория из Европы составляет 6351 из всех 43340 новых клиентов с этого региона, что соответствует ТЗ в 15%.\n",
    "</div>"
   ]
  },
  {
   "cell_type": "markdown",
   "id": "2ab0f6f2",
   "metadata": {},
   "source": [
    "### 2. Время проведения теста"
   ]
  },
  {
   "cell_type": "markdown",
   "id": "c208ffe8",
   "metadata": {},
   "source": [
    "***Убедимся, что время проведения теста не совпадает с маркетинговыми и другими активностями.***"
   ]
  },
  {
   "cell_type": "code",
   "execution_count": 24,
   "id": "94634b7b",
   "metadata": {},
   "outputs": [
    {
     "data": {
      "text/html": [
       "<div>\n",
       "<style scoped>\n",
       "    .dataframe tbody tr th:only-of-type {\n",
       "        vertical-align: middle;\n",
       "    }\n",
       "\n",
       "    .dataframe tbody tr th {\n",
       "        vertical-align: top;\n",
       "    }\n",
       "\n",
       "    .dataframe thead th {\n",
       "        text-align: right;\n",
       "    }\n",
       "</style>\n",
       "<table border=\"1\" class=\"dataframe\">\n",
       "  <thead>\n",
       "    <tr style=\"text-align: right;\">\n",
       "      <th></th>\n",
       "      <th>name</th>\n",
       "      <th>regions</th>\n",
       "      <th>start_dt</th>\n",
       "      <th>finish_dt</th>\n",
       "    </tr>\n",
       "  </thead>\n",
       "  <tbody>\n",
       "    <tr>\n",
       "      <th>0</th>\n",
       "      <td>Christmas&amp;New Year Promo</td>\n",
       "      <td>EU, N.America</td>\n",
       "      <td>2020-12-25</td>\n",
       "      <td>2021-01-03</td>\n",
       "    </tr>\n",
       "    <tr>\n",
       "      <th>10</th>\n",
       "      <td>CIS New Year Gift Lottery</td>\n",
       "      <td>CIS</td>\n",
       "      <td>2020-12-30</td>\n",
       "      <td>2021-01-07</td>\n",
       "    </tr>\n",
       "  </tbody>\n",
       "</table>\n",
       "</div>"
      ],
      "text/plain": [
       "                         name        regions   start_dt  finish_dt\n",
       "0    Christmas&New Year Promo  EU, N.America 2020-12-25 2021-01-03\n",
       "10  CIS New Year Gift Lottery            CIS 2020-12-30 2021-01-07"
      ]
     },
     "execution_count": 24,
     "metadata": {},
     "output_type": "execute_result"
    }
   ],
   "source": [
    "marketing_events.query('\"2020-12-07\" < start_dt < \"2021-01-03\"')"
   ]
  },
  {
   "cell_type": "markdown",
   "id": "3daa1194",
   "metadata": {},
   "source": [
    "<p></p>\n",
    "<div style=\"border:solid black 4px; padding: 10px\">\n",
    "\n",
    "***Вывод***:\n",
    "    \n",
    "В наш временной период попадают 2 акции. Акция Christmas&New Year Promo может оказать большее влияние, т.к. даты её проведения попадают в исследуемый период с 12 декабря - по 4 января, плюс эта акция проводится в регионе EU, именно этот регион преобладает в тесте.\n",
    "    \n",
    "</div>"
   ]
  },
  {
   "cell_type": "markdown",
   "id": "035aea52",
   "metadata": {},
   "source": [
    "### 3. Аудитория теста"
   ]
  },
  {
   "cell_type": "markdown",
   "id": "e454fd8b",
   "metadata": {},
   "source": [
    "Проверим, что нет пересечений с конкурирующим тестом и нет пользователей, участвующих в двух группах теста одновременно"
   ]
  },
  {
   "cell_type": "markdown",
   "id": "d89c0db4",
   "metadata": {},
   "source": [
    "***Ранее мы выяснили, что 1602 пользователя участвуют в двух тестах сразу.***"
   ]
  },
  {
   "cell_type": "markdown",
   "id": "5756d9b1",
   "metadata": {},
   "source": [
    "Проверим, как пользователи группы B из теста interface_eu_test распределены по группам в тесте recommender_system_test"
   ]
  },
  {
   "cell_type": "code",
   "execution_count": 25,
   "id": "f643550c",
   "metadata": {},
   "outputs": [
    {
     "data": {
      "text/plain": [
       "A    439\n",
       "B    344\n",
       "Name: group, dtype: int64"
      ]
     },
     "execution_count": 25,
     "metadata": {},
     "output_type": "execute_result"
    }
   ],
   "source": [
    "# смотрим на распределние пользователей из гр В\n",
    "df_test_B = participants[participants['user_id'].duplicated()].query('group == \"B\"')['user_id']\n",
    "(participants[participants['user_id'].isin(df_test_B)]\\\n",
    "                                     .query('ab_test == \"recommender_system_test\"')['group']\\\n",
    "                                     .value_counts())"
   ]
  },
  {
   "cell_type": "markdown",
   "id": "a4705048",
   "metadata": {},
   "source": [
    "<p></p>\n",
    "<div style=\"border:solid black 4px; padding: 10px\">\n",
    "\n",
    "***Вывод***:\n",
    "Можно заметить практически равномерное распределение пользователей группы B теста interface_eu_test в тесте recommender_system_test (разница около 6%). Можно констатировать, что тест interface_eu_test одинаково влиял на recommender_system_test для групп А и В. Следовательно, это влияние не должно отразиться на итоговом результате - конверсии в группе В к группе А.\n",
    "   \n",
    "</div>"
   ]
  },
  {
   "cell_type": "code",
   "execution_count": 26,
   "id": "a04348ac",
   "metadata": {},
   "outputs": [
    {
     "data": {
      "text/plain": [
       "0"
      ]
     },
     "execution_count": 26,
     "metadata": {},
     "output_type": "execute_result"
    }
   ],
   "source": [
    "# проверим присутствуют ли пользователи, входящие в обе группы А и В теста recommender_system_test\n",
    "participants.query('ab_test == \"recommender_system_test\"')['user_id'].duplicated().sum()"
   ]
  },
  {
   "cell_type": "markdown",
   "id": "80404acf",
   "metadata": {},
   "source": [
    "Пользователей не обнаружено"
   ]
  },
  {
   "cell_type": "code",
   "execution_count": 27,
   "id": "2ac68117",
   "metadata": {},
   "outputs": [
    {
     "data": {
      "text/plain": [
       "A    3824\n",
       "B    2877\n",
       "Name: group, dtype: int64"
      ]
     },
     "execution_count": 27,
     "metadata": {},
     "output_type": "execute_result"
    }
   ],
   "source": [
    "# проверим равномерность распределения пользователей по тестовым группам \n",
    "participants.query('ab_test == \"recommender_system_test\"')['group'].value_counts()"
   ]
  },
  {
   "cell_type": "markdown",
   "id": "732d4ac7",
   "metadata": {},
   "source": [
    "***В группе А - 3824 человек, а в группе В - 2877 человек, всего 6701 человек. Группы делятся не равномерно - 57% (А) и 43% (В).***"
   ]
  },
  {
   "cell_type": "code",
   "execution_count": 28,
   "id": "883799b6",
   "metadata": {
    "scrolled": true
   },
   "outputs": [
    {
     "data": {
      "text/plain": [
       "6701"
      ]
     },
     "metadata": {},
     "output_type": "display_data"
    },
    {
     "data": {
      "text/plain": [
       "6701"
      ]
     },
     "metadata": {},
     "output_type": "display_data"
    }
   ],
   "source": [
    "# объединяем таблицы \n",
    "recom_users_ab = recom_users.merge(participants.query('ab_test == \"recommender_system_test\"'), on='user_id')\n",
    "display(recom_users_ab.user_id.nunique())\n",
    "recom_users_ab = recom_users_ab.merge(events, how='left', on='user_id')\n",
    "display(recom_users_ab.user_id.nunique())"
   ]
  },
  {
   "cell_type": "code",
   "execution_count": 29,
   "id": "8403a594",
   "metadata": {},
   "outputs": [
    {
     "data": {
      "text/plain": [
       "6701"
      ]
     },
     "metadata": {},
     "output_type": "display_data"
    },
    {
     "data": {
      "text/plain": [
       "3675"
      ]
     },
     "metadata": {},
     "output_type": "display_data"
    },
    {
     "data": {
      "text/plain": [
       "3675"
      ]
     },
     "metadata": {},
     "output_type": "display_data"
    }
   ],
   "source": [
    "# делаем фильтр в 14 дней\n",
    "\n",
    "#горизонт событий - 14 дней, \n",
    "#последняя дата наблюдения - 4 января, \n",
    "#последняя подходящая для анализа дата (4 января - 14 дней) \n",
    "\n",
    "horizon_days = 14\n",
    "observation_date = datetime(2021, 1, 4).date()\n",
    "last_suitable_acquisition_date = observation_date - timedelta(days = horizon_days - 1)\n",
    "\n",
    "#фильтруем по дате последнего набора пользователей \n",
    "#добавляем лайфтайм пользователя\n",
    "#делаем по нему фильтр в 14 дней \n",
    "display(recom_users_ab.user_id.nunique())\n",
    "test_1 = recom_users_ab\n",
    "recom_users_ab = recom_users_ab.query('event_dt <= @last_suitable_acquisition_date')\n",
    "display(recom_users_ab.user_id.nunique())\n",
    "recom_users_ab['lifetime'] = (recom_users_ab['event_dt'] - recom_users_ab['first_date']).dt.days\n",
    "recom_users_ab = recom_users_ab.query('lifetime < 14')\n",
    "display(recom_users_ab.user_id.nunique())"
   ]
  },
  {
   "cell_type": "code",
   "execution_count": 30,
   "id": "86f7ed4a",
   "metadata": {},
   "outputs": [
    {
     "data": {
      "text/plain": [
       "14"
      ]
     },
     "execution_count": 30,
     "metadata": {},
     "output_type": "execute_result"
    }
   ],
   "source": [
    "recom_users_ab.lifetime.nunique()"
   ]
  },
  {
   "cell_type": "markdown",
   "id": "d643192d",
   "metadata": {},
   "source": [
    "<p></p>\n",
    "<div style=\"border:solid black 4px; padding: 10px\">\n",
    "\n",
    "***Вывод***:\n",
    "\n",
    "- Название теста верное - recommender_system_test, в таблице есть данные по конкурирующему тесту interface_eu_test\n",
    "- Группа А — контрольная, B — новая платёжная воронка.\n",
    "- Даты запуска теста и дата окончания набора новых пользователей верны - 7 и 21 декабря 2020\n",
    "- Дата последнего события - 30 декабря 2020, по ТЗ тест должен длится до 4 января 2021\n",
    "- Аудитория теста - это в основном пользователи из Европы, также присутствуют пользователи из других стран. По ТЗ сказано, что аудиторией теста должны быть 15% новых пользователей из региона EU, по данным видно, что аудитория из Европы составляет 6351 из всех 43340 новых клиентов с этого региона, что соответствует ТЗ в 15%.\n",
    "    \n",
    "- В наш временной период попадают 2 акции. Акция Christmas&New Year Promo может оказать большее влияние, т.к. даты её проведения попадают в исследуемый период с 12 декабря - по 4 января, плюс эта акция проводится в регионе EU, именно этот регион преобладает в тесте.\n",
    "\n",
    "- Можно заметить практически равномерное распределение пользователей группы B теста interface_eu_test в тесте recommender_system_test (разница около 6%). Можно констатировать, что тест interface_eu_test одинаково влиял на recommender_system_test для групп А и В. Следовательно, это влияние не должно отразиться на итоговом результате - конверсии в группе В к группе А. \n",
    "    \n",
    "</div>"
   ]
  },
  {
   "cell_type": "markdown",
   "id": "a6cc6643",
   "metadata": {},
   "source": [
    "## Исследовательский анализ данных"
   ]
  },
  {
   "cell_type": "markdown",
   "id": "8322050a",
   "metadata": {},
   "source": [
    "***Посмотрим на динамику набора пользователей в тестовые группы по дням***"
   ]
  },
  {
   "cell_type": "code",
   "execution_count": 31,
   "id": "6298aef9",
   "metadata": {},
   "outputs": [
    {
     "data": {
      "text/html": [
       "<div>\n",
       "<style scoped>\n",
       "    .dataframe tbody tr th:only-of-type {\n",
       "        vertical-align: middle;\n",
       "    }\n",
       "\n",
       "    .dataframe tbody tr th {\n",
       "        vertical-align: top;\n",
       "    }\n",
       "\n",
       "    .dataframe thead th {\n",
       "        text-align: right;\n",
       "    }\n",
       "</style>\n",
       "<table border=\"1\" class=\"dataframe\">\n",
       "  <thead>\n",
       "    <tr style=\"text-align: right;\">\n",
       "      <th></th>\n",
       "      <th>user_id</th>\n",
       "      <th>first_date</th>\n",
       "      <th>region</th>\n",
       "      <th>device</th>\n",
       "      <th>group</th>\n",
       "      <th>ab_test</th>\n",
       "      <th>event_dt</th>\n",
       "      <th>event_name</th>\n",
       "      <th>details</th>\n",
       "    </tr>\n",
       "  </thead>\n",
       "  <tbody>\n",
       "    <tr>\n",
       "      <th>0</th>\n",
       "      <td>D72A72121175D8BE</td>\n",
       "      <td>2020-12-07</td>\n",
       "      <td>EU</td>\n",
       "      <td>PC</td>\n",
       "      <td>A</td>\n",
       "      <td>recommender_system_test</td>\n",
       "      <td>2020-12-07 21:52:10</td>\n",
       "      <td>product_page</td>\n",
       "      <td>NaN</td>\n",
       "    </tr>\n",
       "    <tr>\n",
       "      <th>1</th>\n",
       "      <td>D72A72121175D8BE</td>\n",
       "      <td>2020-12-07</td>\n",
       "      <td>EU</td>\n",
       "      <td>PC</td>\n",
       "      <td>A</td>\n",
       "      <td>recommender_system_test</td>\n",
       "      <td>2020-12-07 21:52:07</td>\n",
       "      <td>login</td>\n",
       "      <td>NaN</td>\n",
       "    </tr>\n",
       "    <tr>\n",
       "      <th>2</th>\n",
       "      <td>E6DE857AFBDC6102</td>\n",
       "      <td>2020-12-07</td>\n",
       "      <td>EU</td>\n",
       "      <td>PC</td>\n",
       "      <td>B</td>\n",
       "      <td>recommender_system_test</td>\n",
       "      <td>NaT</td>\n",
       "      <td>NaN</td>\n",
       "      <td>NaN</td>\n",
       "    </tr>\n",
       "    <tr>\n",
       "      <th>3</th>\n",
       "      <td>DD4352CDCF8C3D57</td>\n",
       "      <td>2020-12-07</td>\n",
       "      <td>EU</td>\n",
       "      <td>Android</td>\n",
       "      <td>B</td>\n",
       "      <td>recommender_system_test</td>\n",
       "      <td>2020-12-07 15:32:54</td>\n",
       "      <td>product_page</td>\n",
       "      <td>NaN</td>\n",
       "    </tr>\n",
       "    <tr>\n",
       "      <th>4</th>\n",
       "      <td>DD4352CDCF8C3D57</td>\n",
       "      <td>2020-12-07</td>\n",
       "      <td>EU</td>\n",
       "      <td>Android</td>\n",
       "      <td>B</td>\n",
       "      <td>recommender_system_test</td>\n",
       "      <td>2020-12-08 08:29:31</td>\n",
       "      <td>product_page</td>\n",
       "      <td>NaN</td>\n",
       "    </tr>\n",
       "  </tbody>\n",
       "</table>\n",
       "</div>"
      ],
      "text/plain": [
       "            user_id first_date region   device group                  ab_test  \\\n",
       "0  D72A72121175D8BE 2020-12-07     EU       PC     A  recommender_system_test   \n",
       "1  D72A72121175D8BE 2020-12-07     EU       PC     A  recommender_system_test   \n",
       "2  E6DE857AFBDC6102 2020-12-07     EU       PC     B  recommender_system_test   \n",
       "3  DD4352CDCF8C3D57 2020-12-07     EU  Android     B  recommender_system_test   \n",
       "4  DD4352CDCF8C3D57 2020-12-07     EU  Android     B  recommender_system_test   \n",
       "\n",
       "             event_dt    event_name  details  \n",
       "0 2020-12-07 21:52:10  product_page      NaN  \n",
       "1 2020-12-07 21:52:07         login      NaN  \n",
       "2                 NaT           NaN      NaN  \n",
       "3 2020-12-07 15:32:54  product_page      NaN  \n",
       "4 2020-12-08 08:29:31  product_page      NaN  "
      ]
     },
     "execution_count": 31,
     "metadata": {},
     "output_type": "execute_result"
    }
   ],
   "source": [
    "test_1.head()"
   ]
  },
  {
   "cell_type": "code",
   "execution_count": 32,
   "id": "69a8c46c",
   "metadata": {},
   "outputs": [
    {
     "data": {
      "text/html": [
       "<div>\n",
       "<style scoped>\n",
       "    .dataframe tbody tr th:only-of-type {\n",
       "        vertical-align: middle;\n",
       "    }\n",
       "\n",
       "    .dataframe tbody tr th {\n",
       "        vertical-align: top;\n",
       "    }\n",
       "\n",
       "    .dataframe thead th {\n",
       "        text-align: right;\n",
       "    }\n",
       "</style>\n",
       "<table border=\"1\" class=\"dataframe\">\n",
       "  <thead>\n",
       "    <tr style=\"text-align: right;\">\n",
       "      <th></th>\n",
       "      <th>first_date</th>\n",
       "      <th>group</th>\n",
       "      <th>users_count</th>\n",
       "    </tr>\n",
       "  </thead>\n",
       "  <tbody>\n",
       "    <tr>\n",
       "      <th>0</th>\n",
       "      <td>2020-12-07</td>\n",
       "      <td>A</td>\n",
       "      <td>204</td>\n",
       "    </tr>\n",
       "    <tr>\n",
       "      <th>1</th>\n",
       "      <td>2020-12-07</td>\n",
       "      <td>B</td>\n",
       "      <td>96</td>\n",
       "    </tr>\n",
       "    <tr>\n",
       "      <th>2</th>\n",
       "      <td>2020-12-08</td>\n",
       "      <td>A</td>\n",
       "      <td>107</td>\n",
       "    </tr>\n",
       "    <tr>\n",
       "      <th>3</th>\n",
       "      <td>2020-12-08</td>\n",
       "      <td>B</td>\n",
       "      <td>115</td>\n",
       "    </tr>\n",
       "    <tr>\n",
       "      <th>4</th>\n",
       "      <td>2020-12-09</td>\n",
       "      <td>A</td>\n",
       "      <td>65</td>\n",
       "    </tr>\n",
       "    <tr>\n",
       "      <th>5</th>\n",
       "      <td>2020-12-09</td>\n",
       "      <td>B</td>\n",
       "      <td>26</td>\n",
       "    </tr>\n",
       "    <tr>\n",
       "      <th>6</th>\n",
       "      <td>2020-12-10</td>\n",
       "      <td>A</td>\n",
       "      <td>133</td>\n",
       "    </tr>\n",
       "    <tr>\n",
       "      <th>7</th>\n",
       "      <td>2020-12-10</td>\n",
       "      <td>B</td>\n",
       "      <td>159</td>\n",
       "    </tr>\n",
       "    <tr>\n",
       "      <th>8</th>\n",
       "      <td>2020-12-11</td>\n",
       "      <td>A</td>\n",
       "      <td>73</td>\n",
       "    </tr>\n",
       "    <tr>\n",
       "      <th>9</th>\n",
       "      <td>2020-12-11</td>\n",
       "      <td>B</td>\n",
       "      <td>91</td>\n",
       "    </tr>\n",
       "    <tr>\n",
       "      <th>10</th>\n",
       "      <td>2020-12-12</td>\n",
       "      <td>A</td>\n",
       "      <td>212</td>\n",
       "    </tr>\n",
       "    <tr>\n",
       "      <th>11</th>\n",
       "      <td>2020-12-12</td>\n",
       "      <td>B</td>\n",
       "      <td>160</td>\n",
       "    </tr>\n",
       "    <tr>\n",
       "      <th>12</th>\n",
       "      <td>2020-12-13</td>\n",
       "      <td>A</td>\n",
       "      <td>283</td>\n",
       "    </tr>\n",
       "    <tr>\n",
       "      <th>13</th>\n",
       "      <td>2020-12-13</td>\n",
       "      <td>B</td>\n",
       "      <td>227</td>\n",
       "    </tr>\n",
       "    <tr>\n",
       "      <th>14</th>\n",
       "      <td>2020-12-14</td>\n",
       "      <td>B</td>\n",
       "      <td>206</td>\n",
       "    </tr>\n",
       "    <tr>\n",
       "      <th>15</th>\n",
       "      <td>2020-12-15</td>\n",
       "      <td>B</td>\n",
       "      <td>119</td>\n",
       "    </tr>\n",
       "    <tr>\n",
       "      <th>16</th>\n",
       "      <td>2020-12-16</td>\n",
       "      <td>B</td>\n",
       "      <td>17</td>\n",
       "    </tr>\n",
       "    <tr>\n",
       "      <th>17</th>\n",
       "      <td>2020-12-17</td>\n",
       "      <td>B</td>\n",
       "      <td>108</td>\n",
       "    </tr>\n",
       "    <tr>\n",
       "      <th>18</th>\n",
       "      <td>2020-12-18</td>\n",
       "      <td>B</td>\n",
       "      <td>127</td>\n",
       "    </tr>\n",
       "    <tr>\n",
       "      <th>19</th>\n",
       "      <td>2020-12-19</td>\n",
       "      <td>B</td>\n",
       "      <td>137</td>\n",
       "    </tr>\n",
       "    <tr>\n",
       "      <th>20</th>\n",
       "      <td>2020-12-20</td>\n",
       "      <td>B</td>\n",
       "      <td>148</td>\n",
       "    </tr>\n",
       "    <tr>\n",
       "      <th>21</th>\n",
       "      <td>2020-12-21</td>\n",
       "      <td>B</td>\n",
       "      <td>213</td>\n",
       "    </tr>\n",
       "  </tbody>\n",
       "</table>\n",
       "</div>"
      ],
      "text/plain": [
       "   first_date group  users_count\n",
       "0  2020-12-07     A          204\n",
       "1  2020-12-07     B           96\n",
       "2  2020-12-08     A          107\n",
       "3  2020-12-08     B          115\n",
       "4  2020-12-09     A           65\n",
       "5  2020-12-09     B           26\n",
       "6  2020-12-10     A          133\n",
       "7  2020-12-10     B          159\n",
       "8  2020-12-11     A           73\n",
       "9  2020-12-11     B           91\n",
       "10 2020-12-12     A          212\n",
       "11 2020-12-12     B          160\n",
       "12 2020-12-13     A          283\n",
       "13 2020-12-13     B          227\n",
       "14 2020-12-14     B          206\n",
       "15 2020-12-15     B          119\n",
       "16 2020-12-16     B           17\n",
       "17 2020-12-17     B          108\n",
       "18 2020-12-18     B          127\n",
       "19 2020-12-19     B          137\n",
       "20 2020-12-20     B          148\n",
       "21 2020-12-21     B          213"
      ]
     },
     "execution_count": 32,
     "metadata": {},
     "output_type": "execute_result"
    }
   ],
   "source": [
    "# фильтруем пользователей, которые прошли только регистрацию\n",
    "test_2 = test_1[test_1['event_dt'].isna()]\n",
    "test_2 = (test_2.groupby(['first_date','group'], as_index=False)['user_id'].nunique()\n",
    "                            .rename(columns={'user_id':'users_count'}))\n",
    "test_2"
   ]
  },
  {
   "cell_type": "code",
   "execution_count": 33,
   "id": "b23aae35",
   "metadata": {},
   "outputs": [
    {
     "data": {
      "image/png": "[encoded data removed]"
     },
     "metadata": {},
     "output_type": "display_data"
    }
   ],
   "source": [
    "fig = px.bar(test_2, x='first_date', y='users_count', color='group', \n",
    "             title='Динамика набора пользователей в тестовые группы по дням', \n",
    "             color_discrete_sequence=['#0081B4', '#AD7BE9'])\n",
    "fig.update_xaxes(title_text='Дата')\n",
    "fig.update_yaxes(title_text='Количество уникальных пользователей')\n",
    "\n",
    "fig.show(\"png\")"
   ]
  },
  {
   "cell_type": "code",
   "execution_count": 34,
   "id": "de0bd7be",
   "metadata": {},
   "outputs": [
    {
     "data": {
      "text/plain": [
       "3026"
      ]
     },
     "execution_count": 34,
     "metadata": {},
     "output_type": "execute_result"
    }
   ],
   "source": [
    "test_2['users_count'].sum()"
   ]
  },
  {
   "cell_type": "markdown",
   "id": "e4c7b442",
   "metadata": {},
   "source": [
    "***Как видно из графика после 14 декабря набор происходит только в группу B. Таких пользователей можно отфильтровать.***"
   ]
  },
  {
   "cell_type": "markdown",
   "id": "c31fc24f",
   "metadata": {},
   "source": [
    "### Распределение событий на одного пользователя в выборках"
   ]
  },
  {
   "cell_type": "code",
   "execution_count": 35,
   "id": "ace8621d",
   "metadata": {},
   "outputs": [],
   "source": [
    "#количество событий по пользователями и событиям  \n",
    "users_events = (recom_users_ab.groupby(['user_id', 'event_name'], as_index=False)['region'].count()\n",
    "                              .rename(columns={'region':'events_count'})\n",
    "                              .merge(recom_users_ab[['user_id', 'group']], on='user_id')\n",
    "                              .drop_duplicates())\n",
    "\n",
    "#количество событий по группам \n",
    "users_events_group = (users_events.groupby(['group', 'event_name'], as_index=False)['events_count'].agg('sum'))\n",
    "users_events_group['event_by_user'] = 0\n",
    "\n",
    "#количество оставшихся в тесте пользователей в группах А и В\n",
    "users_A = recom_users_ab.query('group == \"A\"')['user_id'].nunique()\n",
    "users_B = recom_users_ab.query('group == \"B\"')['user_id'].nunique()\n",
    "\n",
    "#количество событий на одного пользователя \n",
    "users_events_group.loc[users_events_group['group'] == 'A', 'event_by_user'] = (\n",
    "    users_events_group['events_count'] / users_A)\n",
    "\n",
    "users_events_group.loc[users_events_group['group'] == 'B', 'event_by_user'] = (\n",
    "    users_events_group['events_count'] / users_B)"
   ]
  },
  {
   "cell_type": "code",
   "execution_count": 36,
   "id": "08a6f8c8",
   "metadata": {},
   "outputs": [
    {
     "name": "stdout",
     "output_type": "stream",
     "text": [
      "Пользователей из группы А: 2747\n",
      "Пользователй из группы B: 928\n"
     ]
    }
   ],
   "source": [
    "print(\"Пользователей из группы А:\", users_A)\n",
    "print(\"Пользователй из группы B:\", users_B)"
   ]
  },
  {
   "cell_type": "markdown",
   "id": "ecae2565",
   "metadata": {},
   "source": [
    "***Разница по количеству пользователей, при оценки пользовательских событий, стала ещё более ощутимой. Группа А - 2747 человек, B - 928 человек.***"
   ]
  },
  {
   "cell_type": "code",
   "execution_count": 37,
   "id": "3039428a",
   "metadata": {},
   "outputs": [
    {
     "data": {
      "text/html": [
       "<div>\n",
       "<style scoped>\n",
       "    .dataframe tbody tr th:only-of-type {\n",
       "        vertical-align: middle;\n",
       "    }\n",
       "\n",
       "    .dataframe tbody tr th {\n",
       "        vertical-align: top;\n",
       "    }\n",
       "\n",
       "    .dataframe thead th {\n",
       "        text-align: right;\n",
       "    }\n",
       "</style>\n",
       "<table border=\"1\" class=\"dataframe\">\n",
       "  <thead>\n",
       "    <tr style=\"text-align: right;\">\n",
       "      <th></th>\n",
       "      <th>group</th>\n",
       "      <th>event_name</th>\n",
       "      <th>events_count</th>\n",
       "      <th>event_by_user</th>\n",
       "    </tr>\n",
       "  </thead>\n",
       "  <tbody>\n",
       "    <tr>\n",
       "      <th>0</th>\n",
       "      <td>A</td>\n",
       "      <td>login</td>\n",
       "      <td>5922</td>\n",
       "      <td>2.155806</td>\n",
       "    </tr>\n",
       "    <tr>\n",
       "      <th>1</th>\n",
       "      <td>A</td>\n",
       "      <td>product_cart</td>\n",
       "      <td>1778</td>\n",
       "      <td>0.647252</td>\n",
       "    </tr>\n",
       "    <tr>\n",
       "      <th>2</th>\n",
       "      <td>A</td>\n",
       "      <td>product_page</td>\n",
       "      <td>3782</td>\n",
       "      <td>1.376775</td>\n",
       "    </tr>\n",
       "    <tr>\n",
       "      <th>3</th>\n",
       "      <td>A</td>\n",
       "      <td>purchase</td>\n",
       "      <td>1811</td>\n",
       "      <td>0.659265</td>\n",
       "    </tr>\n",
       "    <tr>\n",
       "      <th>4</th>\n",
       "      <td>B</td>\n",
       "      <td>login</td>\n",
       "      <td>2060</td>\n",
       "      <td>2.219828</td>\n",
       "    </tr>\n",
       "    <tr>\n",
       "      <th>5</th>\n",
       "      <td>B</td>\n",
       "      <td>product_cart</td>\n",
       "      <td>567</td>\n",
       "      <td>0.610991</td>\n",
       "    </tr>\n",
       "    <tr>\n",
       "      <th>6</th>\n",
       "      <td>B</td>\n",
       "      <td>product_page</td>\n",
       "      <td>1122</td>\n",
       "      <td>1.209052</td>\n",
       "    </tr>\n",
       "    <tr>\n",
       "      <th>7</th>\n",
       "      <td>B</td>\n",
       "      <td>purchase</td>\n",
       "      <td>537</td>\n",
       "      <td>0.578664</td>\n",
       "    </tr>\n",
       "  </tbody>\n",
       "</table>\n",
       "</div>"
      ],
      "text/plain": [
       "  group    event_name  events_count  event_by_user\n",
       "0     A         login          5922       2.155806\n",
       "1     A  product_cart          1778       0.647252\n",
       "2     A  product_page          3782       1.376775\n",
       "3     A      purchase          1811       0.659265\n",
       "4     B         login          2060       2.219828\n",
       "5     B  product_cart           567       0.610991\n",
       "6     B  product_page          1122       1.209052\n",
       "7     B      purchase           537       0.578664"
      ]
     },
     "execution_count": 37,
     "metadata": {},
     "output_type": "execute_result"
    }
   ],
   "source": [
    "users_events_group"
   ]
  },
  {
   "cell_type": "code",
   "execution_count": 38,
   "id": "c93e8d31",
   "metadata": {},
   "outputs": [
    {
     "data": {
      "image/png": "[encoded data removed]"
     },
     "metadata": {},
     "output_type": "display_data"
    }
   ],
   "source": [
    "# отобразим это на графике\n",
    "fig = px.box(users_events, x=\"event_name\", y=\"events_count\", color=\"group\",\n",
    "             title=\"Количество событий на одного пользователя для групп А и В\", color_discrete_sequence=['#0081B4', '#FF884B'])\n",
    "\n",
    "fig.update_xaxes(title_text='Событие')\n",
    "fig.update_yaxes(title_text='Количество событий')\n",
    "\n",
    "fig.show(\"png\")"
   ]
  },
  {
   "cell_type": "markdown",
   "id": "aa8fc40d",
   "metadata": {},
   "source": [
    "## <p></p>\n",
    "<div style=\"border:solid black 4px; padding: 10px\">\n",
    "\n",
    "***Вывод***:\n",
    "Из графика видно, что:\n",
    "- Среднее количество событий login на одного клиента практически не различается между группами (A - 2.15, B - 2.21)\n",
    "- По остальным событиям на одного пользователя группа А опережает группу В:\n",
    "  - Просмотр страницы товара (А - 1.37, B - 1.2)\n",
    "  - Добавление товара в корзину (А - 0.64, В - 0.61)\n",
    "  - Покупка (А - 0.65, В - 0.57)\n",
    "\n",
    "**Конверсия группы А выше, чем у группы В. Ожидаемый прирост в 10% не наблюдается.**\n",
    "    \n",
    "</div>"
   ]
  },
  {
   "cell_type": "markdown",
   "id": "820aeb7f",
   "metadata": {},
   "source": [
    "### Распределение событий и пользователей по дням"
   ]
  },
  {
   "cell_type": "code",
   "execution_count": 39,
   "id": "3fc1ae6d",
   "metadata": {},
   "outputs": [
    {
     "data": {
      "text/html": [
       "<div>\n",
       "<style scoped>\n",
       "    .dataframe tbody tr th:only-of-type {\n",
       "        vertical-align: middle;\n",
       "    }\n",
       "\n",
       "    .dataframe tbody tr th {\n",
       "        vertical-align: top;\n",
       "    }\n",
       "\n",
       "    .dataframe thead th {\n",
       "        text-align: right;\n",
       "    }\n",
       "</style>\n",
       "<table border=\"1\" class=\"dataframe\">\n",
       "  <thead>\n",
       "    <tr style=\"text-align: right;\">\n",
       "      <th></th>\n",
       "      <th>user_id</th>\n",
       "      <th>first_date</th>\n",
       "      <th>region</th>\n",
       "      <th>device</th>\n",
       "      <th>group</th>\n",
       "      <th>ab_test</th>\n",
       "      <th>event_dt</th>\n",
       "      <th>event_name</th>\n",
       "      <th>details</th>\n",
       "      <th>lifetime</th>\n",
       "    </tr>\n",
       "  </thead>\n",
       "  <tbody>\n",
       "    <tr>\n",
       "      <th>0</th>\n",
       "      <td>D72A72121175D8BE</td>\n",
       "      <td>2020-12-07</td>\n",
       "      <td>EU</td>\n",
       "      <td>PC</td>\n",
       "      <td>A</td>\n",
       "      <td>recommender_system_test</td>\n",
       "      <td>2020-12-07 21:52:10</td>\n",
       "      <td>product_page</td>\n",
       "      <td>NaN</td>\n",
       "      <td>0</td>\n",
       "    </tr>\n",
       "    <tr>\n",
       "      <th>1</th>\n",
       "      <td>D72A72121175D8BE</td>\n",
       "      <td>2020-12-07</td>\n",
       "      <td>EU</td>\n",
       "      <td>PC</td>\n",
       "      <td>A</td>\n",
       "      <td>recommender_system_test</td>\n",
       "      <td>2020-12-07 21:52:07</td>\n",
       "      <td>login</td>\n",
       "      <td>NaN</td>\n",
       "      <td>0</td>\n",
       "    </tr>\n",
       "    <tr>\n",
       "      <th>3</th>\n",
       "      <td>DD4352CDCF8C3D57</td>\n",
       "      <td>2020-12-07</td>\n",
       "      <td>EU</td>\n",
       "      <td>Android</td>\n",
       "      <td>B</td>\n",
       "      <td>recommender_system_test</td>\n",
       "      <td>2020-12-07 15:32:54</td>\n",
       "      <td>product_page</td>\n",
       "      <td>NaN</td>\n",
       "      <td>0</td>\n",
       "    </tr>\n",
       "    <tr>\n",
       "      <th>4</th>\n",
       "      <td>DD4352CDCF8C3D57</td>\n",
       "      <td>2020-12-07</td>\n",
       "      <td>EU</td>\n",
       "      <td>Android</td>\n",
       "      <td>B</td>\n",
       "      <td>recommender_system_test</td>\n",
       "      <td>2020-12-08 08:29:31</td>\n",
       "      <td>product_page</td>\n",
       "      <td>NaN</td>\n",
       "      <td>1</td>\n",
       "    </tr>\n",
       "    <tr>\n",
       "      <th>5</th>\n",
       "      <td>DD4352CDCF8C3D57</td>\n",
       "      <td>2020-12-07</td>\n",
       "      <td>EU</td>\n",
       "      <td>Android</td>\n",
       "      <td>B</td>\n",
       "      <td>recommender_system_test</td>\n",
       "      <td>2020-12-10 18:18:27</td>\n",
       "      <td>product_page</td>\n",
       "      <td>NaN</td>\n",
       "      <td>3</td>\n",
       "    </tr>\n",
       "  </tbody>\n",
       "</table>\n",
       "</div>"
      ],
      "text/plain": [
       "            user_id first_date region   device group                  ab_test  \\\n",
       "0  D72A72121175D8BE 2020-12-07     EU       PC     A  recommender_system_test   \n",
       "1  D72A72121175D8BE 2020-12-07     EU       PC     A  recommender_system_test   \n",
       "3  DD4352CDCF8C3D57 2020-12-07     EU  Android     B  recommender_system_test   \n",
       "4  DD4352CDCF8C3D57 2020-12-07     EU  Android     B  recommender_system_test   \n",
       "5  DD4352CDCF8C3D57 2020-12-07     EU  Android     B  recommender_system_test   \n",
       "\n",
       "             event_dt    event_name  details  lifetime  \n",
       "0 2020-12-07 21:52:10  product_page      NaN         0  \n",
       "1 2020-12-07 21:52:07         login      NaN         0  \n",
       "3 2020-12-07 15:32:54  product_page      NaN         0  \n",
       "4 2020-12-08 08:29:31  product_page      NaN         1  \n",
       "5 2020-12-10 18:18:27  product_page      NaN         3  "
      ]
     },
     "execution_count": 39,
     "metadata": {},
     "output_type": "execute_result"
    }
   ],
   "source": [
    "recom_users_ab.head()"
   ]
  },
  {
   "cell_type": "code",
   "execution_count": 40,
   "id": "5089ccda",
   "metadata": {},
   "outputs": [
    {
     "data": {
      "text/html": [
       "<div>\n",
       "<style scoped>\n",
       "    .dataframe tbody tr th:only-of-type {\n",
       "        vertical-align: middle;\n",
       "    }\n",
       "\n",
       "    .dataframe tbody tr th {\n",
       "        vertical-align: top;\n",
       "    }\n",
       "\n",
       "    .dataframe thead th {\n",
       "        text-align: right;\n",
       "    }\n",
       "</style>\n",
       "<table border=\"1\" class=\"dataframe\">\n",
       "  <thead>\n",
       "    <tr style=\"text-align: right;\">\n",
       "      <th></th>\n",
       "      <th>event_dt</th>\n",
       "      <th>group</th>\n",
       "      <th>events_count</th>\n",
       "    </tr>\n",
       "  </thead>\n",
       "  <tbody>\n",
       "    <tr>\n",
       "      <th>0</th>\n",
       "      <td>2020-12-07</td>\n",
       "      <td>A</td>\n",
       "      <td>331</td>\n",
       "    </tr>\n",
       "    <tr>\n",
       "      <th>1</th>\n",
       "      <td>2020-12-07</td>\n",
       "      <td>B</td>\n",
       "      <td>378</td>\n",
       "    </tr>\n",
       "    <tr>\n",
       "      <th>2</th>\n",
       "      <td>2020-12-08</td>\n",
       "      <td>A</td>\n",
       "      <td>341</td>\n",
       "    </tr>\n",
       "    <tr>\n",
       "      <th>3</th>\n",
       "      <td>2020-12-08</td>\n",
       "      <td>B</td>\n",
       "      <td>252</td>\n",
       "    </tr>\n",
       "    <tr>\n",
       "      <th>4</th>\n",
       "      <td>2020-12-09</td>\n",
       "      <td>A</td>\n",
       "      <td>385</td>\n",
       "    </tr>\n",
       "  </tbody>\n",
       "</table>\n",
       "</div>"
      ],
      "text/plain": [
       "     event_dt group  events_count\n",
       "0  2020-12-07     A           331\n",
       "1  2020-12-07     B           378\n",
       "2  2020-12-08     A           341\n",
       "3  2020-12-08     B           252\n",
       "4  2020-12-09     A           385"
      ]
     },
     "execution_count": 40,
     "metadata": {},
     "output_type": "execute_result"
    }
   ],
   "source": [
    "# преобразуем event_dt к datetime\n",
    "recom_users_ab['event_dt'] = recom_users_ab['event_dt'].dt.date\n",
    "\n",
    "events_by_date = (recom_users_ab.groupby(['event_dt', 'group'], as_index=False)['user_id'].count()\n",
    "                                .rename(columns={'user_id':'events_count'}))\n",
    "events_by_date.head()"
   ]
  },
  {
   "cell_type": "code",
   "execution_count": 41,
   "id": "3b0a4f01",
   "metadata": {
    "scrolled": false
   },
   "outputs": [
    {
     "data": {
      "image/png": "[encoded data removed]"
     },
     "metadata": {},
     "output_type": "display_data"
    }
   ],
   "source": [
    "# отобразим на графике\n",
    "fig = px.bar(events_by_date, x='event_dt', y='events_count', color='group', \n",
    "             title='Распределение событий по дням в двух группах', \n",
    "             color_discrete_sequence=['#0081B4', '#FF884B'])\n",
    "fig.update_xaxes(title_text='Дата')\n",
    "fig.update_yaxes(title_text='Количество событий')\n",
    "\n",
    "fig.show(\"png\")"
   ]
  },
  {
   "cell_type": "markdown",
   "id": "692610fa",
   "metadata": {},
   "source": [
    "##### <p></p>\n",
    "<div style=\"border:solid black 4px; padding: 10px\">\n",
    "\n",
    "***Вывод***:\n",
    "\n",
    "- Пик событий приходится на 21 декабря (1995 в А и 404 событий в В)\n",
    "- Только в первый день теста в группе В было больше событий, чем в группе А (378 против 331 события). В остальных днях группа А опережала группу В по количеству событий.\n",
    "- С 14 декабря наблюдаем резкий рост количества событий для группы А.\n",
    "    \n",
    "</div>"
   ]
  },
  {
   "cell_type": "code",
   "execution_count": 42,
   "id": "4243a76a",
   "metadata": {},
   "outputs": [
    {
     "data": {
      "text/html": [
       "<div>\n",
       "<style scoped>\n",
       "    .dataframe tbody tr th:only-of-type {\n",
       "        vertical-align: middle;\n",
       "    }\n",
       "\n",
       "    .dataframe tbody tr th {\n",
       "        vertical-align: top;\n",
       "    }\n",
       "\n",
       "    .dataframe thead th {\n",
       "        text-align: right;\n",
       "    }\n",
       "</style>\n",
       "<table border=\"1\" class=\"dataframe\">\n",
       "  <thead>\n",
       "    <tr style=\"text-align: right;\">\n",
       "      <th></th>\n",
       "      <th>event_dt</th>\n",
       "      <th>group</th>\n",
       "      <th>users_count</th>\n",
       "    </tr>\n",
       "  </thead>\n",
       "  <tbody>\n",
       "    <tr>\n",
       "      <th>0</th>\n",
       "      <td>2020-12-07</td>\n",
       "      <td>A</td>\n",
       "      <td>154</td>\n",
       "    </tr>\n",
       "    <tr>\n",
       "      <th>1</th>\n",
       "      <td>2020-12-07</td>\n",
       "      <td>B</td>\n",
       "      <td>173</td>\n",
       "    </tr>\n",
       "    <tr>\n",
       "      <th>2</th>\n",
       "      <td>2020-12-08</td>\n",
       "      <td>A</td>\n",
       "      <td>160</td>\n",
       "    </tr>\n",
       "    <tr>\n",
       "      <th>3</th>\n",
       "      <td>2020-12-08</td>\n",
       "      <td>B</td>\n",
       "      <td>120</td>\n",
       "    </tr>\n",
       "    <tr>\n",
       "      <th>4</th>\n",
       "      <td>2020-12-09</td>\n",
       "      <td>A</td>\n",
       "      <td>178</td>\n",
       "    </tr>\n",
       "  </tbody>\n",
       "</table>\n",
       "</div>"
      ],
      "text/plain": [
       "     event_dt group  users_count\n",
       "0  2020-12-07     A          154\n",
       "1  2020-12-07     B          173\n",
       "2  2020-12-08     A          160\n",
       "3  2020-12-08     B          120\n",
       "4  2020-12-09     A          178"
      ]
     },
     "execution_count": 42,
     "metadata": {},
     "output_type": "execute_result"
    }
   ],
   "source": [
    "#распределение количества активных пользователей по дням\n",
    "users_by_date = (recom_users_ab.groupby(['event_dt', 'group'], as_index=False)['user_id'].nunique()\n",
    "                .rename(columns={'user_id':'users_count'}))\n",
    "users_by_date.head()"
   ]
  },
  {
   "cell_type": "code",
   "execution_count": 43,
   "id": "89967e6d",
   "metadata": {},
   "outputs": [
    {
     "data": {
      "image/png": "[encoded data removed]"
     },
     "metadata": {},
     "output_type": "display_data"
    }
   ],
   "source": [
    "fig = px.bar(users_by_date, x='event_dt', y='users_count', color='group', \n",
    "             title='Распределение пользователей по дням в двух группах',\n",
    "             color_discrete_sequence=['#AD7BE9', '#B3005E'])\n",
    "fig.update_xaxes(title_text='Дата')\n",
    "fig.update_yaxes(title_text='Количество пользователей')\n",
    "\n",
    "fig.show(\"png\")"
   ]
  },
  {
   "cell_type": "markdown",
   "id": "2d7516b4",
   "metadata": {},
   "source": [
    "<p></p>\n",
    "<div style=\"border:solid black 4px; padding: 10px\">\n",
    "\n",
    "***Вывод***:\n",
    "\n",
    "Картина аналогичная графику по событиям. Поэтому резкий рост количества событий с 14 декабря - это логичное явление, т.к. увеличилось кол-во пользователей. \n",
    "    \n",
    "</div>"
   ]
  },
  {
   "cell_type": "markdown",
   "id": "85382970",
   "metadata": {},
   "source": [
    "### Изменение конверсии в воронке на разных этапах"
   ]
  },
  {
   "cell_type": "code",
   "execution_count": 44,
   "id": "eebd3664",
   "metadata": {},
   "outputs": [],
   "source": [
    "# определяем переменные для создания воронки\n",
    "funnel_A = recom_users_ab[recom_users_ab['group']==\"A\"].groupby('event_name').agg({'event_name':'count', 'user_id':'nunique'})\n",
    "funnel_A.columns = ['event_count','user_count']\n",
    "funnel_A = funnel_A.sort_values(by = 'event_count', ascending = False).reset_index().reindex([0,1,3,2])\n",
    "\n",
    "funnel_B = recom_users_ab[recom_users_ab['group']==\"B\"].groupby('event_name').agg({'event_name':'count', 'user_id':'nunique'})\n",
    "funnel_B.columns = ['event_count','user_count']\n",
    "funnel_B = funnel_B.sort_values(by = 'event_count', ascending = False).reset_index()"
   ]
  },
  {
   "cell_type": "code",
   "execution_count": 45,
   "id": "8d70020f",
   "metadata": {},
   "outputs": [
    {
     "data": {
      "text/html": [
       "<div>\n",
       "<style scoped>\n",
       "    .dataframe tbody tr th:only-of-type {\n",
       "        vertical-align: middle;\n",
       "    }\n",
       "\n",
       "    .dataframe tbody tr th {\n",
       "        vertical-align: top;\n",
       "    }\n",
       "\n",
       "    .dataframe thead th {\n",
       "        text-align: right;\n",
       "    }\n",
       "</style>\n",
       "<table border=\"1\" class=\"dataframe\">\n",
       "  <thead>\n",
       "    <tr style=\"text-align: right;\">\n",
       "      <th></th>\n",
       "      <th>event_name</th>\n",
       "      <th>event_count</th>\n",
       "      <th>user_count</th>\n",
       "    </tr>\n",
       "  </thead>\n",
       "  <tbody>\n",
       "    <tr>\n",
       "      <th>0</th>\n",
       "      <td>login</td>\n",
       "      <td>2060</td>\n",
       "      <td>927</td>\n",
       "    </tr>\n",
       "    <tr>\n",
       "      <th>1</th>\n",
       "      <td>product_page</td>\n",
       "      <td>1122</td>\n",
       "      <td>523</td>\n",
       "    </tr>\n",
       "    <tr>\n",
       "      <th>2</th>\n",
       "      <td>product_cart</td>\n",
       "      <td>567</td>\n",
       "      <td>255</td>\n",
       "    </tr>\n",
       "    <tr>\n",
       "      <th>3</th>\n",
       "      <td>purchase</td>\n",
       "      <td>537</td>\n",
       "      <td>256</td>\n",
       "    </tr>\n",
       "  </tbody>\n",
       "</table>\n",
       "</div>"
      ],
      "text/plain": [
       "     event_name  event_count  user_count\n",
       "0         login         2060         927\n",
       "1  product_page         1122         523\n",
       "2  product_cart          567         255\n",
       "3      purchase          537         256"
      ]
     },
     "execution_count": 45,
     "metadata": {},
     "output_type": "execute_result"
    }
   ],
   "source": [
    "funnel_B"
   ]
  },
  {
   "cell_type": "code",
   "execution_count": 46,
   "id": "22686452",
   "metadata": {},
   "outputs": [
    {
     "data": {
      "text/html": [
       "<div>\n",
       "<style scoped>\n",
       "    .dataframe tbody tr th:only-of-type {\n",
       "        vertical-align: middle;\n",
       "    }\n",
       "\n",
       "    .dataframe tbody tr th {\n",
       "        vertical-align: top;\n",
       "    }\n",
       "\n",
       "    .dataframe thead th {\n",
       "        text-align: right;\n",
       "    }\n",
       "</style>\n",
       "<table border=\"1\" class=\"dataframe\">\n",
       "  <thead>\n",
       "    <tr style=\"text-align: right;\">\n",
       "      <th></th>\n",
       "      <th>event_name</th>\n",
       "      <th>event_count</th>\n",
       "      <th>user_count</th>\n",
       "    </tr>\n",
       "  </thead>\n",
       "  <tbody>\n",
       "    <tr>\n",
       "      <th>0</th>\n",
       "      <td>login</td>\n",
       "      <td>5922</td>\n",
       "      <td>2747</td>\n",
       "    </tr>\n",
       "    <tr>\n",
       "      <th>1</th>\n",
       "      <td>product_page</td>\n",
       "      <td>3782</td>\n",
       "      <td>1780</td>\n",
       "    </tr>\n",
       "    <tr>\n",
       "      <th>3</th>\n",
       "      <td>product_cart</td>\n",
       "      <td>1778</td>\n",
       "      <td>824</td>\n",
       "    </tr>\n",
       "    <tr>\n",
       "      <th>2</th>\n",
       "      <td>purchase</td>\n",
       "      <td>1811</td>\n",
       "      <td>872</td>\n",
       "    </tr>\n",
       "  </tbody>\n",
       "</table>\n",
       "</div>"
      ],
      "text/plain": [
       "     event_name  event_count  user_count\n",
       "0         login         5922        2747\n",
       "1  product_page         3782        1780\n",
       "3  product_cart         1778         824\n",
       "2      purchase         1811         872"
      ]
     },
     "execution_count": 46,
     "metadata": {},
     "output_type": "execute_result"
    }
   ],
   "source": [
    "funnel_A"
   ]
  },
  {
   "cell_type": "code",
   "execution_count": 47,
   "id": "ced06789",
   "metadata": {},
   "outputs": [
    {
     "data": {
      "image/png": "[encoded data removed]"
     },
     "metadata": {},
     "output_type": "display_data"
    }
   ],
   "source": [
    "# строим воронку конверсии событий по группам\n",
    "\n",
    "fig = go.Figure()\n",
    "\n",
    "fig.add_trace(go.Funnel(\n",
    "    name = 'A',\n",
    "    y = funnel_A['event_name'],\n",
    "    x = funnel_A['user_count'],\n",
    "    opacity = 0.85, marker = {\"color\": [\"#3C79F5\", \"#3C79F5\", \"#3C79F5\", \"#3C79F5\"],\n",
    "    \"line\": {\"width\": [6, 4, 3, 2, 1], \"color\": [\"black\", \"black\", \"black\", \"black\"]}},\n",
    "    textinfo = \"value+percent initial\"))\n",
    "\n",
    "fig.add_trace(go.Funnel(\n",
    "    name = 'B',\n",
    "    orientation = \"h\",\n",
    "    y = funnel_B['event_name'],\n",
    "    x = funnel_B['user_count'],\n",
    "    opacity = 0.85, marker = {\"color\": [\"#FF884B\", \"#FF884B\", \"#FF884B\", \"#FF884B\"],\n",
    "    \"line\": {\"width\": [6, 4, 4, 2, 1], \"color\": [\"black\", \"black\", \"black\", \"black\"]}},\n",
    "    textposition = \"inside\",\n",
    "    textinfo = \"value+percent initial\"))\n",
    "\n",
    "fig.update_layout(title_text = 'Воронка конверсии событий по группам')\n",
    "fig.show(\"png\")"
   ]
  },
  {
   "cell_type": "markdown",
   "id": "7bd36265",
   "metadata": {},
   "source": [
    "## <p></p>\n",
    "<div style=\"border:solid black 4px; padding: 10px\">\n",
    "\n",
    "***Вывод***:\n",
    "\n",
    "До покупки доходят 30% пользователей группы А и 28% пользователей группы В.\n",
    "Меньше всего разница в конверсии между product_cart и purchase - добавлением товара в корзине и его покупкой (разница в 2% у группы А и у группы В нет разницы)\n",
    "Больше всего падает коверсия между login и product_page уровнями - логином и просмотром страницы товара (-35% у группы А и -46% у группы В)\n",
    "    \n",
    "</div>"
   ]
  },
  {
   "cell_type": "markdown",
   "id": "b1fe31a8",
   "metadata": {},
   "source": [
    "## A/B - тестирование"
   ]
  },
  {
   "cell_type": "markdown",
   "id": "cb85d4d1",
   "metadata": {},
   "source": [
    "### Изменение метрик за 14 дней с момента регистрации пользователя"
   ]
  },
  {
   "cell_type": "code",
   "execution_count": 48,
   "id": "3b695f2a",
   "metadata": {},
   "outputs": [],
   "source": [
    "# еще раз преобразуем event_dt к datetime. т.к. тип снова поменялся на object\n",
    "recom_users_ab['event_dt'] = pd.to_datetime(recom_users_ab['event_dt'])"
   ]
  },
  {
   "cell_type": "code",
   "execution_count": 49,
   "id": "7b468e3c",
   "metadata": {},
   "outputs": [
    {
     "data": {
      "text/html": [
       "<div>\n",
       "<style scoped>\n",
       "    .dataframe tbody tr th:only-of-type {\n",
       "        vertical-align: middle;\n",
       "    }\n",
       "\n",
       "    .dataframe tbody tr th {\n",
       "        vertical-align: top;\n",
       "    }\n",
       "\n",
       "    .dataframe thead th {\n",
       "        text-align: right;\n",
       "    }\n",
       "</style>\n",
       "<table border=\"1\" class=\"dataframe\">\n",
       "  <thead>\n",
       "    <tr style=\"text-align: right;\">\n",
       "      <th></th>\n",
       "      <th>user_id</th>\n",
       "      <th>first_date</th>\n",
       "      <th>region</th>\n",
       "      <th>device</th>\n",
       "      <th>group</th>\n",
       "      <th>ab_test</th>\n",
       "      <th>event_dt</th>\n",
       "      <th>event_name</th>\n",
       "      <th>details</th>\n",
       "      <th>lifetime</th>\n",
       "    </tr>\n",
       "  </thead>\n",
       "  <tbody>\n",
       "    <tr>\n",
       "      <th>0</th>\n",
       "      <td>D72A72121175D8BE</td>\n",
       "      <td>2020-12-07</td>\n",
       "      <td>EU</td>\n",
       "      <td>PC</td>\n",
       "      <td>A</td>\n",
       "      <td>recommender_system_test</td>\n",
       "      <td>2020-12-07</td>\n",
       "      <td>product_page</td>\n",
       "      <td>NaN</td>\n",
       "      <td>0</td>\n",
       "    </tr>\n",
       "    <tr>\n",
       "      <th>1</th>\n",
       "      <td>D72A72121175D8BE</td>\n",
       "      <td>2020-12-07</td>\n",
       "      <td>EU</td>\n",
       "      <td>PC</td>\n",
       "      <td>A</td>\n",
       "      <td>recommender_system_test</td>\n",
       "      <td>2020-12-07</td>\n",
       "      <td>login</td>\n",
       "      <td>NaN</td>\n",
       "      <td>0</td>\n",
       "    </tr>\n",
       "    <tr>\n",
       "      <th>3</th>\n",
       "      <td>DD4352CDCF8C3D57</td>\n",
       "      <td>2020-12-07</td>\n",
       "      <td>EU</td>\n",
       "      <td>Android</td>\n",
       "      <td>B</td>\n",
       "      <td>recommender_system_test</td>\n",
       "      <td>2020-12-07</td>\n",
       "      <td>product_page</td>\n",
       "      <td>NaN</td>\n",
       "      <td>0</td>\n",
       "    </tr>\n",
       "    <tr>\n",
       "      <th>4</th>\n",
       "      <td>DD4352CDCF8C3D57</td>\n",
       "      <td>2020-12-07</td>\n",
       "      <td>EU</td>\n",
       "      <td>Android</td>\n",
       "      <td>B</td>\n",
       "      <td>recommender_system_test</td>\n",
       "      <td>2020-12-08</td>\n",
       "      <td>product_page</td>\n",
       "      <td>NaN</td>\n",
       "      <td>1</td>\n",
       "    </tr>\n",
       "    <tr>\n",
       "      <th>5</th>\n",
       "      <td>DD4352CDCF8C3D57</td>\n",
       "      <td>2020-12-07</td>\n",
       "      <td>EU</td>\n",
       "      <td>Android</td>\n",
       "      <td>B</td>\n",
       "      <td>recommender_system_test</td>\n",
       "      <td>2020-12-10</td>\n",
       "      <td>product_page</td>\n",
       "      <td>NaN</td>\n",
       "      <td>3</td>\n",
       "    </tr>\n",
       "  </tbody>\n",
       "</table>\n",
       "</div>"
      ],
      "text/plain": [
       "            user_id first_date region   device group                  ab_test  \\\n",
       "0  D72A72121175D8BE 2020-12-07     EU       PC     A  recommender_system_test   \n",
       "1  D72A72121175D8BE 2020-12-07     EU       PC     A  recommender_system_test   \n",
       "3  DD4352CDCF8C3D57 2020-12-07     EU  Android     B  recommender_system_test   \n",
       "4  DD4352CDCF8C3D57 2020-12-07     EU  Android     B  recommender_system_test   \n",
       "5  DD4352CDCF8C3D57 2020-12-07     EU  Android     B  recommender_system_test   \n",
       "\n",
       "    event_dt    event_name  details  lifetime  \n",
       "0 2020-12-07  product_page      NaN         0  \n",
       "1 2020-12-07         login      NaN         0  \n",
       "3 2020-12-07  product_page      NaN         0  \n",
       "4 2020-12-08  product_page      NaN         1  \n",
       "5 2020-12-10  product_page      NaN         3  "
      ]
     },
     "execution_count": 49,
     "metadata": {},
     "output_type": "execute_result"
    }
   ],
   "source": [
    "recom_users_ab.head()"
   ]
  },
  {
   "cell_type": "code",
   "execution_count": 50,
   "id": "781c4312",
   "metadata": {},
   "outputs": [
    {
     "data": {
      "text/html": [
       "<div>\n",
       "<style scoped>\n",
       "    .dataframe tbody tr th:only-of-type {\n",
       "        vertical-align: middle;\n",
       "    }\n",
       "\n",
       "    .dataframe tbody tr th {\n",
       "        vertical-align: top;\n",
       "    }\n",
       "\n",
       "    .dataframe thead th {\n",
       "        text-align: right;\n",
       "    }\n",
       "</style>\n",
       "<table border=\"1\" class=\"dataframe\">\n",
       "  <thead>\n",
       "    <tr style=\"text-align: right;\">\n",
       "      <th></th>\n",
       "      <th>lifetime</th>\n",
       "      <th>group</th>\n",
       "      <th>event_name</th>\n",
       "      <th>events_count</th>\n",
       "    </tr>\n",
       "  </thead>\n",
       "  <tbody>\n",
       "    <tr>\n",
       "      <th>0</th>\n",
       "      <td>0</td>\n",
       "      <td>A</td>\n",
       "      <td>login</td>\n",
       "      <td>2738</td>\n",
       "    </tr>\n",
       "    <tr>\n",
       "      <th>1</th>\n",
       "      <td>0</td>\n",
       "      <td>A</td>\n",
       "      <td>product_cart</td>\n",
       "      <td>823</td>\n",
       "    </tr>\n",
       "    <tr>\n",
       "      <th>2</th>\n",
       "      <td>0</td>\n",
       "      <td>A</td>\n",
       "      <td>product_page</td>\n",
       "      <td>1777</td>\n",
       "    </tr>\n",
       "    <tr>\n",
       "      <th>3</th>\n",
       "      <td>0</td>\n",
       "      <td>A</td>\n",
       "      <td>purchase</td>\n",
       "      <td>869</td>\n",
       "    </tr>\n",
       "    <tr>\n",
       "      <th>4</th>\n",
       "      <td>0</td>\n",
       "      <td>B</td>\n",
       "      <td>login</td>\n",
       "      <td>911</td>\n",
       "    </tr>\n",
       "  </tbody>\n",
       "</table>\n",
       "</div>"
      ],
      "text/plain": [
       "   lifetime group    event_name  events_count\n",
       "0         0     A         login          2738\n",
       "1         0     A  product_cart           823\n",
       "2         0     A  product_page          1777\n",
       "3         0     A      purchase           869\n",
       "4         0     B         login           911"
      ]
     },
     "execution_count": 50,
     "metadata": {},
     "output_type": "execute_result"
    }
   ],
   "source": [
    "#создаем табличку по столбцам 'lifetime', 'group', 'event_name' и с кол-вом событий\n",
    "conversion = (recom_users_ab.groupby(['lifetime', 'group', 'event_name'], as_index=False)['user_id'].count()\n",
    "                  .rename(columns={'user_id':'events_count'}))\n",
    "conversion.head()"
   ]
  },
  {
   "cell_type": "code",
   "execution_count": 51,
   "id": "4a5b0327",
   "metadata": {},
   "outputs": [],
   "source": [
    "# создаем датафрейм с событиями product_page\n",
    "product_pages = conversion.query('event_name == \"product_page\"')\n",
    "# добавляем расчёт cumsum от количества событий\n",
    "product_pages['events_cumsum'] = product_pages.groupby('group')['events_count'].cumsum()\n",
    "\n",
    "# расчёт роста количества событий типа product_page для двух групп за 14 дней лайфтайма\n",
    "a_product_pages = round((product_pages.iloc[-2]['events_cumsum'] - product_pages.iloc[0]['events_cumsum']) \n",
    "                        / product_pages.iloc[0]['events_cumsum'], 3) \n",
    "b_product_pages = round((product_pages.iloc[-1]['events_cumsum'] - product_pages.iloc[1]['events_cumsum']) \n",
    "                        / product_pages.iloc[1]['events_cumsum'], 3) "
   ]
  },
  {
   "cell_type": "code",
   "execution_count": 52,
   "id": "e41b4e84",
   "metadata": {},
   "outputs": [],
   "source": [
    "# аналогичные действия для события product_cart\n",
    "\n",
    "product_carts = conversion.query('event_name == \"product_cart\"')\n",
    "product_carts['events_cumsum'] = product_carts.groupby('group')['events_count'].cumsum()\n",
    "\n",
    "#расчёт роста количества событий типа product_cart для двух групп за 14 дней лайфтайма\n",
    "a_product_carts = round((product_carts.iloc[-2]['events_cumsum'] - product_carts.iloc[0]['events_cumsum']) \n",
    "                        / product_carts.iloc[0]['events_cumsum'], 3) \n",
    "b_product_carts = round((product_carts.iloc[-1]['events_cumsum'] - product_carts.iloc[1]['events_cumsum']) \n",
    "                        / product_carts.iloc[1]['events_cumsum'], 3)"
   ]
  },
  {
   "cell_type": "code",
   "execution_count": 53,
   "id": "0f642356",
   "metadata": {},
   "outputs": [],
   "source": [
    "# аналогичные действия для события purchases\n",
    "\n",
    "#датафрейм только с событиями типа purchases\n",
    "purchases = conversion.query('event_name == \"purchase\"')\n",
    "purchases['events_cumsum'] = purchases.groupby('group')['events_count'].cumsum()\n",
    "\n",
    "#расчёт роста количества событий типа purchases для двух групп за 14 дней лайфтайма\n",
    "a_purchases = round((purchases.iloc[-2]['events_cumsum'] - purchases.iloc[0]['events_cumsum']) \n",
    "                     / purchases.iloc[0]['events_cumsum'], 3) \n",
    "b_purchases = round((purchases.iloc[-1]['events_cumsum'] - purchases.iloc[1]['events_cumsum']) \n",
    "                    / purchases.iloc[1]['events_cumsum'], 3)"
   ]
  },
  {
   "cell_type": "code",
   "execution_count": 54,
   "id": "a12e9325",
   "metadata": {},
   "outputs": [
    {
     "name": "stdout",
     "output_type": "stream",
     "text": [
      "Группа А - просмотр страницы товара: 1.128\n",
      "Группа B - просмотр страницы товара: 1.2\n",
      "\n",
      "---------------------------------------------------------------------------------------------------------\n",
      "Группа A - добавление товара в корзину: 1.16\n",
      "Группа B - добавление товара в корзину: 1.268\n",
      "\n",
      "---------------------------------------------------------------------------------------------------------\n",
      "Группа А - покупки: 1.084\n",
      "Группа B - покупки: 1.123\n"
     ]
    }
   ],
   "source": [
    "# выводим получившиеся рез-ты\n",
    "\n",
    "print(\"Группа А - просмотр страницы товара:\", a_product_pages)\n",
    "print(\"Группа B - просмотр страницы товара:\", b_product_pages, end='\\n\\n')\n",
    "print('---------------------------------------------------------------------------------------------------------')\n",
    "print(\"Группа A - добавление товара в корзину:\", a_product_carts)\n",
    "print(\"Группа B - добавление товара в корзину:\", b_product_carts, end='\\n\\n')\n",
    "print('---------------------------------------------------------------------------------------------------------')\n",
    "print(\"Группа А - покупки:\", a_purchases)\n",
    "print(\"Группа B - покупки:\", b_purchases)"
   ]
  },
  {
   "cell_type": "markdown",
   "id": "35d37a50",
   "metadata": {},
   "source": [
    "<p></p>\n",
    "<div style=\"border:solid black 4px; padding: 10px\">\n",
    "\n",
    "***Вывод***:\n",
    "\n",
    "За 2 недели лайфтайма пользователя группа А опережает группу В.\n",
    "\n",
    "Просмотр страницы товара, рост за 2 недели с момента регистрации пользователя:\n",
    "- Группа А - рост на 12,8%\n",
    "- Группа B - рост на 20%\n",
    "\n",
    "Добавление товара в корзину, рост за 2 недели с момента регистрации пользователя:\n",
    "- Группа А - рост на 16%\n",
    "- Группа B - рост на 26,8%\n",
    "\n",
    "Покупка товара, рост за 2 недели с момента регистрации пользователя:\n",
    "- Группа А - рост на 8,4 %\n",
    "- Группа B - рост на 12,3%\n",
    "    \n",
    "</div>"
   ]
  },
  {
   "cell_type": "markdown",
   "id": "37c7af31",
   "metadata": {},
   "source": [
    "## Проверка статистической разницы долей z-критерием"
   ]
  },
  {
   "cell_type": "markdown",
   "id": "8cb5af38",
   "metadata": {},
   "source": [
    "*Проведем сравнение пропорций для основных метрик - product_page, product_cart и purchase с помощью z-критерия.*\n",
    "\n",
    "***Нулевая гипотеза:*** Доли значений метрик в группах равны\n",
    "\n",
    "***Альтернативная гипотеза:*** Доли значений метрик в группах не равны\n",
    "\n",
    "***Критический уровень значимости (альфа):*** Будем рассчитывать с помощью ***поправки Бонферрони***, так как мы будем проводить множественные тесты на одинаковом наборе данных (без сбора новых наблюдений). Выберем альфа ***равное 0.05***, а с ***поправкой альфа будет равна 0.05 / 3 = 0.016***\n",
    "\n",
    "Т.к. количество пользователей в группах отличается, то будем проверять z-критерием количество событий на одного пользователя, чтобы компенсировать разницу по количеству пользователей в группах."
   ]
  },
  {
   "cell_type": "code",
   "execution_count": 55,
   "id": "73f5c868",
   "metadata": {},
   "outputs": [],
   "source": [
    "#таблица по lifetime, group, + количество событий\n",
    "users_count = (recom_users_ab.groupby(['lifetime','group'], as_index=False)['user_id'].nunique()\n",
    "               .rename(columns={'user_id':'users_count'}))\n",
    "\n",
    "#события типа product_page\n",
    "product_pages = product_pages.merge(users_count, on=['lifetime', 'group'])\n",
    "product_pages['event_by_user'] = product_pages['events_count'] / product_pages['users_count']\n",
    "\n",
    "#события типа product_cart\n",
    "product_carts = product_carts.merge(users_count, on=['lifetime', 'group'])\n",
    "product_carts['event_by_user'] = product_carts['events_count'] / product_carts['users_count']\n",
    "\n",
    "#события типа purchase\n",
    "purchases = purchases.merge(users_count, on=['lifetime', 'group'])\n",
    "purchases['event_by_user'] = purchases['events_count'] / purchases['users_count']"
   ]
  },
  {
   "cell_type": "code",
   "execution_count": 56,
   "id": "3eed0313",
   "metadata": {},
   "outputs": [
    {
     "name": "stdout",
     "output_type": "stream",
     "text": [
      "Тип события product_pages\n"
     ]
    },
    {
     "data": {
      "text/plain": [
       "group\n",
       "A    0.632933\n",
       "B    0.538362\n",
       "Name: event_by_user, dtype: float64"
      ]
     },
     "metadata": {},
     "output_type": "display_data"
    },
    {
     "name": "stdout",
     "output_type": "stream",
     "text": [
      "Тип события product_carts\n"
     ]
    },
    {
     "data": {
      "text/plain": [
       "group\n",
       "A    0.274869\n",
       "B    0.291066\n",
       "Name: event_by_user, dtype: float64"
      ]
     },
     "metadata": {},
     "output_type": "display_data"
    },
    {
     "name": "stdout",
     "output_type": "stream",
     "text": [
      "Тип события purchases\n"
     ]
    },
    {
     "data": {
      "text/plain": [
       "group\n",
       "A    0.272584\n",
       "B    0.263668\n",
       "Name: event_by_user, dtype: float64"
      ]
     },
     "metadata": {},
     "output_type": "display_data"
    }
   ],
   "source": [
    "# смотрим на средние значения ключевых метрик\n",
    "print('Тип события product_pages')\n",
    "display(product_pages.groupby('group')['event_by_user'].mean())\n",
    "print('Тип события product_carts')\n",
    "display(product_carts.groupby('group')['event_by_user'].mean())\n",
    "print('Тип события purchases')\n",
    "display(purchases.groupby('group')['event_by_user'].mean())"
   ]
  },
  {
   "cell_type": "markdown",
   "id": "6d25e3bb",
   "metadata": {},
   "source": [
    "***Можно заметить, что наибольшее отличие в количестве событий на пользователя для метрики product_pages, для остальных метрик разницы в значениях почти нет.***"
   ]
  },
  {
   "cell_type": "code",
   "execution_count": 57,
   "id": "d038b926",
   "metadata": {},
   "outputs": [],
   "source": [
    "# функция для расчета z-test\n",
    "def func_z_test(event):\n",
    "    z_test = ztest(event.query('group == \"A\"')['event_by_user'], \n",
    "                   event.query('group == \"B\"')['event_by_user'], value=0)[1]\n",
    "    print(\"p-value:\", z_test)"
   ]
  },
  {
   "cell_type": "code",
   "execution_count": 58,
   "id": "60abdbd9",
   "metadata": {},
   "outputs": [
    {
     "name": "stdout",
     "output_type": "stream",
     "text": [
      "p-value: 0.00044194877853921796\n"
     ]
    }
   ],
   "source": [
    "func_z_test(product_pages)"
   ]
  },
  {
   "cell_type": "code",
   "execution_count": 59,
   "id": "cb18badb",
   "metadata": {},
   "outputs": [
    {
     "name": "stdout",
     "output_type": "stream",
     "text": [
      "p-value: 0.45802870383641603\n"
     ]
    }
   ],
   "source": [
    "func_z_test(product_carts)"
   ]
  },
  {
   "cell_type": "code",
   "execution_count": 60,
   "id": "e3276a55",
   "metadata": {},
   "outputs": [
    {
     "name": "stdout",
     "output_type": "stream",
     "text": [
      "p-value: 0.7305785686680758\n"
     ]
    }
   ],
   "source": [
    "func_z_test(purchases)"
   ]
  },
  {
   "cell_type": "markdown",
   "id": "28a88349",
   "metadata": {},
   "source": [
    "<p></p>\n",
    "<div style=\"border:solid black 4px; padding: 10px\">\n",
    "\n",
    "***Вывод***:\n",
    "\n",
    "**Только по метрике - product_pages p-value оказался меньше, чем альфа. Для долей этой метрики есть значимая разница**. Для двух других метрик p-value меньше альфы; **между долями нет значимой разницы.**\n",
    "    \n",
    "</div>"
   ]
  },
  {
   "cell_type": "markdown",
   "id": "d6ae9db0",
   "metadata": {},
   "source": [
    "## Общий вывод:"
   ]
  },
  {
   "cell_type": "markdown",
   "id": "0529d75a",
   "metadata": {},
   "source": [
    "1. Первое, на что стоит обратить внимание - это то, что количество пользователей в группах А и В было разным. \n",
    "   - В группе А присутствует 3824 человека\n",
    "   - В группе В - 2877 человек \n",
    "Всего 6701 человек, группы делятся не равномерно - 57% (А) и 43% (В). На этапе анализа событий ситуация стала ещё хуже - в группе А 2747 человек (75%), в группе В 928 человек (25%). Данное обстоятельство уже значительно будет сказываться на тесте. Можно констатировать, что проведение теста по таким данным не является корректным. Однако, можно посмотреть результаты этого теста.\n",
    "\n",
    "2. Среднее количество событий login на одного клиента практически не различается между группами (A - 2.15, B - 2.21). По остальным событиям на одного пользователя группа А опережает группу В:\n",
    "   - Просмотр страницы товара (А - 1.37, B - 1.2)\n",
    "   - Добавление товара в корзину (А - 0.64, В - 0.61)\n",
    "   - Покупка (А - 0.65, В - 0.57)\n",
    "\n",
    "3. Пик событий приходится на 21 декабря (1995 в А и 404 событий в В). Только в первый день теста в группе В было больше событий, чем в группе А (378 против 331 события). В остальных днях группа А опережала группу В по количеству событий. С 14 декабря наблюдаем резкий рост количества событий для группы А.\n",
    "\n",
    "4. До покупки доходят 30% пользователей группы А и 28% пользователей группы В. Меньше всего разница в конверсии между product_cart и purchase - добавлением товара в корзине и его покупкой (разница в 2% у группы А и у группы В нет разницы). Больше всего падает коверсия между login и product_page уровнями - логином и просмотром страницы товара (-35% у группы А и -46% у группы В)\n",
    "\n",
    "5. Смотря на изменение ключевых метрик за 14 дней с момента регистрации пользователя можно утверждать, что за 2 недели лайфтайма пользователя группа А опережает группу В по росту всех основных метрик, хотя в некоторых случаях разница и не столь велика.\n",
    "\n",
    "6. Проверка гипотез о равенстве долей для основных метрик показала, что только по одному типу события - product_pages p-value оказался меньше, чем критический уровень значимости (альфа). Для долей этого события есть значимая разница. Для двух других метрик p-value меньше альфы, то есть между долями нет значимой разницы.\n",
    "\n",
    "Проведя тест получили, что группа А является лучшей из двух групп по показателям основных метрик. Однако, ***сам тест не является полностью корректным, поэтому не стоит полагаться на его результаты.***"
   ]
  }
 ],
 "metadata": {
  "ExecuteTimeLog": [
   {
    "duration": 1201,
    "start_time": "2023-02-19T01:09:38.366Z"
   },
   {
    "duration": 1465,
    "start_time": "2023-02-19T01:09:39.570Z"
   },
   {
    "duration": 25,
    "start_time": "2023-02-19T01:09:41.037Z"
   },
   {
    "duration": 5,
    "start_time": "2023-02-19T01:09:41.064Z"
   },
   {
    "duration": 74,
    "start_time": "2023-02-19T01:09:41.071Z"
   },
   {
    "duration": 475,
    "start_time": "2023-02-19T01:09:41.146Z"
   },
   {
    "duration": 132,
    "start_time": "2023-02-19T01:09:41.622Z"
   },
   {
    "duration": 61,
    "start_time": "2023-02-19T01:09:41.755Z"
   },
   {
    "duration": 111,
    "start_time": "2023-02-19T01:09:41.817Z"
   },
   {
    "duration": 8,
    "start_time": "2023-02-19T01:09:41.931Z"
   },
   {
    "duration": 7,
    "start_time": "2023-02-19T01:09:41.941Z"
   },
   {
    "duration": 75,
    "start_time": "2023-02-19T01:09:41.950Z"
   },
   {
    "duration": 8,
    "start_time": "2023-02-19T01:09:42.027Z"
   },
   {
    "duration": 12,
    "start_time": "2023-02-19T01:09:42.037Z"
   },
   {
    "duration": 18,
    "start_time": "2023-02-19T01:09:42.051Z"
   },
   {
    "duration": 23,
    "start_time": "2023-02-19T01:09:42.071Z"
   },
   {
    "duration": 6,
    "start_time": "2023-02-19T01:09:42.096Z"
   },
   {
    "duration": 26,
    "start_time": "2023-02-19T01:09:42.104Z"
   },
   {
    "duration": 18,
    "start_time": "2023-02-19T01:09:42.132Z"
   },
   {
    "duration": 15,
    "start_time": "2023-02-19T01:09:42.152Z"
   },
   {
    "duration": 28,
    "start_time": "2023-02-19T01:09:42.168Z"
   },
   {
    "duration": 11,
    "start_time": "2023-02-19T01:09:42.198Z"
   },
   {
    "duration": 199,
    "start_time": "2023-02-19T01:09:42.210Z"
   },
   {
    "duration": 3,
    "start_time": "2023-02-19T01:09:42.411Z"
   },
   {
    "duration": 11,
    "start_time": "2023-02-19T01:09:42.415Z"
   },
   {
    "duration": 674,
    "start_time": "2023-02-19T01:09:42.428Z"
   },
   {
    "duration": 13,
    "start_time": "2023-02-19T01:09:43.103Z"
   },
   {
    "duration": 75,
    "start_time": "2023-02-19T01:09:43.119Z"
   },
   {
    "duration": 125,
    "start_time": "2023-02-19T01:09:43.196Z"
   },
   {
    "duration": 21,
    "start_time": "2023-02-19T01:09:43.323Z"
   },
   {
    "duration": 81,
    "start_time": "2023-02-19T01:09:43.346Z"
   },
   {
    "duration": 19,
    "start_time": "2023-02-19T01:09:43.430Z"
   },
   {
    "duration": 8,
    "start_time": "2023-02-19T01:09:43.451Z"
   },
   {
    "duration": 37,
    "start_time": "2023-02-19T01:09:43.461Z"
   },
   {
    "duration": 12,
    "start_time": "2023-02-19T01:09:43.499Z"
   },
   {
    "duration": 20,
    "start_time": "2023-02-19T01:09:43.513Z"
   },
   {
    "duration": 9,
    "start_time": "2023-02-19T01:09:43.535Z"
   },
   {
    "duration": 9,
    "start_time": "2023-02-19T01:09:43.546Z"
   },
   {
    "duration": 35,
    "start_time": "2023-02-19T01:09:43.557Z"
   },
   {
    "duration": 8,
    "start_time": "2023-02-19T01:09:43.594Z"
   },
   {
    "duration": 38,
    "start_time": "2023-02-19T01:09:43.604Z"
   },
   {
    "duration": 16,
    "start_time": "2023-02-19T01:09:43.645Z"
   },
   {
    "duration": 46,
    "start_time": "2023-02-19T01:09:43.663Z"
   },
   {
    "duration": 4,
    "start_time": "2023-02-19T01:09:43.711Z"
   },
   {
    "duration": 11,
    "start_time": "2023-02-19T01:09:43.716Z"
   },
   {
    "duration": 16,
    "start_time": "2023-02-19T01:09:43.729Z"
   },
   {
    "duration": 9,
    "start_time": "2023-02-19T01:09:43.747Z"
   },
   {
    "duration": 9,
    "start_time": "2023-02-19T01:17:06.120Z"
   },
   {
    "duration": 27,
    "start_time": "2023-02-19T01:17:09.187Z"
   },
   {
    "duration": 4,
    "start_time": "2023-02-19T01:19:02.093Z"
   },
   {
    "duration": 15,
    "start_time": "2023-02-19T01:19:03.273Z"
   },
   {
    "duration": 3,
    "start_time": "2023-02-19T01:19:07.713Z"
   },
   {
    "duration": 7,
    "start_time": "2023-02-19T01:19:08.933Z"
   },
   {
    "duration": 904,
    "start_time": "2023-02-20T12:13:21.134Z"
   },
   {
    "duration": 1269,
    "start_time": "2023-02-20T12:13:22.039Z"
   },
   {
    "duration": 29,
    "start_time": "2023-02-20T12:13:23.310Z"
   },
   {
    "duration": 5,
    "start_time": "2023-02-20T12:13:23.341Z"
   },
   {
    "duration": 318,
    "start_time": "2023-02-20T12:13:23.347Z"
   },
   {
    "duration": 506,
    "start_time": "2023-02-20T12:13:23.666Z"
   },
   {
    "duration": 155,
    "start_time": "2023-02-20T12:13:24.175Z"
   },
   {
    "duration": 74,
    "start_time": "2023-02-20T12:13:24.331Z"
   },
   {
    "duration": 108,
    "start_time": "2023-02-20T12:13:24.407Z"
   },
   {
    "duration": 9,
    "start_time": "2023-02-20T12:13:24.517Z"
   },
   {
    "duration": 10,
    "start_time": "2023-02-20T12:13:24.527Z"
   },
   {
    "duration": 75,
    "start_time": "2023-02-20T12:13:24.539Z"
   },
   {
    "duration": 11,
    "start_time": "2023-02-20T12:13:24.616Z"
   },
   {
    "duration": 12,
    "start_time": "2023-02-20T12:13:24.628Z"
   },
   {
    "duration": 7,
    "start_time": "2023-02-20T12:13:24.642Z"
   },
   {
    "duration": 10,
    "start_time": "2023-02-20T12:13:24.651Z"
   },
   {
    "duration": 6,
    "start_time": "2023-02-20T12:13:24.662Z"
   },
   {
    "duration": 35,
    "start_time": "2023-02-20T12:13:24.670Z"
   },
   {
    "duration": 7,
    "start_time": "2023-02-20T12:13:24.707Z"
   },
   {
    "duration": 10,
    "start_time": "2023-02-20T12:13:24.715Z"
   },
   {
    "duration": 12,
    "start_time": "2023-02-20T12:13:24.727Z"
   },
   {
    "duration": 14,
    "start_time": "2023-02-20T12:13:24.741Z"
   },
   {
    "duration": 42,
    "start_time": "2023-02-20T12:13:24.757Z"
   },
   {
    "duration": 14,
    "start_time": "2023-02-20T12:13:24.801Z"
   },
   {
    "duration": 7,
    "start_time": "2023-02-20T12:13:24.817Z"
   },
   {
    "duration": 7,
    "start_time": "2023-02-20T12:13:24.826Z"
   },
   {
    "duration": 170,
    "start_time": "2023-02-20T12:13:24.835Z"
   },
   {
    "duration": 28,
    "start_time": "2023-02-20T12:13:25.008Z"
   },
   {
    "duration": 5,
    "start_time": "2023-02-20T12:13:25.037Z"
   },
   {
    "duration": 78,
    "start_time": "2023-02-20T12:13:25.043Z"
   },
   {
    "duration": 3,
    "start_time": "2023-02-20T12:13:25.123Z"
   },
   {
    "duration": 12,
    "start_time": "2023-02-20T12:13:25.127Z"
   },
   {
    "duration": 814,
    "start_time": "2023-02-20T12:13:25.140Z"
   },
   {
    "duration": 44,
    "start_time": "2023-02-20T12:13:25.956Z"
   },
   {
    "duration": 23,
    "start_time": "2023-02-20T12:13:26.002Z"
   },
   {
    "duration": 78,
    "start_time": "2023-02-20T12:13:26.026Z"
   },
   {
    "duration": 18,
    "start_time": "2023-02-20T12:13:26.106Z"
   },
   {
    "duration": 77,
    "start_time": "2023-02-20T12:13:26.125Z"
   },
   {
    "duration": 20,
    "start_time": "2023-02-20T12:13:26.204Z"
   },
   {
    "duration": 26,
    "start_time": "2023-02-20T12:13:26.226Z"
   },
   {
    "duration": 21,
    "start_time": "2023-02-20T12:13:26.253Z"
   },
   {
    "duration": 26,
    "start_time": "2023-02-20T12:13:26.276Z"
   },
   {
    "duration": 10,
    "start_time": "2023-02-20T12:13:26.303Z"
   },
   {
    "duration": 17,
    "start_time": "2023-02-20T12:13:26.315Z"
   },
   {
    "duration": 13,
    "start_time": "2023-02-20T12:13:26.334Z"
   },
   {
    "duration": 12,
    "start_time": "2023-02-20T12:13:26.349Z"
   },
   {
    "duration": 39,
    "start_time": "2023-02-20T12:13:26.363Z"
   },
   {
    "duration": 18,
    "start_time": "2023-02-20T12:13:26.404Z"
   },
   {
    "duration": 4,
    "start_time": "2023-02-20T12:13:26.424Z"
   },
   {
    "duration": 17,
    "start_time": "2023-02-20T12:13:26.429Z"
   },
   {
    "duration": 11,
    "start_time": "2023-02-20T12:13:26.448Z"
   },
   {
    "duration": 14,
    "start_time": "2023-02-20T12:13:26.461Z"
   },
   {
    "duration": 987,
    "start_time": "2023-02-20T12:43:10.844Z"
   },
   {
    "duration": 1422,
    "start_time": "2023-02-20T12:43:11.833Z"
   },
   {
    "duration": 29,
    "start_time": "2023-02-20T12:43:13.257Z"
   },
   {
    "duration": 6,
    "start_time": "2023-02-20T12:43:13.288Z"
   },
   {
    "duration": 478,
    "start_time": "2023-02-20T12:43:13.295Z"
   },
   {
    "duration": 491,
    "start_time": "2023-02-20T12:43:13.775Z"
   },
   {
    "duration": 149,
    "start_time": "2023-02-20T12:43:14.268Z"
   },
   {
    "duration": 77,
    "start_time": "2023-02-20T12:43:14.418Z"
   },
   {
    "duration": 128,
    "start_time": "2023-02-20T12:43:14.497Z"
   },
   {
    "duration": 8,
    "start_time": "2023-02-20T12:43:14.628Z"
   },
   {
    "duration": 8,
    "start_time": "2023-02-20T12:43:14.637Z"
   },
   {
    "duration": 83,
    "start_time": "2023-02-20T12:43:14.646Z"
   },
   {
    "duration": 8,
    "start_time": "2023-02-20T12:43:14.730Z"
   },
   {
    "duration": 8,
    "start_time": "2023-02-20T12:43:14.740Z"
   },
   {
    "duration": 24,
    "start_time": "2023-02-20T12:43:14.750Z"
   },
   {
    "duration": 13,
    "start_time": "2023-02-20T12:43:14.775Z"
   },
   {
    "duration": 6,
    "start_time": "2023-02-20T12:43:14.790Z"
   },
   {
    "duration": 19,
    "start_time": "2023-02-20T12:43:14.798Z"
   },
   {
    "duration": 6,
    "start_time": "2023-02-20T12:43:14.818Z"
   },
   {
    "duration": 8,
    "start_time": "2023-02-20T12:43:14.825Z"
   },
   {
    "duration": 12,
    "start_time": "2023-02-20T12:43:14.835Z"
   },
   {
    "duration": 26,
    "start_time": "2023-02-20T12:43:14.848Z"
   },
   {
    "duration": 27,
    "start_time": "2023-02-20T12:43:14.875Z"
   },
   {
    "duration": 15,
    "start_time": "2023-02-20T12:43:14.903Z"
   },
   {
    "duration": 16,
    "start_time": "2023-02-20T12:43:14.920Z"
   },
   {
    "duration": 15,
    "start_time": "2023-02-20T12:43:14.938Z"
   },
   {
    "duration": 164,
    "start_time": "2023-02-20T12:43:14.955Z"
   },
   {
    "duration": 28,
    "start_time": "2023-02-20T12:43:15.123Z"
   },
   {
    "duration": 4,
    "start_time": "2023-02-20T12:43:15.152Z"
   },
   {
    "duration": 74,
    "start_time": "2023-02-20T12:43:15.158Z"
   },
   {
    "duration": 4,
    "start_time": "2023-02-20T12:43:15.234Z"
   },
   {
    "duration": 17,
    "start_time": "2023-02-20T12:43:15.239Z"
   },
   {
    "duration": 505,
    "start_time": "2023-02-20T12:43:15.257Z"
   },
   {
    "duration": 32,
    "start_time": "2023-02-20T12:43:15.764Z"
   },
   {
    "duration": 25,
    "start_time": "2023-02-20T12:43:15.798Z"
   },
   {
    "duration": 106,
    "start_time": "2023-02-20T12:43:15.824Z"
   },
   {
    "duration": 18,
    "start_time": "2023-02-20T12:43:15.932Z"
   },
   {
    "duration": 76,
    "start_time": "2023-02-20T12:43:15.952Z"
   },
   {
    "duration": 20,
    "start_time": "2023-02-20T12:43:16.030Z"
   },
   {
    "duration": 8,
    "start_time": "2023-02-20T12:43:16.051Z"
   },
   {
    "duration": 36,
    "start_time": "2023-02-20T12:43:16.060Z"
   },
   {
    "duration": 22,
    "start_time": "2023-02-20T12:43:16.098Z"
   },
   {
    "duration": 9,
    "start_time": "2023-02-20T12:43:16.122Z"
   },
   {
    "duration": 22,
    "start_time": "2023-02-20T12:43:16.132Z"
   },
   {
    "duration": 14,
    "start_time": "2023-02-20T12:43:16.156Z"
   },
   {
    "duration": 11,
    "start_time": "2023-02-20T12:43:16.172Z"
   },
   {
    "duration": 29,
    "start_time": "2023-02-20T12:43:16.185Z"
   },
   {
    "duration": 13,
    "start_time": "2023-02-20T12:43:16.216Z"
   },
   {
    "duration": 5,
    "start_time": "2023-02-20T12:43:16.230Z"
   },
   {
    "duration": 16,
    "start_time": "2023-02-20T12:43:16.236Z"
   },
   {
    "duration": 17,
    "start_time": "2023-02-20T12:43:16.253Z"
   },
   {
    "duration": 27,
    "start_time": "2023-02-20T12:43:16.271Z"
   },
   {
    "duration": 969,
    "start_time": "2023-02-20T22:58:11.120Z"
   },
   {
    "duration": 3676,
    "start_time": "2023-02-20T22:58:12.091Z"
   },
   {
    "duration": 32,
    "start_time": "2023-02-20T22:58:15.768Z"
   },
   {
    "duration": 6,
    "start_time": "2023-02-20T22:58:15.801Z"
   },
   {
    "duration": 326,
    "start_time": "2023-02-20T22:58:15.809Z"
   },
   {
    "duration": 513,
    "start_time": "2023-02-20T22:58:16.138Z"
   },
   {
    "duration": 134,
    "start_time": "2023-02-20T22:58:16.653Z"
   },
   {
    "duration": 63,
    "start_time": "2023-02-20T22:58:16.789Z"
   },
   {
    "duration": 123,
    "start_time": "2023-02-20T22:58:16.853Z"
   },
   {
    "duration": 8,
    "start_time": "2023-02-20T22:58:16.978Z"
   },
   {
    "duration": 9,
    "start_time": "2023-02-20T22:58:16.987Z"
   },
   {
    "duration": 77,
    "start_time": "2023-02-20T22:58:16.997Z"
   },
   {
    "duration": 8,
    "start_time": "2023-02-20T22:58:17.076Z"
   },
   {
    "duration": 12,
    "start_time": "2023-02-20T22:58:17.087Z"
   },
   {
    "duration": 6,
    "start_time": "2023-02-20T22:58:17.100Z"
   },
   {
    "duration": 20,
    "start_time": "2023-02-20T22:58:17.107Z"
   },
   {
    "duration": 5,
    "start_time": "2023-02-20T22:58:17.128Z"
   },
   {
    "duration": 12,
    "start_time": "2023-02-20T22:58:17.134Z"
   },
   {
    "duration": 5,
    "start_time": "2023-02-20T22:58:17.148Z"
   },
   {
    "duration": 6,
    "start_time": "2023-02-20T22:58:17.155Z"
   },
   {
    "duration": 13,
    "start_time": "2023-02-20T22:58:17.163Z"
   },
   {
    "duration": 54,
    "start_time": "2023-02-20T22:58:17.177Z"
   },
   {
    "duration": 13,
    "start_time": "2023-02-20T22:58:17.233Z"
   },
   {
    "duration": 16,
    "start_time": "2023-02-20T22:58:17.248Z"
   },
   {
    "duration": 8,
    "start_time": "2023-02-20T22:58:17.267Z"
   },
   {
    "duration": 9,
    "start_time": "2023-02-20T22:58:17.276Z"
   },
   {
    "duration": 176,
    "start_time": "2023-02-20T22:58:17.287Z"
   },
   {
    "duration": 29,
    "start_time": "2023-02-20T22:58:17.465Z"
   },
   {
    "duration": 4,
    "start_time": "2023-02-20T22:58:17.496Z"
   },
   {
    "duration": 38,
    "start_time": "2023-02-20T22:58:17.501Z"
   },
   {
    "duration": 27,
    "start_time": "2023-02-20T22:58:17.541Z"
   },
   {
    "duration": 635,
    "start_time": "2023-02-20T22:58:17.569Z"
   },
   {
    "duration": 4,
    "start_time": "2023-02-20T22:58:18.205Z"
   },
   {
    "duration": 55,
    "start_time": "2023-02-20T22:58:18.210Z"
   },
   {
    "duration": 4,
    "start_time": "2023-02-20T22:58:18.267Z"
   },
   {
    "duration": 68,
    "start_time": "2023-02-20T22:58:18.272Z"
   },
   {
    "duration": 208,
    "start_time": "2023-02-20T22:58:18.341Z"
   },
   {
    "duration": 13,
    "start_time": "2023-02-20T22:58:18.550Z"
   },
   {
    "duration": 22,
    "start_time": "2023-02-20T22:58:18.565Z"
   },
   {
    "duration": 87,
    "start_time": "2023-02-20T22:58:18.589Z"
   },
   {
    "duration": 18,
    "start_time": "2023-02-20T22:58:18.679Z"
   },
   {
    "duration": 65,
    "start_time": "2023-02-20T22:58:18.698Z"
   },
   {
    "duration": 18,
    "start_time": "2023-02-20T22:58:18.765Z"
   },
   {
    "duration": 7,
    "start_time": "2023-02-20T22:58:18.785Z"
   },
   {
    "duration": 35,
    "start_time": "2023-02-20T22:58:18.794Z"
   },
   {
    "duration": 17,
    "start_time": "2023-02-20T22:58:18.830Z"
   },
   {
    "duration": 11,
    "start_time": "2023-02-20T22:58:18.849Z"
   },
   {
    "duration": 11,
    "start_time": "2023-02-20T22:58:18.862Z"
   },
   {
    "duration": 9,
    "start_time": "2023-02-20T22:58:18.874Z"
   },
   {
    "duration": 9,
    "start_time": "2023-02-20T22:58:18.885Z"
   },
   {
    "duration": 48,
    "start_time": "2023-02-20T22:58:18.895Z"
   },
   {
    "duration": 14,
    "start_time": "2023-02-20T22:58:18.945Z"
   },
   {
    "duration": 3,
    "start_time": "2023-02-20T22:58:18.960Z"
   },
   {
    "duration": 12,
    "start_time": "2023-02-20T22:58:18.965Z"
   },
   {
    "duration": 10,
    "start_time": "2023-02-20T22:58:18.979Z"
   },
   {
    "duration": 37,
    "start_time": "2023-02-20T22:58:18.990Z"
   },
   {
    "duration": 895,
    "start_time": "2023-02-20T23:54:13.675Z"
   },
   {
    "duration": 1815,
    "start_time": "2023-02-20T23:54:14.572Z"
   },
   {
    "duration": 34,
    "start_time": "2023-02-20T23:54:16.389Z"
   },
   {
    "duration": 6,
    "start_time": "2023-02-20T23:54:16.425Z"
   },
   {
    "duration": 330,
    "start_time": "2023-02-20T23:54:16.433Z"
   },
   {
    "duration": 474,
    "start_time": "2023-02-20T23:54:16.764Z"
   },
   {
    "duration": 138,
    "start_time": "2023-02-20T23:54:17.240Z"
   },
   {
    "duration": 65,
    "start_time": "2023-02-20T23:54:17.379Z"
   },
   {
    "duration": 116,
    "start_time": "2023-02-20T23:54:17.446Z"
   },
   {
    "duration": 8,
    "start_time": "2023-02-20T23:54:17.565Z"
   },
   {
    "duration": 7,
    "start_time": "2023-02-20T23:54:17.575Z"
   },
   {
    "duration": 84,
    "start_time": "2023-02-20T23:54:17.584Z"
   },
   {
    "duration": 11,
    "start_time": "2023-02-20T23:54:17.669Z"
   },
   {
    "duration": 10,
    "start_time": "2023-02-20T23:54:17.682Z"
   },
   {
    "duration": 7,
    "start_time": "2023-02-20T23:54:17.694Z"
   },
   {
    "duration": 24,
    "start_time": "2023-02-20T23:54:17.703Z"
   },
   {
    "duration": 5,
    "start_time": "2023-02-20T23:54:17.729Z"
   },
   {
    "duration": 14,
    "start_time": "2023-02-20T23:54:17.735Z"
   },
   {
    "duration": 6,
    "start_time": "2023-02-20T23:54:17.751Z"
   },
   {
    "duration": 6,
    "start_time": "2023-02-20T23:54:17.758Z"
   },
   {
    "duration": 18,
    "start_time": "2023-02-20T23:54:17.766Z"
   },
   {
    "duration": 45,
    "start_time": "2023-02-20T23:54:17.786Z"
   },
   {
    "duration": 12,
    "start_time": "2023-02-20T23:54:17.832Z"
   },
   {
    "duration": 14,
    "start_time": "2023-02-20T23:54:17.846Z"
   },
   {
    "duration": 7,
    "start_time": "2023-02-20T23:54:17.862Z"
   },
   {
    "duration": 11,
    "start_time": "2023-02-20T23:54:17.871Z"
   },
   {
    "duration": 167,
    "start_time": "2023-02-20T23:54:17.884Z"
   },
   {
    "duration": 27,
    "start_time": "2023-02-20T23:54:18.054Z"
   },
   {
    "duration": 4,
    "start_time": "2023-02-20T23:54:18.083Z"
   },
   {
    "duration": 13,
    "start_time": "2023-02-20T23:54:18.089Z"
   },
   {
    "duration": 16,
    "start_time": "2023-02-20T23:54:18.128Z"
   },
   {
    "duration": 655,
    "start_time": "2023-02-20T23:54:18.146Z"
   },
   {
    "duration": 5,
    "start_time": "2023-02-20T23:54:18.802Z"
   },
   {
    "duration": 67,
    "start_time": "2023-02-20T23:54:18.808Z"
   },
   {
    "duration": 4,
    "start_time": "2023-02-20T23:54:18.926Z"
   },
   {
    "duration": 12,
    "start_time": "2023-02-20T23:54:18.932Z"
   },
   {
    "duration": 211,
    "start_time": "2023-02-20T23:54:18.945Z"
   },
   {
    "duration": 12,
    "start_time": "2023-02-20T23:54:19.158Z"
   },
   {
    "duration": 41,
    "start_time": "2023-02-20T23:54:19.172Z"
   },
   {
    "duration": 55,
    "start_time": "2023-02-20T23:54:19.215Z"
   },
   {
    "duration": 17,
    "start_time": "2023-02-20T23:54:19.271Z"
   },
   {
    "duration": 69,
    "start_time": "2023-02-20T23:54:19.290Z"
   },
   {
    "duration": 20,
    "start_time": "2023-02-20T23:54:19.361Z"
   },
   {
    "duration": 6,
    "start_time": "2023-02-20T23:54:19.383Z"
   },
   {
    "duration": 11,
    "start_time": "2023-02-20T23:54:19.390Z"
   },
   {
    "duration": 39,
    "start_time": "2023-02-20T23:54:19.403Z"
   },
   {
    "duration": 7,
    "start_time": "2023-02-20T23:54:19.444Z"
   },
   {
    "duration": 18,
    "start_time": "2023-02-20T23:54:19.453Z"
   },
   {
    "duration": 21,
    "start_time": "2023-02-20T23:54:19.472Z"
   },
   {
    "duration": 26,
    "start_time": "2023-02-20T23:54:19.495Z"
   },
   {
    "duration": 10,
    "start_time": "2023-02-20T23:54:19.527Z"
   },
   {
    "duration": 17,
    "start_time": "2023-02-20T23:54:19.539Z"
   },
   {
    "duration": 10,
    "start_time": "2023-02-20T23:54:19.557Z"
   },
   {
    "duration": 28,
    "start_time": "2023-02-20T23:54:19.568Z"
   },
   {
    "duration": 31,
    "start_time": "2023-02-20T23:54:19.597Z"
   },
   {
    "duration": 3,
    "start_time": "2023-02-20T23:54:19.630Z"
   },
   {
    "duration": 11,
    "start_time": "2023-02-20T23:54:19.635Z"
   },
   {
    "duration": 11,
    "start_time": "2023-02-20T23:54:19.648Z"
   },
   {
    "duration": 10,
    "start_time": "2023-02-20T23:54:19.660Z"
   },
   {
    "duration": 1015,
    "start_time": "2023-02-21T00:01:27.200Z"
   },
   {
    "duration": 1284,
    "start_time": "2023-02-21T00:01:28.217Z"
   },
   {
    "duration": 35,
    "start_time": "2023-02-21T00:01:29.502Z"
   },
   {
    "duration": 6,
    "start_time": "2023-02-21T00:01:29.540Z"
   },
   {
    "duration": 545,
    "start_time": "2023-02-21T00:01:29.548Z"
   },
   {
    "duration": 582,
    "start_time": "2023-02-21T00:01:30.095Z"
   },
   {
    "duration": 167,
    "start_time": "2023-02-21T00:01:30.679Z"
   },
   {
    "duration": 59,
    "start_time": "2023-02-21T00:01:30.848Z"
   },
   {
    "duration": 161,
    "start_time": "2023-02-21T00:01:30.910Z"
   },
   {
    "duration": 8,
    "start_time": "2023-02-21T00:01:31.075Z"
   },
   {
    "duration": 40,
    "start_time": "2023-02-21T00:01:31.085Z"
   },
   {
    "duration": 94,
    "start_time": "2023-02-21T00:01:31.128Z"
   },
   {
    "duration": 10,
    "start_time": "2023-02-21T00:01:31.224Z"
   },
   {
    "duration": 33,
    "start_time": "2023-02-21T00:01:31.246Z"
   },
   {
    "duration": 37,
    "start_time": "2023-02-21T00:01:31.281Z"
   },
   {
    "duration": 25,
    "start_time": "2023-02-21T00:01:31.319Z"
   },
   {
    "duration": 35,
    "start_time": "2023-02-21T00:01:31.346Z"
   },
   {
    "duration": 28,
    "start_time": "2023-02-21T00:01:31.383Z"
   },
   {
    "duration": 23,
    "start_time": "2023-02-21T00:01:31.413Z"
   },
   {
    "duration": 16,
    "start_time": "2023-02-21T00:01:31.438Z"
   },
   {
    "duration": 23,
    "start_time": "2023-02-21T00:01:31.456Z"
   },
   {
    "duration": 17,
    "start_time": "2023-02-21T00:01:31.480Z"
   },
   {
    "duration": 14,
    "start_time": "2023-02-21T00:01:31.499Z"
   },
   {
    "duration": 43,
    "start_time": "2023-02-21T00:01:31.515Z"
   },
   {
    "duration": 16,
    "start_time": "2023-02-21T00:01:31.559Z"
   },
   {
    "duration": 21,
    "start_time": "2023-02-21T00:01:31.577Z"
   },
   {
    "duration": 167,
    "start_time": "2023-02-21T00:01:31.600Z"
   },
   {
    "duration": 30,
    "start_time": "2023-02-21T00:01:31.771Z"
   },
   {
    "duration": 6,
    "start_time": "2023-02-21T00:01:31.803Z"
   },
   {
    "duration": 35,
    "start_time": "2023-02-21T00:01:31.811Z"
   },
   {
    "duration": 37,
    "start_time": "2023-02-21T00:01:31.848Z"
   },
   {
    "duration": 434,
    "start_time": "2023-02-21T00:01:31.887Z"
   },
   {
    "duration": 5,
    "start_time": "2023-02-21T00:01:32.323Z"
   },
   {
    "duration": 58,
    "start_time": "2023-02-21T00:01:32.330Z"
   },
   {
    "duration": 4,
    "start_time": "2023-02-21T00:01:32.390Z"
   },
   {
    "duration": 16,
    "start_time": "2023-02-21T00:01:32.446Z"
   },
   {
    "duration": 230,
    "start_time": "2023-02-21T00:01:32.464Z"
   },
   {
    "duration": 13,
    "start_time": "2023-02-21T00:01:32.696Z"
   },
   {
    "duration": 54,
    "start_time": "2023-02-21T00:01:32.710Z"
   },
   {
    "duration": 56,
    "start_time": "2023-02-21T00:01:32.766Z"
   },
   {
    "duration": 38,
    "start_time": "2023-02-21T00:01:32.824Z"
   },
   {
    "duration": 57,
    "start_time": "2023-02-21T00:01:32.864Z"
   },
   {
    "duration": 22,
    "start_time": "2023-02-21T00:01:32.945Z"
   },
   {
    "duration": 7,
    "start_time": "2023-02-21T00:01:32.969Z"
   },
   {
    "duration": 10,
    "start_time": "2023-02-21T00:01:32.977Z"
   },
   {
    "duration": 58,
    "start_time": "2023-02-21T00:01:32.989Z"
   },
   {
    "duration": 9,
    "start_time": "2023-02-21T00:01:33.049Z"
   },
   {
    "duration": 19,
    "start_time": "2023-02-21T00:01:33.060Z"
   },
   {
    "duration": 26,
    "start_time": "2023-02-21T00:01:33.082Z"
   },
   {
    "duration": 40,
    "start_time": "2023-02-21T00:01:33.110Z"
   },
   {
    "duration": 22,
    "start_time": "2023-02-21T00:01:33.152Z"
   },
   {
    "duration": 10,
    "start_time": "2023-02-21T00:01:33.178Z"
   },
   {
    "duration": 12,
    "start_time": "2023-02-21T00:01:33.190Z"
   },
   {
    "duration": 25,
    "start_time": "2023-02-21T00:01:33.203Z"
   },
   {
    "duration": 27,
    "start_time": "2023-02-21T00:01:33.230Z"
   },
   {
    "duration": 3,
    "start_time": "2023-02-21T00:01:33.259Z"
   },
   {
    "duration": 11,
    "start_time": "2023-02-21T00:01:33.264Z"
   },
   {
    "duration": 12,
    "start_time": "2023-02-21T00:01:33.276Z"
   },
   {
    "duration": 10,
    "start_time": "2023-02-21T00:01:33.289Z"
   },
   {
    "duration": 30,
    "start_time": "2023-02-21T00:03:41.121Z"
   },
   {
    "duration": 8,
    "start_time": "2023-02-21T00:03:41.879Z"
   },
   {
    "duration": 9,
    "start_time": "2023-02-21T00:03:43.881Z"
   },
   {
    "duration": 36,
    "start_time": "2023-02-21T00:04:25.568Z"
   },
   {
    "duration": 10,
    "start_time": "2023-02-21T00:04:26.071Z"
   },
   {
    "duration": 10,
    "start_time": "2023-02-21T00:04:26.807Z"
   },
   {
    "duration": 15,
    "start_time": "2023-02-21T00:04:29.255Z"
   },
   {
    "duration": 29,
    "start_time": "2023-02-21T00:08:02.123Z"
   },
   {
    "duration": 9,
    "start_time": "2023-02-21T00:08:02.436Z"
   },
   {
    "duration": 8,
    "start_time": "2023-02-21T00:08:02.907Z"
   },
   {
    "duration": 17,
    "start_time": "2023-02-21T00:08:05.641Z"
   },
   {
    "duration": 27,
    "start_time": "2023-02-21T00:12:16.289Z"
   },
   {
    "duration": 8,
    "start_time": "2023-02-21T00:12:16.696Z"
   },
   {
    "duration": 24,
    "start_time": "2023-02-21T00:12:33.997Z"
   },
   {
    "duration": 8,
    "start_time": "2023-02-21T00:12:34.759Z"
   },
   {
    "duration": 30,
    "start_time": "2023-02-21T00:13:10.903Z"
   },
   {
    "duration": 8,
    "start_time": "2023-02-21T00:13:11.354Z"
   },
   {
    "duration": 31,
    "start_time": "2023-02-21T00:13:23.284Z"
   },
   {
    "duration": 9,
    "start_time": "2023-02-21T00:13:24.332Z"
   },
   {
    "duration": 27,
    "start_time": "2023-02-21T00:14:06.938Z"
   },
   {
    "duration": 21,
    "start_time": "2023-02-21T00:14:16.355Z"
   },
   {
    "duration": 8,
    "start_time": "2023-02-21T00:14:16.565Z"
   },
   {
    "duration": 7,
    "start_time": "2023-02-21T00:14:16.759Z"
   },
   {
    "duration": 22,
    "start_time": "2023-02-21T00:27:39.852Z"
   },
   {
    "duration": 8,
    "start_time": "2023-02-21T00:27:40.317Z"
   },
   {
    "duration": 10,
    "start_time": "2023-02-21T00:27:42.590Z"
   },
   {
    "duration": 20,
    "start_time": "2023-02-21T00:27:49.581Z"
   },
   {
    "duration": 10,
    "start_time": "2023-02-21T00:28:18.745Z"
   },
   {
    "duration": 8,
    "start_time": "2023-02-21T00:28:19.519Z"
   },
   {
    "duration": 20,
    "start_time": "2023-02-21T00:28:20.642Z"
   },
   {
    "duration": 19,
    "start_time": "2023-02-21T00:30:03.038Z"
   },
   {
    "duration": 19,
    "start_time": "2023-02-21T00:30:46.981Z"
   },
   {
    "duration": 1078,
    "start_time": "2023-02-21T00:32:10.762Z"
   },
   {
    "duration": 1577,
    "start_time": "2023-02-21T00:32:11.843Z"
   },
   {
    "duration": 48,
    "start_time": "2023-02-21T00:32:13.422Z"
   },
   {
    "duration": 9,
    "start_time": "2023-02-21T00:32:13.472Z"
   },
   {
    "duration": 383,
    "start_time": "2023-02-21T00:32:13.483Z"
   },
   {
    "duration": 564,
    "start_time": "2023-02-21T00:32:13.868Z"
   },
   {
    "duration": 232,
    "start_time": "2023-02-21T00:32:14.434Z"
   },
   {
    "duration": 86,
    "start_time": "2023-02-21T00:32:14.668Z"
   },
   {
    "duration": 120,
    "start_time": "2023-02-21T00:32:14.756Z"
   },
   {
    "duration": 9,
    "start_time": "2023-02-21T00:32:14.878Z"
   },
   {
    "duration": 10,
    "start_time": "2023-02-21T00:32:14.889Z"
   },
   {
    "duration": 107,
    "start_time": "2023-02-21T00:32:14.901Z"
   },
   {
    "duration": 12,
    "start_time": "2023-02-21T00:32:15.010Z"
   },
   {
    "duration": 23,
    "start_time": "2023-02-21T00:32:15.024Z"
   },
   {
    "duration": 18,
    "start_time": "2023-02-21T00:32:15.050Z"
   },
   {
    "duration": 21,
    "start_time": "2023-02-21T00:32:15.070Z"
   },
   {
    "duration": 7,
    "start_time": "2023-02-21T00:32:15.093Z"
   },
   {
    "duration": 12,
    "start_time": "2023-02-21T00:32:15.102Z"
   },
   {
    "duration": 10,
    "start_time": "2023-02-21T00:32:15.115Z"
   },
   {
    "duration": 23,
    "start_time": "2023-02-21T00:32:15.127Z"
   },
   {
    "duration": 19,
    "start_time": "2023-02-21T00:32:15.153Z"
   },
   {
    "duration": 23,
    "start_time": "2023-02-21T00:32:15.174Z"
   },
   {
    "duration": 12,
    "start_time": "2023-02-21T00:32:15.199Z"
   },
   {
    "duration": 20,
    "start_time": "2023-02-21T00:32:15.246Z"
   },
   {
    "duration": 10,
    "start_time": "2023-02-21T00:32:15.268Z"
   },
   {
    "duration": 15,
    "start_time": "2023-02-21T00:32:15.280Z"
   },
   {
    "duration": 210,
    "start_time": "2023-02-21T00:32:15.297Z"
   },
   {
    "duration": 46,
    "start_time": "2023-02-21T00:32:15.511Z"
   },
   {
    "duration": 8,
    "start_time": "2023-02-21T00:32:15.558Z"
   },
   {
    "duration": 16,
    "start_time": "2023-02-21T00:32:15.567Z"
   },
   {
    "duration": 24,
    "start_time": "2023-02-21T00:32:15.585Z"
   },
   {
    "duration": 462,
    "start_time": "2023-02-21T00:32:15.611Z"
   },
   {
    "duration": 6,
    "start_time": "2023-02-21T00:32:16.075Z"
   },
   {
    "duration": 163,
    "start_time": "2023-02-21T00:32:16.083Z"
   },
   {
    "duration": 6,
    "start_time": "2023-02-21T00:32:16.248Z"
   },
   {
    "duration": 25,
    "start_time": "2023-02-21T00:32:16.256Z"
   },
   {
    "duration": 245,
    "start_time": "2023-02-21T00:32:16.283Z"
   },
   {
    "duration": 28,
    "start_time": "2023-02-21T00:32:16.530Z"
   },
   {
    "duration": 39,
    "start_time": "2023-02-21T00:32:16.561Z"
   },
   {
    "duration": 89,
    "start_time": "2023-02-21T00:32:16.602Z"
   },
   {
    "duration": 21,
    "start_time": "2023-02-21T00:32:16.692Z"
   },
   {
    "duration": 81,
    "start_time": "2023-02-21T00:32:16.715Z"
   },
   {
    "duration": 23,
    "start_time": "2023-02-21T00:32:16.798Z"
   },
   {
    "duration": 27,
    "start_time": "2023-02-21T00:32:16.824Z"
   },
   {
    "duration": 9,
    "start_time": "2023-02-21T00:32:16.853Z"
   },
   {
    "duration": 28,
    "start_time": "2023-02-21T00:32:16.864Z"
   },
   {
    "duration": 9,
    "start_time": "2023-02-21T00:32:16.894Z"
   },
   {
    "duration": 48,
    "start_time": "2023-02-21T00:32:16.905Z"
   },
   {
    "duration": 23,
    "start_time": "2023-02-21T00:32:16.956Z"
   },
   {
    "duration": 11,
    "start_time": "2023-02-21T00:32:16.981Z"
   },
   {
    "duration": 12,
    "start_time": "2023-02-21T00:32:16.994Z"
   },
   {
    "duration": 40,
    "start_time": "2023-02-21T00:32:17.009Z"
   },
   {
    "duration": 10,
    "start_time": "2023-02-21T00:32:17.051Z"
   },
   {
    "duration": 31,
    "start_time": "2023-02-21T00:32:17.063Z"
   },
   {
    "duration": 19,
    "start_time": "2023-02-21T00:32:17.097Z"
   },
   {
    "duration": 5,
    "start_time": "2023-02-21T00:32:17.145Z"
   },
   {
    "duration": 14,
    "start_time": "2023-02-21T00:32:17.152Z"
   },
   {
    "duration": 12,
    "start_time": "2023-02-21T00:32:17.168Z"
   },
   {
    "duration": 12,
    "start_time": "2023-02-21T00:32:17.182Z"
   },
   {
    "duration": 20,
    "start_time": "2023-02-21T00:35:11.575Z"
   },
   {
    "duration": 16,
    "start_time": "2023-02-21T00:35:21.171Z"
   },
   {
    "duration": 73,
    "start_time": "2023-02-21T00:39:50.740Z"
   },
   {
    "duration": 916,
    "start_time": "2023-02-21T01:19:50.344Z"
   },
   {
    "duration": 1696,
    "start_time": "2023-02-21T01:19:51.262Z"
   },
   {
    "duration": 28,
    "start_time": "2023-02-21T01:19:52.960Z"
   },
   {
    "duration": 5,
    "start_time": "2023-02-21T01:19:52.990Z"
   },
   {
    "duration": 300,
    "start_time": "2023-02-21T01:19:52.996Z"
   },
   {
    "duration": 444,
    "start_time": "2023-02-21T01:19:53.298Z"
   },
   {
    "duration": 128,
    "start_time": "2023-02-21T01:19:53.744Z"
   },
   {
    "duration": 66,
    "start_time": "2023-02-21T01:19:53.874Z"
   },
   {
    "duration": 118,
    "start_time": "2023-02-21T01:19:53.941Z"
   },
   {
    "duration": 8,
    "start_time": "2023-02-21T01:19:54.062Z"
   },
   {
    "duration": 9,
    "start_time": "2023-02-21T01:19:54.071Z"
   },
   {
    "duration": 82,
    "start_time": "2023-02-21T01:19:54.081Z"
   },
   {
    "duration": 10,
    "start_time": "2023-02-21T01:19:54.165Z"
   },
   {
    "duration": 22,
    "start_time": "2023-02-21T01:19:54.177Z"
   },
   {
    "duration": 6,
    "start_time": "2023-02-21T01:19:54.201Z"
   },
   {
    "duration": 18,
    "start_time": "2023-02-21T01:19:54.209Z"
   },
   {
    "duration": 6,
    "start_time": "2023-02-21T01:19:54.229Z"
   },
   {
    "duration": 18,
    "start_time": "2023-02-21T01:19:54.236Z"
   },
   {
    "duration": 7,
    "start_time": "2023-02-21T01:19:54.256Z"
   },
   {
    "duration": 9,
    "start_time": "2023-02-21T01:19:54.265Z"
   },
   {
    "duration": 13,
    "start_time": "2023-02-21T01:19:54.276Z"
   },
   {
    "duration": 44,
    "start_time": "2023-02-21T01:19:54.291Z"
   },
   {
    "duration": 11,
    "start_time": "2023-02-21T01:19:54.337Z"
   },
   {
    "duration": 17,
    "start_time": "2023-02-21T01:19:54.350Z"
   },
   {
    "duration": 8,
    "start_time": "2023-02-21T01:19:54.369Z"
   },
   {
    "duration": 8,
    "start_time": "2023-02-21T01:19:54.379Z"
   },
   {
    "duration": 185,
    "start_time": "2023-02-21T01:19:54.389Z"
   },
   {
    "duration": 30,
    "start_time": "2023-02-21T01:19:54.579Z"
   },
   {
    "duration": 20,
    "start_time": "2023-02-21T01:19:54.611Z"
   },
   {
    "duration": 15,
    "start_time": "2023-02-21T01:19:54.633Z"
   },
   {
    "duration": 21,
    "start_time": "2023-02-21T01:19:54.650Z"
   },
   {
    "duration": 619,
    "start_time": "2023-02-21T01:19:54.673Z"
   },
   {
    "duration": 4,
    "start_time": "2023-02-21T01:19:55.294Z"
   },
   {
    "duration": 71,
    "start_time": "2023-02-21T01:19:55.299Z"
   },
   {
    "duration": 3,
    "start_time": "2023-02-21T01:19:55.371Z"
   },
   {
    "duration": 9,
    "start_time": "2023-02-21T01:19:55.427Z"
   },
   {
    "duration": 225,
    "start_time": "2023-02-21T01:19:55.438Z"
   },
   {
    "duration": 13,
    "start_time": "2023-02-21T01:19:55.665Z"
   },
   {
    "duration": 47,
    "start_time": "2023-02-21T01:19:55.680Z"
   },
   {
    "duration": 54,
    "start_time": "2023-02-21T01:19:55.729Z"
   },
   {
    "duration": 18,
    "start_time": "2023-02-21T01:19:55.784Z"
   },
   {
    "duration": 71,
    "start_time": "2023-02-21T01:19:55.803Z"
   },
   {
    "duration": 19,
    "start_time": "2023-02-21T01:19:55.875Z"
   },
   {
    "duration": 6,
    "start_time": "2023-02-21T01:19:55.896Z"
   },
   {
    "duration": 7,
    "start_time": "2023-02-21T01:19:55.926Z"
   },
   {
    "duration": 19,
    "start_time": "2023-02-21T01:19:55.935Z"
   },
   {
    "duration": 7,
    "start_time": "2023-02-21T01:19:55.956Z"
   },
   {
    "duration": 14,
    "start_time": "2023-02-21T01:19:55.965Z"
   },
   {
    "duration": 17,
    "start_time": "2023-02-21T01:19:55.981Z"
   },
   {
    "duration": 37,
    "start_time": "2023-02-21T01:19:56.000Z"
   },
   {
    "duration": 10,
    "start_time": "2023-02-21T01:19:56.038Z"
   },
   {
    "duration": 9,
    "start_time": "2023-02-21T01:19:56.050Z"
   },
   {
    "duration": 9,
    "start_time": "2023-02-21T01:19:56.060Z"
   },
   {
    "duration": 25,
    "start_time": "2023-02-21T01:19:56.071Z"
   },
   {
    "duration": 33,
    "start_time": "2023-02-21T01:19:56.098Z"
   },
   {
    "duration": 4,
    "start_time": "2023-02-21T01:19:56.133Z"
   },
   {
    "duration": 11,
    "start_time": "2023-02-21T01:19:56.138Z"
   },
   {
    "duration": 10,
    "start_time": "2023-02-21T01:19:56.150Z"
   },
   {
    "duration": 9,
    "start_time": "2023-02-21T01:19:56.162Z"
   },
   {
    "duration": 897,
    "start_time": "2023-02-21T13:21:57.879Z"
   },
   {
    "duration": 1119,
    "start_time": "2023-02-21T13:21:58.778Z"
   },
   {
    "duration": 27,
    "start_time": "2023-02-21T13:21:59.899Z"
   },
   {
    "duration": 5,
    "start_time": "2023-02-21T13:21:59.927Z"
   },
   {
    "duration": 492,
    "start_time": "2023-02-21T13:21:59.933Z"
   },
   {
    "duration": 418,
    "start_time": "2023-02-21T13:22:00.427Z"
   },
   {
    "duration": 125,
    "start_time": "2023-02-21T13:22:00.846Z"
   },
   {
    "duration": 64,
    "start_time": "2023-02-21T13:22:00.973Z"
   },
   {
    "duration": 98,
    "start_time": "2023-02-21T13:22:01.039Z"
   },
   {
    "duration": 7,
    "start_time": "2023-02-21T13:22:01.140Z"
   },
   {
    "duration": 37,
    "start_time": "2023-02-21T13:22:01.148Z"
   },
   {
    "duration": 61,
    "start_time": "2023-02-21T13:22:01.186Z"
   },
   {
    "duration": 8,
    "start_time": "2023-02-21T13:22:01.248Z"
   },
   {
    "duration": 22,
    "start_time": "2023-02-21T13:22:01.258Z"
   },
   {
    "duration": 24,
    "start_time": "2023-02-21T13:22:01.282Z"
   },
   {
    "duration": 31,
    "start_time": "2023-02-21T13:22:01.308Z"
   },
   {
    "duration": 18,
    "start_time": "2023-02-21T13:22:01.340Z"
   },
   {
    "duration": 35,
    "start_time": "2023-02-21T13:22:01.360Z"
   },
   {
    "duration": 24,
    "start_time": "2023-02-21T13:22:01.397Z"
   },
   {
    "duration": 26,
    "start_time": "2023-02-21T13:22:01.423Z"
   },
   {
    "duration": 40,
    "start_time": "2023-02-21T13:22:01.452Z"
   },
   {
    "duration": 28,
    "start_time": "2023-02-21T13:22:01.494Z"
   },
   {
    "duration": 32,
    "start_time": "2023-02-21T13:22:01.524Z"
   },
   {
    "duration": 44,
    "start_time": "2023-02-21T13:22:01.558Z"
   },
   {
    "duration": 32,
    "start_time": "2023-02-21T13:22:01.604Z"
   },
   {
    "duration": 19,
    "start_time": "2023-02-21T13:22:01.638Z"
   },
   {
    "duration": 173,
    "start_time": "2023-02-21T13:22:01.658Z"
   },
   {
    "duration": 27,
    "start_time": "2023-02-21T13:22:01.837Z"
   },
   {
    "duration": 7,
    "start_time": "2023-02-21T13:22:01.865Z"
   },
   {
    "duration": 42,
    "start_time": "2023-02-21T13:22:01.873Z"
   },
   {
    "duration": 49,
    "start_time": "2023-02-21T13:22:01.917Z"
   },
   {
    "duration": 408,
    "start_time": "2023-02-21T13:22:01.968Z"
   },
   {
    "duration": 3,
    "start_time": "2023-02-21T13:22:02.378Z"
   },
   {
    "duration": 82,
    "start_time": "2023-02-21T13:22:02.383Z"
   },
   {
    "duration": 4,
    "start_time": "2023-02-21T13:22:02.467Z"
   },
   {
    "duration": 13,
    "start_time": "2023-02-21T13:22:02.473Z"
   },
   {
    "duration": 217,
    "start_time": "2023-02-21T13:22:02.488Z"
   },
   {
    "duration": 11,
    "start_time": "2023-02-21T13:22:02.706Z"
   },
   {
    "duration": 35,
    "start_time": "2023-02-21T13:22:02.719Z"
   },
   {
    "duration": 47,
    "start_time": "2023-02-21T13:22:02.755Z"
   },
   {
    "duration": 38,
    "start_time": "2023-02-21T13:22:02.804Z"
   },
   {
    "duration": 49,
    "start_time": "2023-02-21T13:22:02.843Z"
   },
   {
    "duration": 18,
    "start_time": "2023-02-21T13:22:02.893Z"
   },
   {
    "duration": 26,
    "start_time": "2023-02-21T13:22:02.912Z"
   },
   {
    "duration": 6,
    "start_time": "2023-02-21T13:22:02.939Z"
   },
   {
    "duration": 32,
    "start_time": "2023-02-21T13:22:02.946Z"
   },
   {
    "duration": 7,
    "start_time": "2023-02-21T13:22:02.980Z"
   },
   {
    "duration": 12,
    "start_time": "2023-02-21T13:22:02.989Z"
   },
   {
    "duration": 16,
    "start_time": "2023-02-21T13:22:03.002Z"
   },
   {
    "duration": 10,
    "start_time": "2023-02-21T13:22:03.038Z"
   },
   {
    "duration": 10,
    "start_time": "2023-02-21T13:22:03.049Z"
   },
   {
    "duration": 9,
    "start_time": "2023-02-21T13:22:03.060Z"
   },
   {
    "duration": 10,
    "start_time": "2023-02-21T13:22:03.070Z"
   },
   {
    "duration": 21,
    "start_time": "2023-02-21T13:22:03.082Z"
   },
   {
    "duration": 33,
    "start_time": "2023-02-21T13:22:03.105Z"
   },
   {
    "duration": 3,
    "start_time": "2023-02-21T13:22:03.140Z"
   },
   {
    "duration": 14,
    "start_time": "2023-02-21T13:22:03.145Z"
   },
   {
    "duration": 10,
    "start_time": "2023-02-21T13:22:03.160Z"
   },
   {
    "duration": 9,
    "start_time": "2023-02-21T13:22:03.171Z"
   },
   {
    "duration": 22,
    "start_time": "2023-02-21T13:23:15.422Z"
   },
   {
    "duration": 6,
    "start_time": "2023-02-21T13:23:16.612Z"
   },
   {
    "duration": 7,
    "start_time": "2023-02-21T13:23:17.449Z"
   },
   {
    "duration": 18,
    "start_time": "2023-02-21T13:23:29.708Z"
   },
   {
    "duration": 6,
    "start_time": "2023-02-21T13:23:30.131Z"
   },
   {
    "duration": 7,
    "start_time": "2023-02-21T13:23:30.607Z"
   },
   {
    "duration": 18,
    "start_time": "2023-02-21T13:23:38.222Z"
   },
   {
    "duration": 6,
    "start_time": "2023-02-21T13:23:38.650Z"
   },
   {
    "duration": 7,
    "start_time": "2023-02-21T13:23:39.004Z"
   },
   {
    "duration": 17,
    "start_time": "2023-02-21T13:24:04.348Z"
   },
   {
    "duration": 7,
    "start_time": "2023-02-21T13:24:05.490Z"
   },
   {
    "duration": 7,
    "start_time": "2023-02-21T13:24:06.425Z"
   },
   {
    "duration": 896,
    "start_time": "2023-02-21T13:24:13.746Z"
   },
   {
    "duration": 1246,
    "start_time": "2023-02-21T13:24:14.644Z"
   },
   {
    "duration": 28,
    "start_time": "2023-02-21T13:24:15.891Z"
   },
   {
    "duration": 5,
    "start_time": "2023-02-21T13:24:15.921Z"
   },
   {
    "duration": 286,
    "start_time": "2023-02-21T13:24:15.927Z"
   },
   {
    "duration": 414,
    "start_time": "2023-02-21T13:24:16.215Z"
   },
   {
    "duration": 120,
    "start_time": "2023-02-21T13:24:16.631Z"
   },
   {
    "duration": 45,
    "start_time": "2023-02-21T13:24:16.753Z"
   },
   {
    "duration": 123,
    "start_time": "2023-02-21T13:24:16.800Z"
   },
   {
    "duration": 17,
    "start_time": "2023-02-21T13:24:16.925Z"
   },
   {
    "duration": 8,
    "start_time": "2023-02-21T13:24:16.943Z"
   },
   {
    "duration": 59,
    "start_time": "2023-02-21T13:24:16.953Z"
   },
   {
    "duration": 25,
    "start_time": "2023-02-21T13:24:17.014Z"
   },
   {
    "duration": 8,
    "start_time": "2023-02-21T13:24:17.041Z"
   },
   {
    "duration": 9,
    "start_time": "2023-02-21T13:24:17.051Z"
   },
   {
    "duration": 7,
    "start_time": "2023-02-21T13:24:17.062Z"
   },
   {
    "duration": 9,
    "start_time": "2023-02-21T13:24:17.071Z"
   },
   {
    "duration": 17,
    "start_time": "2023-02-21T13:24:17.082Z"
   },
   {
    "duration": 36,
    "start_time": "2023-02-21T13:24:17.101Z"
   },
   {
    "duration": 7,
    "start_time": "2023-02-21T13:24:17.139Z"
   },
   {
    "duration": 13,
    "start_time": "2023-02-21T13:24:17.148Z"
   },
   {
    "duration": 16,
    "start_time": "2023-02-21T13:24:17.163Z"
   },
   {
    "duration": 13,
    "start_time": "2023-02-21T13:24:17.181Z"
   },
   {
    "duration": 54,
    "start_time": "2023-02-21T13:24:17.196Z"
   },
   {
    "duration": 9,
    "start_time": "2023-02-21T13:24:17.252Z"
   },
   {
    "duration": 10,
    "start_time": "2023-02-21T13:24:17.263Z"
   },
   {
    "duration": 159,
    "start_time": "2023-02-21T13:24:17.275Z"
   },
   {
    "duration": 24,
    "start_time": "2023-02-21T13:24:17.437Z"
   },
   {
    "duration": 3,
    "start_time": "2023-02-21T13:24:17.463Z"
   },
   {
    "duration": 20,
    "start_time": "2023-02-21T13:24:17.468Z"
   },
   {
    "duration": 23,
    "start_time": "2023-02-21T13:24:17.489Z"
   },
   {
    "duration": 330,
    "start_time": "2023-02-21T13:24:17.513Z"
   },
   {
    "duration": 4,
    "start_time": "2023-02-21T13:24:17.845Z"
   },
   {
    "duration": 98,
    "start_time": "2023-02-21T13:24:17.850Z"
   },
   {
    "duration": 4,
    "start_time": "2023-02-21T13:24:17.949Z"
   },
   {
    "duration": 12,
    "start_time": "2023-02-21T13:24:17.955Z"
   },
   {
    "duration": 192,
    "start_time": "2023-02-21T13:24:17.969Z"
   },
   {
    "duration": 11,
    "start_time": "2023-02-21T13:24:18.162Z"
   },
   {
    "duration": 23,
    "start_time": "2023-02-21T13:24:18.175Z"
   },
   {
    "duration": 69,
    "start_time": "2023-02-21T13:24:18.199Z"
   },
   {
    "duration": 16,
    "start_time": "2023-02-21T13:24:18.269Z"
   },
   {
    "duration": 63,
    "start_time": "2023-02-21T13:24:18.286Z"
   },
   {
    "duration": 19,
    "start_time": "2023-02-21T13:24:18.350Z"
   },
   {
    "duration": 8,
    "start_time": "2023-02-21T13:24:18.370Z"
   },
   {
    "duration": 9,
    "start_time": "2023-02-21T13:24:18.379Z"
   },
   {
    "duration": 959,
    "start_time": "2023-02-21T13:24:18.389Z"
   },
   {
    "duration": 0,
    "start_time": "2023-02-21T13:24:19.349Z"
   },
   {
    "duration": 0,
    "start_time": "2023-02-21T13:24:19.351Z"
   },
   {
    "duration": 0,
    "start_time": "2023-02-21T13:24:19.352Z"
   },
   {
    "duration": 0,
    "start_time": "2023-02-21T13:24:19.353Z"
   },
   {
    "duration": 0,
    "start_time": "2023-02-21T13:24:19.355Z"
   },
   {
    "duration": 0,
    "start_time": "2023-02-21T13:24:19.356Z"
   },
   {
    "duration": 0,
    "start_time": "2023-02-21T13:24:19.358Z"
   },
   {
    "duration": 0,
    "start_time": "2023-02-21T13:24:19.359Z"
   },
   {
    "duration": 0,
    "start_time": "2023-02-21T13:24:19.361Z"
   },
   {
    "duration": 0,
    "start_time": "2023-02-21T13:24:19.362Z"
   },
   {
    "duration": 0,
    "start_time": "2023-02-21T13:24:19.363Z"
   },
   {
    "duration": 0,
    "start_time": "2023-02-21T13:24:19.366Z"
   },
   {
    "duration": 0,
    "start_time": "2023-02-21T13:24:19.367Z"
   },
   {
    "duration": 20,
    "start_time": "2023-02-21T13:25:14.919Z"
   },
   {
    "duration": 6,
    "start_time": "2023-02-21T13:25:15.472Z"
   },
   {
    "duration": 6,
    "start_time": "2023-02-21T13:25:15.825Z"
   },
   {
    "duration": 19,
    "start_time": "2023-02-21T13:25:45.539Z"
   },
   {
    "duration": 9,
    "start_time": "2023-02-21T13:25:46.005Z"
   },
   {
    "duration": 7,
    "start_time": "2023-02-21T13:25:46.277Z"
   },
   {
    "duration": 13,
    "start_time": "2023-02-21T13:26:04.407Z"
   },
   {
    "duration": 6,
    "start_time": "2023-02-21T13:26:12.692Z"
   },
   {
    "duration": 13,
    "start_time": "2023-02-21T13:26:12.841Z"
   },
   {
    "duration": 17,
    "start_time": "2023-02-21T13:26:13.011Z"
   },
   {
    "duration": 9,
    "start_time": "2023-02-21T13:26:13.291Z"
   },
   {
    "duration": 8,
    "start_time": "2023-02-21T13:26:13.576Z"
   },
   {
    "duration": 9,
    "start_time": "2023-02-21T13:26:13.749Z"
   },
   {
    "duration": 6,
    "start_time": "2023-02-21T13:26:14.012Z"
   },
   {
    "duration": 21,
    "start_time": "2023-02-21T13:26:15.471Z"
   },
   {
    "duration": 14,
    "start_time": "2023-02-21T13:26:15.692Z"
   },
   {
    "duration": 4,
    "start_time": "2023-02-21T13:26:16.010Z"
   },
   {
    "duration": 8,
    "start_time": "2023-02-21T13:26:16.179Z"
   },
   {
    "duration": 9,
    "start_time": "2023-02-21T13:26:16.343Z"
   },
   {
    "duration": 8,
    "start_time": "2023-02-21T13:26:16.506Z"
   }
  ],
  "kernelspec": {
   "display_name": "Python 3 (ipykernel)",
   "language": "python",
   "name": "python3"
  },
  "language_info": {
   "codemirror_mode": {
    "name": "ipython",
    "version": 3
   },
   "file_extension": ".py",
   "mimetype": "text/x-python",
   "name": "python",
   "nbconvert_exporter": "python",
   "pygments_lexer": "ipython3",
   "version": "3.9.12"
  },
  "toc": {
   "base_numbering": 1,
   "nav_menu": {},
   "number_sections": true,
   "sideBar": true,
   "skip_h1_title": true,
   "title_cell": "Table of Contents",
   "title_sidebar": "Contents",
   "toc_cell": false,
   "toc_position": {},
   "toc_section_display": true,
   "toc_window_display": true
  }
 },
 "nbformat": 4,
 "nbformat_minor": 5
}
