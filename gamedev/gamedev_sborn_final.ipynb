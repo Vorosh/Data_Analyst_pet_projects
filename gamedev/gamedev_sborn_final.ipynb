{
 "cells": [
  {
   "cell_type": "markdown",
   "metadata": {},
   "source": [
    "<div class=\"alert alert-success\">\n",
    "<b>КОММЕНТАРИЙ V2</b>\n",
    "\n",
    "Итак, мои комментарии на этот раз будут зелёными, в заголовке иметь версию V2 (как у этого!) и в них я буду стараться ответить на твои вопросы, если таковые увижу (мелкие/\"проходные\" изменения/исправления в тексте проекта, каждое из них, не буду с твоего позволения комментировать - только те моменты, где я что-то более-менее не банальное могу сказать. Хорошо? Будем считать, что, если комментария на твое исправление нет - значит я согласен с тобой в этом пункте).\n",
    "\n",
    "………………\n",
    "\n",
    "Коллега, я вижу, что все красные комментарии учтены, код исправлен, выводы актуализированы. Соответственно никаких вопросов/моментов/комментариев, мешающих принять твой проект у меня более нет.\n",
    "\n",
    "ПРОЕКТ ПРИНЯТ!\n",
    "    \n",
    "Я же в свою очередь, ниже попытался ответить на все твои вопросы (если видел, что они есть).\n",
    "\n",
    "Желаю тебе успехов в учёбе, желаю, чтобы проекты сдавались или сразу, или после первой итерации! Удачи!\n",
    "\n",
    "p.s. я тебе на твой адрес эл/почты сейчас вышлю некоторые материалы из своей электронной библиотеки - надеюсь они будут тебе полезными в учёбе.</div>\n"
   ]
  },
  {
   "cell_type": "code",
   "execution_count": null,
   "metadata": {},
   "outputs": [],
   "source": []
  },
  {
   "cell_type": "markdown",
   "metadata": {},
   "source": [
    "Привет коллега! \n",
    "\n",
    "Меня зовут Александр Непомнящий и я буду проверять твой проект. Предлагаю общаться на «ты» :))) Но, если это не удобно - мы вполне можем перейти на вы\".\n",
    "\n",
    "Вкратце обо мне: я работаю в сфере информационных технологий, аналитика (анализ) данных - это и мой рабочий функционал и личная, интересная мне область для саморазвития. Используемый стек: python, pandas, графические библиотеки matplotlib/seaborn/plotly. Сфера применения: маркетинговая аналитика в медицинской клинике (Клиника «Кивач», www.kivach.ru, республика Карелия). Если вдруг есть вопрос – что делает аналитик в коммерческой медицине – то вот короткий ответ. Самый главный вопрос, на который мы хотим получить ответ (и который в дальнейшем приведёт к перераспределению рекламного бюджета, плюс напрямую повлияет на разработку и предложению рынку новых лечебных программ) - это КТО ОН, НАШ КЛИЕНТ? Фактически это задача (на нашем внутреннем языке формулируется как построение и анализ «ПОРТРЕТА КЛИЕНТА»). Визуализируем и пытаемся придать смысл половозрастным данным наших клиентов, кто из какого региона и в какие времена года к нам приезжает. Учитываем количество приездов. Учитываем на какую программу этот конкретный клиент приехал в первый раз и как в дальнейшем меняются его предпочтения. Пытаемся построить модель оттока и спрогнозировать, когда клиент уйдёт в отток. Смотрим цифры (суммы трат клиентов на отдельных группах медицинских программ). Анализируем медицинские услуги, которые входят в путёвку, а также что, в каких количествах и на какую сумму клиент покупает дополнительно. Очень вкратце как-то так.\n",
    "\n",
    "Теперь к сути: основная цель моей проверки - пройти по шагам, по логике твоего решения и обсудить те моменты, которые можно изменить, улучшить, довести до идеала. Такой формат работы двух программистов (аналитиков) ты или уже встречал(а), или встретишь на своей новой работе. Кто-то такой процесс называет \"код-ревью\", ну а как по мне, так это обмен опытом двух коллег, когда каждый из нас становиться лучше в процессе дискуссии.\n",
    "\n",
    "Свои мысли, советы, комментарии и вопросы я буду оставлять в текстовых ячейках (markdown) ПОД твоим кодом. \n",
    "Для твоего удобства все эти заметки будут \"цветными\", как на примерах ниже:\n",
    "\n",
    "\"Зелеными\" комментариями я буду отмечать твой элегантный (\"красивый\") код и/или удачные решения, на которые ты можешь смело опираться в будущих проектах.\n",
    "<div class=\"alert alert-success\">\n",
    "<b>Отлично! 👍</b>\n",
    "\n",
    "Отличная находка, элегантный код ...</div>\n",
    "\n",
    "\"Жёлтые\" комментарии - это мои размышления, предложения, что-то, что в следующий раз можно сделать по-другому. \"Жёлтые\" комментарии не требуют твоих правок в проекте и их наличие НИКАК не повлияет на результат моей проверки. Но я искренне верю, что наш двусторонний диалог под \"желтым\" комментарием - это то, от чего твой проект только выиграет. \n",
    "<div class=\"alert alert-warning\">\n",
    "<b>Комментарий 👉</b>\n",
    "\n",
    "Здесь я бы предложил использовать .... Мои аргументы в пользу этого ...</div>\n",
    "\n",
    "\"Красные\" комментарий будут появляться, когда что-то пойдёт не так: например, код будет выдавать ошибку. Или, когда в проекте не будет ответов на основные вопросы, ради которых весь анализ и выполнялся. \"Красные\" комментарии необходимо будет исправить, прежде чем я смогу принять проект.\n",
    "<div class=\"alert alert-danger\">\n",
    "<b>Необходимо исправить ❌</b>\n",
    "\n",
    "В этой ячейке код работает не так как задумано ...</div>\n",
    "\n",
    "Пожалуйста, не перемещай, не изменяй и не удаляй мои комментарии. Это поможет мне оперативно выполнить повторную проверку твоего проекта.\n",
    "\n",
    "Давай работать над проектом в диалоге: если ты что-то меняешь в проекте по моим рекомендациям — пиши об этом, лучше всего в новой ячейке, сразу под моим комментарием. Если для своих комментариев ты будешь использовать какой-то заметный цвет, то мне будет легче отследить твои изменения, например так:\n",
    "\n",
    "<div style=\"background: #B0E0E6; padding: 5px; border: 1px solid SteelBlue; border-radius: 5px;\">\n",
    "    <font color='4682B4'><u><b>КОММЕНТАРИЙ СТУДЕНТА</b></u></font>\n",
    "    <br />\n",
    "    <font color='4682B4'>Текст твоего комментария ...</font>\n",
    "</div>\n",
    "\n",
    "Ну и наконец информируй меня в том случае, если по твоему проекту подходит дедлайн! В таком случае я приложу усилия, чтобы ты сдал(а) его вовремя; буду оперативно, в приоритете проверять итерации ревью, а также отвечать на твои вопросы, если этого будет требовать ситуация.\n",
    "\n",
    "**Распространенные типичные недочёты в проектах студентов:**\n",
    "\n",
    "<div class=\"alert alert-danger\" ❌>\n",
    "Неработоспособный код. Проверь проект на работоспособность перед отправкой на проверку. Это важный навык, который тебе пригодится как на собеседовании, при выполнении тестового задания, так и перед совещанием у руководства компании.</div>\n",
    "\n",
    "<div class=\"alert alert-danger\" ❌>\n",
    "Проект не структурирован. В проекте должна быть структура, т.е. названия разделов и подразделов должны быть записаны в ячейках Markdown.</div>\n",
    "\n",
    "<div class=\"alert alert-warning\" 👉 >\n",
    "Отсутствие описания, целей проекта, его задач, выводов. В описании должны быть озвучены поставленные задачи, содержание датасета, промежуточные и финальные выводы. Как правило, заказчик читает только финальный вывод, поэтому важно добавить информацию о проведенном исследовании, применить форматирование текста, в общем, сделать красиво, чтобы было понятно, что проведено настоящее исследование и выводу можно верить.</div>  \n",
    "\n",
    "<div class=\"alert alert-warning\" 👉 >\n",
    "\"Длинный код\". Код и и комментарии, которые прячутся за правым концом ячейки нужно переносить на новую строку. Твои будущие коллеги не оценят необходимость постоянного скроллинга. Согласно PEP8: https://www.python.org/dev/peps/pep-0008/ длина строки не должна превышать 79 символов.</div>\n",
    "\n",
    "<div class=\"alert alert-warning\" 👉 >\n",
    "Твои коллеги ценят и твое и своё время, поэтому \"подсвечивай\" свои комментарии в ячейках Markdown. Подробнее про синтаксис Markdown, с примерами, можно почитать здесь: https://paulradzkov.com/2014/markdown_cheatsheet/?</div>\n"
   ]
  },
  {
   "cell_type": "markdown",
   "metadata": {},
   "source": [
    "# Исследование закономерностей, определяющих успешность игр"
   ]
  },
  {
   "cell_type": "markdown",
   "metadata": {},
   "source": [
    "# Описание проекта:\n",
    "\n",
    "<p></p>\n",
    "\n",
    "<div style=\"border:solid grey 2px; padding: 20px\">\n",
    "Вы работаете в интернет-магазине «Стримчик», который продаёт по всему миру компьютерные игры. Из открытых источников доступны исторические данные о продажах игр, оценки пользователей и экспертов, жанры и платформы (например, Xbox или PlayStation). Вам нужно выявить определяющие успешность игры закономерности. Это позволит сделать ставку на потенциально популярный продукт и спланировать рекламные кампании.\n",
    "Перед вами данные до 2016 года. Представим, что сейчас декабрь 2016 г., и вы планируете кампанию на 2017-й. Нужно отработать принцип работы с данными. Неважно, прогнозируете ли вы продажи на 2017 год по данным 2016-го или же 2027-й — по данным 2026 года.\n",
    "В наборе данных попадается аббревиатура ESRB (Entertainment Software Rating Board) — это ассоциация, определяющая возрастной рейтинг компьютерных игр. ESRB оценивает игровой контент и присваивает ему подходящую возрастную категорию, например, «Для взрослых», «Для детей младшего возраста» или «Для подростков».\n",
    "<div>"
   ]
  },
  {
   "cell_type": "markdown",
   "metadata": {},
   "source": [
    "# Цель исследования:\n",
    "\n",
    "- *Получить информацию, сколько игр выпускалось в разные годы*\n",
    "- *Найти зависимость продаж от платформы*\n",
    "- *Понять как влияют на продажи внутри одной популярной платформы отзывы пользователей и критиков*\n",
    "- *Выявить определяющие успешность игры закономерности*\n",
    "\n",
    "# Ход исследования:\n",
    "    \n",
    "1. *Обзор данных.*\n",
    "2. *Предобработка данных.*\n",
    "3. *Исследовательский анализ данных.*\n",
    "4. *Портрет пользователя каждого региона.*\n",
    "5. *Проверка гипотез.*\n",
    "6. *Общий вывод.*"
   ]
  },
  {
   "cell_type": "markdown",
   "metadata": {},
   "source": [
    "# Описание данных:"
   ]
  },
  {
   "cell_type": "markdown",
   "metadata": {},
   "source": [
    "***Описание данных*** \n",
    "- Name — название игры\n",
    "- Platform — платформа\n",
    "- Year_of_Release — год выпуска\n",
    "- Genre — жанр игры\n",
    "- NA_sales — продажи в Северной Америке (миллионы проданных копий)\n",
    "- EU_sales — продажи в Европе (миллионы проданных копий)\n",
    "- JP_sales — продажи в Японии (миллионы проданных копий)\n",
    "- Other_sales — продажи в других странах (миллионы проданных копий)\n",
    "- Critic_Score — оценка критиков (максимум 100)\n",
    "- User_Score — оценка пользователей (максимум 10)\n",
    "- Rating — рейтинг от организации ESRB (англ. Entertainment Software Rating Board). Эта ассоциация определяет рейтинг компьютерных игр и присваивает им подходящую возрастную категорию."
   ]
  },
  {
   "cell_type": "markdown",
   "metadata": {},
   "source": [
    "## Обзор данных"
   ]
  },
  {
   "cell_type": "code",
   "execution_count": 1,
   "metadata": {},
   "outputs": [],
   "source": [
    "# импортируем библиотеки\n",
    "import pandas as pd \n",
    "import matplotlib.pyplot as plt\n",
    "%matplotlib inline\n",
    "import numpy as np\n",
    "import seaborn as sns\n",
    "from scipy import stats as st"
   ]
  },
  {
   "cell_type": "code",
   "execution_count": 2,
   "metadata": {},
   "outputs": [],
   "source": [
    "# открываем файл из директории или по ссылке\n",
    "try:\n",
    "    data = pd.read_csv('/datasets/games.csv')\n",
    "except:\n",
    "    data = pd.read_csv('https://code.s3.yandex.net/datasets/games.csv')"
   ]
  },
  {
   "cell_type": "markdown",
   "metadata": {},
   "source": [
    "<div class=\"alert alert-success\">\n",
    "<b>ОТЛИЧНО! 👍</b>\n",
    "\n",
    "Здесь хорошо! При такой загрузке данных и тебе комфортно работать с проектом на домашнем ПК и у меня всё ОК во время проверки проекта в Юпитер Хабе</div>\n"
   ]
  },
  {
   "cell_type": "code",
   "execution_count": 3,
   "metadata": {},
   "outputs": [
    {
     "data": {
      "text/html": [
       "<div>\n",
       "<style scoped>\n",
       "    .dataframe tbody tr th:only-of-type {\n",
       "        vertical-align: middle;\n",
       "    }\n",
       "\n",
       "    .dataframe tbody tr th {\n",
       "        vertical-align: top;\n",
       "    }\n",
       "\n",
       "    .dataframe thead th {\n",
       "        text-align: right;\n",
       "    }\n",
       "</style>\n",
       "<table border=\"1\" class=\"dataframe\">\n",
       "  <thead>\n",
       "    <tr style=\"text-align: right;\">\n",
       "      <th></th>\n",
       "      <th>Name</th>\n",
       "      <th>Platform</th>\n",
       "      <th>Year_of_Release</th>\n",
       "      <th>Genre</th>\n",
       "      <th>NA_sales</th>\n",
       "      <th>EU_sales</th>\n",
       "      <th>JP_sales</th>\n",
       "      <th>Other_sales</th>\n",
       "      <th>Critic_Score</th>\n",
       "      <th>User_Score</th>\n",
       "      <th>Rating</th>\n",
       "    </tr>\n",
       "  </thead>\n",
       "  <tbody>\n",
       "    <tr>\n",
       "      <th>15294</th>\n",
       "      <td>Azada</td>\n",
       "      <td>3DS</td>\n",
       "      <td>2012.0</td>\n",
       "      <td>Puzzle</td>\n",
       "      <td>0.00</td>\n",
       "      <td>0.02</td>\n",
       "      <td>0.00</td>\n",
       "      <td>0.00</td>\n",
       "      <td>NaN</td>\n",
       "      <td>tbd</td>\n",
       "      <td>E</td>\n",
       "    </tr>\n",
       "    <tr>\n",
       "      <th>7927</th>\n",
       "      <td>Pro Yaky? Spirits 2012</td>\n",
       "      <td>PS3</td>\n",
       "      <td>2012.0</td>\n",
       "      <td>Sports</td>\n",
       "      <td>0.00</td>\n",
       "      <td>0.00</td>\n",
       "      <td>0.19</td>\n",
       "      <td>0.00</td>\n",
       "      <td>NaN</td>\n",
       "      <td>NaN</td>\n",
       "      <td>NaN</td>\n",
       "    </tr>\n",
       "    <tr>\n",
       "      <th>12856</th>\n",
       "      <td>Ski Region Simulator</td>\n",
       "      <td>PC</td>\n",
       "      <td>2011.0</td>\n",
       "      <td>Simulation</td>\n",
       "      <td>0.00</td>\n",
       "      <td>0.05</td>\n",
       "      <td>0.00</td>\n",
       "      <td>0.01</td>\n",
       "      <td>NaN</td>\n",
       "      <td>tbd</td>\n",
       "      <td>NaN</td>\n",
       "    </tr>\n",
       "    <tr>\n",
       "      <th>14027</th>\n",
       "      <td>Steambot Chronicles</td>\n",
       "      <td>PS2</td>\n",
       "      <td>2005.0</td>\n",
       "      <td>Role-Playing</td>\n",
       "      <td>0.02</td>\n",
       "      <td>0.01</td>\n",
       "      <td>0.00</td>\n",
       "      <td>0.00</td>\n",
       "      <td>74.0</td>\n",
       "      <td>8.2</td>\n",
       "      <td>T</td>\n",
       "    </tr>\n",
       "    <tr>\n",
       "      <th>10661</th>\n",
       "      <td>Ghost in the Shell</td>\n",
       "      <td>PS</td>\n",
       "      <td>1997.0</td>\n",
       "      <td>Simulation</td>\n",
       "      <td>0.06</td>\n",
       "      <td>0.04</td>\n",
       "      <td>0.00</td>\n",
       "      <td>0.01</td>\n",
       "      <td>NaN</td>\n",
       "      <td>NaN</td>\n",
       "      <td>NaN</td>\n",
       "    </tr>\n",
       "  </tbody>\n",
       "</table>\n",
       "</div>"
      ],
      "text/plain": [
       "                         Name Platform  Year_of_Release         Genre  \\\n",
       "15294                   Azada      3DS           2012.0        Puzzle   \n",
       "7927   Pro Yaky? Spirits 2012      PS3           2012.0        Sports   \n",
       "12856    Ski Region Simulator       PC           2011.0    Simulation   \n",
       "14027     Steambot Chronicles      PS2           2005.0  Role-Playing   \n",
       "10661      Ghost in the Shell       PS           1997.0    Simulation   \n",
       "\n",
       "       NA_sales  EU_sales  JP_sales  Other_sales  Critic_Score User_Score  \\\n",
       "15294      0.00      0.02      0.00         0.00           NaN        tbd   \n",
       "7927       0.00      0.00      0.19         0.00           NaN        NaN   \n",
       "12856      0.00      0.05      0.00         0.01           NaN        tbd   \n",
       "14027      0.02      0.01      0.00         0.00          74.0        8.2   \n",
       "10661      0.06      0.04      0.00         0.01           NaN        NaN   \n",
       "\n",
       "      Rating  \n",
       "15294      E  \n",
       "7927     NaN  \n",
       "12856    NaN  \n",
       "14027      T  \n",
       "10661    NaN  "
      ]
     },
     "execution_count": 3,
     "metadata": {},
     "output_type": "execute_result"
    }
   ],
   "source": [
    "data.sample(5)"
   ]
  },
  {
   "cell_type": "markdown",
   "metadata": {},
   "source": [
    "<div class=\"alert alert-warning\">\n",
    "<b>Комментарий 👉</b>\n",
    "\n",
    "Выводить весь датафрейм можно, но как правило я так не делаю (пространство на мониторе конЕчно, особенно когда в нескольких ячейках необходимо последовательно посмотреть, что в датафрейме изменилось). Достаточно \"типового\" .head() с 5 строками - как подтверждение того, что данные в датафрейм загружены верно. Если же в твоём случае считать, что 5 строк в начале и 5 строк в конце - это как массив из которого будет видно какие проблемы есть с данными (пропуски, аномальные значения), то поверь, для датафрейма с 16+ тысячами записей 10 строк это \"капля в море\". Проблемы с данными видны не будут. Для анализа мы будем использовать другие инструменты: .info(), .describe() и т.д.\n",
    "\n",
    "Если же ты выводишь датафрейм \"полностью\" для того, чтобы размерность датафрейма была на экране, то \"красивее\" использовать .shape в отдельной ячейке.</div>\n"
   ]
  },
  {
   "cell_type": "markdown",
   "metadata": {},
   "source": [
    "<div style=\"background: #B0E0E6; padding: 5px; border: 1px solid SteelBlue; border-radius: 5px;\">\n",
    "    <font color='4682B4'><u><b>КОММЕНТАРИЙ СТУДЕНТА</b></u></font>\n",
    "    <br />\n",
    "    <font color='4682B4'>Done!</font>\n",
    "</div>"
   ]
  },
  {
   "cell_type": "markdown",
   "metadata": {},
   "source": [
    "<div class=\"alert alert-success\">\n",
    "<b>ОТЛИЧНО! 👍</b>\n",
    "\n",
    "+\n",
    "</div>"
   ]
  },
  {
   "cell_type": "code",
   "execution_count": 4,
   "metadata": {},
   "outputs": [
    {
     "name": "stdout",
     "output_type": "stream",
     "text": [
      "<class 'pandas.core.frame.DataFrame'>\n",
      "RangeIndex: 16715 entries, 0 to 16714\n",
      "Data columns (total 11 columns):\n",
      " #   Column           Non-Null Count  Dtype  \n",
      "---  ------           --------------  -----  \n",
      " 0   Name             16713 non-null  object \n",
      " 1   Platform         16715 non-null  object \n",
      " 2   Year_of_Release  16446 non-null  float64\n",
      " 3   Genre            16713 non-null  object \n",
      " 4   NA_sales         16715 non-null  float64\n",
      " 5   EU_sales         16715 non-null  float64\n",
      " 6   JP_sales         16715 non-null  float64\n",
      " 7   Other_sales      16715 non-null  float64\n",
      " 8   Critic_Score     8137 non-null   float64\n",
      " 9   User_Score       10014 non-null  object \n",
      " 10  Rating           9949 non-null   object \n",
      "dtypes: float64(6), object(5)\n",
      "memory usage: 1.4+ MB\n"
     ]
    }
   ],
   "source": [
    "# выведем info по датафрейму\n",
    "data.info()"
   ]
  },
  {
   "cell_type": "code",
   "execution_count": 5,
   "metadata": {},
   "outputs": [
    {
     "data": {
      "text/html": [
       "<div>\n",
       "<style scoped>\n",
       "    .dataframe tbody tr th:only-of-type {\n",
       "        vertical-align: middle;\n",
       "    }\n",
       "\n",
       "    .dataframe tbody tr th {\n",
       "        vertical-align: top;\n",
       "    }\n",
       "\n",
       "    .dataframe thead th {\n",
       "        text-align: right;\n",
       "    }\n",
       "</style>\n",
       "<table border=\"1\" class=\"dataframe\">\n",
       "  <thead>\n",
       "    <tr style=\"text-align: right;\">\n",
       "      <th></th>\n",
       "      <th>count</th>\n",
       "      <th>mean</th>\n",
       "      <th>std</th>\n",
       "      <th>min</th>\n",
       "      <th>25%</th>\n",
       "      <th>50%</th>\n",
       "      <th>75%</th>\n",
       "      <th>max</th>\n",
       "    </tr>\n",
       "  </thead>\n",
       "  <tbody>\n",
       "    <tr>\n",
       "      <th>Year_of_Release</th>\n",
       "      <td>16446.0</td>\n",
       "      <td>2006.484616</td>\n",
       "      <td>5.877050</td>\n",
       "      <td>1980.0</td>\n",
       "      <td>2003.0</td>\n",
       "      <td>2007.00</td>\n",
       "      <td>2010.00</td>\n",
       "      <td>2016.00</td>\n",
       "    </tr>\n",
       "    <tr>\n",
       "      <th>NA_sales</th>\n",
       "      <td>16715.0</td>\n",
       "      <td>0.263377</td>\n",
       "      <td>0.813604</td>\n",
       "      <td>0.0</td>\n",
       "      <td>0.0</td>\n",
       "      <td>0.08</td>\n",
       "      <td>0.24</td>\n",
       "      <td>41.36</td>\n",
       "    </tr>\n",
       "    <tr>\n",
       "      <th>EU_sales</th>\n",
       "      <td>16715.0</td>\n",
       "      <td>0.145060</td>\n",
       "      <td>0.503339</td>\n",
       "      <td>0.0</td>\n",
       "      <td>0.0</td>\n",
       "      <td>0.02</td>\n",
       "      <td>0.11</td>\n",
       "      <td>28.96</td>\n",
       "    </tr>\n",
       "    <tr>\n",
       "      <th>JP_sales</th>\n",
       "      <td>16715.0</td>\n",
       "      <td>0.077617</td>\n",
       "      <td>0.308853</td>\n",
       "      <td>0.0</td>\n",
       "      <td>0.0</td>\n",
       "      <td>0.00</td>\n",
       "      <td>0.04</td>\n",
       "      <td>10.22</td>\n",
       "    </tr>\n",
       "    <tr>\n",
       "      <th>Other_sales</th>\n",
       "      <td>16715.0</td>\n",
       "      <td>0.047342</td>\n",
       "      <td>0.186731</td>\n",
       "      <td>0.0</td>\n",
       "      <td>0.0</td>\n",
       "      <td>0.01</td>\n",
       "      <td>0.03</td>\n",
       "      <td>10.57</td>\n",
       "    </tr>\n",
       "    <tr>\n",
       "      <th>Critic_Score</th>\n",
       "      <td>8137.0</td>\n",
       "      <td>68.967679</td>\n",
       "      <td>13.938165</td>\n",
       "      <td>13.0</td>\n",
       "      <td>60.0</td>\n",
       "      <td>71.00</td>\n",
       "      <td>79.00</td>\n",
       "      <td>98.00</td>\n",
       "    </tr>\n",
       "  </tbody>\n",
       "</table>\n",
       "</div>"
      ],
      "text/plain": [
       "                   count         mean        std     min     25%      50%  \\\n",
       "Year_of_Release  16446.0  2006.484616   5.877050  1980.0  2003.0  2007.00   \n",
       "NA_sales         16715.0     0.263377   0.813604     0.0     0.0     0.08   \n",
       "EU_sales         16715.0     0.145060   0.503339     0.0     0.0     0.02   \n",
       "JP_sales         16715.0     0.077617   0.308853     0.0     0.0     0.00   \n",
       "Other_sales      16715.0     0.047342   0.186731     0.0     0.0     0.01   \n",
       "Critic_Score      8137.0    68.967679  13.938165    13.0    60.0    71.00   \n",
       "\n",
       "                     75%      max  \n",
       "Year_of_Release  2010.00  2016.00  \n",
       "NA_sales            0.24    41.36  \n",
       "EU_sales            0.11    28.96  \n",
       "JP_sales            0.04    10.22  \n",
       "Other_sales         0.03    10.57  \n",
       "Critic_Score       79.00    98.00  "
      ]
     },
     "execution_count": 5,
     "metadata": {},
     "output_type": "execute_result"
    }
   ],
   "source": [
    "data.describe().T"
   ]
  },
  {
   "cell_type": "code",
   "execution_count": 6,
   "metadata": {},
   "outputs": [
    {
     "data": {
      "text/html": [
       "<style  type=\"text/css\" >\n",
       "#T_7340a_row0_col0,#T_7340a_row1_col0,#T_7340a_row3_col0,#T_7340a_row4_col0,#T_7340a_row5_col0,#T_7340a_row6_col0,#T_7340a_row7_col0{\n",
       "            background-color:  #3b4cc0;\n",
       "            color:  #f1f1f1;\n",
       "        }#T_7340a_row2_col0{\n",
       "            background-color:  #465ecf;\n",
       "            color:  #f1f1f1;\n",
       "        }#T_7340a_row8_col0{\n",
       "            background-color:  #b40426;\n",
       "            color:  #f1f1f1;\n",
       "        }#T_7340a_row9_col0,#T_7340a_row10_col0{\n",
       "            background-color:  #f08b6e;\n",
       "            color:  #000000;\n",
       "        }</style><table id=\"T_7340a_\" ><thead>    <tr>        <th class=\"blank level0\" ></th>        <th class=\"col_heading level0 col0\" >0</th>    </tr></thead><tbody>\n",
       "                <tr>\n",
       "                        <th id=\"T_7340a_level0_row0\" class=\"row_heading level0 row0\" >Name</th>\n",
       "                        <td id=\"T_7340a_row0_col0\" class=\"data row0 col0\" >0.000000</td>\n",
       "            </tr>\n",
       "            <tr>\n",
       "                        <th id=\"T_7340a_level0_row1\" class=\"row_heading level0 row1\" >Platform</th>\n",
       "                        <td id=\"T_7340a_row1_col0\" class=\"data row1 col0\" >0.000000</td>\n",
       "            </tr>\n",
       "            <tr>\n",
       "                        <th id=\"T_7340a_level0_row2\" class=\"row_heading level0 row2\" >Year_of_Release</th>\n",
       "                        <td id=\"T_7340a_row2_col0\" class=\"data row2 col0\" >2.000000</td>\n",
       "            </tr>\n",
       "            <tr>\n",
       "                        <th id=\"T_7340a_level0_row3\" class=\"row_heading level0 row3\" >Genre</th>\n",
       "                        <td id=\"T_7340a_row3_col0\" class=\"data row3 col0\" >0.000000</td>\n",
       "            </tr>\n",
       "            <tr>\n",
       "                        <th id=\"T_7340a_level0_row4\" class=\"row_heading level0 row4\" >NA_sales</th>\n",
       "                        <td id=\"T_7340a_row4_col0\" class=\"data row4 col0\" >0.000000</td>\n",
       "            </tr>\n",
       "            <tr>\n",
       "                        <th id=\"T_7340a_level0_row5\" class=\"row_heading level0 row5\" >EU_sales</th>\n",
       "                        <td id=\"T_7340a_row5_col0\" class=\"data row5 col0\" >0.000000</td>\n",
       "            </tr>\n",
       "            <tr>\n",
       "                        <th id=\"T_7340a_level0_row6\" class=\"row_heading level0 row6\" >JP_sales</th>\n",
       "                        <td id=\"T_7340a_row6_col0\" class=\"data row6 col0\" >0.000000</td>\n",
       "            </tr>\n",
       "            <tr>\n",
       "                        <th id=\"T_7340a_level0_row7\" class=\"row_heading level0 row7\" >Other_sales</th>\n",
       "                        <td id=\"T_7340a_row7_col0\" class=\"data row7 col0\" >0.000000</td>\n",
       "            </tr>\n",
       "            <tr>\n",
       "                        <th id=\"T_7340a_level0_row8\" class=\"row_heading level0 row8\" >Critic_Score</th>\n",
       "                        <td id=\"T_7340a_row8_col0\" class=\"data row8 col0\" >51.000000</td>\n",
       "            </tr>\n",
       "            <tr>\n",
       "                        <th id=\"T_7340a_level0_row9\" class=\"row_heading level0 row9\" >User_Score</th>\n",
       "                        <td id=\"T_7340a_row9_col0\" class=\"data row9 col0\" >40.000000</td>\n",
       "            </tr>\n",
       "            <tr>\n",
       "                        <th id=\"T_7340a_level0_row10\" class=\"row_heading level0 row10\" >Rating</th>\n",
       "                        <td id=\"T_7340a_row10_col0\" class=\"data row10 col0\" >40.000000</td>\n",
       "            </tr>\n",
       "    </tbody></table>"
      ],
      "text/plain": [
       "<pandas.io.formats.style.Styler at 0x7fac9c091940>"
      ]
     },
     "execution_count": 6,
     "metadata": {},
     "output_type": "execute_result"
    }
   ],
   "source": [
    "# проверим кол-во пропусков в процентах\n",
    "pd.DataFrame(round(data.isna().mean()*100,)).style.background_gradient('coolwarm')"
   ]
  },
  {
   "cell_type": "markdown",
   "metadata": {},
   "source": [
    "<div class=\"alert alert-success\">\n",
    "<b>ОТЛИЧНО! 👍</b>\n",
    "\n",
    "Это хорошо! \"Отображение\" пропусков в процентах воспринимается проще и нагляднее, чем в абсолютных единицах.</div>\n"
   ]
  },
  {
   "cell_type": "code",
   "execution_count": 7,
   "metadata": {
    "scrolled": false
   },
   "outputs": [
    {
     "data": {
      "image/png": "[encoded data removed]",
      "text/plain": [
       "<Figure size 1080x1080 with 6 Axes>"
      ]
     },
     "metadata": {
      "needs_background": "light"
     },
     "output_type": "display_data"
    }
   ],
   "source": [
    "# построим гистораммы для датасета\n",
    "data.hist(figsize=(15, 15))\n",
    "plt.show()"
   ]
  },
  {
   "cell_type": "markdown",
   "metadata": {},
   "source": [
    "***Вывод: В датасете представлены игру, которые были выпущены в период 1980 - 2016. Аномалий в данных не замечено. Столбец User_Scrore нужно привести с вещественному типу. Также необходимо преобразовать названия столбцов к нижнему регистру. Более 50% пропусков в столбце с оценкой критиков. По 40% в столбцах User_Score и Rating. Пропуски необходимо обработать.***"
   ]
  },
  {
   "cell_type": "markdown",
   "metadata": {},
   "source": [
    "<div class=\"alert alert-success\">\n",
    "<b>ОТЛИЧНО! 👍</b>\n",
    "\n",
    "Спасибо за точный и конкретный вывод по предварительному анализу загруженных данных. Зачастую коллеги ограничиваются исключительно кодом, без слов. Ввиду чего непонятно к каким выводам они пришли и что собираются делать дальше.</div>\n"
   ]
  },
  {
   "cell_type": "markdown",
   "metadata": {},
   "source": [
    "## Предобработка данных"
   ]
  },
  {
   "cell_type": "markdown",
   "metadata": {},
   "source": [
    "### Стиль колонок"
   ]
  },
  {
   "cell_type": "markdown",
   "metadata": {},
   "source": [
    "Приведем столбцы к нижнему регистру"
   ]
  },
  {
   "cell_type": "code",
   "execution_count": 8,
   "metadata": {},
   "outputs": [
    {
     "data": {
      "text/plain": [
       "Index(['name', 'platform', 'year_of_release', 'genre', 'na_sales', 'eu_sales',\n",
       "       'jp_sales', 'other_sales', 'critic_score', 'user_score', 'rating'],\n",
       "      dtype='object')"
      ]
     },
     "execution_count": 8,
     "metadata": {},
     "output_type": "execute_result"
    }
   ],
   "source": [
    "# Переименуем столбцы\n",
    "data.rename(str.lower, axis='columns', inplace=True)\n",
    "# Проверим переименование\n",
    "data.columns"
   ]
  },
  {
   "cell_type": "markdown",
   "metadata": {},
   "source": [
    "<div class=\"alert alert-warning\">\n",
    "<b>Комментарий 👉</b>\n",
    "\n",
    "Заметь, что по условию задачи нам требуется не переименовать столбцы, а лишь привести их к нижнему регистру. Твой вариант решает запрошенную задачу, но можно сделать и проще (с точки зрения количества кода) - через str.lower().\n",
    "</div>\n"
   ]
  },
  {
   "cell_type": "markdown",
   "metadata": {},
   "source": [
    "### Обработка пропусков"
   ]
  },
  {
   "cell_type": "code",
   "execution_count": 9,
   "metadata": {},
   "outputs": [
    {
     "data": {
      "text/plain": [
       "name                  2\n",
       "platform              0\n",
       "year_of_release     269\n",
       "genre                 2\n",
       "na_sales              0\n",
       "eu_sales              0\n",
       "jp_sales              0\n",
       "other_sales           0\n",
       "critic_score       8578\n",
       "user_score         6701\n",
       "rating             6766\n",
       "dtype: int64"
      ]
     },
     "execution_count": 9,
     "metadata": {},
     "output_type": "execute_result"
    }
   ],
   "source": [
    "# Посчитаем пропуски значений\n",
    "data.isna().sum()"
   ]
  },
  {
   "cell_type": "markdown",
   "metadata": {},
   "source": [
    "***В 6 столбцах присутствуют пропуски:***\n",
    "\n",
    "- name: 2 пропуска не повлияют на исследование, оставим.\n",
    "- year_of_release: 269 пропусков не повлияют на исследование, оставим.\n",
    "- genre: 2 пропуска не повлияют на исследование, оставим.\n",
    "- critic_score: 8578 пропусков. 5% игр не имеют оценки критиков. Заполнить значения нечем, оставим пропуски.\n",
    "- user_score: 6701 пропуск. 4% игр не имеют оценки пользователей. Заполнить значения нечем, оставим пропуски.\n",
    "- rating: 6766 пропусков. 4% игр не имеют возрастной категории. Для корректности выводов, пропуски в этом столбце поменяем на not rated."
   ]
  },
  {
   "cell_type": "markdown",
   "metadata": {},
   "source": [
    "<div class=\"alert alert-success\">\n",
    "<b>ОТЛИЧНО! 👍</b>\n",
    "\n",
    "Отлично, проведена работа по анализу пропусков, в принципе высказан ряд корректных предположений на тему природы пропусков в оценках игр и пропусков в рейтингах.</div>\n"
   ]
  },
  {
   "cell_type": "code",
   "execution_count": 10,
   "metadata": {},
   "outputs": [
    {
     "data": {
      "text/plain": [
       "array(['8', nan, '8.3', '8.5', '6.6', '8.4', '8.6', '7.7', '6.3', '7.4',\n",
       "       '8.2', '9', '7.9', '8.1', '8.7', '7.1', '3.4', '5.3', '4.8', '3.2',\n",
       "       '8.9', '6.4', '7.8', '7.5', '2.6', '7.2', '9.2', '7', '7.3', '4.3',\n",
       "       '7.6', '5.7', '5', '9.1', '6.5', 'tbd', '8.8', '6.9', '9.4', '6.8',\n",
       "       '6.1', '6.7', '5.4', '4', '4.9', '4.5', '9.3', '6.2', '4.2', '6',\n",
       "       '3.7', '4.1', '5.8', '5.6', '5.5', '4.4', '4.6', '5.9', '3.9',\n",
       "       '3.1', '2.9', '5.2', '3.3', '4.7', '5.1', '3.5', '2.5', '1.9', '3',\n",
       "       '2.7', '2.2', '2', '9.5', '2.1', '3.6', '2.8', '1.8', '3.8', '0',\n",
       "       '1.6', '9.6', '2.4', '1.7', '1.1', '0.3', '1.5', '0.7', '1.2',\n",
       "       '2.3', '0.5', '1.3', '0.2', '0.6', '1.4', '0.9', '1', '9.7'],\n",
       "      dtype=object)"
      ]
     },
     "execution_count": 10,
     "metadata": {},
     "output_type": "execute_result"
    }
   ],
   "source": [
    "# посмотрим на значения в столбце user_score\n",
    "data['user_score'].unique()"
   ]
  },
  {
   "cell_type": "markdown",
   "metadata": {},
   "source": [
    "***Видим, что есть пропуски и tbd. Что это не понятно, поэтому посмотрим сколько раз повторяется это значение и запишем его в пропуски***"
   ]
  },
  {
   "cell_type": "markdown",
   "metadata": {},
   "source": [
    "<div class=\"alert alert-warning\">\n",
    "<b>Комментарий 👉</b>\n",
    "\n",
    "Как ты думаешь, что означает tbd? В Интернете есть ответ на этот вопрос. После твоего ответа как раз и станет очевидной правомерность его замены на NaN.</div>\n"
   ]
  },
  {
   "cell_type": "markdown",
   "metadata": {},
   "source": [
    "<div style=\"background: #B0E0E6; padding: 5px; border: 1px solid SteelBlue; border-radius: 5px;\">\n",
    "    <font color='4682B4'><u><b>КОММЕНТАРИЙ СТУДЕНТА</b></u></font>\n",
    "    <br />\n",
    "    <font color='4682B4'>TBD (to be determined = будет определено).Да, все понятно.</font>\n",
    "</div>"
   ]
  },
  {
   "cell_type": "markdown",
   "metadata": {},
   "source": [
    "<div class=\"alert alert-success\">\n",
    "<b>ОТЛИЧНО! 👍</b>\n",
    "\n",
    "Да, верно.\n",
    "</div>"
   ]
  },
  {
   "cell_type": "code",
   "execution_count": 11,
   "metadata": {},
   "outputs": [
    {
     "data": {
      "text/plain": [
       "2424"
      ]
     },
     "execution_count": 11,
     "metadata": {},
     "output_type": "execute_result"
    }
   ],
   "source": [
    "len(data[data['user_score'] == 'tbd'])"
   ]
  },
  {
   "cell_type": "markdown",
   "metadata": {},
   "source": [
    "<div class=\"alert alert-warning\">\n",
    "<b>Комментарий 👉</b>\n",
    "\n",
    "В библиотеке Pandas более типичным способом получения информации о размерности датафрейма  является использование метода **shape**, а не функции **len()** или **info()**. Так (**псевдокод**): df.shape[0] – «покажет» количество строк в датафрейме, а df.shape[1] - количество столбцов. Ну а df.shape – выведет размерность датафрейма в виде кортежа с 2мя значениями (первое число – количество строк, второе – столбцов).</div>\n"
   ]
  },
  {
   "cell_type": "code",
   "execution_count": 12,
   "metadata": {},
   "outputs": [
    {
     "data": {
      "text/plain": [
       "9125"
      ]
     },
     "execution_count": 12,
     "metadata": {},
     "output_type": "execute_result"
    }
   ],
   "source": [
    "# Заменим значения tbd на пропуски\n",
    "data.loc[data['user_score'] == 'tbd', 'user_score'] = None\n",
    "\n",
    "# Проверим новое количество пропусков в столбце\n",
    "data['user_score'].isna().sum()"
   ]
  },
  {
   "cell_type": "markdown",
   "metadata": {},
   "source": [
    "<div class=\"alert alert-success\">\n",
    "<b>ОТЛИЧНО! 👍</b>\n",
    "\n",
    "То, что ты в 'critic_score' и 'user_score' (после обращения tbd в NaN) оставляешь NaN'ы без обработки - значительно упростит тебе жизнь дальше. В этом проекте - это верное решение.</div>\n"
   ]
  },
  {
   "cell_type": "code",
   "execution_count": 13,
   "metadata": {},
   "outputs": [
    {
     "data": {
      "text/plain": [
       "array(['E', nan, 'M', 'T', 'E10+', 'K-A', 'AO', 'EC', 'RP'], dtype=object)"
      ]
     },
     "execution_count": 13,
     "metadata": {},
     "output_type": "execute_result"
    }
   ],
   "source": [
    "# посмотрим на значения в столбце rating\n",
    "data['rating'].unique()"
   ]
  },
  {
   "cell_type": "code",
   "execution_count": 14,
   "metadata": {},
   "outputs": [],
   "source": [
    "# Заполним пропуски в столбце rating значением not rated\n",
    "data.loc[data['rating'].isna(), 'rating'] = 'not_rated'"
   ]
  },
  {
   "cell_type": "markdown",
   "metadata": {},
   "source": [
    "<div class=\"alert alert-success\">\n",
    "<b>ОТЛИЧНО! 👍</b>\n",
    "\n",
    "Отлично, принято правильное решение! «Заглушка» для NaN значений в столбце ‘rating’ – это верное решение в этом проекте. Далее, когда ты будешь анализировать особенности регионов в зависимости от рейтинга ESRB, то увидишь, что если бы они остались NaN, то на графиках их не было бы видно, также такие игры \"выпали\" бы из анализа и выводов, а это красная ошибка в этом проекте.</div>\n"
   ]
  },
  {
   "cell_type": "code",
   "execution_count": 15,
   "metadata": {},
   "outputs": [
    {
     "data": {
      "text/plain": [
       "0"
      ]
     },
     "execution_count": 15,
     "metadata": {},
     "output_type": "execute_result"
    }
   ],
   "source": [
    "# Проверим заполнение пропусков\n",
    "data['rating'].isna().sum()"
   ]
  },
  {
   "cell_type": "markdown",
   "metadata": {},
   "source": [
    "### Меняем типы данных"
   ]
  },
  {
   "cell_type": "markdown",
   "metadata": {},
   "source": [
    "Заменим тип данных в столбце user_score на вещественный"
   ]
  },
  {
   "cell_type": "code",
   "execution_count": 16,
   "metadata": {},
   "outputs": [],
   "source": [
    "# заменяем\n",
    "data['user_score'] = data['user_score'].astype('float64')"
   ]
  },
  {
   "cell_type": "code",
   "execution_count": 17,
   "metadata": {},
   "outputs": [
    {
     "data": {
      "text/plain": [
       "name                object\n",
       "platform            object\n",
       "year_of_release    float64\n",
       "genre               object\n",
       "na_sales           float64\n",
       "eu_sales           float64\n",
       "jp_sales           float64\n",
       "other_sales        float64\n",
       "critic_score       float64\n",
       "user_score         float64\n",
       "rating              object\n",
       "dtype: object"
      ]
     },
     "execution_count": 17,
     "metadata": {},
     "output_type": "execute_result"
    }
   ],
   "source": [
    "# проверяем\n",
    "data.dtypes"
   ]
  },
  {
   "cell_type": "markdown",
   "metadata": {},
   "source": [
    "### Устраняем дубликаты"
   ]
  },
  {
   "cell_type": "code",
   "execution_count": 18,
   "metadata": {},
   "outputs": [
    {
     "data": {
      "text/plain": [
       "0"
      ]
     },
     "execution_count": 18,
     "metadata": {},
     "output_type": "execute_result"
    }
   ],
   "source": [
    "data.duplicated().sum()"
   ]
  },
  {
   "cell_type": "markdown",
   "metadata": {},
   "source": [
    "Явные дубликаты отсутствуют"
   ]
  },
  {
   "cell_type": "markdown",
   "metadata": {},
   "source": [
    "<div class=\"alert alert-warning\">\n",
    "<b>Предложение 👉</b>\n",
    "\n",
    "**df.duplicated().sum() == 0** не означает, что в данных нет дубликатов (записей). \n",
    "    \n",
    "В реальных рабочих датасетах скорее всего не будет полных дубликатов, но вот неявные наверняка будут встречаться, соответственно с ними надо будет уметь работать. Попробуй найти неявные дубликаты (нужно использовать параметр **subset**). Ну а в нашем учебном проекте пробуй найти дубликаты для пары \"Имя - Игровая консоль\".\n",
    "\n",
    "Как их планируешь и планируешь ли обрабатывать?</div>\n"
   ]
  },
  {
   "cell_type": "code",
   "execution_count": 19,
   "metadata": {},
   "outputs": [
    {
     "data": {
      "text/plain": [
       "0        False\n",
       "1        False\n",
       "2        False\n",
       "3        False\n",
       "4        False\n",
       "         ...  \n",
       "16710    False\n",
       "16711    False\n",
       "16712    False\n",
       "16713    False\n",
       "16714    False\n",
       "Length: 16715, dtype: bool"
      ]
     },
     "execution_count": 19,
     "metadata": {},
     "output_type": "execute_result"
    }
   ],
   "source": [
    "data.duplicated(subset=['name', 'platform'], keep=False)"
   ]
  },
  {
   "cell_type": "markdown",
   "metadata": {},
   "source": [
    "<div class=\"alert alert-warning\">\n",
    "<b>Комментарий 👉</b>\n",
    "\n",
    "А если в subset передать ещё параметр keep=False, то можно будет в output'е увидеть все записи, которые Пандас посчитал дублями по выбранному тобой набору столбцов в subset'е.\n",
    "</div>\n"
   ]
  },
  {
   "cell_type": "markdown",
   "metadata": {},
   "source": [
    "***Посчитаем суммарные продажи во всех регионах и запишем их в отдельный столбец.***"
   ]
  },
  {
   "cell_type": "code",
   "execution_count": 20,
   "metadata": {},
   "outputs": [
    {
     "data": {
      "text/plain": [
       "Index(['name', 'platform', 'year_of_release', 'genre', 'na_sales', 'eu_sales',\n",
       "       'jp_sales', 'other_sales', 'critic_score', 'user_score', 'rating'],\n",
       "      dtype='object')"
      ]
     },
     "execution_count": 20,
     "metadata": {},
     "output_type": "execute_result"
    }
   ],
   "source": [
    "data.columns"
   ]
  },
  {
   "cell_type": "code",
   "execution_count": 21,
   "metadata": {},
   "outputs": [],
   "source": [
    "data['total_sales'] = (\n",
    "    data['na_sales']\n",
    "    + data['eu_sales']\n",
    "    + data['jp_sales']\n",
    "    + data['other_sales']\n",
    ")                   "
   ]
  },
  {
   "cell_type": "markdown",
   "metadata": {},
   "source": [
    "<div class=\"alert alert-warning\">\n",
    "<b>Комментарий 👉</b>\n",
    "\n",
    "Ещё такой вариант суммирования есть (просто как альтернатива … **псевдокод**): **data[['na_sales','eu_sales','jp_sales', 'other_sales']].sum(axis='columns')** и \"присвоить\" этот результат новому столбцу в **data**.</div>\n"
   ]
  },
  {
   "cell_type": "code",
   "execution_count": 22,
   "metadata": {},
   "outputs": [
    {
     "data": {
      "text/html": [
       "<div>\n",
       "<style scoped>\n",
       "    .dataframe tbody tr th:only-of-type {\n",
       "        vertical-align: middle;\n",
       "    }\n",
       "\n",
       "    .dataframe tbody tr th {\n",
       "        vertical-align: top;\n",
       "    }\n",
       "\n",
       "    .dataframe thead th {\n",
       "        text-align: right;\n",
       "    }\n",
       "</style>\n",
       "<table border=\"1\" class=\"dataframe\">\n",
       "  <thead>\n",
       "    <tr style=\"text-align: right;\">\n",
       "      <th></th>\n",
       "      <th>name</th>\n",
       "      <th>platform</th>\n",
       "      <th>year_of_release</th>\n",
       "      <th>genre</th>\n",
       "      <th>na_sales</th>\n",
       "      <th>eu_sales</th>\n",
       "      <th>jp_sales</th>\n",
       "      <th>other_sales</th>\n",
       "      <th>critic_score</th>\n",
       "      <th>user_score</th>\n",
       "      <th>rating</th>\n",
       "      <th>total_sales</th>\n",
       "    </tr>\n",
       "  </thead>\n",
       "  <tbody>\n",
       "    <tr>\n",
       "      <th>0</th>\n",
       "      <td>Wii Sports</td>\n",
       "      <td>Wii</td>\n",
       "      <td>2006.0</td>\n",
       "      <td>Sports</td>\n",
       "      <td>41.36</td>\n",
       "      <td>28.96</td>\n",
       "      <td>3.77</td>\n",
       "      <td>8.45</td>\n",
       "      <td>76.0</td>\n",
       "      <td>8.0</td>\n",
       "      <td>E</td>\n",
       "      <td>82.54</td>\n",
       "    </tr>\n",
       "    <tr>\n",
       "      <th>1</th>\n",
       "      <td>Super Mario Bros.</td>\n",
       "      <td>NES</td>\n",
       "      <td>1985.0</td>\n",
       "      <td>Platform</td>\n",
       "      <td>29.08</td>\n",
       "      <td>3.58</td>\n",
       "      <td>6.81</td>\n",
       "      <td>0.77</td>\n",
       "      <td>NaN</td>\n",
       "      <td>NaN</td>\n",
       "      <td>not_rated</td>\n",
       "      <td>40.24</td>\n",
       "    </tr>\n",
       "    <tr>\n",
       "      <th>2</th>\n",
       "      <td>Mario Kart Wii</td>\n",
       "      <td>Wii</td>\n",
       "      <td>2008.0</td>\n",
       "      <td>Racing</td>\n",
       "      <td>15.68</td>\n",
       "      <td>12.76</td>\n",
       "      <td>3.79</td>\n",
       "      <td>3.29</td>\n",
       "      <td>82.0</td>\n",
       "      <td>8.3</td>\n",
       "      <td>E</td>\n",
       "      <td>35.52</td>\n",
       "    </tr>\n",
       "    <tr>\n",
       "      <th>3</th>\n",
       "      <td>Wii Sports Resort</td>\n",
       "      <td>Wii</td>\n",
       "      <td>2009.0</td>\n",
       "      <td>Sports</td>\n",
       "      <td>15.61</td>\n",
       "      <td>10.93</td>\n",
       "      <td>3.28</td>\n",
       "      <td>2.95</td>\n",
       "      <td>80.0</td>\n",
       "      <td>8.0</td>\n",
       "      <td>E</td>\n",
       "      <td>32.77</td>\n",
       "    </tr>\n",
       "    <tr>\n",
       "      <th>4</th>\n",
       "      <td>Pokemon Red/Pokemon Blue</td>\n",
       "      <td>GB</td>\n",
       "      <td>1996.0</td>\n",
       "      <td>Role-Playing</td>\n",
       "      <td>11.27</td>\n",
       "      <td>8.89</td>\n",
       "      <td>10.22</td>\n",
       "      <td>1.00</td>\n",
       "      <td>NaN</td>\n",
       "      <td>NaN</td>\n",
       "      <td>not_rated</td>\n",
       "      <td>31.38</td>\n",
       "    </tr>\n",
       "  </tbody>\n",
       "</table>\n",
       "</div>"
      ],
      "text/plain": [
       "                       name platform  year_of_release         genre  na_sales  \\\n",
       "0                Wii Sports      Wii           2006.0        Sports     41.36   \n",
       "1         Super Mario Bros.      NES           1985.0      Platform     29.08   \n",
       "2            Mario Kart Wii      Wii           2008.0        Racing     15.68   \n",
       "3         Wii Sports Resort      Wii           2009.0        Sports     15.61   \n",
       "4  Pokemon Red/Pokemon Blue       GB           1996.0  Role-Playing     11.27   \n",
       "\n",
       "   eu_sales  jp_sales  other_sales  critic_score  user_score     rating  \\\n",
       "0     28.96      3.77         8.45          76.0         8.0          E   \n",
       "1      3.58      6.81         0.77           NaN         NaN  not_rated   \n",
       "2     12.76      3.79         3.29          82.0         8.3          E   \n",
       "3     10.93      3.28         2.95          80.0         8.0          E   \n",
       "4      8.89     10.22         1.00           NaN         NaN  not_rated   \n",
       "\n",
       "   total_sales  \n",
       "0        82.54  \n",
       "1        40.24  \n",
       "2        35.52  \n",
       "3        32.77  \n",
       "4        31.38  "
      ]
     },
     "execution_count": 22,
     "metadata": {},
     "output_type": "execute_result"
    }
   ],
   "source": [
    "data.head()"
   ]
  },
  {
   "cell_type": "markdown",
   "metadata": {},
   "source": [
    "***Вывод:***\n",
    "\n",
    "***Исправлены стили заголовков, обработаны пропуски в столбце rating, убрали нечисловые значения в столбце user_score, исправили тип данных столбца user_score. Выяснили, что явные дубликаты в датафрейме отсутствуют. Создали новый столбец с сумарными продажами по всем регионам***"
   ]
  },
  {
   "cell_type": "markdown",
   "metadata": {},
   "source": [
    "<div class=\"alert alert-success\">\n",
    "<b>ОТЛИЧНО! 👍</b>\n",
    "\n",
    "Данные загружены, отлично.\n",
    "\n",
    "Хорошо, что применяешь метод .head()/.sample() таким образом в память не будет загружен весь датасет, объем которого может быть огромным.\n",
    "\n",
    "Методы .info, .describe, .value_counts(), .unique() как правило часто встречаются и обязательны к применению в задачах по исследованию данных, ведь с их помощью можно получить первые инсайты. \n",
    "\n",
    "Итак, мы провели предварительный анализ данных, проверили данные на наличие пропусков и затем обработали их (аргументированно заполнили / удалили / оставили как есть). Теперь можно приступать собственно к анализу данных и ответам на вопросы проекта.</div>\n"
   ]
  },
  {
   "cell_type": "markdown",
   "metadata": {},
   "source": [
    "## Исследовательский анализ"
   ]
  },
  {
   "cell_type": "markdown",
   "metadata": {},
   "source": [
    "### ***Посмотрим, сколько игр выпускалось в разные годы.***"
   ]
  },
  {
   "cell_type": "code",
   "execution_count": 23,
   "metadata": {},
   "outputs": [
    {
     "data": {
      "text/plain": [
       "year_of_release\n",
       "1980.0       9\n",
       "1981.0      46\n",
       "1982.0      36\n",
       "1983.0      17\n",
       "1984.0      14\n",
       "1985.0      14\n",
       "1986.0      21\n",
       "1987.0      16\n",
       "1988.0      15\n",
       "1989.0      17\n",
       "1990.0      16\n",
       "1991.0      41\n",
       "1992.0      43\n",
       "1993.0      60\n",
       "1994.0     121\n",
       "1995.0     219\n",
       "1996.0     263\n",
       "1997.0     289\n",
       "1998.0     379\n",
       "1999.0     338\n",
       "2000.0     350\n",
       "2001.0     482\n",
       "2002.0     829\n",
       "2003.0     775\n",
       "2004.0     762\n",
       "2005.0     939\n",
       "2006.0    1006\n",
       "2007.0    1197\n",
       "2008.0    1427\n",
       "2009.0    1426\n",
       "2010.0    1255\n",
       "2011.0    1136\n",
       "2012.0     653\n",
       "2013.0     544\n",
       "2014.0     581\n",
       "2015.0     606\n",
       "2016.0     502\n",
       "Name: name, dtype: int64"
      ]
     },
     "execution_count": 23,
     "metadata": {},
     "output_type": "execute_result"
    }
   ],
   "source": [
    "data.groupby('year_of_release')['name'].count()"
   ]
  },
  {
   "cell_type": "markdown",
   "metadata": {},
   "source": [
    "<div class=\"alert alert-warning\">\n",
    "<b>Комментарий 👉</b>\n",
    "\n",
    "Агрегация по count() покажет нам число игр, выпущенных на всех платформах, в разрезе лет. Т.е. если одна и та же игра (name) вышла в некоем году на одной платформе, агрегат == 1. Если на 2-х платформах, агрегат == 2, ну и так далее. У меня вопрос к тебе – что в твоем случае, в написанном тобой коде мы считаем выпуском игры (в этом, некоем году)?\n",
    "\n",
    "Возможно, чтобы получить истинное количество «игр по годам» нам следует поискать дубликаты (используя subset по (Годам - Названиям игр) и затем исключить из полного датафрейма все дубли за исключением одной, «первой», строки? Как ты считаешь?</div>\n"
   ]
  },
  {
   "cell_type": "code",
   "execution_count": 24,
   "metadata": {},
   "outputs": [
    {
     "data": {
      "text/plain": [
       "12428"
      ]
     },
     "execution_count": 24,
     "metadata": {},
     "output_type": "execute_result"
    }
   ],
   "source": [
    "#data.duplicated(subset=['year_of_release', 'name'], keep = 'first')\n",
    "game_years = data.drop_duplicates(subset=['year_of_release', 'name'], keep = 'first')\n",
    "len(game_years)"
   ]
  },
  {
   "cell_type": "markdown",
   "metadata": {},
   "source": [
    "<div class=\"alert alert-warning\">\n",
    "<b>Комментарий 👉</b>\n",
    "\n",
    "И что из этого следует?\n",
    "</div>"
   ]
  },
  {
   "cell_type": "markdown",
   "metadata": {},
   "source": [
    "<div style=\"background: #B0E0E6; padding: 5px; border: 1px solid SteelBlue; border-radius: 5px;\">\n",
    "    <font color='4682B4'><u><b>КОММЕНТАРИЙ СТУДЕНТА</b></u></font>\n",
    "    <br />\n",
    "    <font color='4682B4'>Изначально у меня было предположение, что это не дубликаты, а разные игры под разные платформы, иногда их делают даже разные команды, то что у них одно название - это не значит что это одна игра. После твоего комментария я попробовал удалить их и посмотреть графики. Вот что сделал:\n",
    "    По итогу я создал новую переменную и удалил такие дубли. Их оказалось порядка 4тыс. По графику видно, что он немножко изменился. Возможно, такие данные дают более ясную картину зависимости игр по годам. Для наглядности оставлю старый и новый график.</font>\n",
    "</div>"
   ]
  },
  {
   "cell_type": "markdown",
   "metadata": {},
   "source": [
    "<div class=\"alert alert-success\">\n",
    "<b>КОММЕНТАРИЙ V2</b>\n",
    "\n",
    "Ага, теперь понял! Здесь ты рассуждаешь на тему того, как и почему мы будем работать с играми, которые выходят сразу на нескольких платформах. Будем мы их считать разными, уникальными играми. Или мы их будем считать, как одну игру, которая вышла в текущем году. Отлично, молодец, спасибо за обдумывание и рассказ!</div>"
   ]
  },
  {
   "cell_type": "code",
   "execution_count": 25,
   "metadata": {
    "scrolled": false
   },
   "outputs": [
    {
     "data": {
      "image/png": "[encoded data removed]",
      "text/plain": [
       "<Figure size 936x432 with 1 Axes>"
      ]
     },
     "metadata": {
      "needs_background": "light"
     },
     "output_type": "display_data"
    }
   ],
   "source": [
    "data.groupby('year_of_release')['name'].count()\\\n",
    ".plot(y='name', kind='bar',figsize=(13,6), title = 'Количество игр выпускаемых по годам', ec='black')\\\n",
    ".set(xlabel = 'Год выпуска игр', ylabel = 'Количество выпускаемых игр');"
   ]
  },
  {
   "cell_type": "markdown",
   "metadata": {},
   "source": [
    "<p></p>\n",
    "\n",
    "<div style=\"border:solid purple 2px; padding: 20px\">\n",
    "    Сверху представлен график по старым данным. Внизу по отфильтрованным. Общая картина сохранилась, но данные стали точнее.\n",
    "<div>"
   ]
  },
  {
   "cell_type": "code",
   "execution_count": 26,
   "metadata": {},
   "outputs": [
    {
     "data": {
      "image/png": "[encoded data removed]",
      "text/plain": [
       "<Figure size 936x432 with 1 Axes>"
      ]
     },
     "metadata": {
      "needs_background": "light"
     },
     "output_type": "display_data"
    }
   ],
   "source": [
    "game_years.groupby('year_of_release')['name'].count()\\\n",
    ".plot(y='name', kind='bar',figsize=(13,6), title = 'Количество игр выпускаемых по годам', ec='black')\\\n",
    ".set(xlabel = 'Год выпуска игр', ylabel = 'Количество выпускаемых игр');"
   ]
  },
  {
   "cell_type": "markdown",
   "metadata": {},
   "source": [
    "***Вывод: Больше всего игр было выпущено в 2008 и 2009г. На графике виден рост в период с 1994 года - это время выхода Sony PlayStation. До 2008 года каждый год выпуск игр увеличивался. После 2008 года наблюдается резкий спад выпуска игр. Возможно, это связано с мировым кризисом. Обратный рост начался с 2013 года и выпуск игр увеличивался из года в год. Учитывая, что данные за 2016 год неполные, можно предположить, что выпуск игр по итогам 2016 года будет на уровне 2015 года.***\n",
    "\n",
    "***В рамках исследования стоит рассматривать период начиная с 2013 года. Большой рост количетсва выпускаемых игр до 2008 года и восстановление рынка после кризиса 2008-2012 годов не дадут сделать точный прогноз на 2017 год.***"
   ]
  },
  {
   "cell_type": "markdown",
   "metadata": {},
   "source": [
    "<div class=\"alert alert-success\">\n",
    "<b>ОТЛИЧНО! 👍</b>\n",
    "\n",
    "Просто супер: график подписан, оси подписаны. Не часто на самом деле такой скрупулёзный подход к оформлению встречается. Молодец! Также, здорово, что есть объяснение поведения данного графика. Пытаться понять полученный результат - важная часть работы аналитика.</div>\n"
   ]
  },
  {
   "cell_type": "markdown",
   "metadata": {},
   "source": [
    "### Посмотрим, как менялись продажи по платформам. "
   ]
  },
  {
   "cell_type": "markdown",
   "metadata": {},
   "source": [
    "Выберим платформы с наибольшими суммарными продажами и построим распределение по годам."
   ]
  },
  {
   "cell_type": "code",
   "execution_count": 27,
   "metadata": {},
   "outputs": [
    {
     "data": {
      "text/plain": [
       "platform\n",
       "PS2     1255.77\n",
       "X360     971.42\n",
       "PS3      939.65\n",
       "Wii      907.51\n",
       "DS       806.12\n",
       "PS       730.86\n",
       "GBA      317.85\n",
       "PS4      314.14\n",
       "PSP      294.05\n",
       "PC       259.52\n",
       "Name: total_sales, dtype: float64"
      ]
     },
     "execution_count": 27,
     "metadata": {},
     "output_type": "execute_result"
    }
   ],
   "source": [
    "data.groupby('platform')['total_sales'].sum().sort_values(ascending=False).head(10)"
   ]
  },
  {
   "cell_type": "markdown",
   "metadata": {},
   "source": [
    "***Вывод: Лидером ТОП-10 является play station 2.***\n",
    "\n",
    "Возьмем топ-5 платформ и построим график\n",
    "- PS2 — Sony PlayStation 2;\n",
    "- X360 — Microsoft Xbox 360;\n",
    "- PS3 — Sony PlayStation 3;\n",
    "- Wii — Nintendo Wii;\n",
    "- DS — Nintendo DS."
   ]
  },
  {
   "cell_type": "code",
   "execution_count": 28,
   "metadata": {},
   "outputs": [
    {
     "data": {
      "image/png": "[encoded data removed]",
      "text/plain": [
       "<Figure size 936x432 with 1 Axes>"
      ]
     },
     "metadata": {
      "needs_background": "light"
     },
     "output_type": "display_data"
    }
   ],
   "source": [
    "# Список платформ топ-5\n",
    "\n",
    "tmp = data.pivot_table(index='platform', values='total_sales', aggfunc= 'sum').sort_values('total_sales', ascending=False)\n",
    "top_platforms = tmp.index[:5].tolist()\n",
    "#top_platforms = [\"PS2\", \"X360\", \"PS3\", \"Wii\", \"DS\"]\n",
    "\n",
    "# Построим графики продаж игр по годам для выбранных платформ\n",
    "for top in top_platforms:\n",
    "    (\n",
    "        data.loc[data['platform'] == top]\n",
    "        .groupby('year_of_release')['total_sales']\n",
    "        .sum()\n",
    "        .plot(figsize=(13, 6), grid=True, style='o-', kind='line', fontsize=15, linewidth=2.5, legend=True)\n",
    "    )\n",
    "plt.title('Продажи игр на платформах по годам')\n",
    "plt.xlabel('год выпуска')\n",
    "plt.xlim(1993, 2016)\n",
    "plt.ylabel('проданные игры, млн')\n",
    "plt.legend(\n",
    "    [\"PlayStation\",\n",
    "    \"Xbox 360\",\n",
    "    \"PlayStation 3\",\n",
    "    \"Nintendo Wii\",\n",
    "    \"Nintendo DS\",\n",
    "    \"PlayStation\",\n",
    "    \"Game Boy Advance\"]\n",
    ")\n",
    "plt.show()"
   ]
  },
  {
   "cell_type": "markdown",
   "metadata": {},
   "source": [
    "<div class=\"alert alert-warning\">\n",
    "<b>Комментарий 👉</b>\n",
    "\n",
    "Здесь конечно, по сути, надо бы список с топ-5 платформами автоматизировано формировать. Ты только представь, что тебе нужно не 5, а скажем 150 значений указать, или в коде, в разных местах иметь разный топ-Х. Сделаешь?\n",
    "\n",
    "Ниже пример как (**псевдокод!**):\n",
    "\n",
    "tmp = data.pivot_table(index='platform', values='total_sales', aggfunc= 'sum').sort_values('total_sales', ascending=False)\n",
    "\n",
    "tmp.index[:5].tolist()</div>\n"
   ]
  },
  {
   "cell_type": "markdown",
   "metadata": {},
   "source": [
    "<div style=\"background: #B0E0E6; padding: 5px; border: 1px solid SteelBlue; border-radius: 5px;\">\n",
    "    <font color='4682B4'><u><b>КОММЕНТАРИЙ СТУДЕНТА</b></u></font>\n",
    "    <br />\n",
    "    <font color='4682B4'>Done! </font>\n",
    "</div>"
   ]
  },
  {
   "cell_type": "markdown",
   "metadata": {},
   "source": [
    "<div class=\"alert alert-success\">\n",
    "<b>КОММЕНТАРИЙ V2</b>\n",
    "\n",
    "+\n",
    "</div>"
   ]
  },
  {
   "cell_type": "markdown",
   "metadata": {},
   "source": [
    "На графике сильно бросается в глаза отрезок для Nintendo DS. По официальным данным консоль Nintendo DS была анонсирована в 2004 году. Посмотрим что за игра была выпущена ранее 2004г и приписана к консоли Nintendo DS"
   ]
  },
  {
   "cell_type": "code",
   "execution_count": 29,
   "metadata": {},
   "outputs": [
    {
     "data": {
      "text/html": [
       "<div>\n",
       "<style scoped>\n",
       "    .dataframe tbody tr th:only-of-type {\n",
       "        vertical-align: middle;\n",
       "    }\n",
       "\n",
       "    .dataframe tbody tr th {\n",
       "        vertical-align: top;\n",
       "    }\n",
       "\n",
       "    .dataframe thead th {\n",
       "        text-align: right;\n",
       "    }\n",
       "</style>\n",
       "<table border=\"1\" class=\"dataframe\">\n",
       "  <thead>\n",
       "    <tr style=\"text-align: right;\">\n",
       "      <th></th>\n",
       "      <th>name</th>\n",
       "      <th>platform</th>\n",
       "      <th>year_of_release</th>\n",
       "      <th>genre</th>\n",
       "      <th>na_sales</th>\n",
       "      <th>eu_sales</th>\n",
       "      <th>jp_sales</th>\n",
       "      <th>other_sales</th>\n",
       "      <th>critic_score</th>\n",
       "      <th>user_score</th>\n",
       "      <th>rating</th>\n",
       "      <th>total_sales</th>\n",
       "    </tr>\n",
       "  </thead>\n",
       "  <tbody>\n",
       "    <tr>\n",
       "      <th>15957</th>\n",
       "      <td>Strongest Tokyo University Shogi DS</td>\n",
       "      <td>DS</td>\n",
       "      <td>1985.0</td>\n",
       "      <td>Action</td>\n",
       "      <td>0.0</td>\n",
       "      <td>0.0</td>\n",
       "      <td>0.02</td>\n",
       "      <td>0.0</td>\n",
       "      <td>NaN</td>\n",
       "      <td>NaN</td>\n",
       "      <td>not_rated</td>\n",
       "      <td>0.02</td>\n",
       "    </tr>\n",
       "  </tbody>\n",
       "</table>\n",
       "</div>"
      ],
      "text/plain": [
       "                                      name platform  year_of_release   genre  \\\n",
       "15957  Strongest Tokyo University Shogi DS       DS           1985.0  Action   \n",
       "\n",
       "       na_sales  eu_sales  jp_sales  other_sales  critic_score  user_score  \\\n",
       "15957       0.0       0.0      0.02          0.0           NaN         NaN   \n",
       "\n",
       "          rating  total_sales  \n",
       "15957  not_rated         0.02  "
      ]
     },
     "execution_count": 29,
     "metadata": {},
     "output_type": "execute_result"
    }
   ],
   "source": [
    "data.query('platform == \"DS\" & year_of_release < 2004').head()"
   ]
  },
  {
   "cell_type": "markdown",
   "metadata": {},
   "source": [
    "Shogi (сёги) - это японские шахматы, в 80-х годах 20 века начались разработки компьютерных программ, которые могут играть в сёги.\n",
    "\n",
    "Можно предположить, что \"Strongest Tokyo University Shogi\" - какая-то компьютерная игра в сёги которая разрабатывалась в Токийском Университете, при этом никакого отношения к платформе Nintendo DS она не имеет, потому что в 1985 году этой платформы еще не было.\n",
    "\n",
    "Т.к. строка содержит ошибочные данные удалим ее."
   ]
  },
  {
   "cell_type": "markdown",
   "metadata": {},
   "source": [
    "<div class=\"alert alert-warning\">\n",
    "<b>Комментарий 👉</b>\n",
    "\n",
    "Всё так, молодец. Твой мини-анализ подтверждает, что в наших данных есть баг, ошибочная строка.\n",
    "</div>"
   ]
  },
  {
   "cell_type": "code",
   "execution_count": 30,
   "metadata": {},
   "outputs": [],
   "source": [
    "data = data.drop(index=[15957]).reset_index(drop=True)"
   ]
  },
  {
   "cell_type": "markdown",
   "metadata": {},
   "source": [
    "***Вывод: На графике представлены \"сроки жизни\" платформ. Вышедшую в 1994 году Sony PlayStation в 2000 году сменяет Sony PlayStation 2. Параллельно ей с 2001 по 2006 годы существует портативная приставка Nintendo Game Boy Advance. На смену Sony PlayStation 2 в 2006 году приходит Sony PlayStation 3. Практически одновременно с Sony PlayStation 3 на рынке представлены портативная Nintendo DS, Nintendo Wii, Microsoft Xbox 360. \n",
    "\"Срок жизни\" платформ со временем растет. Видно, что платформы Sony PlayStation и Sony PlayStation 2 были актуальны около 6 лет. Платформы Sony PlayStation 3 и конкуренты актуальны около 8 лет. Предположительно, с 2013 года начали развиваться платформы следующего поколения. К 2016 году они должны находиться близко к пику популярности.\n",
    "Таким образом, подтверждается правильность выбора актуального периода для проведения дальнейшего исследования. Рассматривая период с 2013 по 2016 год мы оценим продажи игр для находящихся возле пиков популярности современных платформ. Это поможет сделать корректный прогноз на 2017 год.***"
   ]
  },
  {
   "cell_type": "markdown",
   "metadata": {},
   "source": [
    "<div class=\"alert alert-success\">\n",
    "<b>ОТЛИЧНО! 👍</b>\n",
    "\n",
    "Правильный выбор диапазона!\n",
    "\n",
    "Это на самом деле один из подводных камней этого проекта! \n",
    "\n",
    "Студенты могут выбирать для анализа очень большой интервал данных, но для целей прогнозирования продаж на следующий год даже в традиционных бизнесах редко берут данные более чем за 2-4 года. И в такой динамично меняющейся индустрии, как компьютерные игры также не стоит брать слишком большой временной интервал - иначе обязательно захватишь уже отжившие тренды. В нашем учебном проекте, я с тобой соглашусь, что 4 года: 2013 - 2015 + неполный 2016 - ОК.</div>\n"
   ]
  },
  {
   "cell_type": "markdown",
   "metadata": {},
   "source": [
    "### Глобальные продажи по платформам"
   ]
  },
  {
   "cell_type": "markdown",
   "metadata": {},
   "source": [
    "Посмотрим, как менялись глобальные продажи по платформам за период с 2013 по 2016 годы."
   ]
  },
  {
   "cell_type": "code",
   "execution_count": 31,
   "metadata": {},
   "outputs": [
    {
     "data": {
      "text/html": [
       "<style  type=\"text/css\" >\n",
       "#T_6e8d8_row0_col0,#T_6e8d8_row1_col0,#T_6e8d8_row2_col1,#T_6e8d8_row3_col0,#T_6e8d8_row4_col2,#T_6e8d8_row5_col0,#T_6e8d8_row6_col1,#T_6e8d8_row7_col0,#T_6e8d8_row8_col1,#T_6e8d8_row9_col0,#T_6e8d8_row10_col2{\n",
       "            background-color:  lightgreen;\n",
       "        }</style><table id=\"T_6e8d8_\" ><thead>    <tr>        <th class=\"index_name level0\" >year_of_release</th>        <th class=\"col_heading level0 col0\" >2013.0</th>        <th class=\"col_heading level0 col1\" >2014.0</th>        <th class=\"col_heading level0 col2\" >2015.0</th>        <th class=\"col_heading level0 col3\" >2016.0</th>    </tr>    <tr>        <th class=\"index_name level0\" >platform</th>        <th class=\"blank\" ></th>        <th class=\"blank\" ></th>        <th class=\"blank\" ></th>        <th class=\"blank\" ></th>    </tr></thead><tbody>\n",
       "                <tr>\n",
       "                        <th id=\"T_6e8d8_level0_row0\" class=\"row_heading level0 row0\" >3DS</th>\n",
       "                        <td id=\"T_6e8d8_row0_col0\" class=\"data row0 col0\" >56.570000</td>\n",
       "                        <td id=\"T_6e8d8_row0_col1\" class=\"data row0 col1\" >43.760000</td>\n",
       "                        <td id=\"T_6e8d8_row0_col2\" class=\"data row0 col2\" >27.780000</td>\n",
       "                        <td id=\"T_6e8d8_row0_col3\" class=\"data row0 col3\" >15.140000</td>\n",
       "            </tr>\n",
       "            <tr>\n",
       "                        <th id=\"T_6e8d8_level0_row1\" class=\"row_heading level0 row1\" >DS</th>\n",
       "                        <td id=\"T_6e8d8_row1_col0\" class=\"data row1 col0\" >1.540000</td>\n",
       "                        <td id=\"T_6e8d8_row1_col1\" class=\"data row1 col1\" >0.000000</td>\n",
       "                        <td id=\"T_6e8d8_row1_col2\" class=\"data row1 col2\" >0.000000</td>\n",
       "                        <td id=\"T_6e8d8_row1_col3\" class=\"data row1 col3\" >0.000000</td>\n",
       "            </tr>\n",
       "            <tr>\n",
       "                        <th id=\"T_6e8d8_level0_row2\" class=\"row_heading level0 row2\" >PC</th>\n",
       "                        <td id=\"T_6e8d8_row2_col0\" class=\"data row2 col0\" >12.380000</td>\n",
       "                        <td id=\"T_6e8d8_row2_col1\" class=\"data row2 col1\" >13.280000</td>\n",
       "                        <td id=\"T_6e8d8_row2_col2\" class=\"data row2 col2\" >8.520000</td>\n",
       "                        <td id=\"T_6e8d8_row2_col3\" class=\"data row2 col3\" >5.250000</td>\n",
       "            </tr>\n",
       "            <tr>\n",
       "                        <th id=\"T_6e8d8_level0_row3\" class=\"row_heading level0 row3\" >PS3</th>\n",
       "                        <td id=\"T_6e8d8_row3_col0\" class=\"data row3 col0\" >113.250000</td>\n",
       "                        <td id=\"T_6e8d8_row3_col1\" class=\"data row3 col1\" >47.760000</td>\n",
       "                        <td id=\"T_6e8d8_row3_col2\" class=\"data row3 col2\" >16.820000</td>\n",
       "                        <td id=\"T_6e8d8_row3_col3\" class=\"data row3 col3\" >3.600000</td>\n",
       "            </tr>\n",
       "            <tr>\n",
       "                        <th id=\"T_6e8d8_level0_row4\" class=\"row_heading level0 row4\" >PS4</th>\n",
       "                        <td id=\"T_6e8d8_row4_col0\" class=\"data row4 col0\" >25.990000</td>\n",
       "                        <td id=\"T_6e8d8_row4_col1\" class=\"data row4 col1\" >100.000000</td>\n",
       "                        <td id=\"T_6e8d8_row4_col2\" class=\"data row4 col2\" >118.900000</td>\n",
       "                        <td id=\"T_6e8d8_row4_col3\" class=\"data row4 col3\" >69.250000</td>\n",
       "            </tr>\n",
       "            <tr>\n",
       "                        <th id=\"T_6e8d8_level0_row5\" class=\"row_heading level0 row5\" >PSP</th>\n",
       "                        <td id=\"T_6e8d8_row5_col0\" class=\"data row5 col0\" >3.140000</td>\n",
       "                        <td id=\"T_6e8d8_row5_col1\" class=\"data row5 col1\" >0.240000</td>\n",
       "                        <td id=\"T_6e8d8_row5_col2\" class=\"data row5 col2\" >0.120000</td>\n",
       "                        <td id=\"T_6e8d8_row5_col3\" class=\"data row5 col3\" >0.000000</td>\n",
       "            </tr>\n",
       "            <tr>\n",
       "                        <th id=\"T_6e8d8_level0_row6\" class=\"row_heading level0 row6\" >PSV</th>\n",
       "                        <td id=\"T_6e8d8_row6_col0\" class=\"data row6 col0\" >10.590000</td>\n",
       "                        <td id=\"T_6e8d8_row6_col1\" class=\"data row6 col1\" >11.900000</td>\n",
       "                        <td id=\"T_6e8d8_row6_col2\" class=\"data row6 col2\" >6.250000</td>\n",
       "                        <td id=\"T_6e8d8_row6_col3\" class=\"data row6 col3\" >4.250000</td>\n",
       "            </tr>\n",
       "            <tr>\n",
       "                        <th id=\"T_6e8d8_level0_row7\" class=\"row_heading level0 row7\" >Wii</th>\n",
       "                        <td id=\"T_6e8d8_row7_col0\" class=\"data row7 col0\" >8.590000</td>\n",
       "                        <td id=\"T_6e8d8_row7_col1\" class=\"data row7 col1\" >3.750000</td>\n",
       "                        <td id=\"T_6e8d8_row7_col2\" class=\"data row7 col2\" >1.140000</td>\n",
       "                        <td id=\"T_6e8d8_row7_col3\" class=\"data row7 col3\" >0.180000</td>\n",
       "            </tr>\n",
       "            <tr>\n",
       "                        <th id=\"T_6e8d8_level0_row8\" class=\"row_heading level0 row8\" >WiiU</th>\n",
       "                        <td id=\"T_6e8d8_row8_col0\" class=\"data row8 col0\" >21.650000</td>\n",
       "                        <td id=\"T_6e8d8_row8_col1\" class=\"data row8 col1\" >22.030000</td>\n",
       "                        <td id=\"T_6e8d8_row8_col2\" class=\"data row8 col2\" >16.350000</td>\n",
       "                        <td id=\"T_6e8d8_row8_col3\" class=\"data row8 col3\" >4.600000</td>\n",
       "            </tr>\n",
       "            <tr>\n",
       "                        <th id=\"T_6e8d8_level0_row9\" class=\"row_heading level0 row9\" >X360</th>\n",
       "                        <td id=\"T_6e8d8_row9_col0\" class=\"data row9 col0\" >88.580000</td>\n",
       "                        <td id=\"T_6e8d8_row9_col1\" class=\"data row9 col1\" >34.740000</td>\n",
       "                        <td id=\"T_6e8d8_row9_col2\" class=\"data row9 col2\" >11.960000</td>\n",
       "                        <td id=\"T_6e8d8_row9_col3\" class=\"data row9 col3\" >1.520000</td>\n",
       "            </tr>\n",
       "            <tr>\n",
       "                        <th id=\"T_6e8d8_level0_row10\" class=\"row_heading level0 row10\" >XOne</th>\n",
       "                        <td id=\"T_6e8d8_row10_col0\" class=\"data row10 col0\" >18.960000</td>\n",
       "                        <td id=\"T_6e8d8_row10_col1\" class=\"data row10 col1\" >54.070000</td>\n",
       "                        <td id=\"T_6e8d8_row10_col2\" class=\"data row10 col2\" >60.140000</td>\n",
       "                        <td id=\"T_6e8d8_row10_col3\" class=\"data row10 col3\" >26.150000</td>\n",
       "            </tr>\n",
       "    </tbody></table>"
      ],
      "text/plain": [
       "<pandas.io.formats.style.Styler at 0x7fac939402b0>"
      ]
     },
     "execution_count": 31,
     "metadata": {},
     "output_type": "execute_result"
    }
   ],
   "source": [
    "# Соберем данные за актуальный период в новый датафрейм\n",
    "\n",
    "data_actual = data.query('year_of_release >= 2013')\n",
    "\n",
    "# На актуальных данных для каждой платформы узнаем продажи по годам\n",
    "(\n",
    "    data_actual.pivot_table(\n",
    "        index='platform',\n",
    "        columns='year_of_release',\n",
    "        values='total_sales',\n",
    "        aggfunc='sum',\n",
    "        fill_value=0)\n",
    "    .style\n",
    "    .highlight_max(color='lightgreen', axis=1)\n",
    ")"
   ]
  },
  {
   "cell_type": "markdown",
   "metadata": {},
   "source": [
    "<div class=\"alert alert-success\">\n",
    "<b>ОТЛИЧНО! 👍</b>\n",
    "\n",
    "Очень хорошо, что результат запроса/’среза’ ты присваиваешь новому датафрейму. Таким образом оригинальный датафрейм ты оставляешь нетронутым, не перезаписываешь (вдруг нам опять понадобятся данные из него чуть ниже). Это верное решение. Best practice. Молодец!</div>\n"
   ]
  },
  {
   "cell_type": "markdown",
   "metadata": {},
   "source": [
    "***Вывод: В актуальный период по глобальным продажам игр лидируют Sony PlayStation 4 и Microsoft Xbox One. Из таблицы видно, что эти приставки набирают популярность и были лидерами в 2015 году, а также показывают лучшие результаты в 2016 году. Поскольку данные за 2016 год неполные, мы не можем сделать вывод по итогам года, однако, тренд сохраняется.\n",
    "Приставки Nintendo 3DS, Sony PlayStation 3, Microsoft Xbox 360, Nintendo Wii утрачивает популярность, поскольку им на смену уже пришло новое поколение приставок. Ориентироваться на эти платформы не стоит.\n",
    "Персональные компьютеры, Sony PlayStation Vita и Nintendo Wii U актуальны, но продажи игр для этих платформ не снижаются.\n",
    "Nintendo DS и Sony PlayStation Portable в 2016 году уже окончательно выбыли из гонки.***"
   ]
  },
  {
   "cell_type": "code",
   "execution_count": 32,
   "metadata": {},
   "outputs": [
    {
     "data": {
      "text/html": [
       "<style  type=\"text/css\" >\n",
       "#T_5680b_row0_col3,#T_5680b_row1_col4,#T_5680b_row2_col4,#T_5680b_row3_col4{\n",
       "            background-color:  lightgreen;\n",
       "        }</style><table id=\"T_5680b_\" ><thead>    <tr>        <th class=\"index_name level0\" >platform</th>        <th class=\"col_heading level0 col0\" >3DS</th>        <th class=\"col_heading level0 col1\" >DS</th>        <th class=\"col_heading level0 col2\" >PC</th>        <th class=\"col_heading level0 col3\" >PS3</th>        <th class=\"col_heading level0 col4\" >PS4</th>        <th class=\"col_heading level0 col5\" >PSP</th>        <th class=\"col_heading level0 col6\" >PSV</th>        <th class=\"col_heading level0 col7\" >Wii</th>        <th class=\"col_heading level0 col8\" >WiiU</th>        <th class=\"col_heading level0 col9\" >X360</th>        <th class=\"col_heading level0 col10\" >XOne</th>    </tr>    <tr>        <th class=\"index_name level0\" >year_of_release</th>        <th class=\"blank\" ></th>        <th class=\"blank\" ></th>        <th class=\"blank\" ></th>        <th class=\"blank\" ></th>        <th class=\"blank\" ></th>        <th class=\"blank\" ></th>        <th class=\"blank\" ></th>        <th class=\"blank\" ></th>        <th class=\"blank\" ></th>        <th class=\"blank\" ></th>        <th class=\"blank\" ></th>    </tr></thead><tbody>\n",
       "                <tr>\n",
       "                        <th id=\"T_5680b_level0_row0\" class=\"row_heading level0 row0\" >2013.0</th>\n",
       "                        <td id=\"T_5680b_row0_col0\" class=\"data row0 col0\" >56.570000</td>\n",
       "                        <td id=\"T_5680b_row0_col1\" class=\"data row0 col1\" >1.540000</td>\n",
       "                        <td id=\"T_5680b_row0_col2\" class=\"data row0 col2\" >12.380000</td>\n",
       "                        <td id=\"T_5680b_row0_col3\" class=\"data row0 col3\" >113.250000</td>\n",
       "                        <td id=\"T_5680b_row0_col4\" class=\"data row0 col4\" >25.990000</td>\n",
       "                        <td id=\"T_5680b_row0_col5\" class=\"data row0 col5\" >3.140000</td>\n",
       "                        <td id=\"T_5680b_row0_col6\" class=\"data row0 col6\" >10.590000</td>\n",
       "                        <td id=\"T_5680b_row0_col7\" class=\"data row0 col7\" >8.590000</td>\n",
       "                        <td id=\"T_5680b_row0_col8\" class=\"data row0 col8\" >21.650000</td>\n",
       "                        <td id=\"T_5680b_row0_col9\" class=\"data row0 col9\" >88.580000</td>\n",
       "                        <td id=\"T_5680b_row0_col10\" class=\"data row0 col10\" >18.960000</td>\n",
       "            </tr>\n",
       "            <tr>\n",
       "                        <th id=\"T_5680b_level0_row1\" class=\"row_heading level0 row1\" >2014.0</th>\n",
       "                        <td id=\"T_5680b_row1_col0\" class=\"data row1 col0\" >43.760000</td>\n",
       "                        <td id=\"T_5680b_row1_col1\" class=\"data row1 col1\" >nan</td>\n",
       "                        <td id=\"T_5680b_row1_col2\" class=\"data row1 col2\" >13.280000</td>\n",
       "                        <td id=\"T_5680b_row1_col3\" class=\"data row1 col3\" >47.760000</td>\n",
       "                        <td id=\"T_5680b_row1_col4\" class=\"data row1 col4\" >100.000000</td>\n",
       "                        <td id=\"T_5680b_row1_col5\" class=\"data row1 col5\" >0.240000</td>\n",
       "                        <td id=\"T_5680b_row1_col6\" class=\"data row1 col6\" >11.900000</td>\n",
       "                        <td id=\"T_5680b_row1_col7\" class=\"data row1 col7\" >3.750000</td>\n",
       "                        <td id=\"T_5680b_row1_col8\" class=\"data row1 col8\" >22.030000</td>\n",
       "                        <td id=\"T_5680b_row1_col9\" class=\"data row1 col9\" >34.740000</td>\n",
       "                        <td id=\"T_5680b_row1_col10\" class=\"data row1 col10\" >54.070000</td>\n",
       "            </tr>\n",
       "            <tr>\n",
       "                        <th id=\"T_5680b_level0_row2\" class=\"row_heading level0 row2\" >2015.0</th>\n",
       "                        <td id=\"T_5680b_row2_col0\" class=\"data row2 col0\" >27.780000</td>\n",
       "                        <td id=\"T_5680b_row2_col1\" class=\"data row2 col1\" >nan</td>\n",
       "                        <td id=\"T_5680b_row2_col2\" class=\"data row2 col2\" >8.520000</td>\n",
       "                        <td id=\"T_5680b_row2_col3\" class=\"data row2 col3\" >16.820000</td>\n",
       "                        <td id=\"T_5680b_row2_col4\" class=\"data row2 col4\" >118.900000</td>\n",
       "                        <td id=\"T_5680b_row2_col5\" class=\"data row2 col5\" >0.120000</td>\n",
       "                        <td id=\"T_5680b_row2_col6\" class=\"data row2 col6\" >6.250000</td>\n",
       "                        <td id=\"T_5680b_row2_col7\" class=\"data row2 col7\" >1.140000</td>\n",
       "                        <td id=\"T_5680b_row2_col8\" class=\"data row2 col8\" >16.350000</td>\n",
       "                        <td id=\"T_5680b_row2_col9\" class=\"data row2 col9\" >11.960000</td>\n",
       "                        <td id=\"T_5680b_row2_col10\" class=\"data row2 col10\" >60.140000</td>\n",
       "            </tr>\n",
       "            <tr>\n",
       "                        <th id=\"T_5680b_level0_row3\" class=\"row_heading level0 row3\" >2016.0</th>\n",
       "                        <td id=\"T_5680b_row3_col0\" class=\"data row3 col0\" >15.140000</td>\n",
       "                        <td id=\"T_5680b_row3_col1\" class=\"data row3 col1\" >nan</td>\n",
       "                        <td id=\"T_5680b_row3_col2\" class=\"data row3 col2\" >5.250000</td>\n",
       "                        <td id=\"T_5680b_row3_col3\" class=\"data row3 col3\" >3.600000</td>\n",
       "                        <td id=\"T_5680b_row3_col4\" class=\"data row3 col4\" >69.250000</td>\n",
       "                        <td id=\"T_5680b_row3_col5\" class=\"data row3 col5\" >nan</td>\n",
       "                        <td id=\"T_5680b_row3_col6\" class=\"data row3 col6\" >4.250000</td>\n",
       "                        <td id=\"T_5680b_row3_col7\" class=\"data row3 col7\" >0.180000</td>\n",
       "                        <td id=\"T_5680b_row3_col8\" class=\"data row3 col8\" >4.600000</td>\n",
       "                        <td id=\"T_5680b_row3_col9\" class=\"data row3 col9\" >1.520000</td>\n",
       "                        <td id=\"T_5680b_row3_col10\" class=\"data row3 col10\" >26.150000</td>\n",
       "            </tr>\n",
       "    </tbody></table>"
      ],
      "text/plain": [
       "<pandas.io.formats.style.Styler at 0x7fad1c4107f0>"
      ]
     },
     "execution_count": 32,
     "metadata": {},
     "output_type": "execute_result"
    }
   ],
   "source": [
    "(\n",
    "data_actual.pivot_table(\n",
    "        index='year_of_release',\n",
    "        columns='platform',\n",
    "        values='total_sales',\n",
    "        aggfunc='sum')\n",
    "    .style\n",
    "    .highlight_max(color='lightgreen', axis=1)\n",
    ")"
   ]
  },
  {
   "cell_type": "code",
   "execution_count": 33,
   "metadata": {},
   "outputs": [
    {
     "data": {
      "image/png": "[encoded data removed]",
      "text/plain": [
       "<Figure size 1080x432 with 1 Axes>"
      ]
     },
     "metadata": {
      "needs_background": "light"
     },
     "output_type": "display_data"
    }
   ],
   "source": [
    "# Построим диаграмму размаха\n",
    "(\n",
    "    data_actual.pivot_table(\n",
    "        index='year_of_release',\n",
    "        columns='platform',\n",
    "        values='total_sales',\n",
    "        aggfunc='sum')\n",
    "    .boxplot(figsize=(15, 6))\n",
    ")\n",
    "plt.title('Размах продаж игр на платформах по годам')\n",
    "plt.xlabel('платформа')\n",
    "plt.ylabel('млн проданных копий')\n",
    "plt.show()"
   ]
  },
  {
   "cell_type": "markdown",
   "metadata": {},
   "source": [
    "<div class=\"alert alert-success\">\n",
    "<b>ОТЛИЧНО! 👍</b>\n",
    "\n",
    "Это хорошо! Часто студенты рисуют только график с боксплотами, на которых видны выбросы, а сами \"ящики\" сплющиваются так, что квартилей не разобрать.</div>"
   ]
  },
  {
   "cell_type": "markdown",
   "metadata": {},
   "source": [
    "***Вывод: На диаграмме размаха видно, что медианы продаж в год на новых платформах (Sony PlayStation 4 и Microsoft Xbox One) намного выше медиан продаж соответствующих старых платформ (Sony PlayStation 3 и Microsoft Xbox 360).***"
   ]
  },
  {
   "cell_type": "markdown",
   "metadata": {},
   "source": [
    "### Влияние отзывов на продажи"
   ]
  },
  {
   "cell_type": "markdown",
   "metadata": {},
   "source": [
    "Изучим влияние отзывов на продажи игр. Рассмотрим на примере самой популярной в актуальный период платформы Sony PlayStation 4."
   ]
  },
  {
   "cell_type": "code",
   "execution_count": 34,
   "metadata": {
    "scrolled": true
   },
   "outputs": [
    {
     "data": {
      "image/png": "[encoded data removed]",
      "text/plain": [
       "<Figure size 1080x360 with 2 Axes>"
      ]
     },
     "metadata": {
      "needs_background": "light"
     },
     "output_type": "display_data"
    }
   ],
   "source": [
    "# Построим диаграммы рассеяния, показывающие взаимосвязь между отзывами и продажами\n",
    "rows = 1\n",
    "cols = 2\n",
    "fig, axes = plt.subplots(rows, cols, figsize=(15,5))\n",
    "#сделали общий список по отзывам пользователей и критиков\n",
    "score_list = ['critic_score', 'user_score']\n",
    "data_ps4 = data_actual.query('platform == \"PS4\"')\n",
    "\n",
    "count = 0\n",
    "# проходимся циклом по строкам и стобца и для каждого score строим график\n",
    "for r in range(rows):\n",
    "    for i in range(cols):\n",
    "        title_dict = {'critic_score':'Взаимосвязь между отзывами критиков и продажами игр PS4',\\\n",
    "                      'user_score':'Взаимосвязь между отзывами пользователей и продажами игр PS4'}\n",
    "        xlabel_dict = {'critic_score':'Отзывы критиков', 'user_score':'Отзывы пользователей'}\n",
    "        ax = data_ps4.plot(kind = 'scatter', x = score_list[count], y = 'total_sales',\\\n",
    "                            ax=axes[i], ec='black', title = title_dict[score_list[count]])\\\n",
    "        .set(xlabel = xlabel_dict[score_list[count]], ylabel = 'Количество проданных игр на PS4 (млн.шт)')\n",
    "        count += 1"
   ]
  },
  {
   "cell_type": "markdown",
   "metadata": {},
   "source": [
    "<div class=\"alert alert-warning\">\n",
    "<b>Комментарий 👉</b>\n",
    "\n",
    "Код очень длинный (а PEP8 определяет длину строки в 79 символов) - попробуй длинные - переносить, а между строками использовать пустые строки. Ну и желательно код комментировать, хотя бы коротко (что делаешь и каков будет результат - так твоим коллегам будет проще за твоей мыслью следить). Этот комментарий может относиться к нескольким ячейкам этой «тетрадки».\n",
    "\n",
    "Хороший разработчик форматирует и комментирует свой код, тогда другие разработчики быстрее разберутся в программе. Это важно, ведь код чаще читают, чем пишут: напишет один, а прочтут — сотни или тысячи (если код хороший). \n",
    "«Пишите код так, как будто сопровождать его будет склонный к насилию психопат, который знает, где вы живете.» ©1991, John F. Woods, разработчик\n",
    "\n",
    "---\n",
    "Давай обсудим стиль кодирования (программирования)? Смотри что сейчас происходит в этой ячейке (**возможно не всё применимо к твоему коду здесь, но я попытался вспомнить все часто встречающиеся недочёты**), что \"режет\" глаз и что можно сделать по-другому, чуть лучше: \n",
    "\n",
    "1. Комментарии к строке кода: они должны располагаться выше соответствующей строки кода (выше строки к которой относятся) и должны быть от этой строки отделены пустой строкой. Если же они расположены справа, то для того чтобы увидеть, что там написано приходится пользоваться скроллиногом. Надо добиться того, чтобы ячейку не приходилось прокручивать, т.к. это не добавляет удобства ни при отладке кода, ни для понимания что в этой ячейке \"происходит\". Как альтернатива – комментарий может размещаться выше, в Markdown-ячейке.\n",
    "    \n",
    "2. Бывает, что встречаются очень длинные строки кода, которые также уходят за правый край ячейки. Такие строки должны разбиваться разделителем (вот таким: \\\\). Это best practice, требование PEP8, а именно: PEP8 определяет длину строки в 79 символов.\n",
    "    \n",
    "3. **В идеале**: одна ячейка - одна строка кода. Почему так? Да как минимум из соображения понятности: будучи выполненной, под этой ячейкой должен отображаться результат трансформации данных. Ты или твой коллега должны видеть, как поменялись данные после выполнения ячейки с кодом. Следующая ячейка - ещё строка кода и соответствующим output'ом. Будешь делать так - коллеги будут тебе благодарны за то, что легко будут следовать за твоей мыслью. И отладку это упрощает.\n",
    "    \n",
    "Ну и как противоположность - можно в одну ячейку \"положить\" результат 3-х последовательных groupby + ещё чего-нибудь. Разобраться с ходу \"что происходит\" будет очень трудно, придётся всё равно код разносить по ячейкам и смотреть последовательно что происходит. Но ведь логично это делать удобным способом сразу, ведь так?\n",
    "    \n",
    "4. Неиспользуемые, закомментированные строки выше вынеси в другую ячейку, отдельную, выше. Можешь для удобства своего прокомментировать (на память). И оставь там это код, так, чтобы он не смешивался с рабочим кодом.\n",
    "</div>\n"
   ]
  },
  {
   "cell_type": "markdown",
   "metadata": {},
   "source": [
    "<p></p>\n",
    "\n",
    "<div style=\"border:solid red 2px; padding: 20px\">\n",
    "Вывод: Судя по диаграмме, оценка критиков влияет на продажи. Чем качественнее игра, тем лучше она продаётся. Игры с оценкой критиков ниже 60 продаются намного хуже, чем игры с более высокой оценкой. Самые высокие продажи у игр с оценкой больше 80.\n",
    "\n",
    "В целом ситуация с отзывами пользователей так же говорит о том, что чем выше рейтинг, тем больше копий продано, но не всегда. Много выбросов, показывающих высокие продажи и довольно низкие рейтинги игр. Возможно, это связано с тем, что пользователь может оценить игру только после совершения покупки и не всегда остаётся доволен купленной игрой.\n",
    "<div>"
   ]
  },
  {
   "cell_type": "markdown",
   "metadata": {},
   "source": [
    "<div class=\"alert alert-danger\">\n",
    "<b>Необходимо исправить ❌</b>\n",
    "\n",
    "Дьявол кроется в формулировках: **оценка критиков влияет на продажи** - говорить так в общем случае неверно.\n",
    "\n",
    "---\n",
    "\n",
    "Формулировать, что коэффициент  корреляции (Пирсона) между 2 переменными (в нашем случае между \"total_sales\" и \"critic_score\") есть показатель того, что **на количество продаж влияет оценка ** - неверно. Корреляция не подразумевает наличие причинно-следственной связи между переменными.\n",
    "    \n",
    "Коэффициент свидетельствует **о наличии или отсутствии линейной связи** между переменными, и **измеряет выраженность** этой связи. Другими словами, коэффициент корреляции - это инструмент, с помощью которого можно проверить гипотезу о **линейной** зависимости и измерить степень этой зависимости.\n",
    "    \n",
    "Например, в нашем случае, связь между продажами и оценками экспертов для всех платформ является **прямой, слабой** степени выраженности (во всех случаях коэффициент около 0,3-0,4).\n",
    "\n",
    "Я бы твою фразу переписал бы так (**ПРИМЕР**): \"Оценки критиков демонстрируют прямую, средне-слабую корреляцию с \"цифрами\" продаж. Оценки пользователей корреляции с продажами не имеют\".\n",
    "\n",
    "Понимаешь, нет влияния оценок на продажи. Коэффициент корреляции Пирсона не про это. Он про линейную зависимость 2-х переменных. И ещё, это коэффициент **НЕ ОБЪЯСНЯЕТ** зависимость, он **НЕ ГОВОРИТ** почему наблюдается такой эффект, но просто констатирует факт, что корреляция наблюдается (например, \"мы видим, что те игры, которым наши эксперты дают высокие оценки - продаются лучше\". А вот почему они продаются лучше - можно только предполагать ... разные причины могут быть). Вот смешная статейка на эту тему: https://ktonanovenkogo.ru/voprosy-i-otvety/korrelyaciya-chto-ehto-takoe-prostymi-slovami.html</div>\n"
   ]
  },
  {
   "cell_type": "markdown",
   "metadata": {},
   "source": [
    "<p></p>\n",
    "\n",
    "<div style=\"border:solid green 2px; padding: 20px\">\n",
    "Вывод: Судя по диаграмме, при исследовании оценки критиков наблюдается прямая, средне-слабая корреляция с цифрами продаж. Оценки пользователей корреляции с продажами не имеют.\n",
    "<p></p>\n",
    "\n",
    "<div>"
   ]
  },
  {
   "cell_type": "markdown",
   "metadata": {},
   "source": [
    "<div class=\"alert alert-success\">\n",
    "<b>ОТЛИЧНО! 👍</b>\n",
    "\n",
    "Да, теперь интерпретация верна!\n",
    "    \n",
    "p.s. Ещё раз, в связи с частыми ошибками в формулировках, **на будущее**: объяснять корреляцию/зависимость **причинной связью** нельзя.\n",
    "    \n",
    "Пример: на улице начали появляться мухи и одновременно стали увеличиваться продажи мороженного. Есть такая зависимость? Да, конечно есть! \n",
    "    \n",
    "Но, правда, что мороженного стали есть больше потому, что мухи \"полетели\"? Причина в мухах? Нет, конечно же нет. Причина в том, что поднимается температура воздуха (третья переменная), начинается лето.</div>\n"
   ]
  },
  {
   "cell_type": "markdown",
   "metadata": {},
   "source": [
    "Построим матрицу корреляции"
   ]
  },
  {
   "cell_type": "code",
   "execution_count": 35,
   "metadata": {},
   "outputs": [
    {
     "data": {
      "text/html": [
       "<div>\n",
       "<style scoped>\n",
       "    .dataframe tbody tr th:only-of-type {\n",
       "        vertical-align: middle;\n",
       "    }\n",
       "\n",
       "    .dataframe tbody tr th {\n",
       "        vertical-align: top;\n",
       "    }\n",
       "\n",
       "    .dataframe thead th {\n",
       "        text-align: right;\n",
       "    }\n",
       "</style>\n",
       "<table border=\"1\" class=\"dataframe\">\n",
       "  <thead>\n",
       "    <tr style=\"text-align: right;\">\n",
       "      <th></th>\n",
       "      <th>critic_score</th>\n",
       "      <th>user_score</th>\n",
       "      <th>total_sales</th>\n",
       "    </tr>\n",
       "  </thead>\n",
       "  <tbody>\n",
       "    <tr>\n",
       "      <th>critic_score</th>\n",
       "      <td>1.000000</td>\n",
       "      <td>0.557654</td>\n",
       "      <td>0.406568</td>\n",
       "    </tr>\n",
       "    <tr>\n",
       "      <th>user_score</th>\n",
       "      <td>0.557654</td>\n",
       "      <td>1.000000</td>\n",
       "      <td>-0.031957</td>\n",
       "    </tr>\n",
       "    <tr>\n",
       "      <th>total_sales</th>\n",
       "      <td>0.406568</td>\n",
       "      <td>-0.031957</td>\n",
       "      <td>1.000000</td>\n",
       "    </tr>\n",
       "  </tbody>\n",
       "</table>\n",
       "</div>"
      ],
      "text/plain": [
       "              critic_score  user_score  total_sales\n",
       "critic_score      1.000000    0.557654     0.406568\n",
       "user_score        0.557654    1.000000    -0.031957\n",
       "total_sales       0.406568   -0.031957     1.000000"
      ]
     },
     "execution_count": 35,
     "metadata": {},
     "output_type": "execute_result"
    }
   ],
   "source": [
    "# Получаем матрицу корреляции\n",
    "corr_matrix = data_ps4[['critic_score', 'user_score', 'total_sales']].corr()\n",
    "corr_matrix"
   ]
  },
  {
   "cell_type": "markdown",
   "metadata": {},
   "source": [
    "<div class=\"alert alert-success\">\n",
    "<b>ОТЛИЧНО! 👍</b>\n",
    "\n",
    "Тут всё верно, мы выбрали одну из платформ и проверили линейную зависимость между продажами и оценками пользователей и экспертов.\n",
    "\n",
    "И вот здесь именно то место, которое упрощает жизнь за счет того, что мы не заполняли пропуски в 'critic_score' и 'user_score'. Если бы это было иначе - перед анализом корреляций надо было бы эти заполненные значения не учитывать (отфильтровывать).\n",
    "\n",
    "Ввиду же того, что \"пропуски\" в столбцах с соответствующими оценками мы \"заглушками\" заполнять не стали (а NaN – значения метод .corr() не учитывает (ссылка на документацию: https://pandas.pydata.org/pandas-docs/stable/reference/api/pandas.DataFrame.corr.html?highlight=corr#pandas.DataFrame.corr)), то и перед передачей данных в метод .corr() отфильтровывать нам их не пришлось.</div>\n"
   ]
  },
  {
   "cell_type": "code",
   "execution_count": 36,
   "metadata": {},
   "outputs": [
    {
     "data": {
      "image/png": "[encoded data removed]",
      "text/plain": [
       "<Figure size 648x432 with 2 Axes>"
      ]
     },
     "metadata": {
      "needs_background": "light"
     },
     "output_type": "display_data"
    }
   ],
   "source": [
    "# Получаем матрицу корреляции\n",
    "corr_matrix = data_ps4[['critic_score', 'user_score', 'total_sales']].corr()\n",
    "\n",
    "\n",
    "# названия параметров\n",
    "correlation_labels = [\n",
    "    'оценка критиков',\n",
    "    'оценка пользователей',\n",
    "    'глобальные продажи'\n",
    "]\n",
    "\n",
    "# Визуализируем матрицу корреляции\n",
    "plt.figure(figsize=(9, 6))\n",
    "sns.heatmap(\n",
    "    corr_matrix,\n",
    "    vmin=-1,\n",
    "    vmax=1,\n",
    "    cmap='coolwarm',\n",
    "    annot=True,\n",
    "    yticklabels=correlation_labels,\n",
    "    xticklabels=correlation_labels)\n",
    "plt.title('Матрица корреляции')\n",
    "plt.show()"
   ]
  },
  {
   "cell_type": "markdown",
   "metadata": {},
   "source": [
    "<div class=\"alert alert-danger\">\n",
    "<b>Необходимо исправить ❌</b>\n",
    "\n",
    "Код упал с ошибкой. Исправь её пожалуйста, а также все те красные комментарии, которые уже появились к этому моменту.\n",
    "    \n",
    "2ю итерацию проверки начну с этого момента, а также просмотрю все твои комментарии выше.    \n",
    "</div>\n"
   ]
  },
  {
   "cell_type": "markdown",
   "metadata": {},
   "source": [
    "<div style=\"background: #B0E0E6; padding: 5px; border: 1px solid SteelBlue; border-radius: 5px;\">\n",
    "    <font color='4682B4'><u><b>КОММЕНТАРИЙ СТУДЕНТА</b></u></font>\n",
    "    <br />\n",
    "    <font color='4682B4'>Исправил.</font>\n",
    "</div>"
   ]
  },
  {
   "cell_type": "markdown",
   "metadata": {},
   "source": [
    "<div class=\"alert alert-success\">\n",
    "<b>ОТЛИЧНО! 👍</b>\n",
    "\n",
    "Хорошо....\n",
    "</div>"
   ]
  },
  {
   "cell_type": "markdown",
   "metadata": {},
   "source": [
    "Средняя положительная линейная связь отмечается между оценкой критиков и глобальными продажами. Чем выше оценки, тем выше продажи.\n",
    "\n",
    "Проверим для других платформ, действительно ли игры с высокими оценками лучше продаются."
   ]
  },
  {
   "cell_type": "code",
   "execution_count": 37,
   "metadata": {},
   "outputs": [
    {
     "data": {
      "text/plain": [
       "platform\n",
       "PC      75.550336\n",
       "PSP     74.000000\n",
       "XOne    73.325444\n",
       "PS4     72.091270\n",
       "WiiU    71.642857\n",
       "PSV     71.636364\n",
       "PS3     70.198347\n",
       "X360    69.234568\n",
       "3DS     68.338028\n",
       "DS            NaN\n",
       "Wii           NaN\n",
       "Name: critic_score, dtype: float64"
      ]
     },
     "execution_count": 37,
     "metadata": {},
     "output_type": "execute_result"
    }
   ],
   "source": [
    "# Получим средние оценки игр критиками на каждой платформе\n",
    "(\n",
    "    data_actual.groupby('platform')['critic_score']\n",
    "    .mean()\n",
    "    .sort_values(ascending=False)\n",
    ")"
   ]
  },
  {
   "cell_type": "markdown",
   "metadata": {},
   "source": [
    "Самые высокие оценки игр отмечены на платформах PC и Sony PlayStation Portable. Ровное число для Sony PlayStation Portable дает основания полагать, что для платформы слишком мало оценок критиков в датафрейме. Проверим это."
   ]
  },
  {
   "cell_type": "code",
   "execution_count": 38,
   "metadata": {},
   "outputs": [
    {
     "data": {
      "text/plain": [
       "platform\n",
       "PS4     252\n",
       "XOne    169\n",
       "PC      149\n",
       "PS3     121\n",
       "X360     81\n",
       "PSV      77\n",
       "3DS      71\n",
       "WiiU     70\n",
       "PSP       1\n",
       "DS        0\n",
       "Wii       0\n",
       "Name: critic_score, dtype: int64"
      ]
     },
     "execution_count": 38,
     "metadata": {},
     "output_type": "execute_result"
    }
   ],
   "source": [
    "# Получим количество оценок игр критиками на каждой платформе\n",
    "(\n",
    "    data_actual.groupby('platform')['critic_score']\n",
    "    .count()\n",
    "    .sort_values(ascending=False)\n",
    ")"
   ]
  },
  {
   "cell_type": "markdown",
   "metadata": {},
   "source": [
    "Да, всего одна оценка для Sony PlayStation Portable. Для платформы PC достаточно оценок, но рейтинг критиков гораздо выше, чем можно было бы ожидать при небольших продажах игр."
   ]
  },
  {
   "cell_type": "code",
   "execution_count": 39,
   "metadata": {},
   "outputs": [
    {
     "data": {
      "text/html": [
       "<div>\n",
       "<style scoped>\n",
       "    .dataframe tbody tr th:only-of-type {\n",
       "        vertical-align: middle;\n",
       "    }\n",
       "\n",
       "    .dataframe tbody tr th {\n",
       "        vertical-align: top;\n",
       "    }\n",
       "\n",
       "    .dataframe thead th {\n",
       "        text-align: right;\n",
       "    }\n",
       "</style>\n",
       "<table border=\"1\" class=\"dataframe\">\n",
       "  <thead>\n",
       "    <tr style=\"text-align: right;\">\n",
       "      <th></th>\n",
       "      <th>critic_score</th>\n",
       "      <th>user_score</th>\n",
       "      <th>total_sales</th>\n",
       "    </tr>\n",
       "  </thead>\n",
       "  <tbody>\n",
       "    <tr>\n",
       "      <th>critic_score</th>\n",
       "      <td>1.000000</td>\n",
       "      <td>0.429562</td>\n",
       "      <td>0.196030</td>\n",
       "    </tr>\n",
       "    <tr>\n",
       "      <th>user_score</th>\n",
       "      <td>0.429562</td>\n",
       "      <td>1.000000</td>\n",
       "      <td>-0.093842</td>\n",
       "    </tr>\n",
       "    <tr>\n",
       "      <th>total_sales</th>\n",
       "      <td>0.196030</td>\n",
       "      <td>-0.093842</td>\n",
       "      <td>1.000000</td>\n",
       "    </tr>\n",
       "  </tbody>\n",
       "</table>\n",
       "</div>"
      ],
      "text/plain": [
       "              critic_score  user_score  total_sales\n",
       "critic_score      1.000000    0.429562     0.196030\n",
       "user_score        0.429562    1.000000    -0.093842\n",
       "total_sales       0.196030   -0.093842     1.000000"
      ]
     },
     "execution_count": 39,
     "metadata": {},
     "output_type": "execute_result"
    }
   ],
   "source": [
    "# Получаем матрицу корреляции\n",
    "corr_matrix = data_actual.query('platform == \"PC\"')[['critic_score', 'user_score', 'total_sales']].corr()\n",
    "corr_matrix"
   ]
  },
  {
   "cell_type": "code",
   "execution_count": 40,
   "metadata": {},
   "outputs": [
    {
     "data": {
      "image/png": "[encoded data removed]",
      "text/plain": [
       "<Figure size 648x432 with 2 Axes>"
      ]
     },
     "metadata": {
      "needs_background": "light"
     },
     "output_type": "display_data"
    }
   ],
   "source": [
    "# Получаем матрицу корреляции\n",
    "corr_matrix = data_actual.query('platform == \"PC\"')[['critic_score', 'user_score', 'total_sales']].corr()\n",
    "\n",
    "# Составим список с названиями параметров\n",
    "correlation_labels = [\n",
    "    'оценка критиков',\n",
    "    'оценка пользователей',\n",
    "    'глобальные продажи'\n",
    "]\n",
    "\n",
    "# Визуализируем матрицу корреляции\n",
    "plt.figure(figsize=(9, 6))\n",
    "sns.heatmap(\n",
    "    corr_matrix,\n",
    "    vmin=-1,\n",
    "    vmax=1,\n",
    "    cmap='coolwarm',\n",
    "    annot=True,\n",
    "    yticklabels=correlation_labels,\n",
    "    xticklabels=correlation_labels)\n",
    "plt.title('Матрица корреляции')\n",
    "plt.show()"
   ]
  },
  {
   "cell_type": "markdown",
   "metadata": {},
   "source": [
    "***Вывод: Коэффициент корреляции между отзывами критиков и продажами для платформы PC в 2 раза ниже, чем для Sony PlayStation 4.\n",
    "Опираться на корреляцию между оценками критиков и продажами игр для построения прогнозов не следует. Можно использовать в качестве дополнительного фактора принятия решений в случае платформ, для которых значение коэффициента корреляции выше и есть достаточно отзывов.***"
   ]
  },
  {
   "cell_type": "markdown",
   "metadata": {},
   "source": [
    "### Распределение игр по жанрам"
   ]
  },
  {
   "cell_type": "markdown",
   "metadata": {},
   "source": [
    "Посмотрим на общее распределение игр по жанрам. \n",
    "- Что можно сказать о самых прибыльных жанрах? \n",
    "- Выделяются ли жанры с высокими и низкими продажами?"
   ]
  },
  {
   "cell_type": "code",
   "execution_count": 41,
   "metadata": {},
   "outputs": [
    {
     "data": {
      "image/png": "[encoded data removed]",
      "text/plain": [
       "<Figure size 576x432 with 1 Axes>"
      ]
     },
     "metadata": {
      "needs_background": "light"
     },
     "output_type": "display_data"
    }
   ],
   "source": [
    "# Количество игр по жанрам\n",
    "(\n",
    "    data_actual.groupby('genre')['name']\n",
    "    .count()\n",
    "    .sort_values(ascending=True)\n",
    "    .plot(kind='barh', x='genre', figsize=(8, 6))\n",
    ")\n",
    "plt.title('Количество игр по жанрам')\n",
    "plt.xlabel('количество игр')\n",
    "plt.ylabel('жанр')\n",
    "plt.show()"
   ]
  },
  {
   "cell_type": "markdown",
   "metadata": {},
   "source": [
    "***Вывод: Cамым популярным жанром является Action. Реже всего выпускаются игры в жанре Puzzle.***"
   ]
  },
  {
   "cell_type": "code",
   "execution_count": 42,
   "metadata": {},
   "outputs": [
    {
     "data": {
      "image/png": "[encoded data removed]",
      "text/plain": [
       "<Figure size 576x432 with 1 Axes>"
      ]
     },
     "metadata": {
      "needs_background": "light"
     },
     "output_type": "display_data"
    }
   ],
   "source": [
    "# Глобальные продажи игр по жанрам\n",
    "(\n",
    "    data_actual.groupby('genre')['total_sales']\n",
    "    .median()\n",
    "    .sort_values(ascending=True)\n",
    "    .plot(kind='barh', x='genre', figsize=(8, 6))\n",
    ")\n",
    "plt.title('Глобальные продажи игр по жанрам')\n",
    "plt.xlabel('млн проданных копий')\n",
    "plt.ylabel('жанр')\n",
    "plt.show()"
   ]
  },
  {
   "cell_type": "markdown",
   "metadata": {},
   "source": [
    "***Наибольший доход приносят жанры Shooter и Sports. Количество проданных копий у этих жанров наибольшее.***\n",
    "\n",
    "\n",
    "***Вывод:***\n",
    "\n",
    "- актуальный период для исследования: 2013 - 2016 года\n",
    "\n",
    "- самые популярные платформы на конец 2016 года - PS4, XOne, 3DS\n",
    "\n",
    "- Самые полулярные жанры: Shooter, Sports."
   ]
  },
  {
   "cell_type": "markdown",
   "metadata": {},
   "source": [
    "<div style=\"background: #B0E0E6; padding: 5px; border: 1px solid SteelBlue; border-radius: 5px;\">\n",
    "    <font color='4682B4'><u><b>КОММЕНТАРИЙ СТУДЕНТА</b></u></font>\n",
    "    <br />\n",
    "    <font color='4682B4'>Исправил. Намотал на ус про медиану. Спасибо </font>\n",
    "</div>"
   ]
  },
  {
   "cell_type": "markdown",
   "metadata": {},
   "source": [
    "<div class=\"alert alert-danger\">\n",
    "<b>Необходимо исправить ❌</b>\n",
    "\n",
    "Здесь у нас возникла проблема: по суммарным (sum, count) объемам продаж у тебя получилось, что явный лидер - игры в жанре Экшн. Если же ты рассмотришь медианные или средние (mean) значения, то результат поменяется в пользу Шуттеров. Учти тот факт, что игр в жанре Экшн выпускается значительно больше, чем других (в 1,5-2 раза). Доля количества игр в жанре «стрелялок» - всего лишь 8%. Очевидно, что в жанре Экшн присутствует большое количество непопулярных игр с низкими объёмами продаж, в результате чего общий объём продаж жанра \"раздут\" и берётся количеством, а не качеством. Медиана учитывает не только слишком большие\\маленькие значения относительно среднего, но и их количество. Поэтому брать итоговые результаты медианы или среднего более корректно.\n",
    "\n",
    "В сухом остатке: попробуй рассмотреть не общие продажи, а медианные (или средние). Общие продажи - плохая метрика для поиска наиболее прибыльного жанра. За высокими показателями общих продаж может скрываться множество мелких игр с низкими продажами. Или 2-3 звезды и куча провалов. Лучше найти жанр, где игры стабильно приносят высокий доход - для этого стоит рассмотреть средние (или медианные продажи). Я думаю, что анализ медианных показателей позволит тебе найти жанр, который приносит высокий доход.</div>\n"
   ]
  },
  {
   "cell_type": "markdown",
   "metadata": {},
   "source": [
    "<div class=\"alert alert-success\">\n",
    "<b>КОММЕНТАРИЙ V2</b>\n",
    "\n",
    "Да, отлично, теперь самый прибыльный жанр (Шуттеры) определен верно!\n",
    "</div>\n"
   ]
  },
  {
   "cell_type": "markdown",
   "metadata": {},
   "source": [
    "### Составим портрет пользователя каждого региона"
   ]
  },
  {
   "cell_type": "code",
   "execution_count": 43,
   "metadata": {},
   "outputs": [],
   "source": [
    "# напишем функцию для построения графиков\n",
    "def region(column):\n",
    "    rows = 1\n",
    "    cols = 3\n",
    "    fig, axes = plt.subplots(rows, cols, figsize=(18,5))\n",
    "    #создадим общий список по продажам\n",
    "    region_list = ['na_sales', 'eu_sales', 'jp_sales']\n",
    "    count = 0\n",
    "    # пройдемся циклом по строкам и столбцам и построим графики для регионов\n",
    "    for r in range(rows):\n",
    "        for i in range(cols):\n",
    "            data_new = data_actual.pivot_table(index=column, values = region_list[count], aggfunc = 'sum')\\\n",
    "            .sort_values(by=region_list[count], ascending = False)[:5]\n",
    "            title_dict = {'na_sales': 'Продажи в Северной Америке (млн.копий)',\\\n",
    "                          'eu_sales': 'Продажи в Европе (млн.копий)',\\\n",
    "                          'jp_sales': 'Продажи в Японии (млн.копий)'}\n",
    "            color_dict = {'na_sales': 'blue', 'eu_sales': 'gray', 'jp_sales': 'green'}\n",
    "            plot = data_new.plot(kind='bar', ec='black', title=title_dict[region_list[count]], ax=axes[i],\\\n",
    "                             fontsize=13, color=color_dict[region_list[count]], rot=45)\n",
    "            plot.set_xlabel('')\n",
    "            count += 1"
   ]
  },
  {
   "cell_type": "markdown",
   "metadata": {},
   "source": [
    "### Топ-5 платформ для каждого региона "
   ]
  },
  {
   "cell_type": "code",
   "execution_count": 44,
   "metadata": {},
   "outputs": [
    {
     "data": {
      "image/png": "[encoded data removed]",
      "text/plain": [
       "<Figure size 1296x360 with 3 Axes>"
      ]
     },
     "metadata": {
      "needs_background": "light"
     },
     "output_type": "display_data"
    }
   ],
   "source": [
    "region('platform')\n"
   ]
  },
  {
   "cell_type": "markdown",
   "metadata": {},
   "source": [
    "1. Северная Америка - имеют большую популярность платформы PS4, XOne и X360.\n",
    "\n",
    "2. Европа - безоговорочный лидер PlayStation, в основном продаются игр для PS4 и PS3.\n",
    "\n",
    "3. Япония - лидер 3DS, далее идут PS3 и PSV - в Японии портативные консоли гораздо популярнее стационарных."
   ]
  },
  {
   "cell_type": "markdown",
   "metadata": {},
   "source": [
    "### ТОП-5 жанров для каждого региона"
   ]
  },
  {
   "cell_type": "code",
   "execution_count": 45,
   "metadata": {},
   "outputs": [
    {
     "data": {
      "image/png": "[encoded data removed]",
      "text/plain": [
       "<Figure size 1296x360 with 3 Axes>"
      ]
     },
     "metadata": {
      "needs_background": "light"
     },
     "output_type": "display_data"
    }
   ],
   "source": [
    "region('genre')"
   ]
  },
  {
   "cell_type": "markdown",
   "metadata": {},
   "source": [
    "1. Северная Америка - имеют большую популярность жанры Action и Shooter.\n",
    "\n",
    "2. Европа - имеют большую популярность жанры Action и Shooter.\n",
    "\n",
    "3. Япония - лидеры Role-Playing и Action жанры."
   ]
  },
  {
   "cell_type": "markdown",
   "metadata": {},
   "source": [
    "### Влияние рейтинга ESRB на продажи в регионах"
   ]
  },
  {
   "cell_type": "code",
   "execution_count": 46,
   "metadata": {},
   "outputs": [
    {
     "data": {
      "image/png": "[encoded data removed]",
      "text/plain": [
       "<Figure size 1296x360 with 3 Axes>"
      ]
     },
     "metadata": {
      "needs_background": "light"
     },
     "output_type": "display_data"
    }
   ],
   "source": [
    "region('rating')"
   ]
  },
  {
   "cell_type": "markdown",
   "metadata": {},
   "source": [
    "***Вывод: В Северной Америке и Европе прослеживается влияние рейтинга M (что означает возрастное ограничение). В Японии большая часть продаж без рейтинга ESRB.***"
   ]
  },
  {
   "cell_type": "markdown",
   "metadata": {},
   "source": [
    "<div class=\"alert alert-warning\">\n",
    "<b>Комментарий 👉</b>\n",
    "\n",
    "А чем на твой взгляд можно объяснить то, что в Японии лидерами продаж (в количестве копий) являются игры без рейтинга ESRB?</div>\n"
   ]
  },
  {
   "cell_type": "markdown",
   "metadata": {},
   "source": [
    "<div style=\"background: #B0E0E6; padding: 5px; border: 1px solid SteelBlue; border-radius: 5px;\">\n",
    "    <font color='4682B4'><u><b>КОММЕНТАРИЙ СТУДЕНТА</b></u></font>\n",
    "    <br />\n",
    "    <font color='4682B4'>Т.к в Японии возрастными рейтингами для консольных игр занимается CERO – некоммерческая организация, основанная в июле 2002-го.</font>\n",
    "</div>"
   ]
  },
  {
   "cell_type": "markdown",
   "metadata": {},
   "source": [
    "<div class=\"alert alert-success\">\n",
    "<b>КОММЕНТАРИЙ V2</b>\n",
    "\n",
    "Да, верно! Рейтинг ESRB - это американский рейтинг, а в Японии есть своё рейтинговое агентство (CERO). Получается, что Япония страна со своим менталитетом. И твой анализ показывает, что Японцы в игры-то играют не такие, как весь прочий мир и жанры игр там популярны совсем другие, нежели в остальном мире, да и на рейтинги (не своего агентства) не очень то внимание обращают.</div>"
   ]
  },
  {
   "cell_type": "markdown",
   "metadata": {},
   "source": [
    "## Проверка гипотез"
   ]
  },
  {
   "cell_type": "markdown",
   "metadata": {},
   "source": [
    " - Средние пользовательские рейтинги платформ Xbox One и PC одинаковые\n",
    " - Средние пользовательские рейтинги жанров Action и Sports разные."
   ]
  },
  {
   "cell_type": "markdown",
   "metadata": {},
   "source": [
    "H0: Средние пользовательские рейтинги платформ Xbox One и PC равны.\n",
    "\n",
    "H1: Средние пользовательские рейтинги платформ Xbox One и PC различаются.\n",
    "\n",
    "Определим критический уровень статистической значимости alpha в 0.05."
   ]
  },
  {
   "cell_type": "code",
   "execution_count": 47,
   "metadata": {},
   "outputs": [
    {
     "name": "stdout",
     "output_type": "stream",
     "text": [
      "p-значение 0.14012658403611503\n",
      "Не получилось отвергнуть нулевую гипотезу\n"
     ]
    }
   ],
   "source": [
    "# Оценки пользователей игр для платформы Xbox\n",
    "xbox_user_score = (\n",
    "    data_actual.query('platform == \"XOne\"')['user_score']\n",
    ")\n",
    "\n",
    "# Оценки пользователей игр для платформы PC\n",
    "pc_user_score = (\n",
    "    data_actual.query('platform == \"PC\"')['user_score']\n",
    ")\n",
    "\n",
    "# Уровень статистической значимости\n",
    "alpha = 0.05\n",
    "\n",
    "# Статистический тест (nan_policy='omit': игнорирует вхождения nan во входных данных)\n",
    "results = st.ttest_ind(\n",
    "    xbox_user_score, pc_user_score, nan_policy='omit', equal_var=True\n",
    ")\n",
    "\n",
    "# Интерпретация результата\n",
    "print('p-значение', results.pvalue)\n",
    "\n",
    "if results.pvalue < alpha:\n",
    "    print('Отвергаем нулевую гипотезу')\n",
    "else:\n",
    "    print('Не получилось отвергнуть нулевую гипотезу')"
   ]
  },
  {
   "cell_type": "markdown",
   "metadata": {},
   "source": [
    "<div class=\"alert alert-success\">\n",
    "<b>ОТЛИЧНО! 👍</b>\n",
    "\n",
    "Очень хорошо, что ты не забываешь отфильтровать «заглушки» / NaN значения.\n",
    "\n",
    "Также верно и то, что мы используем здесь двусторонний тест.</div>\n"
   ]
  },
  {
   "cell_type": "markdown",
   "metadata": {},
   "source": [
    "<p></p>\n",
    "\n",
    "<div style=\"border:solid green 2px; padding: 20px\">\n",
    "Вывод: У нас нет оснований утверждать, что средние пользовательские рейтинги платформ Xbox One и PC значимо различаются. P-значение — 14%.\n",
    "<p></p>\n",
    "\n",
    "<div>"
   ]
  },
  {
   "cell_type": "markdown",
   "metadata": {},
   "source": [
    "<div class=\"alert alert-danger\">\n",
    "<b>Необходимо исправить ❌</b>\n",
    "\n",
    "**Средние пользовательские рейтинги платформ Xbox One и PC равны** - нельзя сделать вывод, что тест \"подтвердил\" одну из гипотез (в статистике гипотезы подтвердить невозможно) или \"подтвердил\" равенство/неравенство (можно говорить только о статистически (не)значимом различии). Например так: «У нас нет оснований утверждать, что средние пользовательские рейтинги платформ Xbox One и PC значимо различаются».\n",
    "\n",
    "И ещё на эту же тему: никакие экспериментально полученные данные никогда не подтвердят какую-либо гипотезу. Это наше фундаментальное ограничение. Данные могут лишь не противоречить ей или, наоборот, показывать крайне маловероятные результаты (при условии, что гипотеза верна). Но и в том, и в другом случае нет оснований утверждать, что выдвинутая гипотеза доказана. Допустим, данные гипотезе не противоречат, тогда мы её не отвергаем. Если же мы приходим к выводу, что получить такие данные в рамках этой гипотезы вряд ли возможно, у нас появляется основание отбросить эту гипотезу. Статья на эту тему: https://allatambov.github.io/psms/pdf/hypo-test.pdf\n",
    "</div>\n"
   ]
  },
  {
   "cell_type": "markdown",
   "metadata": {},
   "source": [
    "<div class=\"alert alert-success\">\n",
    "<b>КОММЕНТАРИЙ V2</b>\n",
    "\n",
    "+\n",
    "</div>"
   ]
  },
  {
   "cell_type": "markdown",
   "metadata": {},
   "source": [
    "H0: Средние пользовательские рейтинги жанров Action и Sports разные.\n",
    "\n",
    "H1: Средние пользовательские рейтинги жанров Action и Sports одинаковые.\n",
    "\n",
    "Определим критический уровень статистической значимости alpha в 0.05."
   ]
  },
  {
   "cell_type": "code",
   "execution_count": 48,
   "metadata": {},
   "outputs": [
    {
     "name": "stdout",
     "output_type": "stream",
     "text": [
      "p-значение 1.0517832389139422e-27\n",
      "Отвергаем нулевую гипотезу\n"
     ]
    }
   ],
   "source": [
    "# Оценки пользователей игр для платформы Xbox\n",
    "xbox_user_score = (\n",
    "    data_actual.query('genre == \"Action\"')['user_score']\n",
    ")\n",
    "\n",
    "# Оценки пользователей игр для платформы PC\n",
    "pc_user_score = (\n",
    "    data_actual.query('genre == \"Sports\"')['user_score']\n",
    ")\n",
    "\n",
    "# Уровень статистической значимости\n",
    "alpha = 0.05\n",
    "\n",
    "# Статистический тест (nan_policy='omit': игнорирует вхождения nan во входных данных)\n",
    "results = st.ttest_ind(\n",
    "    xbox_user_score, pc_user_score, nan_policy='omit', equal_var=True\n",
    ")\n",
    "\n",
    "# Интерпретация результата\n",
    "print('p-значение', results.pvalue)\n",
    "\n",
    "if results.pvalue < alpha:\n",
    "    print('Отвергаем нулевую гипотезу')\n",
    "else:\n",
    "    print('Не получилось отвергнуть нулевую гипотезу')"
   ]
  },
  {
   "cell_type": "markdown",
   "metadata": {},
   "source": [
    "***Вывод: Принимаем альтернативную гипотезу. Полученное p-значение очень маленькое, вероятность получить такую разницу в оценках случайно почти нулевая.***"
   ]
  },
  {
   "cell_type": "markdown",
   "metadata": {},
   "source": [
    "### Вывод:\n",
    "У нас нет оснований утверждать, что средние пользовательские рейтинги платформ Xbox One и PC значимо различаются.\n",
    "Возможно, Microsoft стоит выпускать для Xbox больше эксклюзивных игр, которые могли быть оценены выше, чем общие игры для обеих платформ.\n",
    "\n",
    "Наши данные не противоречат гипотезе: средние пользовательские рейтинги жанров Action и Sports различны."
   ]
  },
  {
   "cell_type": "markdown",
   "metadata": {},
   "source": [
    "# Общий вывод:"
   ]
  },
  {
   "cell_type": "markdown",
   "metadata": {},
   "source": [
    "*В ходе исследований были выявлены закономерности, определяющие успешность игры.*\n",
    "\n",
    "- Оценки критиков демонстрируют прямую, средне-слабую корреляцию с цифрами продаж. Оценки пользователей корреляции с продажами не имеют\n",
    "\n",
    "- Самые продаваемые жанры Shooter, Sports, Platform и Role-Playing\n",
    "\n",
    "- По платформам лидируют PS4, XOne и 3DS, но каждые 6-7 лет платформы обновляются. Это надо учитывать.\n",
    "\n",
    "- Самая продаваемая категория игр - категория \"M\" (\"От 17 и старше\")\n",
    "\n",
    "*Портреты пользователей каждого региона:*\n",
    "\n",
    "1. Портрет пользователя из Северной Америки - чаще покупает игры жанра Action, Shooter, Sports; играет на платформах PS4 и XOne\n",
    "\n",
    "2. Портрет пользователя из Европы - жанра Action, Shooter, Sports; играет в основном на платформах PS4\n",
    "\n",
    "3. Портрет пользователя из Японии - чаще покупает игры жанра Role-Playing или Action; играет на платформах 3DS\n",
    "\n",
    "***Рекомендации для рекламных компаний***: \n",
    "В Северной Америке и Европе следует продвигать игры для платформ Sony PlayStation 4 и Microsoft Xbox One.\n",
    "На рынке Японии следует продвигать игры для платформы Nintendo 3DS.\n",
    "При выборе перспективных игр не следует полагаться на отзывы критиков и пользователей."
   ]
  },
  {
   "cell_type": "markdown",
   "metadata": {},
   "source": [
    "# Результат ревью:\n",
    "\n",
    "Я отмечаю высокий уровень твоей программистской подготовки. Ты используешь продвинутые концепции языка Python и библиотеки pandas. Всё это в целом упрощает твой код и одновременно показывает твой уровень владения инструментами.\n",
    "\n",
    "Ты умело применяешь графические библиотеки (matplotlib / seaborn), выбираешь для визуализации ровно те типы графиков, которые нужны. Очень хорошо, что оси на графиках подписаны и сами они имеют понятные названия.\n",
    "\n",
    "С комментированием никаких проблем нет. Твоих объяснений достаточно для понимания твоими коллегами хода мыслей. Ссылки из брифа проекта в нужных местах также помогают следовать за развитием событий и дают полную информацию касаемо того, что будет происходить в том или ином разделе проекта.\n",
    "\n",
    "Мне было просто проверять твой проект, потому что он чётко структурирован, с использованием оглавления. \n",
    "\n",
    "Зелёным цветом я отметил и прокомментировал удачные и элегантные решения, на которые ты можешь опираться в будущих проектах.\n",
    "\n",
    "Жёлтым цветом я выделил то, что в следующий раз можно сделать по-другому. Ты можешь учесть эти комментарии при выполнении будущих заданий или доработать проект сейчас.\n",
    "\n",
    "Однако есть принципиальные моменты, которые не позволяют мне принять твой проект в его нынешнем состоянии:\n",
    "\n",
    "<div class=\"alert alert-danger\">\n",
    "<b>Необходимо исправить ❌</b> \n",
    "\n",
    "1. Попробуй рассмотреть не общие продажи, а медианные (или средние). Общие продажи - плохая метрика для поиска наиболее прибыльного жанра. Анализ медианных показателей позволит тебе найти жанр, который приносит высокий доход.\n",
    "\n",
    "2. Нельзя сделать вывод, что что наш тест \"подтвердил\" одну из гипотез (в статистике гипотезы подтвердить невозможно) или \"подтвердил\" равенство/неравенство (можно говорить только о статистически (не)значимом различии).</div>\n",
    "\n",
    "Эти 2 момента требуют твоего внимания. Комментарии по ним помечены красным цветом. \n",
    "\n",
    "Подводя итог: хорошая работа на самом-то деле, молодец! Есть несколько моментов к исправлению, но уверен, что они не вызовут у тебя сложностей. После доработки обязательно проверь комментарии и выводы. Их нужно будет скорректировать. Жду доработанную версию проекта на повторное ревью."
   ]
  },
  {
   "cell_type": "markdown",
   "metadata": {},
   "source": [
    "<div style=\"background: #B0E0E6; padding: 5px; border: 1px solid SteelBlue; border-radius: 5px;\">\n",
    "    <font color='4682B4'><u><b>КОММЕНТАРИЙ СТУДЕНТА</b></u></font>\n",
    "    <br />\n",
    "    <font color='4682B4'>Большое спасибо за подсказки и дельные советы. Они мне очень помогут в дальнейшем моем обучении и в карьере аналитика данных. Все красные коменнарии исправил.</font>\n",
    "</div>"
   ]
  },
  {
   "cell_type": "markdown",
   "metadata": {},
   "source": [
    "<div class=\"alert alert-success\">\n",
    "<b>КОММЕНТАРИЙ V2</b>\n",
    "\n",
    "Отличный проект коллега! Спасибо за качественную и вовлеченную работу над ним!\n",
    "</div>"
   ]
  }
 ],
 "metadata": {
  "ExecuteTimeLog": [
   {
    "duration": 378,
    "start_time": "2022-10-05T21:50:06.829Z"
   },
   {
    "duration": 1009,
    "start_time": "2022-10-05T21:51:28.989Z"
   },
   {
    "duration": 173,
    "start_time": "2022-10-05T21:52:34.133Z"
   },
   {
    "duration": 13,
    "start_time": "2022-10-05T21:52:38.465Z"
   },
   {
    "duration": 49,
    "start_time": "2022-10-05T21:52:48.093Z"
   },
   {
    "duration": 50,
    "start_time": "2022-10-05T21:53:52.244Z"
   },
   {
    "duration": 9,
    "start_time": "2022-10-05T21:53:53.295Z"
   },
   {
    "duration": 91,
    "start_time": "2022-10-05T21:54:00.562Z"
   },
   {
    "duration": 3433,
    "start_time": "2022-10-05T21:54:08.962Z"
   },
   {
    "duration": 3140,
    "start_time": "2022-10-05T21:54:17.552Z"
   },
   {
    "duration": 1813,
    "start_time": "2022-10-05T21:54:26.406Z"
   },
   {
    "duration": 3092,
    "start_time": "2022-10-05T21:54:31.101Z"
   },
   {
    "duration": 51,
    "start_time": "2022-10-05T21:55:52.052Z"
   },
   {
    "duration": 22,
    "start_time": "2022-10-05T21:55:53.140Z"
   },
   {
    "duration": 4,
    "start_time": "2022-10-05T21:56:29.358Z"
   },
   {
    "duration": 16,
    "start_time": "2022-10-05T21:56:41.215Z"
   },
   {
    "duration": 31,
    "start_time": "2022-10-05T21:56:51.644Z"
   },
   {
    "duration": 57,
    "start_time": "2022-10-05T21:58:39.313Z"
   },
   {
    "duration": 840,
    "start_time": "2022-10-05T22:01:40.464Z"
   },
   {
    "duration": 726,
    "start_time": "2022-10-05T22:10:04.249Z"
   },
   {
    "duration": 797,
    "start_time": "2022-10-05T22:10:15.566Z"
   },
   {
    "duration": 4,
    "start_time": "2022-10-05T22:11:14.210Z"
   },
   {
    "duration": 52,
    "start_time": "2022-10-05T22:11:14.359Z"
   },
   {
    "duration": 22,
    "start_time": "2022-10-05T22:11:14.560Z"
   },
   {
    "duration": 15,
    "start_time": "2022-10-05T22:11:14.678Z"
   },
   {
    "duration": 34,
    "start_time": "2022-10-05T22:11:14.867Z"
   },
   {
    "duration": 18,
    "start_time": "2022-10-05T22:11:15.540Z"
   },
   {
    "duration": 785,
    "start_time": "2022-10-05T22:11:16.221Z"
   },
   {
    "duration": 5,
    "start_time": "2022-10-05T22:16:05.801Z"
   },
   {
    "duration": 6,
    "start_time": "2022-10-05T22:16:40.986Z"
   },
   {
    "duration": 2,
    "start_time": "2022-10-05T22:17:34.225Z"
   },
   {
    "duration": 22,
    "start_time": "2022-10-05T22:18:11.695Z"
   },
   {
    "duration": 15,
    "start_time": "2022-10-05T22:18:49.488Z"
   },
   {
    "duration": 5,
    "start_time": "2022-10-05T22:19:24.670Z"
   },
   {
    "duration": 6,
    "start_time": "2022-10-05T22:20:17.512Z"
   },
   {
    "duration": 13,
    "start_time": "2022-10-05T22:22:53.191Z"
   },
   {
    "duration": 23,
    "start_time": "2022-10-05T22:22:58.344Z"
   },
   {
    "duration": 7,
    "start_time": "2022-10-05T22:23:04.756Z"
   },
   {
    "duration": 17,
    "start_time": "2022-10-05T22:24:16.578Z"
   },
   {
    "duration": 7,
    "start_time": "2022-10-05T22:24:28.324Z"
   },
   {
    "duration": 6,
    "start_time": "2022-10-05T22:24:52.224Z"
   },
   {
    "duration": 7,
    "start_time": "2022-10-05T22:24:56.278Z"
   },
   {
    "duration": 9,
    "start_time": "2022-10-05T22:26:13.400Z"
   },
   {
    "duration": 10,
    "start_time": "2022-10-05T22:26:18.627Z"
   },
   {
    "duration": 9,
    "start_time": "2022-10-05T22:26:51.300Z"
   },
   {
    "duration": 6,
    "start_time": "2022-10-05T22:27:24.346Z"
   },
   {
    "duration": 5,
    "start_time": "2022-10-05T22:27:32.544Z"
   },
   {
    "duration": 5,
    "start_time": "2022-10-05T22:31:56.312Z"
   },
   {
    "duration": 6,
    "start_time": "2022-10-05T22:32:15.185Z"
   },
   {
    "duration": 5,
    "start_time": "2022-10-05T22:37:34.724Z"
   },
   {
    "duration": 5,
    "start_time": "2022-10-05T22:37:44.211Z"
   },
   {
    "duration": 5,
    "start_time": "2022-10-05T22:38:09.392Z"
   },
   {
    "duration": 13,
    "start_time": "2022-10-05T22:41:21.956Z"
   },
   {
    "duration": 15,
    "start_time": "2022-10-05T22:41:40.485Z"
   },
   {
    "duration": 78,
    "start_time": "2022-10-05T22:44:51.637Z"
   },
   {
    "duration": 60,
    "start_time": "2022-10-07T14:16:40.493Z"
   },
   {
    "duration": 7,
    "start_time": "2022-10-07T14:16:45.016Z"
   },
   {
    "duration": 1351,
    "start_time": "2022-10-07T14:16:52.205Z"
   },
   {
    "duration": 96,
    "start_time": "2022-10-07T14:16:53.558Z"
   },
   {
    "duration": 23,
    "start_time": "2022-10-07T14:16:53.655Z"
   },
   {
    "duration": 13,
    "start_time": "2022-10-07T14:16:53.679Z"
   },
   {
    "duration": 60,
    "start_time": "2022-10-07T14:16:53.694Z"
   },
   {
    "duration": 53,
    "start_time": "2022-10-07T14:16:53.756Z"
   },
   {
    "duration": 707,
    "start_time": "2022-10-07T14:16:53.810Z"
   },
   {
    "duration": 5,
    "start_time": "2022-10-07T14:16:54.519Z"
   },
   {
    "duration": 17,
    "start_time": "2022-10-07T14:16:54.525Z"
   },
   {
    "duration": 17,
    "start_time": "2022-10-07T14:16:54.543Z"
   },
   {
    "duration": 37,
    "start_time": "2022-10-07T14:16:54.562Z"
   },
   {
    "duration": 9,
    "start_time": "2022-10-07T14:16:54.600Z"
   },
   {
    "duration": 13,
    "start_time": "2022-10-07T14:16:54.611Z"
   },
   {
    "duration": 13,
    "start_time": "2022-10-07T14:16:54.626Z"
   },
   {
    "duration": 23,
    "start_time": "2022-10-07T14:16:54.641Z"
   },
   {
    "duration": 24,
    "start_time": "2022-10-07T14:16:54.665Z"
   },
   {
    "duration": 15,
    "start_time": "2022-10-07T14:16:54.690Z"
   },
   {
    "duration": 29,
    "start_time": "2022-10-07T14:16:54.706Z"
   },
   {
    "duration": 3,
    "start_time": "2022-10-07T14:16:54.737Z"
   },
   {
    "duration": 4,
    "start_time": "2022-10-07T14:19:00.661Z"
   },
   {
    "duration": 112,
    "start_time": "2022-10-07T14:19:10.379Z"
   },
   {
    "duration": 9,
    "start_time": "2022-10-07T14:19:17.346Z"
   },
   {
    "duration": 14,
    "start_time": "2022-10-07T14:19:24.443Z"
   },
   {
    "duration": 13,
    "start_time": "2022-10-07T14:23:54.457Z"
   },
   {
    "duration": 9,
    "start_time": "2022-10-07T14:24:25.467Z"
   },
   {
    "duration": 127,
    "start_time": "2022-10-07T14:24:39.982Z"
   },
   {
    "duration": 158,
    "start_time": "2022-10-07T14:25:29.836Z"
   },
   {
    "duration": 137,
    "start_time": "2022-10-07T14:27:06.873Z"
   },
   {
    "duration": 221,
    "start_time": "2022-10-07T14:27:17.707Z"
   },
   {
    "duration": 8,
    "start_time": "2022-10-07T14:28:04.006Z"
   },
   {
    "duration": 9,
    "start_time": "2022-10-07T15:00:52.764Z"
   },
   {
    "duration": 7,
    "start_time": "2022-10-07T15:01:07.443Z"
   },
   {
    "duration": 7,
    "start_time": "2022-10-07T15:02:11.783Z"
   },
   {
    "duration": 7,
    "start_time": "2022-10-07T15:02:57.732Z"
   },
   {
    "duration": 119,
    "start_time": "2022-10-07T15:03:24.598Z"
   },
   {
    "duration": 7,
    "start_time": "2022-10-07T15:03:36.945Z"
   },
   {
    "duration": 7,
    "start_time": "2022-10-07T15:04:57.958Z"
   },
   {
    "duration": 7,
    "start_time": "2022-10-07T15:08:59.303Z"
   },
   {
    "duration": 234,
    "start_time": "2022-10-07T15:16:43.891Z"
   },
   {
    "duration": 301,
    "start_time": "2022-10-07T15:21:34.735Z"
   },
   {
    "duration": 286,
    "start_time": "2022-10-07T15:24:06.057Z"
   },
   {
    "duration": 54,
    "start_time": "2022-10-07T15:26:48.838Z"
   },
   {
    "duration": 53,
    "start_time": "2022-10-07T15:27:14.599Z"
   },
   {
    "duration": 229,
    "start_time": "2022-10-07T15:28:08.827Z"
   },
   {
    "duration": 261,
    "start_time": "2022-10-07T15:28:54.620Z"
   },
   {
    "duration": 247,
    "start_time": "2022-10-07T15:29:09.604Z"
   },
   {
    "duration": 266,
    "start_time": "2022-10-07T15:29:32.343Z"
   },
   {
    "duration": 311,
    "start_time": "2022-10-07T15:29:35.595Z"
   },
   {
    "duration": 16,
    "start_time": "2022-10-07T15:35:42.232Z"
   },
   {
    "duration": 56,
    "start_time": "2022-10-07T15:38:12.265Z"
   },
   {
    "duration": 5,
    "start_time": "2022-10-07T15:38:33.425Z"
   },
   {
    "duration": 29,
    "start_time": "2022-10-07T15:51:26.946Z"
   },
   {
    "duration": 29,
    "start_time": "2022-10-07T16:02:43.156Z"
   },
   {
    "duration": 28,
    "start_time": "2022-10-07T16:02:49.101Z"
   },
   {
    "duration": 28,
    "start_time": "2022-10-07T16:03:11.704Z"
   },
   {
    "duration": 26,
    "start_time": "2022-10-07T16:03:19.773Z"
   },
   {
    "duration": 26,
    "start_time": "2022-10-07T16:03:26.703Z"
   },
   {
    "duration": 27,
    "start_time": "2022-10-07T16:03:35.121Z"
   },
   {
    "duration": 27,
    "start_time": "2022-10-07T16:03:39.831Z"
   },
   {
    "duration": 224,
    "start_time": "2022-10-07T16:12:49.343Z"
   },
   {
    "duration": 5,
    "start_time": "2022-10-07T16:14:30.268Z"
   },
   {
    "duration": 19,
    "start_time": "2022-10-07T16:14:35.138Z"
   },
   {
    "duration": 17,
    "start_time": "2022-10-07T16:14:41.934Z"
   },
   {
    "duration": 238,
    "start_time": "2022-10-07T16:15:10.424Z"
   },
   {
    "duration": 233,
    "start_time": "2022-10-07T16:16:17.966Z"
   },
   {
    "duration": 239,
    "start_time": "2022-10-07T16:16:27.639Z"
   },
   {
    "duration": 232,
    "start_time": "2022-10-07T16:20:25.852Z"
   },
   {
    "duration": 207,
    "start_time": "2022-10-07T16:21:21.912Z"
   },
   {
    "duration": 235,
    "start_time": "2022-10-07T16:21:27.964Z"
   },
   {
    "duration": 224,
    "start_time": "2022-10-07T16:22:31.698Z"
   },
   {
    "duration": 22,
    "start_time": "2022-10-07T16:27:23.838Z"
   },
   {
    "duration": 8,
    "start_time": "2022-10-07T16:28:05.258Z"
   },
   {
    "duration": 29,
    "start_time": "2022-10-07T16:28:45.379Z"
   },
   {
    "duration": 257,
    "start_time": "2022-10-07T16:41:37.428Z"
   },
   {
    "duration": 28,
    "start_time": "2022-10-07T16:42:09.587Z"
   },
   {
    "duration": 249,
    "start_time": "2022-10-07T16:42:09.926Z"
   },
   {
    "duration": 184,
    "start_time": "2022-10-07T16:44:55.075Z"
   },
   {
    "duration": 375,
    "start_time": "2022-10-07T16:51:30.727Z"
   },
   {
    "duration": 415,
    "start_time": "2022-10-07T16:52:18.420Z"
   },
   {
    "duration": 207,
    "start_time": "2022-10-07T16:57:37.054Z"
   },
   {
    "duration": 225,
    "start_time": "2022-10-07T16:58:23.684Z"
   },
   {
    "duration": 4,
    "start_time": "2022-10-07T16:58:39.029Z"
   },
   {
    "duration": 4,
    "start_time": "2022-10-07T16:59:04.970Z"
   },
   {
    "duration": 6,
    "start_time": "2022-10-07T16:59:41.547Z"
   },
   {
    "duration": 241,
    "start_time": "2022-10-07T16:59:42.385Z"
   },
   {
    "duration": 10,
    "start_time": "2022-10-07T16:59:56.764Z"
   },
   {
    "duration": 6,
    "start_time": "2022-10-07T17:01:25.974Z"
   },
   {
    "duration": 49,
    "start_time": "2022-10-07T17:03:15.150Z"
   },
   {
    "duration": 7,
    "start_time": "2022-10-07T17:03:42.898Z"
   },
   {
    "duration": 4,
    "start_time": "2022-10-07T17:05:51.169Z"
   },
   {
    "duration": 10,
    "start_time": "2022-10-07T17:05:57.783Z"
   },
   {
    "duration": 211,
    "start_time": "2022-10-07T17:06:07.680Z"
   },
   {
    "duration": 11,
    "start_time": "2022-10-07T17:07:39.049Z"
   },
   {
    "duration": 209,
    "start_time": "2022-10-07T17:07:59.172Z"
   },
   {
    "duration": 52,
    "start_time": "2022-10-07T17:13:51.170Z"
   },
   {
    "duration": 197,
    "start_time": "2022-10-07T17:14:35.867Z"
   },
   {
    "duration": 194,
    "start_time": "2022-10-07T17:16:40.977Z"
   },
   {
    "duration": 13,
    "start_time": "2022-10-07T17:25:55.575Z"
   },
   {
    "duration": 12,
    "start_time": "2022-10-07T17:26:08.563Z"
   },
   {
    "duration": 670,
    "start_time": "2022-10-07T17:26:24.032Z"
   },
   {
    "duration": 214,
    "start_time": "2022-10-07T17:26:32.505Z"
   },
   {
    "duration": 159,
    "start_time": "2022-10-07T17:26:45.194Z"
   },
   {
    "duration": 237,
    "start_time": "2022-10-07T17:27:05.813Z"
   },
   {
    "duration": 187,
    "start_time": "2022-10-07T17:27:32.475Z"
   },
   {
    "duration": 5,
    "start_time": "2022-10-07T17:30:24.378Z"
   },
   {
    "duration": 1055,
    "start_time": "2022-10-07T17:34:04.134Z"
   },
   {
    "duration": 54,
    "start_time": "2022-10-07T17:34:05.191Z"
   },
   {
    "duration": 23,
    "start_time": "2022-10-07T17:34:05.246Z"
   },
   {
    "duration": 13,
    "start_time": "2022-10-07T17:34:05.270Z"
   },
   {
    "duration": 39,
    "start_time": "2022-10-07T17:34:05.285Z"
   },
   {
    "duration": 56,
    "start_time": "2022-10-07T17:34:05.326Z"
   },
   {
    "duration": 690,
    "start_time": "2022-10-07T17:34:05.383Z"
   },
   {
    "duration": 5,
    "start_time": "2022-10-07T17:34:06.075Z"
   },
   {
    "duration": 16,
    "start_time": "2022-10-07T17:34:06.081Z"
   },
   {
    "duration": 14,
    "start_time": "2022-10-07T17:34:06.098Z"
   },
   {
    "duration": 18,
    "start_time": "2022-10-07T17:34:06.113Z"
   },
   {
    "duration": 18,
    "start_time": "2022-10-07T17:34:06.132Z"
   },
   {
    "duration": 12,
    "start_time": "2022-10-07T17:34:06.151Z"
   },
   {
    "duration": 11,
    "start_time": "2022-10-07T17:34:06.165Z"
   },
   {
    "duration": 25,
    "start_time": "2022-10-07T17:34:06.177Z"
   },
   {
    "duration": 11,
    "start_time": "2022-10-07T17:34:06.203Z"
   },
   {
    "duration": 17,
    "start_time": "2022-10-07T17:34:06.215Z"
   },
   {
    "duration": 43,
    "start_time": "2022-10-07T17:34:06.233Z"
   },
   {
    "duration": 3,
    "start_time": "2022-10-07T17:34:06.278Z"
   },
   {
    "duration": 13,
    "start_time": "2022-10-07T17:34:06.283Z"
   },
   {
    "duration": 23,
    "start_time": "2022-10-07T17:34:06.298Z"
   },
   {
    "duration": 26,
    "start_time": "2022-10-07T17:34:06.323Z"
   },
   {
    "duration": 302,
    "start_time": "2022-10-07T17:34:06.351Z"
   },
   {
    "duration": 8,
    "start_time": "2022-10-07T17:34:06.654Z"
   },
   {
    "duration": 290,
    "start_time": "2022-10-07T17:34:06.663Z"
   },
   {
    "duration": 75,
    "start_time": "2022-10-07T17:34:06.954Z"
   },
   {
    "duration": 5,
    "start_time": "2022-10-07T17:34:07.031Z"
   },
   {
    "duration": 34,
    "start_time": "2022-10-07T17:34:07.037Z"
   },
   {
    "duration": 37,
    "start_time": "2022-10-07T17:34:07.072Z"
   },
   {
    "duration": 260,
    "start_time": "2022-10-07T17:34:07.110Z"
   },
   {
    "duration": 285,
    "start_time": "2022-10-07T17:34:07.372Z"
   },
   {
    "duration": 9,
    "start_time": "2022-10-07T17:34:07.659Z"
   },
   {
    "duration": 120,
    "start_time": "2022-10-07T17:34:07.669Z"
   },
   {
    "duration": 0,
    "start_time": "2022-10-07T17:34:07.791Z"
   },
   {
    "duration": 0,
    "start_time": "2022-10-07T17:34:07.792Z"
   },
   {
    "duration": 0,
    "start_time": "2022-10-07T17:34:07.794Z"
   },
   {
    "duration": 0,
    "start_time": "2022-10-07T17:34:07.795Z"
   },
   {
    "duration": 0,
    "start_time": "2022-10-07T17:34:07.809Z"
   },
   {
    "duration": 1,
    "start_time": "2022-10-07T17:34:07.810Z"
   },
   {
    "duration": 0,
    "start_time": "2022-10-07T17:34:07.812Z"
   },
   {
    "duration": 0,
    "start_time": "2022-10-07T17:34:07.813Z"
   },
   {
    "duration": 8,
    "start_time": "2022-10-07T17:39:29.956Z"
   },
   {
    "duration": 5,
    "start_time": "2022-10-07T17:39:36.113Z"
   },
   {
    "duration": 348,
    "start_time": "2022-10-07T17:39:36.831Z"
   },
   {
    "duration": 5,
    "start_time": "2022-10-07T17:40:26.717Z"
   },
   {
    "duration": 251,
    "start_time": "2022-10-07T17:40:26.852Z"
   },
   {
    "duration": 5,
    "start_time": "2022-10-07T17:40:57.678Z"
   },
   {
    "duration": 385,
    "start_time": "2022-10-07T17:40:58.466Z"
   },
   {
    "duration": 8,
    "start_time": "2022-10-07T17:41:52.826Z"
   },
   {
    "duration": 5,
    "start_time": "2022-10-07T17:41:55.572Z"
   },
   {
    "duration": 358,
    "start_time": "2022-10-07T17:41:56.084Z"
   },
   {
    "duration": 413,
    "start_time": "2022-10-07T17:46:15.752Z"
   },
   {
    "duration": 13,
    "start_time": "2022-10-07T17:49:24.254Z"
   },
   {
    "duration": 352,
    "start_time": "2022-10-07T17:49:34.967Z"
   },
   {
    "duration": 48,
    "start_time": "2022-10-07T17:55:21.785Z"
   },
   {
    "duration": 47,
    "start_time": "2022-10-07T17:56:45.854Z"
   },
   {
    "duration": 127,
    "start_time": "2022-10-07T17:59:02.609Z"
   },
   {
    "duration": 13,
    "start_time": "2022-10-07T18:00:41.656Z"
   },
   {
    "duration": 9,
    "start_time": "2022-10-07T18:00:49.908Z"
   },
   {
    "duration": 10,
    "start_time": "2022-10-07T18:00:56.889Z"
   },
   {
    "duration": 12,
    "start_time": "2022-10-07T18:03:06.327Z"
   },
   {
    "duration": 44,
    "start_time": "2022-10-07T18:05:17.247Z"
   },
   {
    "duration": 10,
    "start_time": "2022-10-07T18:06:25.008Z"
   },
   {
    "duration": 1475,
    "start_time": "2022-10-08T10:00:16.222Z"
   },
   {
    "duration": 103,
    "start_time": "2022-10-08T10:00:17.699Z"
   },
   {
    "duration": 27,
    "start_time": "2022-10-08T10:00:17.804Z"
   },
   {
    "duration": 24,
    "start_time": "2022-10-08T10:00:17.833Z"
   },
   {
    "duration": 34,
    "start_time": "2022-10-08T10:00:17.860Z"
   },
   {
    "duration": 73,
    "start_time": "2022-10-08T10:00:17.896Z"
   },
   {
    "duration": 777,
    "start_time": "2022-10-08T10:00:17.970Z"
   },
   {
    "duration": 6,
    "start_time": "2022-10-08T10:00:18.754Z"
   },
   {
    "duration": 34,
    "start_time": "2022-10-08T10:00:18.761Z"
   },
   {
    "duration": 12,
    "start_time": "2022-10-08T10:00:18.797Z"
   },
   {
    "duration": 25,
    "start_time": "2022-10-08T10:00:18.811Z"
   },
   {
    "duration": 16,
    "start_time": "2022-10-08T10:00:18.838Z"
   },
   {
    "duration": 29,
    "start_time": "2022-10-08T10:00:18.855Z"
   },
   {
    "duration": 14,
    "start_time": "2022-10-08T10:00:18.887Z"
   },
   {
    "duration": 18,
    "start_time": "2022-10-08T10:00:18.903Z"
   },
   {
    "duration": 12,
    "start_time": "2022-10-08T10:00:18.923Z"
   },
   {
    "duration": 32,
    "start_time": "2022-10-08T10:00:18.937Z"
   },
   {
    "duration": 37,
    "start_time": "2022-10-08T10:00:18.971Z"
   },
   {
    "duration": 14,
    "start_time": "2022-10-08T10:00:19.010Z"
   },
   {
    "duration": 17,
    "start_time": "2022-10-08T10:00:19.026Z"
   },
   {
    "duration": 40,
    "start_time": "2022-10-08T10:00:19.045Z"
   },
   {
    "duration": 22,
    "start_time": "2022-10-08T10:00:19.087Z"
   },
   {
    "duration": 363,
    "start_time": "2022-10-08T10:00:19.111Z"
   },
   {
    "duration": 9,
    "start_time": "2022-10-08T10:00:19.476Z"
   },
   {
    "duration": 322,
    "start_time": "2022-10-08T10:00:19.487Z"
   },
   {
    "duration": 104,
    "start_time": "2022-10-08T10:00:19.811Z"
   },
   {
    "duration": 21,
    "start_time": "2022-10-08T10:00:19.917Z"
   },
   {
    "duration": 45,
    "start_time": "2022-10-08T10:00:19.940Z"
   },
   {
    "duration": 33,
    "start_time": "2022-10-08T10:00:19.987Z"
   },
   {
    "duration": 284,
    "start_time": "2022-10-08T10:00:20.022Z"
   },
   {
    "duration": 332,
    "start_time": "2022-10-08T10:00:20.308Z"
   },
   {
    "duration": 19,
    "start_time": "2022-10-08T10:00:20.642Z"
   },
   {
    "duration": 149,
    "start_time": "2022-10-08T10:00:20.668Z"
   },
   {
    "duration": 0,
    "start_time": "2022-10-08T10:00:20.820Z"
   },
   {
    "duration": 0,
    "start_time": "2022-10-08T10:00:20.821Z"
   },
   {
    "duration": 0,
    "start_time": "2022-10-08T10:00:20.823Z"
   },
   {
    "duration": 0,
    "start_time": "2022-10-08T10:00:20.825Z"
   },
   {
    "duration": 0,
    "start_time": "2022-10-08T10:00:20.826Z"
   },
   {
    "duration": 0,
    "start_time": "2022-10-08T10:00:20.827Z"
   },
   {
    "duration": 0,
    "start_time": "2022-10-08T10:00:20.828Z"
   },
   {
    "duration": 0,
    "start_time": "2022-10-08T10:00:20.829Z"
   },
   {
    "duration": 0,
    "start_time": "2022-10-08T10:00:20.830Z"
   },
   {
    "duration": 0,
    "start_time": "2022-10-08T10:00:20.831Z"
   },
   {
    "duration": 0,
    "start_time": "2022-10-08T10:00:20.833Z"
   },
   {
    "duration": 0,
    "start_time": "2022-10-08T10:00:20.855Z"
   },
   {
    "duration": 1207,
    "start_time": "2022-10-08T10:03:12.767Z"
   },
   {
    "duration": 58,
    "start_time": "2022-10-08T10:03:13.976Z"
   },
   {
    "duration": 27,
    "start_time": "2022-10-08T10:03:14.036Z"
   },
   {
    "duration": 20,
    "start_time": "2022-10-08T10:03:14.065Z"
   },
   {
    "duration": 32,
    "start_time": "2022-10-08T10:03:14.087Z"
   },
   {
    "duration": 77,
    "start_time": "2022-10-08T10:03:14.120Z"
   },
   {
    "duration": 779,
    "start_time": "2022-10-08T10:03:14.199Z"
   },
   {
    "duration": 6,
    "start_time": "2022-10-08T10:03:14.981Z"
   },
   {
    "duration": 23,
    "start_time": "2022-10-08T10:03:14.989Z"
   },
   {
    "duration": 25,
    "start_time": "2022-10-08T10:03:15.016Z"
   },
   {
    "duration": 18,
    "start_time": "2022-10-08T10:03:15.043Z"
   },
   {
    "duration": 9,
    "start_time": "2022-10-08T10:03:15.063Z"
   },
   {
    "duration": 13,
    "start_time": "2022-10-08T10:03:15.074Z"
   },
   {
    "duration": 9,
    "start_time": "2022-10-08T10:03:15.089Z"
   },
   {
    "duration": 9,
    "start_time": "2022-10-08T10:03:15.099Z"
   },
   {
    "duration": 10,
    "start_time": "2022-10-08T10:03:15.109Z"
   },
   {
    "duration": 10,
    "start_time": "2022-10-08T10:03:15.120Z"
   },
   {
    "duration": 36,
    "start_time": "2022-10-08T10:03:15.131Z"
   },
   {
    "duration": 4,
    "start_time": "2022-10-08T10:03:15.169Z"
   },
   {
    "duration": 8,
    "start_time": "2022-10-08T10:03:15.175Z"
   },
   {
    "duration": 24,
    "start_time": "2022-10-08T10:03:15.186Z"
   },
   {
    "duration": 9,
    "start_time": "2022-10-08T10:03:15.213Z"
   },
   {
    "duration": 379,
    "start_time": "2022-10-08T10:03:15.224Z"
   },
   {
    "duration": 11,
    "start_time": "2022-10-08T10:03:15.605Z"
   },
   {
    "duration": 319,
    "start_time": "2022-10-08T10:03:15.618Z"
   },
   {
    "duration": 104,
    "start_time": "2022-10-08T10:03:15.939Z"
   },
   {
    "duration": 10,
    "start_time": "2022-10-08T10:03:16.045Z"
   },
   {
    "duration": 30,
    "start_time": "2022-10-08T10:03:16.058Z"
   },
   {
    "duration": 29,
    "start_time": "2022-10-08T10:03:16.090Z"
   },
   {
    "duration": 302,
    "start_time": "2022-10-08T10:03:16.120Z"
   },
   {
    "duration": 330,
    "start_time": "2022-10-08T10:03:16.424Z"
   },
   {
    "duration": 10,
    "start_time": "2022-10-08T10:03:16.756Z"
   },
   {
    "duration": 119,
    "start_time": "2022-10-08T10:03:16.768Z"
   },
   {
    "duration": 0,
    "start_time": "2022-10-08T10:03:16.889Z"
   },
   {
    "duration": 1,
    "start_time": "2022-10-08T10:03:16.890Z"
   },
   {
    "duration": 0,
    "start_time": "2022-10-08T10:03:16.891Z"
   },
   {
    "duration": 0,
    "start_time": "2022-10-08T10:03:16.893Z"
   },
   {
    "duration": 0,
    "start_time": "2022-10-08T10:03:16.894Z"
   },
   {
    "duration": 0,
    "start_time": "2022-10-08T10:03:16.894Z"
   },
   {
    "duration": 0,
    "start_time": "2022-10-08T10:03:16.896Z"
   },
   {
    "duration": 0,
    "start_time": "2022-10-08T10:03:16.897Z"
   },
   {
    "duration": 0,
    "start_time": "2022-10-08T10:03:16.898Z"
   },
   {
    "duration": 0,
    "start_time": "2022-10-08T10:03:16.899Z"
   },
   {
    "duration": 0,
    "start_time": "2022-10-08T10:03:16.900Z"
   },
   {
    "duration": 0,
    "start_time": "2022-10-08T10:03:16.901Z"
   },
   {
    "duration": 5,
    "start_time": "2022-10-08T10:04:21.354Z"
   },
   {
    "duration": 11,
    "start_time": "2022-10-08T10:04:59.834Z"
   },
   {
    "duration": 1202,
    "start_time": "2022-10-08T10:05:54.316Z"
   },
   {
    "duration": 53,
    "start_time": "2022-10-08T10:05:55.521Z"
   },
   {
    "duration": 28,
    "start_time": "2022-10-08T10:05:55.576Z"
   },
   {
    "duration": 15,
    "start_time": "2022-10-08T10:05:55.606Z"
   },
   {
    "duration": 47,
    "start_time": "2022-10-08T10:05:55.623Z"
   },
   {
    "duration": 54,
    "start_time": "2022-10-08T10:05:55.671Z"
   },
   {
    "duration": 776,
    "start_time": "2022-10-08T10:05:55.727Z"
   },
   {
    "duration": 6,
    "start_time": "2022-10-08T10:05:56.506Z"
   },
   {
    "duration": 19,
    "start_time": "2022-10-08T10:05:56.514Z"
   },
   {
    "duration": 20,
    "start_time": "2022-10-08T10:05:56.535Z"
   },
   {
    "duration": 11,
    "start_time": "2022-10-08T10:05:56.557Z"
   },
   {
    "duration": 14,
    "start_time": "2022-10-08T10:05:56.570Z"
   },
   {
    "duration": 12,
    "start_time": "2022-10-08T10:05:56.586Z"
   },
   {
    "duration": 10,
    "start_time": "2022-10-08T10:05:56.601Z"
   },
   {
    "duration": 15,
    "start_time": "2022-10-08T10:05:56.613Z"
   },
   {
    "duration": 9,
    "start_time": "2022-10-08T10:05:56.629Z"
   },
   {
    "duration": 15,
    "start_time": "2022-10-08T10:05:56.640Z"
   },
   {
    "duration": 19,
    "start_time": "2022-10-08T10:05:56.657Z"
   },
   {
    "duration": 5,
    "start_time": "2022-10-08T10:05:56.678Z"
   },
   {
    "duration": 11,
    "start_time": "2022-10-08T10:05:56.685Z"
   },
   {
    "duration": 20,
    "start_time": "2022-10-08T10:05:56.697Z"
   },
   {
    "duration": 13,
    "start_time": "2022-10-08T10:05:56.719Z"
   },
   {
    "duration": 354,
    "start_time": "2022-10-08T10:05:56.734Z"
   },
   {
    "duration": 11,
    "start_time": "2022-10-08T10:05:57.089Z"
   },
   {
    "duration": 323,
    "start_time": "2022-10-08T10:05:57.102Z"
   },
   {
    "duration": 99,
    "start_time": "2022-10-08T10:05:57.427Z"
   },
   {
    "duration": 7,
    "start_time": "2022-10-08T10:05:57.528Z"
   },
   {
    "duration": 41,
    "start_time": "2022-10-08T10:05:57.537Z"
   },
   {
    "duration": 30,
    "start_time": "2022-10-08T10:05:57.580Z"
   },
   {
    "duration": 271,
    "start_time": "2022-10-08T10:05:57.611Z"
   },
   {
    "duration": 311,
    "start_time": "2022-10-08T10:05:57.884Z"
   },
   {
    "duration": 12,
    "start_time": "2022-10-08T10:05:58.197Z"
   },
   {
    "duration": 130,
    "start_time": "2022-10-08T10:05:58.211Z"
   },
   {
    "duration": 0,
    "start_time": "2022-10-08T10:05:58.343Z"
   },
   {
    "duration": 0,
    "start_time": "2022-10-08T10:05:58.354Z"
   },
   {
    "duration": 0,
    "start_time": "2022-10-08T10:05:58.355Z"
   },
   {
    "duration": 0,
    "start_time": "2022-10-08T10:05:58.357Z"
   },
   {
    "duration": 0,
    "start_time": "2022-10-08T10:05:58.358Z"
   },
   {
    "duration": 0,
    "start_time": "2022-10-08T10:05:58.360Z"
   },
   {
    "duration": 0,
    "start_time": "2022-10-08T10:05:58.361Z"
   },
   {
    "duration": 1,
    "start_time": "2022-10-08T10:05:58.363Z"
   },
   {
    "duration": 0,
    "start_time": "2022-10-08T10:05:58.365Z"
   },
   {
    "duration": 0,
    "start_time": "2022-10-08T10:05:58.367Z"
   },
   {
    "duration": 0,
    "start_time": "2022-10-08T10:05:58.368Z"
   },
   {
    "duration": 0,
    "start_time": "2022-10-08T10:05:58.369Z"
   },
   {
    "duration": 1235,
    "start_time": "2022-10-08T10:20:18.941Z"
   },
   {
    "duration": 54,
    "start_time": "2022-10-08T10:20:20.178Z"
   },
   {
    "duration": 30,
    "start_time": "2022-10-08T10:20:20.234Z"
   },
   {
    "duration": 19,
    "start_time": "2022-10-08T10:20:20.266Z"
   },
   {
    "duration": 33,
    "start_time": "2022-10-08T10:20:20.288Z"
   },
   {
    "duration": 83,
    "start_time": "2022-10-08T10:20:20.323Z"
   },
   {
    "duration": 813,
    "start_time": "2022-10-08T10:20:20.408Z"
   },
   {
    "duration": 5,
    "start_time": "2022-10-08T10:20:21.223Z"
   },
   {
    "duration": 164,
    "start_time": "2022-10-08T10:20:21.229Z"
   },
   {
    "duration": 7,
    "start_time": "2022-10-08T10:20:21.395Z"
   },
   {
    "duration": 20,
    "start_time": "2022-10-08T10:20:21.404Z"
   },
   {
    "duration": 19,
    "start_time": "2022-10-08T10:20:21.427Z"
   },
   {
    "duration": 35,
    "start_time": "2022-10-08T10:20:21.448Z"
   },
   {
    "duration": 24,
    "start_time": "2022-10-08T10:20:21.488Z"
   },
   {
    "duration": 51,
    "start_time": "2022-10-08T10:20:21.514Z"
   },
   {
    "duration": 23,
    "start_time": "2022-10-08T10:20:21.567Z"
   },
   {
    "duration": 25,
    "start_time": "2022-10-08T10:20:21.594Z"
   },
   {
    "duration": 31,
    "start_time": "2022-10-08T10:20:21.620Z"
   },
   {
    "duration": 9,
    "start_time": "2022-10-08T10:20:21.654Z"
   },
   {
    "duration": 16,
    "start_time": "2022-10-08T10:20:21.665Z"
   },
   {
    "duration": 26,
    "start_time": "2022-10-08T10:20:21.683Z"
   },
   {
    "duration": 11,
    "start_time": "2022-10-08T10:20:21.711Z"
   },
   {
    "duration": 351,
    "start_time": "2022-10-08T10:20:21.724Z"
   },
   {
    "duration": 8,
    "start_time": "2022-10-08T10:20:22.077Z"
   },
   {
    "duration": 302,
    "start_time": "2022-10-08T10:20:22.087Z"
   },
   {
    "duration": 105,
    "start_time": "2022-10-08T10:20:22.391Z"
   },
   {
    "duration": 5,
    "start_time": "2022-10-08T10:20:22.498Z"
   },
   {
    "duration": 33,
    "start_time": "2022-10-08T10:20:22.505Z"
   },
   {
    "duration": 41,
    "start_time": "2022-10-08T10:20:22.539Z"
   },
   {
    "duration": 260,
    "start_time": "2022-10-08T10:20:22.582Z"
   },
   {
    "duration": 329,
    "start_time": "2022-10-08T10:20:22.843Z"
   },
   {
    "duration": 10,
    "start_time": "2022-10-08T10:20:23.174Z"
   },
   {
    "duration": 108,
    "start_time": "2022-10-08T10:20:23.186Z"
   },
   {
    "duration": 0,
    "start_time": "2022-10-08T10:20:23.296Z"
   },
   {
    "duration": 0,
    "start_time": "2022-10-08T10:20:23.297Z"
   },
   {
    "duration": 0,
    "start_time": "2022-10-08T10:20:23.298Z"
   },
   {
    "duration": 0,
    "start_time": "2022-10-08T10:20:23.299Z"
   },
   {
    "duration": 0,
    "start_time": "2022-10-08T10:20:23.300Z"
   },
   {
    "duration": 0,
    "start_time": "2022-10-08T10:20:23.301Z"
   },
   {
    "duration": 0,
    "start_time": "2022-10-08T10:20:23.302Z"
   },
   {
    "duration": 0,
    "start_time": "2022-10-08T10:20:23.303Z"
   },
   {
    "duration": 0,
    "start_time": "2022-10-08T10:20:23.305Z"
   },
   {
    "duration": 0,
    "start_time": "2022-10-08T10:20:23.306Z"
   },
   {
    "duration": 0,
    "start_time": "2022-10-08T10:20:23.307Z"
   },
   {
    "duration": 0,
    "start_time": "2022-10-08T10:20:23.308Z"
   },
   {
    "duration": 51,
    "start_time": "2022-10-09T10:59:50.824Z"
   },
   {
    "duration": 1308,
    "start_time": "2022-10-09T10:59:57.795Z"
   },
   {
    "duration": 97,
    "start_time": "2022-10-09T10:59:59.106Z"
   },
   {
    "duration": 25,
    "start_time": "2022-10-09T10:59:59.205Z"
   },
   {
    "duration": 15,
    "start_time": "2022-10-09T10:59:59.232Z"
   },
   {
    "duration": 30,
    "start_time": "2022-10-09T10:59:59.250Z"
   },
   {
    "duration": 77,
    "start_time": "2022-10-09T10:59:59.282Z"
   },
   {
    "duration": 681,
    "start_time": "2022-10-09T10:59:59.361Z"
   },
   {
    "duration": 5,
    "start_time": "2022-10-09T11:00:00.044Z"
   },
   {
    "duration": 19,
    "start_time": "2022-10-09T11:00:00.050Z"
   },
   {
    "duration": 19,
    "start_time": "2022-10-09T11:00:00.070Z"
   },
   {
    "duration": 22,
    "start_time": "2022-10-09T11:00:00.091Z"
   },
   {
    "duration": 30,
    "start_time": "2022-10-09T11:00:00.114Z"
   },
   {
    "duration": 34,
    "start_time": "2022-10-09T11:00:00.145Z"
   },
   {
    "duration": 16,
    "start_time": "2022-10-09T11:00:00.182Z"
   },
   {
    "duration": 11,
    "start_time": "2022-10-09T11:00:00.200Z"
   },
   {
    "duration": 23,
    "start_time": "2022-10-09T11:00:00.212Z"
   },
   {
    "duration": 20,
    "start_time": "2022-10-09T11:00:00.236Z"
   },
   {
    "duration": 30,
    "start_time": "2022-10-09T11:00:00.257Z"
   },
   {
    "duration": 4,
    "start_time": "2022-10-09T11:00:00.289Z"
   },
   {
    "duration": 18,
    "start_time": "2022-10-09T11:00:00.295Z"
   },
   {
    "duration": 18,
    "start_time": "2022-10-09T11:00:00.314Z"
   },
   {
    "duration": 21,
    "start_time": "2022-10-09T11:00:00.334Z"
   },
   {
    "duration": 305,
    "start_time": "2022-10-09T11:00:00.357Z"
   },
   {
    "duration": 7,
    "start_time": "2022-10-09T11:00:00.663Z"
   },
   {
    "duration": 290,
    "start_time": "2022-10-09T11:00:00.671Z"
   },
   {
    "duration": 77,
    "start_time": "2022-10-09T11:00:00.963Z"
   },
   {
    "duration": 22,
    "start_time": "2022-10-09T11:00:01.042Z"
   },
   {
    "duration": 38,
    "start_time": "2022-10-09T11:00:01.065Z"
   },
   {
    "duration": 47,
    "start_time": "2022-10-09T11:00:01.105Z"
   },
   {
    "duration": 232,
    "start_time": "2022-10-09T11:00:01.154Z"
   },
   {
    "duration": 285,
    "start_time": "2022-10-09T11:00:01.388Z"
   },
   {
    "duration": 9,
    "start_time": "2022-10-09T11:00:01.675Z"
   },
   {
    "duration": 222,
    "start_time": "2022-10-09T11:00:01.685Z"
   },
   {
    "duration": 6,
    "start_time": "2022-10-09T11:00:01.909Z"
   },
   {
    "duration": 26,
    "start_time": "2022-10-09T11:00:01.917Z"
   },
   {
    "duration": 63,
    "start_time": "2022-10-09T11:00:01.945Z"
   },
   {
    "duration": 211,
    "start_time": "2022-10-09T11:00:02.010Z"
   },
   {
    "duration": 171,
    "start_time": "2022-10-09T11:00:02.223Z"
   },
   {
    "duration": 192,
    "start_time": "2022-10-09T11:00:02.396Z"
   },
   {
    "duration": 6,
    "start_time": "2022-10-09T11:00:02.590Z"
   },
   {
    "duration": 393,
    "start_time": "2022-10-09T11:00:02.609Z"
   },
   {
    "duration": 354,
    "start_time": "2022-10-09T11:00:03.003Z"
   },
   {
    "duration": 445,
    "start_time": "2022-10-09T11:00:03.359Z"
   },
   {
    "duration": 14,
    "start_time": "2022-10-09T11:00:03.806Z"
   },
   {
    "duration": 72,
    "start_time": "2022-10-09T11:00:03.822Z"
   },
   {
    "duration": 12,
    "start_time": "2022-10-09T11:04:37.170Z"
   },
   {
    "duration": 18,
    "start_time": "2022-10-09T11:06:02.898Z"
   },
   {
    "duration": 56,
    "start_time": "2022-10-09T21:57:06.276Z"
   },
   {
    "duration": 1317,
    "start_time": "2022-10-09T21:57:18.313Z"
   },
   {
    "duration": 102,
    "start_time": "2022-10-09T21:57:19.632Z"
   },
   {
    "duration": 21,
    "start_time": "2022-10-09T21:57:19.736Z"
   },
   {
    "duration": 14,
    "start_time": "2022-10-09T21:57:19.759Z"
   },
   {
    "duration": 30,
    "start_time": "2022-10-09T21:57:19.776Z"
   },
   {
    "duration": 68,
    "start_time": "2022-10-09T21:57:19.808Z"
   },
   {
    "duration": 687,
    "start_time": "2022-10-09T21:57:19.878Z"
   },
   {
    "duration": 102,
    "start_time": "2022-10-09T21:57:20.567Z"
   },
   {
    "duration": 0,
    "start_time": "2022-10-09T21:57:20.671Z"
   },
   {
    "duration": 0,
    "start_time": "2022-10-09T21:57:20.672Z"
   },
   {
    "duration": 0,
    "start_time": "2022-10-09T21:57:20.673Z"
   },
   {
    "duration": 0,
    "start_time": "2022-10-09T21:57:20.674Z"
   },
   {
    "duration": 0,
    "start_time": "2022-10-09T21:57:20.675Z"
   },
   {
    "duration": 0,
    "start_time": "2022-10-09T21:57:20.676Z"
   },
   {
    "duration": 0,
    "start_time": "2022-10-09T21:57:20.677Z"
   },
   {
    "duration": 0,
    "start_time": "2022-10-09T21:57:20.678Z"
   },
   {
    "duration": 0,
    "start_time": "2022-10-09T21:57:20.678Z"
   },
   {
    "duration": 0,
    "start_time": "2022-10-09T21:57:20.679Z"
   },
   {
    "duration": 0,
    "start_time": "2022-10-09T21:57:20.680Z"
   },
   {
    "duration": 0,
    "start_time": "2022-10-09T21:57:20.681Z"
   },
   {
    "duration": 0,
    "start_time": "2022-10-09T21:57:20.681Z"
   },
   {
    "duration": 0,
    "start_time": "2022-10-09T21:57:20.682Z"
   },
   {
    "duration": 0,
    "start_time": "2022-10-09T21:57:20.683Z"
   },
   {
    "duration": 0,
    "start_time": "2022-10-09T21:57:20.685Z"
   },
   {
    "duration": 0,
    "start_time": "2022-10-09T21:57:20.686Z"
   },
   {
    "duration": 0,
    "start_time": "2022-10-09T21:57:20.686Z"
   },
   {
    "duration": 1,
    "start_time": "2022-10-09T21:57:20.687Z"
   },
   {
    "duration": 0,
    "start_time": "2022-10-09T21:57:20.688Z"
   },
   {
    "duration": 0,
    "start_time": "2022-10-09T21:57:20.690Z"
   },
   {
    "duration": 0,
    "start_time": "2022-10-09T21:57:20.690Z"
   },
   {
    "duration": 0,
    "start_time": "2022-10-09T21:57:20.691Z"
   },
   {
    "duration": 0,
    "start_time": "2022-10-09T21:57:20.693Z"
   },
   {
    "duration": 0,
    "start_time": "2022-10-09T21:57:20.694Z"
   },
   {
    "duration": 0,
    "start_time": "2022-10-09T21:57:20.733Z"
   },
   {
    "duration": 0,
    "start_time": "2022-10-09T21:57:20.734Z"
   },
   {
    "duration": 0,
    "start_time": "2022-10-09T21:57:20.735Z"
   },
   {
    "duration": 0,
    "start_time": "2022-10-09T21:57:20.736Z"
   },
   {
    "duration": 0,
    "start_time": "2022-10-09T21:57:20.737Z"
   },
   {
    "duration": 0,
    "start_time": "2022-10-09T21:57:20.738Z"
   },
   {
    "duration": 0,
    "start_time": "2022-10-09T21:57:20.739Z"
   },
   {
    "duration": 0,
    "start_time": "2022-10-09T21:57:20.740Z"
   },
   {
    "duration": 0,
    "start_time": "2022-10-09T21:57:20.741Z"
   },
   {
    "duration": 0,
    "start_time": "2022-10-09T21:57:20.742Z"
   },
   {
    "duration": 0,
    "start_time": "2022-10-09T21:57:20.742Z"
   },
   {
    "duration": 0,
    "start_time": "2022-10-09T21:57:20.744Z"
   },
   {
    "duration": 4,
    "start_time": "2022-10-09T21:57:54.121Z"
   },
   {
    "duration": 1119,
    "start_time": "2022-10-09T21:58:02.208Z"
   },
   {
    "duration": 53,
    "start_time": "2022-10-09T21:58:03.329Z"
   },
   {
    "duration": 18,
    "start_time": "2022-10-09T21:58:03.383Z"
   },
   {
    "duration": 18,
    "start_time": "2022-10-09T21:58:03.402Z"
   },
   {
    "duration": 34,
    "start_time": "2022-10-09T21:58:03.422Z"
   },
   {
    "duration": 47,
    "start_time": "2022-10-09T21:58:03.457Z"
   },
   {
    "duration": 666,
    "start_time": "2022-10-09T21:58:03.505Z"
   },
   {
    "duration": 5,
    "start_time": "2022-10-09T21:58:04.173Z"
   },
   {
    "duration": 14,
    "start_time": "2022-10-09T21:58:04.179Z"
   },
   {
    "duration": 6,
    "start_time": "2022-10-09T21:58:04.195Z"
   },
   {
    "duration": 8,
    "start_time": "2022-10-09T21:58:04.202Z"
   },
   {
    "duration": 29,
    "start_time": "2022-10-09T21:58:04.212Z"
   },
   {
    "duration": 8,
    "start_time": "2022-10-09T21:58:04.243Z"
   },
   {
    "duration": 4,
    "start_time": "2022-10-09T21:58:04.254Z"
   },
   {
    "duration": 7,
    "start_time": "2022-10-09T21:58:04.260Z"
   },
   {
    "duration": 7,
    "start_time": "2022-10-09T21:58:04.268Z"
   },
   {
    "duration": 6,
    "start_time": "2022-10-09T21:58:04.277Z"
   },
   {
    "duration": 17,
    "start_time": "2022-10-09T21:58:04.284Z"
   },
   {
    "duration": 3,
    "start_time": "2022-10-09T21:58:04.303Z"
   },
   {
    "duration": 28,
    "start_time": "2022-10-09T21:58:04.308Z"
   },
   {
    "duration": 19,
    "start_time": "2022-10-09T21:58:04.337Z"
   },
   {
    "duration": 13,
    "start_time": "2022-10-09T21:58:04.357Z"
   },
   {
    "duration": 308,
    "start_time": "2022-10-09T21:58:04.372Z"
   },
   {
    "duration": 8,
    "start_time": "2022-10-09T21:58:04.681Z"
   },
   {
    "duration": 274,
    "start_time": "2022-10-09T21:58:04.691Z"
   },
   {
    "duration": 86,
    "start_time": "2022-10-09T21:58:04.966Z"
   },
   {
    "duration": 8,
    "start_time": "2022-10-09T21:58:05.053Z"
   },
   {
    "duration": 28,
    "start_time": "2022-10-09T21:58:05.062Z"
   },
   {
    "duration": 42,
    "start_time": "2022-10-09T21:58:05.092Z"
   },
   {
    "duration": 234,
    "start_time": "2022-10-09T21:58:05.136Z"
   },
   {
    "duration": 276,
    "start_time": "2022-10-09T21:58:05.371Z"
   },
   {
    "duration": 9,
    "start_time": "2022-10-09T21:58:05.648Z"
   },
   {
    "duration": 207,
    "start_time": "2022-10-09T21:58:05.659Z"
   },
   {
    "duration": 7,
    "start_time": "2022-10-09T21:58:05.867Z"
   },
   {
    "duration": 13,
    "start_time": "2022-10-09T21:58:05.875Z"
   },
   {
    "duration": 12,
    "start_time": "2022-10-09T21:58:05.889Z"
   },
   {
    "duration": 223,
    "start_time": "2022-10-09T21:58:05.903Z"
   },
   {
    "duration": 199,
    "start_time": "2022-10-09T21:58:06.134Z"
   },
   {
    "duration": 212,
    "start_time": "2022-10-09T21:58:06.335Z"
   },
   {
    "duration": 5,
    "start_time": "2022-10-09T21:58:06.550Z"
   },
   {
    "duration": 346,
    "start_time": "2022-10-09T21:58:06.558Z"
   },
   {
    "duration": 354,
    "start_time": "2022-10-09T21:58:06.905Z"
   },
   {
    "duration": 450,
    "start_time": "2022-10-09T21:58:07.260Z"
   },
   {
    "duration": 10,
    "start_time": "2022-10-09T21:58:07.712Z"
   },
   {
    "duration": 20,
    "start_time": "2022-10-09T21:58:07.724Z"
   },
   {
    "duration": 114,
    "start_time": "2022-10-09T22:05:03.018Z"
   },
   {
    "duration": 10,
    "start_time": "2022-10-09T22:08:14.135Z"
   },
   {
    "duration": 9,
    "start_time": "2022-10-09T22:08:24.372Z"
   },
   {
    "duration": 10,
    "start_time": "2022-10-09T22:08:36.140Z"
   },
   {
    "duration": 8,
    "start_time": "2022-10-09T22:08:46.033Z"
   },
   {
    "duration": 9,
    "start_time": "2022-10-09T22:08:53.113Z"
   },
   {
    "duration": 8,
    "start_time": "2022-10-09T22:09:01.580Z"
   },
   {
    "duration": 9,
    "start_time": "2022-10-09T22:14:56.962Z"
   },
   {
    "duration": 10,
    "start_time": "2022-10-09T22:30:00.552Z"
   },
   {
    "duration": 9,
    "start_time": "2022-10-09T22:30:07.794Z"
   },
   {
    "duration": 1406,
    "start_time": "2022-10-11T23:41:08.231Z"
   },
   {
    "duration": 193,
    "start_time": "2022-10-11T23:41:09.639Z"
   },
   {
    "duration": 21,
    "start_time": "2022-10-11T23:41:09.833Z"
   },
   {
    "duration": 15,
    "start_time": "2022-10-11T23:41:09.856Z"
   },
   {
    "duration": 38,
    "start_time": "2022-10-11T23:41:09.873Z"
   },
   {
    "duration": 57,
    "start_time": "2022-10-11T23:41:09.912Z"
   },
   {
    "duration": 803,
    "start_time": "2022-10-11T23:41:09.971Z"
   },
   {
    "duration": 6,
    "start_time": "2022-10-11T23:41:10.775Z"
   },
   {
    "duration": 23,
    "start_time": "2022-10-11T23:41:10.782Z"
   },
   {
    "duration": 9,
    "start_time": "2022-10-11T23:41:10.807Z"
   },
   {
    "duration": 8,
    "start_time": "2022-10-11T23:41:10.817Z"
   },
   {
    "duration": 8,
    "start_time": "2022-10-11T23:41:10.827Z"
   },
   {
    "duration": 7,
    "start_time": "2022-10-11T23:41:10.838Z"
   },
   {
    "duration": 5,
    "start_time": "2022-10-11T23:41:10.849Z"
   },
   {
    "duration": 11,
    "start_time": "2022-10-11T23:41:10.890Z"
   },
   {
    "duration": 9,
    "start_time": "2022-10-11T23:41:10.904Z"
   },
   {
    "duration": 7,
    "start_time": "2022-10-11T23:41:10.914Z"
   },
   {
    "duration": 17,
    "start_time": "2022-10-11T23:41:10.923Z"
   },
   {
    "duration": 4,
    "start_time": "2022-10-11T23:41:10.942Z"
   },
   {
    "duration": 8,
    "start_time": "2022-10-11T23:41:10.947Z"
   },
   {
    "duration": 46,
    "start_time": "2022-10-11T23:41:10.956Z"
   },
   {
    "duration": 18,
    "start_time": "2022-10-11T23:41:11.004Z"
   },
   {
    "duration": 382,
    "start_time": "2022-10-11T23:41:11.024Z"
   },
   {
    "duration": 8,
    "start_time": "2022-10-11T23:41:11.408Z"
   },
   {
    "duration": 359,
    "start_time": "2022-10-11T23:41:11.418Z"
   },
   {
    "duration": 127,
    "start_time": "2022-10-11T23:41:11.779Z"
   },
   {
    "duration": 10,
    "start_time": "2022-10-11T23:41:11.908Z"
   },
   {
    "duration": 37,
    "start_time": "2022-10-11T23:41:11.920Z"
   },
   {
    "duration": 63,
    "start_time": "2022-10-11T23:41:11.960Z"
   },
   {
    "duration": 300,
    "start_time": "2022-10-11T23:41:12.025Z"
   },
   {
    "duration": 328,
    "start_time": "2022-10-11T23:41:12.327Z"
   },
   {
    "duration": 10,
    "start_time": "2022-10-11T23:41:12.657Z"
   },
   {
    "duration": 247,
    "start_time": "2022-10-11T23:41:12.669Z"
   },
   {
    "duration": 8,
    "start_time": "2022-10-11T23:41:12.917Z"
   },
   {
    "duration": 9,
    "start_time": "2022-10-11T23:41:12.927Z"
   },
   {
    "duration": 12,
    "start_time": "2022-10-11T23:41:12.938Z"
   },
   {
    "duration": 262,
    "start_time": "2022-10-11T23:41:12.952Z"
   },
   {
    "duration": 207,
    "start_time": "2022-10-11T23:41:13.216Z"
   },
   {
    "duration": 199,
    "start_time": "2022-10-11T23:41:13.425Z"
   },
   {
    "duration": 6,
    "start_time": "2022-10-11T23:41:13.627Z"
   },
   {
    "duration": 413,
    "start_time": "2022-10-11T23:41:13.637Z"
   },
   {
    "duration": 419,
    "start_time": "2022-10-11T23:41:14.051Z"
   },
   {
    "duration": 530,
    "start_time": "2022-10-11T23:41:14.473Z"
   },
   {
    "duration": 11,
    "start_time": "2022-10-11T23:41:15.005Z"
   },
   {
    "duration": 26,
    "start_time": "2022-10-11T23:41:15.018Z"
   },
   {
    "duration": 109,
    "start_time": "2022-10-12T00:01:14.602Z"
   },
   {
    "duration": 14,
    "start_time": "2022-10-12T00:01:31.962Z"
   },
   {
    "duration": 8,
    "start_time": "2022-10-12T00:04:52.102Z"
   },
   {
    "duration": 20,
    "start_time": "2022-10-12T00:05:04.358Z"
   },
   {
    "duration": 1448,
    "start_time": "2022-10-12T00:06:27.772Z"
   },
   {
    "duration": 6,
    "start_time": "2022-10-12T00:14:20.969Z"
   },
   {
    "duration": 279,
    "start_time": "2022-10-12T00:30:07.283Z"
   },
   {
    "duration": 74,
    "start_time": "2022-10-12T00:34:46.697Z"
   },
   {
    "duration": 76,
    "start_time": "2022-10-12T00:34:53.374Z"
   },
   {
    "duration": 11,
    "start_time": "2022-10-12T00:35:02.823Z"
   },
   {
    "duration": 9,
    "start_time": "2022-10-12T00:36:41.176Z"
   },
   {
    "duration": 9,
    "start_time": "2022-10-12T00:37:02.211Z"
   },
   {
    "duration": 9,
    "start_time": "2022-10-12T00:37:16.633Z"
   },
   {
    "duration": 9,
    "start_time": "2022-10-12T00:49:59.402Z"
   },
   {
    "duration": 10,
    "start_time": "2022-10-12T00:50:12.558Z"
   },
   {
    "duration": 326,
    "start_time": "2022-10-12T00:50:29.528Z"
   },
   {
    "duration": 266,
    "start_time": "2022-10-12T00:50:55.827Z"
   },
   {
    "duration": 1194,
    "start_time": "2022-10-12T00:51:11.429Z"
   },
   {
    "duration": 56,
    "start_time": "2022-10-12T00:51:12.625Z"
   },
   {
    "duration": 19,
    "start_time": "2022-10-12T00:51:12.683Z"
   },
   {
    "duration": 15,
    "start_time": "2022-10-12T00:51:12.703Z"
   },
   {
    "duration": 34,
    "start_time": "2022-10-12T00:51:12.720Z"
   },
   {
    "duration": 78,
    "start_time": "2022-10-12T00:51:12.756Z"
   },
   {
    "duration": 767,
    "start_time": "2022-10-12T00:51:12.836Z"
   },
   {
    "duration": 5,
    "start_time": "2022-10-12T00:51:13.605Z"
   },
   {
    "duration": 12,
    "start_time": "2022-10-12T00:51:13.611Z"
   },
   {
    "duration": 6,
    "start_time": "2022-10-12T00:51:13.625Z"
   },
   {
    "duration": 11,
    "start_time": "2022-10-12T00:51:13.632Z"
   },
   {
    "duration": 8,
    "start_time": "2022-10-12T00:51:13.644Z"
   },
   {
    "duration": 5,
    "start_time": "2022-10-12T00:51:13.654Z"
   },
   {
    "duration": 6,
    "start_time": "2022-10-12T00:51:13.688Z"
   },
   {
    "duration": 9,
    "start_time": "2022-10-12T00:51:13.695Z"
   },
   {
    "duration": 7,
    "start_time": "2022-10-12T00:51:13.705Z"
   },
   {
    "duration": 7,
    "start_time": "2022-10-12T00:51:13.714Z"
   },
   {
    "duration": 19,
    "start_time": "2022-10-12T00:51:13.723Z"
   },
   {
    "duration": 8,
    "start_time": "2022-10-12T00:51:13.743Z"
   },
   {
    "duration": 37,
    "start_time": "2022-10-12T00:51:13.753Z"
   },
   {
    "duration": 5,
    "start_time": "2022-10-12T00:51:13.792Z"
   },
   {
    "duration": 27,
    "start_time": "2022-10-12T00:51:13.798Z"
   },
   {
    "duration": 17,
    "start_time": "2022-10-12T00:51:13.826Z"
   },
   {
    "duration": 12,
    "start_time": "2022-10-12T00:51:13.844Z"
   },
   {
    "duration": 332,
    "start_time": "2022-10-12T00:51:13.858Z"
   },
   {
    "duration": 9,
    "start_time": "2022-10-12T00:51:14.191Z"
   },
   {
    "duration": 316,
    "start_time": "2022-10-12T00:51:14.201Z"
   },
   {
    "duration": 95,
    "start_time": "2022-10-12T00:51:14.519Z"
   },
   {
    "duration": 6,
    "start_time": "2022-10-12T00:51:14.615Z"
   },
   {
    "duration": 34,
    "start_time": "2022-10-12T00:51:14.622Z"
   },
   {
    "duration": 40,
    "start_time": "2022-10-12T00:51:14.658Z"
   },
   {
    "duration": 270,
    "start_time": "2022-10-12T00:51:14.700Z"
   },
   {
    "duration": 316,
    "start_time": "2022-10-12T00:51:14.973Z"
   },
   {
    "duration": 11,
    "start_time": "2022-10-12T00:51:15.291Z"
   },
   {
    "duration": 249,
    "start_time": "2022-10-12T00:51:15.304Z"
   },
   {
    "duration": 8,
    "start_time": "2022-10-12T00:51:15.555Z"
   },
   {
    "duration": 36,
    "start_time": "2022-10-12T00:51:15.565Z"
   },
   {
    "duration": 19,
    "start_time": "2022-10-12T00:51:15.603Z"
   },
   {
    "duration": 225,
    "start_time": "2022-10-12T00:51:15.624Z"
   },
   {
    "duration": 189,
    "start_time": "2022-10-12T00:51:15.850Z"
   },
   {
    "duration": 187,
    "start_time": "2022-10-12T00:51:16.042Z"
   },
   {
    "duration": 5,
    "start_time": "2022-10-12T00:51:16.231Z"
   },
   {
    "duration": 401,
    "start_time": "2022-10-12T00:51:16.238Z"
   },
   {
    "duration": 396,
    "start_time": "2022-10-12T00:51:16.640Z"
   },
   {
    "duration": 518,
    "start_time": "2022-10-12T00:51:17.038Z"
   },
   {
    "duration": 13,
    "start_time": "2022-10-12T00:51:17.558Z"
   },
   {
    "duration": 26,
    "start_time": "2022-10-12T00:51:17.573Z"
   },
   {
    "duration": 307,
    "start_time": "2022-10-12T00:57:42.110Z"
   },
   {
    "duration": 11,
    "start_time": "2022-10-12T01:09:47.418Z"
   },
   {
    "duration": 228,
    "start_time": "2022-10-12T01:09:50.161Z"
   },
   {
    "duration": 8,
    "start_time": "2022-10-12T01:10:02.451Z"
   },
   {
    "duration": 7,
    "start_time": "2022-10-12T01:10:04.272Z"
   },
   {
    "duration": 12,
    "start_time": "2022-10-12T01:10:05.289Z"
   },
   {
    "duration": 215,
    "start_time": "2022-10-12T01:10:06.046Z"
   },
   {
    "duration": 182,
    "start_time": "2022-10-12T01:10:08.332Z"
   },
   {
    "duration": 181,
    "start_time": "2022-10-12T01:10:10.128Z"
   },
   {
    "duration": 5,
    "start_time": "2022-10-12T01:10:11.332Z"
   },
   {
    "duration": 5,
    "start_time": "2022-10-12T01:12:43.230Z"
   },
   {
    "duration": 388,
    "start_time": "2022-10-12T01:12:47.006Z"
   },
   {
    "duration": 379,
    "start_time": "2022-10-12T01:12:52.425Z"
   },
   {
    "duration": 483,
    "start_time": "2022-10-12T01:12:56.376Z"
   },
   {
    "duration": 12,
    "start_time": "2022-10-12T01:13:03.173Z"
   },
   {
    "duration": 12,
    "start_time": "2022-10-12T01:13:07.329Z"
   },
   {
    "duration": 1202,
    "start_time": "2022-10-12T01:16:29.711Z"
   },
   {
    "duration": 54,
    "start_time": "2022-10-12T01:16:30.915Z"
   },
   {
    "duration": 20,
    "start_time": "2022-10-12T01:16:30.970Z"
   },
   {
    "duration": 17,
    "start_time": "2022-10-12T01:16:30.991Z"
   },
   {
    "duration": 31,
    "start_time": "2022-10-12T01:16:31.010Z"
   },
   {
    "duration": 75,
    "start_time": "2022-10-12T01:16:31.043Z"
   },
   {
    "duration": 753,
    "start_time": "2022-10-12T01:16:31.120Z"
   },
   {
    "duration": 6,
    "start_time": "2022-10-12T01:16:31.875Z"
   },
   {
    "duration": 17,
    "start_time": "2022-10-12T01:16:31.890Z"
   },
   {
    "duration": 9,
    "start_time": "2022-10-12T01:16:31.909Z"
   },
   {
    "duration": 12,
    "start_time": "2022-10-12T01:16:31.920Z"
   },
   {
    "duration": 11,
    "start_time": "2022-10-12T01:16:31.934Z"
   },
   {
    "duration": 8,
    "start_time": "2022-10-12T01:16:31.947Z"
   },
   {
    "duration": 35,
    "start_time": "2022-10-12T01:16:31.958Z"
   },
   {
    "duration": 7,
    "start_time": "2022-10-12T01:16:31.995Z"
   },
   {
    "duration": 14,
    "start_time": "2022-10-12T01:16:32.003Z"
   },
   {
    "duration": 8,
    "start_time": "2022-10-12T01:16:32.018Z"
   },
   {
    "duration": 21,
    "start_time": "2022-10-12T01:16:32.027Z"
   },
   {
    "duration": 9,
    "start_time": "2022-10-12T01:16:32.049Z"
   },
   {
    "duration": 4,
    "start_time": "2022-10-12T01:16:32.060Z"
   },
   {
    "duration": 26,
    "start_time": "2022-10-12T01:16:32.066Z"
   },
   {
    "duration": 22,
    "start_time": "2022-10-12T01:16:32.094Z"
   },
   {
    "duration": 13,
    "start_time": "2022-10-12T01:16:32.118Z"
   },
   {
    "duration": 10,
    "start_time": "2022-10-12T01:16:32.133Z"
   },
   {
    "duration": 352,
    "start_time": "2022-10-12T01:16:32.145Z"
   },
   {
    "duration": 7,
    "start_time": "2022-10-12T01:16:32.499Z"
   },
   {
    "duration": 289,
    "start_time": "2022-10-12T01:16:32.508Z"
   },
   {
    "duration": 94,
    "start_time": "2022-10-12T01:16:32.799Z"
   },
   {
    "duration": 7,
    "start_time": "2022-10-12T01:16:32.894Z"
   },
   {
    "duration": 29,
    "start_time": "2022-10-12T01:16:32.902Z"
   },
   {
    "duration": 29,
    "start_time": "2022-10-12T01:16:32.932Z"
   },
   {
    "duration": 288,
    "start_time": "2022-10-12T01:16:32.962Z"
   },
   {
    "duration": 305,
    "start_time": "2022-10-12T01:16:33.251Z"
   },
   {
    "duration": 10,
    "start_time": "2022-10-12T01:16:33.558Z"
   },
   {
    "duration": 222,
    "start_time": "2022-10-12T01:16:33.570Z"
   },
   {
    "duration": 8,
    "start_time": "2022-10-12T01:16:33.794Z"
   },
   {
    "duration": 7,
    "start_time": "2022-10-12T01:16:33.804Z"
   },
   {
    "duration": 18,
    "start_time": "2022-10-12T01:16:33.812Z"
   },
   {
    "duration": 238,
    "start_time": "2022-10-12T01:16:33.832Z"
   },
   {
    "duration": 193,
    "start_time": "2022-10-12T01:16:34.073Z"
   },
   {
    "duration": 181,
    "start_time": "2022-10-12T01:16:34.271Z"
   },
   {
    "duration": 6,
    "start_time": "2022-10-12T01:16:34.454Z"
   },
   {
    "duration": 383,
    "start_time": "2022-10-12T01:16:34.462Z"
   },
   {
    "duration": 413,
    "start_time": "2022-10-12T01:16:34.847Z"
   },
   {
    "duration": 478,
    "start_time": "2022-10-12T01:16:35.262Z"
   },
   {
    "duration": 11,
    "start_time": "2022-10-12T01:16:35.741Z"
   },
   {
    "duration": 22,
    "start_time": "2022-10-12T01:16:35.753Z"
   },
   {
    "duration": 6,
    "start_time": "2022-10-12T01:21:19.964Z"
   },
   {
    "duration": 399,
    "start_time": "2022-10-12T01:21:33.565Z"
   },
   {
    "duration": 367,
    "start_time": "2022-10-12T01:21:36.654Z"
   },
   {
    "duration": 387,
    "start_time": "2022-10-12T01:21:37.336Z"
   },
   {
    "duration": 12,
    "start_time": "2022-10-12T01:21:38.360Z"
   },
   {
    "duration": 11,
    "start_time": "2022-10-12T01:21:40.079Z"
   },
   {
    "duration": 1305,
    "start_time": "2022-10-12T01:23:00.665Z"
   },
   {
    "duration": 58,
    "start_time": "2022-10-12T01:23:01.973Z"
   },
   {
    "duration": 20,
    "start_time": "2022-10-12T01:23:02.033Z"
   },
   {
    "duration": 16,
    "start_time": "2022-10-12T01:23:02.055Z"
   },
   {
    "duration": 41,
    "start_time": "2022-10-12T01:23:02.074Z"
   },
   {
    "duration": 54,
    "start_time": "2022-10-12T01:23:02.117Z"
   },
   {
    "duration": 774,
    "start_time": "2022-10-12T01:23:02.175Z"
   },
   {
    "duration": 5,
    "start_time": "2022-10-12T01:23:02.951Z"
   },
   {
    "duration": 14,
    "start_time": "2022-10-12T01:23:02.958Z"
   },
   {
    "duration": 19,
    "start_time": "2022-10-12T01:23:02.974Z"
   },
   {
    "duration": 7,
    "start_time": "2022-10-12T01:23:02.995Z"
   },
   {
    "duration": 8,
    "start_time": "2022-10-12T01:23:03.004Z"
   },
   {
    "duration": 5,
    "start_time": "2022-10-12T01:23:03.014Z"
   },
   {
    "duration": 5,
    "start_time": "2022-10-12T01:23:03.022Z"
   },
   {
    "duration": 7,
    "start_time": "2022-10-12T01:23:03.029Z"
   },
   {
    "duration": 11,
    "start_time": "2022-10-12T01:23:03.038Z"
   },
   {
    "duration": 39,
    "start_time": "2022-10-12T01:23:03.051Z"
   },
   {
    "duration": 19,
    "start_time": "2022-10-12T01:23:03.092Z"
   },
   {
    "duration": 9,
    "start_time": "2022-10-12T01:23:03.113Z"
   },
   {
    "duration": 4,
    "start_time": "2022-10-12T01:23:03.124Z"
   },
   {
    "duration": 5,
    "start_time": "2022-10-12T01:23:03.130Z"
   },
   {
    "duration": 18,
    "start_time": "2022-10-12T01:23:03.137Z"
   },
   {
    "duration": 38,
    "start_time": "2022-10-12T01:23:03.157Z"
   },
   {
    "duration": 10,
    "start_time": "2022-10-12T01:23:03.197Z"
   },
   {
    "duration": 374,
    "start_time": "2022-10-12T01:23:03.209Z"
   },
   {
    "duration": 10,
    "start_time": "2022-10-12T01:23:03.585Z"
   },
   {
    "duration": 328,
    "start_time": "2022-10-12T01:23:03.597Z"
   },
   {
    "duration": 100,
    "start_time": "2022-10-12T01:23:03.927Z"
   },
   {
    "duration": 7,
    "start_time": "2022-10-12T01:23:04.029Z"
   },
   {
    "duration": 31,
    "start_time": "2022-10-12T01:23:04.038Z"
   },
   {
    "duration": 42,
    "start_time": "2022-10-12T01:23:04.071Z"
   },
   {
    "duration": 279,
    "start_time": "2022-10-12T01:23:04.115Z"
   },
   {
    "duration": 329,
    "start_time": "2022-10-12T01:23:04.396Z"
   },
   {
    "duration": 10,
    "start_time": "2022-10-12T01:23:04.727Z"
   },
   {
    "duration": 244,
    "start_time": "2022-10-12T01:23:04.739Z"
   },
   {
    "duration": 8,
    "start_time": "2022-10-12T01:23:04.988Z"
   },
   {
    "duration": 14,
    "start_time": "2022-10-12T01:23:04.997Z"
   },
   {
    "duration": 14,
    "start_time": "2022-10-12T01:23:05.012Z"
   },
   {
    "duration": 250,
    "start_time": "2022-10-12T01:23:05.028Z"
   },
   {
    "duration": 212,
    "start_time": "2022-10-12T01:23:05.280Z"
   },
   {
    "duration": 196,
    "start_time": "2022-10-12T01:23:05.496Z"
   },
   {
    "duration": 5,
    "start_time": "2022-10-12T01:23:05.694Z"
   },
   {
    "duration": 397,
    "start_time": "2022-10-12T01:23:05.701Z"
   },
   {
    "duration": 387,
    "start_time": "2022-10-12T01:23:06.100Z"
   },
   {
    "duration": 483,
    "start_time": "2022-10-12T01:23:06.489Z"
   },
   {
    "duration": 15,
    "start_time": "2022-10-12T01:23:06.974Z"
   },
   {
    "duration": 12,
    "start_time": "2022-10-12T01:23:06.991Z"
   },
   {
    "duration": 1342,
    "start_time": "2022-10-12T11:51:44.718Z"
   },
   {
    "duration": 53,
    "start_time": "2022-10-12T11:51:46.062Z"
   },
   {
    "duration": 19,
    "start_time": "2022-10-12T11:51:46.117Z"
   },
   {
    "duration": 19,
    "start_time": "2022-10-12T11:51:46.138Z"
   },
   {
    "duration": 40,
    "start_time": "2022-10-12T11:51:46.159Z"
   },
   {
    "duration": 60,
    "start_time": "2022-10-12T11:51:46.201Z"
   },
   {
    "duration": 806,
    "start_time": "2022-10-12T11:51:46.262Z"
   },
   {
    "duration": 6,
    "start_time": "2022-10-12T11:51:47.070Z"
   },
   {
    "duration": 29,
    "start_time": "2022-10-12T11:51:47.078Z"
   },
   {
    "duration": 6,
    "start_time": "2022-10-12T11:51:47.109Z"
   },
   {
    "duration": 9,
    "start_time": "2022-10-12T11:51:47.117Z"
   },
   {
    "duration": 8,
    "start_time": "2022-10-12T11:51:47.128Z"
   },
   {
    "duration": 6,
    "start_time": "2022-10-12T11:51:47.137Z"
   },
   {
    "duration": 7,
    "start_time": "2022-10-12T11:51:47.146Z"
   },
   {
    "duration": 7,
    "start_time": "2022-10-12T11:51:47.154Z"
   },
   {
    "duration": 34,
    "start_time": "2022-10-12T11:51:47.162Z"
   },
   {
    "duration": 6,
    "start_time": "2022-10-12T11:51:47.198Z"
   },
   {
    "duration": 22,
    "start_time": "2022-10-12T11:51:47.205Z"
   },
   {
    "duration": 12,
    "start_time": "2022-10-12T11:51:47.229Z"
   },
   {
    "duration": 5,
    "start_time": "2022-10-12T11:51:47.243Z"
   },
   {
    "duration": 8,
    "start_time": "2022-10-12T11:51:47.249Z"
   },
   {
    "duration": 45,
    "start_time": "2022-10-12T11:51:47.258Z"
   },
   {
    "duration": 11,
    "start_time": "2022-10-12T11:51:47.305Z"
   },
   {
    "duration": 12,
    "start_time": "2022-10-12T11:51:47.318Z"
   },
   {
    "duration": 335,
    "start_time": "2022-10-12T11:51:47.332Z"
   },
   {
    "duration": 8,
    "start_time": "2022-10-12T11:51:47.669Z"
   },
   {
    "duration": 276,
    "start_time": "2022-10-12T11:51:47.679Z"
   },
   {
    "duration": 15,
    "start_time": "2022-10-12T11:51:47.957Z"
   },
   {
    "duration": 23,
    "start_time": "2022-10-12T11:51:47.974Z"
   },
   {
    "duration": 26,
    "start_time": "2022-10-12T11:51:47.998Z"
   },
   {
    "duration": 20,
    "start_time": "2022-10-12T11:51:48.026Z"
   },
   {
    "duration": 275,
    "start_time": "2022-10-12T11:51:48.048Z"
   },
   {
    "duration": 372,
    "start_time": "2022-10-12T11:51:48.325Z"
   },
   {
    "duration": 11,
    "start_time": "2022-10-12T11:51:48.699Z"
   },
   {
    "duration": 234,
    "start_time": "2022-10-12T11:51:48.712Z"
   },
   {
    "duration": 7,
    "start_time": "2022-10-12T11:51:48.948Z"
   },
   {
    "duration": 14,
    "start_time": "2022-10-12T11:51:48.956Z"
   },
   {
    "duration": 32,
    "start_time": "2022-10-12T11:51:48.972Z"
   },
   {
    "duration": 234,
    "start_time": "2022-10-12T11:51:49.005Z"
   },
   {
    "duration": 187,
    "start_time": "2022-10-12T11:51:49.241Z"
   },
   {
    "duration": 285,
    "start_time": "2022-10-12T11:51:49.432Z"
   },
   {
    "duration": 5,
    "start_time": "2022-10-12T11:51:49.719Z"
   },
   {
    "duration": 473,
    "start_time": "2022-10-12T11:51:49.726Z"
   },
   {
    "duration": 797,
    "start_time": "2022-10-12T11:51:50.202Z"
   },
   {
    "duration": 742,
    "start_time": "2022-10-12T11:51:51.001Z"
   },
   {
    "duration": 10,
    "start_time": "2022-10-12T11:51:51.797Z"
   },
   {
    "duration": 13,
    "start_time": "2022-10-12T11:51:51.809Z"
   },
   {
    "duration": 62,
    "start_time": "2022-10-12T14:05:25.594Z"
   },
   {
    "duration": 1231,
    "start_time": "2022-10-12T14:05:31.516Z"
   },
   {
    "duration": 72,
    "start_time": "2022-10-12T14:05:32.749Z"
   },
   {
    "duration": 18,
    "start_time": "2022-10-12T14:05:32.823Z"
   },
   {
    "duration": 13,
    "start_time": "2022-10-12T14:05:32.843Z"
   },
   {
    "duration": 29,
    "start_time": "2022-10-12T14:05:32.857Z"
   },
   {
    "duration": 66,
    "start_time": "2022-10-12T14:05:32.888Z"
   },
   {
    "duration": 683,
    "start_time": "2022-10-12T14:05:32.955Z"
   },
   {
    "duration": 4,
    "start_time": "2022-10-12T14:05:33.640Z"
   },
   {
    "duration": 14,
    "start_time": "2022-10-12T14:05:33.646Z"
   },
   {
    "duration": 4,
    "start_time": "2022-10-12T14:05:33.662Z"
   },
   {
    "duration": 8,
    "start_time": "2022-10-12T14:05:33.667Z"
   },
   {
    "duration": 8,
    "start_time": "2022-10-12T14:05:33.676Z"
   },
   {
    "duration": 5,
    "start_time": "2022-10-12T14:05:33.685Z"
   },
   {
    "duration": 33,
    "start_time": "2022-10-12T14:05:33.691Z"
   },
   {
    "duration": 6,
    "start_time": "2022-10-12T14:05:33.726Z"
   },
   {
    "duration": 8,
    "start_time": "2022-10-12T14:05:33.734Z"
   },
   {
    "duration": 7,
    "start_time": "2022-10-12T14:05:33.743Z"
   },
   {
    "duration": 16,
    "start_time": "2022-10-12T14:05:33.752Z"
   },
   {
    "duration": 8,
    "start_time": "2022-10-12T14:05:33.770Z"
   },
   {
    "duration": 6,
    "start_time": "2022-10-12T14:05:33.779Z"
   },
   {
    "duration": 8,
    "start_time": "2022-10-12T14:05:33.787Z"
   },
   {
    "duration": 32,
    "start_time": "2022-10-12T14:05:33.797Z"
   },
   {
    "duration": 12,
    "start_time": "2022-10-12T14:05:33.831Z"
   },
   {
    "duration": 9,
    "start_time": "2022-10-12T14:05:33.845Z"
   },
   {
    "duration": 319,
    "start_time": "2022-10-12T14:05:33.855Z"
   },
   {
    "duration": 9,
    "start_time": "2022-10-12T14:05:34.176Z"
   },
   {
    "duration": 281,
    "start_time": "2022-10-12T14:05:34.187Z"
   },
   {
    "duration": 17,
    "start_time": "2022-10-12T14:05:34.472Z"
   },
   {
    "duration": 8,
    "start_time": "2022-10-12T14:05:34.491Z"
   },
   {
    "duration": 99,
    "start_time": "2022-10-12T14:05:34.500Z"
   },
   {
    "duration": 31,
    "start_time": "2022-10-12T14:05:34.600Z"
   },
   {
    "duration": 236,
    "start_time": "2022-10-12T14:05:34.632Z"
   },
   {
    "duration": 269,
    "start_time": "2022-10-12T14:05:34.869Z"
   },
   {
    "duration": 9,
    "start_time": "2022-10-12T14:05:35.140Z"
   },
   {
    "duration": 208,
    "start_time": "2022-10-12T14:05:35.150Z"
   },
   {
    "duration": 6,
    "start_time": "2022-10-12T14:05:35.360Z"
   },
   {
    "duration": 17,
    "start_time": "2022-10-12T14:05:35.367Z"
   },
   {
    "duration": 40,
    "start_time": "2022-10-12T14:05:35.385Z"
   },
   {
    "duration": 225,
    "start_time": "2022-10-12T14:05:35.427Z"
   },
   {
    "duration": 216,
    "start_time": "2022-10-12T14:05:35.654Z"
   },
   {
    "duration": 176,
    "start_time": "2022-10-12T14:05:35.872Z"
   },
   {
    "duration": 5,
    "start_time": "2022-10-12T14:05:36.050Z"
   },
   {
    "duration": 376,
    "start_time": "2022-10-12T14:05:36.056Z"
   },
   {
    "duration": 350,
    "start_time": "2022-10-12T14:05:36.434Z"
   },
   {
    "duration": 441,
    "start_time": "2022-10-12T14:05:36.786Z"
   },
   {
    "duration": 10,
    "start_time": "2022-10-12T14:05:37.229Z"
   },
   {
    "duration": 30,
    "start_time": "2022-10-12T14:05:37.241Z"
   },
   {
    "duration": 9,
    "start_time": "2022-10-12T14:08:05.782Z"
   },
   {
    "duration": 10,
    "start_time": "2022-10-12T14:08:10.493Z"
   },
   {
    "duration": 8,
    "start_time": "2022-10-12T15:03:04.332Z"
   },
   {
    "duration": 9,
    "start_time": "2022-10-12T15:03:11.141Z"
   },
   {
    "duration": 96,
    "start_time": "2022-10-12T15:25:54.168Z"
   },
   {
    "duration": 5,
    "start_time": "2022-10-12T15:26:05.152Z"
   },
   {
    "duration": 13,
    "start_time": "2022-10-12T15:26:14.036Z"
   },
   {
    "duration": 15,
    "start_time": "2022-10-12T15:26:42.260Z"
   },
   {
    "duration": 1075,
    "start_time": "2022-10-12T15:26:52.342Z"
   },
   {
    "duration": 40,
    "start_time": "2022-10-12T15:26:53.419Z"
   },
   {
    "duration": 18,
    "start_time": "2022-10-12T15:26:53.461Z"
   },
   {
    "duration": 17,
    "start_time": "2022-10-12T15:26:53.481Z"
   },
   {
    "duration": 38,
    "start_time": "2022-10-12T15:26:53.499Z"
   },
   {
    "duration": 48,
    "start_time": "2022-10-12T15:26:53.538Z"
   },
   {
    "duration": 704,
    "start_time": "2022-10-12T15:26:53.588Z"
   },
   {
    "duration": 5,
    "start_time": "2022-10-12T15:26:54.293Z"
   },
   {
    "duration": 22,
    "start_time": "2022-10-12T15:26:54.300Z"
   },
   {
    "duration": 4,
    "start_time": "2022-10-12T15:26:54.324Z"
   },
   {
    "duration": 7,
    "start_time": "2022-10-12T15:26:54.330Z"
   },
   {
    "duration": 8,
    "start_time": "2022-10-12T15:26:54.338Z"
   },
   {
    "duration": 4,
    "start_time": "2022-10-12T15:26:54.348Z"
   },
   {
    "duration": 12,
    "start_time": "2022-10-12T15:26:54.353Z"
   },
   {
    "duration": 6,
    "start_time": "2022-10-12T15:26:54.367Z"
   },
   {
    "duration": 7,
    "start_time": "2022-10-12T15:26:54.374Z"
   },
   {
    "duration": 10,
    "start_time": "2022-10-12T15:26:54.382Z"
   },
   {
    "duration": 35,
    "start_time": "2022-10-12T15:26:54.393Z"
   },
   {
    "duration": 8,
    "start_time": "2022-10-12T15:26:54.429Z"
   },
   {
    "duration": 4,
    "start_time": "2022-10-12T15:26:54.439Z"
   },
   {
    "duration": 6,
    "start_time": "2022-10-12T15:26:54.444Z"
   },
   {
    "duration": 21,
    "start_time": "2022-10-12T15:26:54.452Z"
   },
   {
    "duration": 9,
    "start_time": "2022-10-12T15:26:54.474Z"
   },
   {
    "duration": 16,
    "start_time": "2022-10-12T15:26:54.485Z"
   },
   {
    "duration": 25,
    "start_time": "2022-10-12T15:26:54.503Z"
   },
   {
    "duration": 13,
    "start_time": "2022-10-12T15:26:54.529Z"
   },
   {
    "duration": 312,
    "start_time": "2022-10-12T15:26:54.543Z"
   },
   {
    "duration": 7,
    "start_time": "2022-10-12T15:26:54.859Z"
   },
   {
    "duration": 289,
    "start_time": "2022-10-12T15:26:54.868Z"
   },
   {
    "duration": 106,
    "start_time": "2022-10-12T15:26:55.158Z"
   },
   {
    "duration": 6,
    "start_time": "2022-10-12T15:26:55.266Z"
   },
   {
    "duration": 38,
    "start_time": "2022-10-12T15:26:55.273Z"
   },
   {
    "duration": 34,
    "start_time": "2022-10-12T15:26:55.313Z"
   },
   {
    "duration": 303,
    "start_time": "2022-10-12T15:26:55.348Z"
   },
   {
    "duration": 270,
    "start_time": "2022-10-12T15:26:55.652Z"
   },
   {
    "duration": 9,
    "start_time": "2022-10-12T15:26:55.923Z"
   },
   {
    "duration": 195,
    "start_time": "2022-10-12T15:26:55.933Z"
   },
   {
    "duration": 7,
    "start_time": "2022-10-12T15:26:56.129Z"
   },
   {
    "duration": 8,
    "start_time": "2022-10-12T15:26:56.137Z"
   },
   {
    "duration": 11,
    "start_time": "2022-10-12T15:26:56.146Z"
   },
   {
    "duration": 214,
    "start_time": "2022-10-12T15:26:56.159Z"
   },
   {
    "duration": 174,
    "start_time": "2022-10-12T15:26:56.374Z"
   },
   {
    "duration": 174,
    "start_time": "2022-10-12T15:26:56.550Z"
   },
   {
    "duration": 4,
    "start_time": "2022-10-12T15:26:56.726Z"
   },
   {
    "duration": 342,
    "start_time": "2022-10-12T15:26:56.732Z"
   },
   {
    "duration": 349,
    "start_time": "2022-10-12T15:26:57.077Z"
   },
   {
    "duration": 458,
    "start_time": "2022-10-12T15:26:57.428Z"
   },
   {
    "duration": 10,
    "start_time": "2022-10-12T15:26:57.888Z"
   },
   {
    "duration": 23,
    "start_time": "2022-10-12T15:26:57.899Z"
   },
   {
    "duration": 300,
    "start_time": "2022-10-12T15:33:13.953Z"
   },
   {
    "duration": 8,
    "start_time": "2022-10-12T15:33:16.609Z"
   },
   {
    "duration": 111,
    "start_time": "2022-10-12T15:34:15.630Z"
   },
   {
    "duration": 167,
    "start_time": "2022-10-12T15:34:34.186Z"
   },
   {
    "duration": 156,
    "start_time": "2022-10-12T15:34:38.715Z"
   },
   {
    "duration": 147,
    "start_time": "2022-10-12T15:41:56.442Z"
   },
   {
    "duration": 15,
    "start_time": "2022-10-12T15:42:09.191Z"
   },
   {
    "duration": 156,
    "start_time": "2022-10-12T15:42:26.175Z"
   },
   {
    "duration": 164,
    "start_time": "2022-10-12T15:42:30.308Z"
   },
   {
    "duration": 11,
    "start_time": "2022-10-12T15:58:50.698Z"
   },
   {
    "duration": 165,
    "start_time": "2022-10-12T16:05:31.997Z"
   },
   {
    "duration": 75,
    "start_time": "2022-10-12T18:28:34.818Z"
   },
   {
    "duration": 6,
    "start_time": "2022-10-12T18:28:53.710Z"
   },
   {
    "duration": 1084,
    "start_time": "2022-10-12T18:29:00.430Z"
   },
   {
    "duration": 46,
    "start_time": "2022-10-12T18:29:01.516Z"
   },
   {
    "duration": 17,
    "start_time": "2022-10-12T18:29:01.564Z"
   },
   {
    "duration": 26,
    "start_time": "2022-10-12T18:29:01.583Z"
   },
   {
    "duration": 36,
    "start_time": "2022-10-12T18:29:01.611Z"
   },
   {
    "duration": 51,
    "start_time": "2022-10-12T18:29:01.648Z"
   },
   {
    "duration": 706,
    "start_time": "2022-10-12T18:29:01.700Z"
   },
   {
    "duration": 5,
    "start_time": "2022-10-12T18:29:02.408Z"
   },
   {
    "duration": 11,
    "start_time": "2022-10-12T18:29:02.422Z"
   },
   {
    "duration": 7,
    "start_time": "2022-10-12T18:29:02.435Z"
   },
   {
    "duration": 12,
    "start_time": "2022-10-12T18:29:02.443Z"
   },
   {
    "duration": 8,
    "start_time": "2022-10-12T18:29:02.457Z"
   },
   {
    "duration": 5,
    "start_time": "2022-10-12T18:29:02.466Z"
   },
   {
    "duration": 4,
    "start_time": "2022-10-12T18:29:02.474Z"
   },
   {
    "duration": 6,
    "start_time": "2022-10-12T18:29:02.480Z"
   },
   {
    "duration": 6,
    "start_time": "2022-10-12T18:29:02.521Z"
   },
   {
    "duration": 9,
    "start_time": "2022-10-12T18:29:02.529Z"
   },
   {
    "duration": 20,
    "start_time": "2022-10-12T18:29:02.540Z"
   },
   {
    "duration": 11,
    "start_time": "2022-10-12T18:29:02.562Z"
   },
   {
    "duration": 6,
    "start_time": "2022-10-12T18:29:02.575Z"
   },
   {
    "duration": 6,
    "start_time": "2022-10-12T18:29:02.583Z"
   },
   {
    "duration": 42,
    "start_time": "2022-10-12T18:29:02.591Z"
   },
   {
    "duration": 13,
    "start_time": "2022-10-12T18:29:02.635Z"
   },
   {
    "duration": 8,
    "start_time": "2022-10-12T18:29:02.650Z"
   },
   {
    "duration": 334,
    "start_time": "2022-10-12T18:29:02.660Z"
   },
   {
    "duration": 8,
    "start_time": "2022-10-12T18:29:02.995Z"
   },
   {
    "duration": 297,
    "start_time": "2022-10-12T18:29:03.004Z"
   },
   {
    "duration": 94,
    "start_time": "2022-10-12T18:29:03.302Z"
   },
   {
    "duration": 27,
    "start_time": "2022-10-12T18:29:03.398Z"
   },
   {
    "duration": 40,
    "start_time": "2022-10-12T18:29:03.426Z"
   },
   {
    "duration": 27,
    "start_time": "2022-10-12T18:29:03.468Z"
   },
   {
    "duration": 253,
    "start_time": "2022-10-12T18:29:03.497Z"
   },
   {
    "duration": 284,
    "start_time": "2022-10-12T18:29:03.751Z"
   },
   {
    "duration": 9,
    "start_time": "2022-10-12T18:29:04.037Z"
   },
   {
    "duration": 221,
    "start_time": "2022-10-12T18:29:04.047Z"
   },
   {
    "duration": 6,
    "start_time": "2022-10-12T18:29:04.270Z"
   },
   {
    "duration": 16,
    "start_time": "2022-10-12T18:29:04.277Z"
   },
   {
    "duration": 18,
    "start_time": "2022-10-12T18:29:04.294Z"
   },
   {
    "duration": 222,
    "start_time": "2022-10-12T18:29:04.314Z"
   },
   {
    "duration": 171,
    "start_time": "2022-10-12T18:29:04.538Z"
   },
   {
    "duration": 158,
    "start_time": "2022-10-12T18:29:04.713Z"
   },
   {
    "duration": 5,
    "start_time": "2022-10-12T18:29:04.873Z"
   },
   {
    "duration": 404,
    "start_time": "2022-10-12T18:29:04.880Z"
   },
   {
    "duration": 353,
    "start_time": "2022-10-12T18:29:05.286Z"
   },
   {
    "duration": 436,
    "start_time": "2022-10-12T18:29:05.640Z"
   },
   {
    "duration": 10,
    "start_time": "2022-10-12T18:29:06.077Z"
   },
   {
    "duration": 26,
    "start_time": "2022-10-12T18:29:06.089Z"
   },
   {
    "duration": 98,
    "start_time": "2022-10-12T19:26:23.233Z"
   },
   {
    "duration": 11,
    "start_time": "2022-10-12T19:26:58.864Z"
   },
   {
    "duration": 8,
    "start_time": "2022-10-12T19:27:26.352Z"
   },
   {
    "duration": 15,
    "start_time": "2022-10-12T19:27:41.334Z"
   },
   {
    "duration": 323,
    "start_time": "2022-10-12T19:28:20.838Z"
   },
   {
    "duration": 9,
    "start_time": "2022-10-12T19:42:27.077Z"
   },
   {
    "duration": 269,
    "start_time": "2022-10-12T19:42:29.087Z"
   },
   {
    "duration": 288,
    "start_time": "2022-10-12T19:43:25.629Z"
   },
   {
    "duration": 11,
    "start_time": "2022-10-12T19:43:34.882Z"
   },
   {
    "duration": 14,
    "start_time": "2022-10-12T19:43:41.793Z"
   },
   {
    "duration": 7,
    "start_time": "2022-10-12T19:43:43.179Z"
   },
   {
    "duration": 1124,
    "start_time": "2022-10-12T19:43:49.191Z"
   },
   {
    "duration": 41,
    "start_time": "2022-10-12T19:43:50.317Z"
   },
   {
    "duration": 18,
    "start_time": "2022-10-12T19:43:50.359Z"
   },
   {
    "duration": 13,
    "start_time": "2022-10-12T19:43:50.378Z"
   },
   {
    "duration": 60,
    "start_time": "2022-10-12T19:43:50.393Z"
   },
   {
    "duration": 51,
    "start_time": "2022-10-12T19:43:50.456Z"
   },
   {
    "duration": 732,
    "start_time": "2022-10-12T19:43:50.508Z"
   },
   {
    "duration": 5,
    "start_time": "2022-10-12T19:43:51.243Z"
   },
   {
    "duration": 20,
    "start_time": "2022-10-12T19:43:51.250Z"
   },
   {
    "duration": 21,
    "start_time": "2022-10-12T19:43:51.271Z"
   },
   {
    "duration": 11,
    "start_time": "2022-10-12T19:43:51.293Z"
   },
   {
    "duration": 9,
    "start_time": "2022-10-12T19:43:51.305Z"
   },
   {
    "duration": 14,
    "start_time": "2022-10-12T19:43:51.315Z"
   },
   {
    "duration": 6,
    "start_time": "2022-10-12T19:43:51.333Z"
   },
   {
    "duration": 11,
    "start_time": "2022-10-12T19:43:51.342Z"
   },
   {
    "duration": 9,
    "start_time": "2022-10-12T19:43:51.355Z"
   },
   {
    "duration": 9,
    "start_time": "2022-10-12T19:43:51.365Z"
   },
   {
    "duration": 17,
    "start_time": "2022-10-12T19:43:51.376Z"
   },
   {
    "duration": 31,
    "start_time": "2022-10-12T19:43:51.394Z"
   },
   {
    "duration": 6,
    "start_time": "2022-10-12T19:43:51.426Z"
   },
   {
    "duration": 13,
    "start_time": "2022-10-12T19:43:51.433Z"
   },
   {
    "duration": 18,
    "start_time": "2022-10-12T19:43:51.448Z"
   },
   {
    "duration": 20,
    "start_time": "2022-10-12T19:43:51.468Z"
   },
   {
    "duration": 13,
    "start_time": "2022-10-12T19:43:51.489Z"
   },
   {
    "duration": 330,
    "start_time": "2022-10-12T19:43:51.504Z"
   },
   {
    "duration": 397,
    "start_time": "2022-10-12T19:43:51.835Z"
   },
   {
    "duration": 10,
    "start_time": "2022-10-12T19:43:52.233Z"
   },
   {
    "duration": 352,
    "start_time": "2022-10-12T19:43:52.245Z"
   },
   {
    "duration": 16,
    "start_time": "2022-10-12T19:43:52.598Z"
   },
   {
    "duration": 13,
    "start_time": "2022-10-12T19:43:52.616Z"
   },
   {
    "duration": 31,
    "start_time": "2022-10-12T19:43:52.631Z"
   },
   {
    "duration": 31,
    "start_time": "2022-10-12T19:43:52.664Z"
   },
   {
    "duration": 253,
    "start_time": "2022-10-12T19:43:52.696Z"
   },
   {
    "duration": 294,
    "start_time": "2022-10-12T19:43:52.951Z"
   },
   {
    "duration": 12,
    "start_time": "2022-10-12T19:43:53.247Z"
   },
   {
    "duration": 230,
    "start_time": "2022-10-12T19:43:53.260Z"
   },
   {
    "duration": 8,
    "start_time": "2022-10-12T19:43:53.492Z"
   },
   {
    "duration": 21,
    "start_time": "2022-10-12T19:43:53.502Z"
   },
   {
    "duration": 17,
    "start_time": "2022-10-12T19:43:53.525Z"
   },
   {
    "duration": 255,
    "start_time": "2022-10-12T19:43:53.543Z"
   },
   {
    "duration": 178,
    "start_time": "2022-10-12T19:43:53.802Z"
   },
   {
    "duration": 193,
    "start_time": "2022-10-12T19:43:53.981Z"
   },
   {
    "duration": 6,
    "start_time": "2022-10-12T19:43:54.175Z"
   },
   {
    "duration": 397,
    "start_time": "2022-10-12T19:43:54.182Z"
   },
   {
    "duration": 466,
    "start_time": "2022-10-12T19:43:54.582Z"
   },
   {
    "duration": 387,
    "start_time": "2022-10-12T19:43:55.050Z"
   },
   {
    "duration": 17,
    "start_time": "2022-10-12T19:43:55.439Z"
   },
   {
    "duration": 18,
    "start_time": "2022-10-12T19:43:55.458Z"
   },
   {
    "duration": 1243,
    "start_time": "2022-10-12T20:11:22.111Z"
   },
   {
    "duration": 66,
    "start_time": "2022-10-12T20:11:23.356Z"
   },
   {
    "duration": 28,
    "start_time": "2022-10-12T20:11:23.425Z"
   },
   {
    "duration": 12,
    "start_time": "2022-10-12T20:11:23.455Z"
   },
   {
    "duration": 54,
    "start_time": "2022-10-12T20:11:23.469Z"
   },
   {
    "duration": 59,
    "start_time": "2022-10-12T20:11:23.525Z"
   },
   {
    "duration": 712,
    "start_time": "2022-10-12T20:11:23.585Z"
   },
   {
    "duration": 4,
    "start_time": "2022-10-12T20:11:24.299Z"
   },
   {
    "duration": 18,
    "start_time": "2022-10-12T20:11:24.305Z"
   },
   {
    "duration": 7,
    "start_time": "2022-10-12T20:11:24.325Z"
   },
   {
    "duration": 10,
    "start_time": "2022-10-12T20:11:24.334Z"
   },
   {
    "duration": 10,
    "start_time": "2022-10-12T20:11:24.346Z"
   },
   {
    "duration": 8,
    "start_time": "2022-10-12T20:11:24.358Z"
   },
   {
    "duration": 5,
    "start_time": "2022-10-12T20:11:24.368Z"
   },
   {
    "duration": 8,
    "start_time": "2022-10-12T20:11:24.375Z"
   },
   {
    "duration": 6,
    "start_time": "2022-10-12T20:11:24.384Z"
   },
   {
    "duration": 31,
    "start_time": "2022-10-12T20:11:24.392Z"
   },
   {
    "duration": 33,
    "start_time": "2022-10-12T20:11:24.425Z"
   },
   {
    "duration": 7,
    "start_time": "2022-10-12T20:11:24.460Z"
   },
   {
    "duration": 6,
    "start_time": "2022-10-12T20:11:24.469Z"
   },
   {
    "duration": 6,
    "start_time": "2022-10-12T20:11:24.477Z"
   },
   {
    "duration": 17,
    "start_time": "2022-10-12T20:11:24.484Z"
   },
   {
    "duration": 8,
    "start_time": "2022-10-12T20:11:24.503Z"
   },
   {
    "duration": 17,
    "start_time": "2022-10-12T20:11:24.513Z"
   },
   {
    "duration": 327,
    "start_time": "2022-10-12T20:11:24.532Z"
   },
   {
    "duration": 407,
    "start_time": "2022-10-12T20:11:24.860Z"
   },
   {
    "duration": 8,
    "start_time": "2022-10-12T20:11:25.268Z"
   },
   {
    "duration": 292,
    "start_time": "2022-10-12T20:11:25.277Z"
   },
   {
    "duration": 15,
    "start_time": "2022-10-12T20:11:25.571Z"
   },
   {
    "duration": 6,
    "start_time": "2022-10-12T20:11:25.587Z"
   },
   {
    "duration": 27,
    "start_time": "2022-10-12T20:11:25.594Z"
   },
   {
    "duration": 33,
    "start_time": "2022-10-12T20:11:25.623Z"
   },
   {
    "duration": 253,
    "start_time": "2022-10-12T20:11:25.658Z"
   },
   {
    "duration": 281,
    "start_time": "2022-10-12T20:11:25.913Z"
   },
   {
    "duration": 9,
    "start_time": "2022-10-12T20:11:26.196Z"
   },
   {
    "duration": 203,
    "start_time": "2022-10-12T20:11:26.206Z"
   },
   {
    "duration": 15,
    "start_time": "2022-10-12T20:11:26.410Z"
   },
   {
    "duration": 12,
    "start_time": "2022-10-12T20:11:26.426Z"
   },
   {
    "duration": 15,
    "start_time": "2022-10-12T20:11:26.440Z"
   },
   {
    "duration": 234,
    "start_time": "2022-10-12T20:11:26.456Z"
   },
   {
    "duration": 168,
    "start_time": "2022-10-12T20:11:26.693Z"
   },
   {
    "duration": 164,
    "start_time": "2022-10-12T20:11:26.863Z"
   },
   {
    "duration": 6,
    "start_time": "2022-10-12T20:11:27.029Z"
   },
   {
    "duration": 375,
    "start_time": "2022-10-12T20:11:27.036Z"
   },
   {
    "duration": 522,
    "start_time": "2022-10-12T20:11:27.413Z"
   },
   {
    "duration": 425,
    "start_time": "2022-10-12T20:11:27.937Z"
   },
   {
    "duration": 10,
    "start_time": "2022-10-12T20:11:28.364Z"
   },
   {
    "duration": 10,
    "start_time": "2022-10-12T20:11:28.376Z"
   }
  ],
  "kernelspec": {
   "display_name": "Python 3 (ipykernel)",
   "language": "python",
   "name": "python3"
  },
  "language_info": {
   "codemirror_mode": {
    "name": "ipython",
    "version": 3
   },
   "file_extension": ".py",
   "mimetype": "text/x-python",
   "name": "python",
   "nbconvert_exporter": "python",
   "pygments_lexer": "ipython3",
   "version": "3.9.5"
  },
  "toc": {
   "base_numbering": 1,
   "nav_menu": {},
   "number_sections": true,
   "sideBar": true,
   "skip_h1_title": true,
   "title_cell": "Table of Contents",
   "title_sidebar": "Contents",
   "toc_cell": false,
   "toc_position": {},
   "toc_section_display": true,
   "toc_window_display": true
  }
 },
 "nbformat": 4,
 "nbformat_minor": 2
}
