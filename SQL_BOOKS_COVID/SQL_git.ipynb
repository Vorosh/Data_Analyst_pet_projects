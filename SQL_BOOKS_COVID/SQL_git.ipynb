{
 "cells": [
  {
   "cell_type": "markdown",
   "id": "b113e406",
   "metadata": {},
   "source": [
    "# Проект по SQL."
   ]
  },
  {
   "cell_type": "markdown",
   "id": "e724c921",
   "metadata": {},
   "source": [
    "## Цели и задачи исследования:\n",
    "\n",
    "Коронавирус застал мир врасплох, изменив привычный порядок вещей. В свободное время жители городов больше не выходят на улицу, не посещают кафе и торговые центры. Зато стало больше времени для книг. Это заметили стартаперы — и бросились создавать приложения для тех, кто любит читать.\n",
    "\n",
    "Ваша компания решила быть на волне и купила крупный сервис для чтения книг по подписке. Ваша первая задача как аналитика — проанализировать базу данных. В ней — информация о книгах, издательствах, авторах, а также пользовательские обзоры книг. Эти данные помогут сформулировать ценностное предложение для нового продукта."
   ]
  },
  {
   "cell_type": "markdown",
   "id": "78a2502c",
   "metadata": {},
   "source": [
    "## Описание данных:\n",
    "\n",
    "**Таблица `books`**\n",
    "\n",
    "Содержит данные о книгах:\n",
    "\n",
    "- `book_id` — идентификатор книги;\n",
    "- `author_id` — идентификатор автора;\n",
    "- `title` — название книги;\n",
    "- `num_pages` — количество страниц;\n",
    "- `publication_date` — дата публикации книги;\n",
    "- `publisher_id` — идентификатор издателя.\n",
    "\n",
    "**Таблица `authors`**\n",
    "\n",
    "Содержит данные об авторах:\n",
    "\n",
    "- `author_id` — идентификатор автора;\n",
    "- `author` — имя автора.\n",
    "\n",
    "**Таблица `publishers`**\n",
    "\n",
    "Содержит данные об издательствах:\n",
    "\n",
    "- `publisher_id` — идентификатор издательства;\n",
    "- `publisher` — название издательства;\n",
    "\n",
    "**Таблица `ratings`**\n",
    "\n",
    "Содержит данные о пользовательских оценках книг:\n",
    "\n",
    "- `rating_id` — идентификатор оценки;\n",
    "- `book_id` — идентификатор книги;\n",
    "- `username` — имя пользователя, оставившего оценку;\n",
    "- `rating` — оценка книги.\n",
    "\n",
    "**Таблица `reviews`**\n",
    "\n",
    "Содержит данные о пользовательских обзорах на книги:\n",
    "\n",
    "- `review_id` — идентификатор обзора;\n",
    "- `book_id` — идентификатор книги;\n",
    "- `username` — имя пользователя, написавшего обзор;\n",
    "- `text` — текст обзора."
   ]
  },
  {
   "cell_type": "markdown",
   "id": "421a7877",
   "metadata": {},
   "source": [
    "## Задания:\n",
    "- Посчитайте, сколько книг вышло после 1 января 2000 года;\n",
    "- Для каждой книги посчитайте количество обзоров и среднюю оценку;\n",
    "- Определите издательство, которое выпустило наибольшее число книг толще 50 страниц — так вы исключите из анализа брошюры;\n",
    "- Определите автора с самой высокой средней оценкой книг — учитывайте только книги с 50 и более оценками;\n",
    "- Посчитайте среднее количество обзоров от пользователей, которые поставили больше 50 оценок."
   ]
  },
  {
   "cell_type": "markdown",
   "id": "ecf332a6",
   "metadata": {},
   "source": [
    "## План работы:\n",
    "\n",
    "- Цели и задачи исследования;\n",
    "- Исследование таблиц — вывод первых строк;\n",
    "- Сколько книг вышло после 1 января 2000 года;\n",
    "- Для каждой книги посчитать количество обзоров и среднюю оценку;\n",
    "- Определить издательство, которое выпустило наибольшее число книг толще 50 страниц — так вы исключите из анализа брошюры;\n",
    "- Определить автора с самой высокой средней оценкой книг — учитывайте только книги с 50 и более оценками;\n",
    "- Посчитать среднее количество обзоров от пользователей, которые поставили больше 50 оценок."
   ]
  },
  {
   "cell_type": "code",
   "execution_count": 1,
   "id": "4beeae60",
   "metadata": {},
   "outputs": [],
   "source": [
    "# импортируем библиотеки\n",
    "import pandas as pd\n",
    "from sqlalchemy import create_engine\n",
    "from IPython.display import Image"
   ]
  },
  {
   "cell_type": "code",
   "execution_count": 2,
   "id": "0f7b15e4",
   "metadata": {},
   "outputs": [
    {
     "data": {
      "text/html": [
       "<img src=\"https://concrete-web-bad.notion.site/image/https%3A%2F%2Fs3-us-west-2.amazonaws.com%2Fsecure.notion-static.com%2F069818d1-0e5c-4d87-a461-0de584ab9c33%2FUntitled_(33).png?id=bd53c8db-b4fd-49eb-8cc9-572ebb3c9163&table=block&spaceId=9e4bd47b-c6e6-4ca3-bcee-279794b47315&width=2000&userId=&cache=v2\"/>"
      ],
      "text/plain": [
       "<IPython.core.display.Image object>"
      ]
     },
     "execution_count": 2,
     "metadata": {},
     "output_type": "execute_result"
    }
   ],
   "source": [
    "# ER-Диаграмма\n",
    "Image(url='https://concrete-web-bad.notion.site/image/https%3A%2F%2Fs3-us-west-2.amazonaws.com%2Fsecure.notion-static.com%2F069818d1-0e5c-4d87-a461-0de584ab9c33%2FUntitled_(33).png?id=bd53c8db-b4fd-49eb-8cc9-572ebb3c9163&table=block&spaceId=9e4bd47b-c6e6-4ca3-bcee-279794b47315&width=2000&userId=&cache=v2')"
   ]
  },
  {
   "cell_type": "code",
   "execution_count": 3,
   "id": "671fc677",
   "metadata": {},
   "outputs": [],
   "source": [
    "# устанавливаем параметры\n",
    "db_config = {'user': 'praktikum_student', # имя пользователя\n",
    "'pwd': 'Sdf4$2;d-d30pp', # пароль\n",
    "'host': 'rc1b-wcoijxj3yxfsf3fs.mdb.yandexcloud.net',\n",
    "'port': 6432, # порт подключения\n",
    "'db': 'data-analyst-final-project-db'} # название базы данных\n",
    "connection_string = 'postgresql://{}:{}@{}:{}/{}'.format(db_config['user'],\n",
    " db_config['pwd'],\n",
    " db_config['host'],\n",
    " db_config['port'],\n",
    " db_config['db'])\n",
    "# сохраняем коннектор\n",
    "engine = create_engine(connection_string, connect_args={'sslmode':'require'}) "
   ]
  },
  {
   "cell_type": "code",
   "execution_count": 4,
   "id": "09478b29",
   "metadata": {},
   "outputs": [],
   "source": [
    "# Функция выполнения sql запроса\n",
    "\n",
    "def func(sql):\n",
    "    return pd.read_sql(sql,con=engine)"
   ]
  },
  {
   "cell_type": "markdown",
   "id": "81722b89",
   "metadata": {},
   "source": [
    "### Вывод первых строк таблиц"
   ]
  },
  {
   "cell_type": "code",
   "execution_count": 5,
   "id": "182dac06",
   "metadata": {},
   "outputs": [
    {
     "data": {
      "text/html": [
       "<div>\n",
       "<style scoped>\n",
       "    .dataframe tbody tr th:only-of-type {\n",
       "        vertical-align: middle;\n",
       "    }\n",
       "\n",
       "    .dataframe tbody tr th {\n",
       "        vertical-align: top;\n",
       "    }\n",
       "\n",
       "    .dataframe thead th {\n",
       "        text-align: right;\n",
       "    }\n",
       "</style>\n",
       "<table border=\"1\" class=\"dataframe\">\n",
       "  <thead>\n",
       "    <tr style=\"text-align: right;\">\n",
       "      <th></th>\n",
       "      <th>book_id</th>\n",
       "      <th>author_id</th>\n",
       "      <th>title</th>\n",
       "      <th>num_pages</th>\n",
       "      <th>publication_date</th>\n",
       "      <th>publisher_id</th>\n",
       "    </tr>\n",
       "  </thead>\n",
       "  <tbody>\n",
       "    <tr>\n",
       "      <th>0</th>\n",
       "      <td>1</td>\n",
       "      <td>546</td>\n",
       "      <td>'Salem's Lot</td>\n",
       "      <td>594</td>\n",
       "      <td>2005-11-01</td>\n",
       "      <td>93</td>\n",
       "    </tr>\n",
       "    <tr>\n",
       "      <th>1</th>\n",
       "      <td>2</td>\n",
       "      <td>465</td>\n",
       "      <td>1 000 Places to See Before You Die</td>\n",
       "      <td>992</td>\n",
       "      <td>2003-05-22</td>\n",
       "      <td>336</td>\n",
       "    </tr>\n",
       "    <tr>\n",
       "      <th>2</th>\n",
       "      <td>3</td>\n",
       "      <td>407</td>\n",
       "      <td>13 Little Blue Envelopes (Little Blue Envelope...</td>\n",
       "      <td>322</td>\n",
       "      <td>2010-12-21</td>\n",
       "      <td>135</td>\n",
       "    </tr>\n",
       "    <tr>\n",
       "      <th>3</th>\n",
       "      <td>4</td>\n",
       "      <td>82</td>\n",
       "      <td>1491: New Revelations of the Americas Before C...</td>\n",
       "      <td>541</td>\n",
       "      <td>2006-10-10</td>\n",
       "      <td>309</td>\n",
       "    </tr>\n",
       "    <tr>\n",
       "      <th>4</th>\n",
       "      <td>5</td>\n",
       "      <td>125</td>\n",
       "      <td>1776</td>\n",
       "      <td>386</td>\n",
       "      <td>2006-07-04</td>\n",
       "      <td>268</td>\n",
       "    </tr>\n",
       "  </tbody>\n",
       "</table>\n",
       "</div>"
      ],
      "text/plain": [
       "   book_id  author_id                                              title  \\\n",
       "0        1        546                                       'Salem's Lot   \n",
       "1        2        465                 1 000 Places to See Before You Die   \n",
       "2        3        407  13 Little Blue Envelopes (Little Blue Envelope...   \n",
       "3        4         82  1491: New Revelations of the Americas Before C...   \n",
       "4        5        125                                               1776   \n",
       "\n",
       "   num_pages publication_date  publisher_id  \n",
       "0        594       2005-11-01            93  \n",
       "1        992       2003-05-22           336  \n",
       "2        322       2010-12-21           135  \n",
       "3        541       2006-10-10           309  \n",
       "4        386       2006-07-04           268  "
      ]
     },
     "execution_count": 5,
     "metadata": {},
     "output_type": "execute_result"
    }
   ],
   "source": [
    "# для книг\n",
    "sql_books = '''\n",
    "SELECT *\n",
    "FROM books\n",
    "'''\n",
    "books = func(sql_books)\n",
    "books.head()"
   ]
  },
  {
   "cell_type": "code",
   "execution_count": 6,
   "id": "d1f590fa",
   "metadata": {},
   "outputs": [
    {
     "data": {
      "text/html": [
       "<div>\n",
       "<style scoped>\n",
       "    .dataframe tbody tr th:only-of-type {\n",
       "        vertical-align: middle;\n",
       "    }\n",
       "\n",
       "    .dataframe tbody tr th {\n",
       "        vertical-align: top;\n",
       "    }\n",
       "\n",
       "    .dataframe thead th {\n",
       "        text-align: right;\n",
       "    }\n",
       "</style>\n",
       "<table border=\"1\" class=\"dataframe\">\n",
       "  <thead>\n",
       "    <tr style=\"text-align: right;\">\n",
       "      <th></th>\n",
       "      <th>author_id</th>\n",
       "      <th>author</th>\n",
       "    </tr>\n",
       "  </thead>\n",
       "  <tbody>\n",
       "    <tr>\n",
       "      <th>0</th>\n",
       "      <td>1</td>\n",
       "      <td>A.S. Byatt</td>\n",
       "    </tr>\n",
       "    <tr>\n",
       "      <th>1</th>\n",
       "      <td>2</td>\n",
       "      <td>Aesop/Laura Harris/Laura Gibbs</td>\n",
       "    </tr>\n",
       "    <tr>\n",
       "      <th>2</th>\n",
       "      <td>3</td>\n",
       "      <td>Agatha Christie</td>\n",
       "    </tr>\n",
       "    <tr>\n",
       "      <th>3</th>\n",
       "      <td>4</td>\n",
       "      <td>Alan Brennert</td>\n",
       "    </tr>\n",
       "    <tr>\n",
       "      <th>4</th>\n",
       "      <td>5</td>\n",
       "      <td>Alan Moore/David   Lloyd</td>\n",
       "    </tr>\n",
       "  </tbody>\n",
       "</table>\n",
       "</div>"
      ],
      "text/plain": [
       "   author_id                          author\n",
       "0          1                      A.S. Byatt\n",
       "1          2  Aesop/Laura Harris/Laura Gibbs\n",
       "2          3                 Agatha Christie\n",
       "3          4                   Alan Brennert\n",
       "4          5        Alan Moore/David   Lloyd"
      ]
     },
     "execution_count": 6,
     "metadata": {},
     "output_type": "execute_result"
    }
   ],
   "source": [
    "# для авторов\n",
    "sql_authors = '''\n",
    "SELECT *\n",
    "FROM authors\n",
    "'''\n",
    "authors = func(sql_authors)\n",
    "authors.head()"
   ]
  },
  {
   "cell_type": "code",
   "execution_count": 7,
   "id": "5b61c678",
   "metadata": {},
   "outputs": [
    {
     "data": {
      "text/html": [
       "<div>\n",
       "<style scoped>\n",
       "    .dataframe tbody tr th:only-of-type {\n",
       "        vertical-align: middle;\n",
       "    }\n",
       "\n",
       "    .dataframe tbody tr th {\n",
       "        vertical-align: top;\n",
       "    }\n",
       "\n",
       "    .dataframe thead th {\n",
       "        text-align: right;\n",
       "    }\n",
       "</style>\n",
       "<table border=\"1\" class=\"dataframe\">\n",
       "  <thead>\n",
       "    <tr style=\"text-align: right;\">\n",
       "      <th></th>\n",
       "      <th>rating_id</th>\n",
       "      <th>book_id</th>\n",
       "      <th>username</th>\n",
       "      <th>rating</th>\n",
       "    </tr>\n",
       "  </thead>\n",
       "  <tbody>\n",
       "    <tr>\n",
       "      <th>0</th>\n",
       "      <td>1</td>\n",
       "      <td>1</td>\n",
       "      <td>ryanfranco</td>\n",
       "      <td>4</td>\n",
       "    </tr>\n",
       "    <tr>\n",
       "      <th>1</th>\n",
       "      <td>2</td>\n",
       "      <td>1</td>\n",
       "      <td>grantpatricia</td>\n",
       "      <td>2</td>\n",
       "    </tr>\n",
       "    <tr>\n",
       "      <th>2</th>\n",
       "      <td>3</td>\n",
       "      <td>1</td>\n",
       "      <td>brandtandrea</td>\n",
       "      <td>5</td>\n",
       "    </tr>\n",
       "    <tr>\n",
       "      <th>3</th>\n",
       "      <td>4</td>\n",
       "      <td>2</td>\n",
       "      <td>lorichen</td>\n",
       "      <td>3</td>\n",
       "    </tr>\n",
       "    <tr>\n",
       "      <th>4</th>\n",
       "      <td>5</td>\n",
       "      <td>2</td>\n",
       "      <td>mariokeller</td>\n",
       "      <td>2</td>\n",
       "    </tr>\n",
       "  </tbody>\n",
       "</table>\n",
       "</div>"
      ],
      "text/plain": [
       "   rating_id  book_id       username  rating\n",
       "0          1        1     ryanfranco       4\n",
       "1          2        1  grantpatricia       2\n",
       "2          3        1   brandtandrea       5\n",
       "3          4        2       lorichen       3\n",
       "4          5        2    mariokeller       2"
      ]
     },
     "execution_count": 7,
     "metadata": {},
     "output_type": "execute_result"
    }
   ],
   "source": [
    "# для рейтингов\n",
    "sql_ratings = '''\n",
    "SELECT *\n",
    "FROM ratings\n",
    "'''\n",
    "ratings = func(sql_ratings)\n",
    "ratings.head()"
   ]
  },
  {
   "cell_type": "code",
   "execution_count": 8,
   "id": "7f768465",
   "metadata": {},
   "outputs": [
    {
     "data": {
      "text/html": [
       "<div>\n",
       "<style scoped>\n",
       "    .dataframe tbody tr th:only-of-type {\n",
       "        vertical-align: middle;\n",
       "    }\n",
       "\n",
       "    .dataframe tbody tr th {\n",
       "        vertical-align: top;\n",
       "    }\n",
       "\n",
       "    .dataframe thead th {\n",
       "        text-align: right;\n",
       "    }\n",
       "</style>\n",
       "<table border=\"1\" class=\"dataframe\">\n",
       "  <thead>\n",
       "    <tr style=\"text-align: right;\">\n",
       "      <th></th>\n",
       "      <th>review_id</th>\n",
       "      <th>book_id</th>\n",
       "      <th>username</th>\n",
       "      <th>text</th>\n",
       "    </tr>\n",
       "  </thead>\n",
       "  <tbody>\n",
       "    <tr>\n",
       "      <th>0</th>\n",
       "      <td>1</td>\n",
       "      <td>1</td>\n",
       "      <td>brandtandrea</td>\n",
       "      <td>Mention society tell send professor analysis. ...</td>\n",
       "    </tr>\n",
       "    <tr>\n",
       "      <th>1</th>\n",
       "      <td>2</td>\n",
       "      <td>1</td>\n",
       "      <td>ryanfranco</td>\n",
       "      <td>Foot glass pretty audience hit themselves. Amo...</td>\n",
       "    </tr>\n",
       "    <tr>\n",
       "      <th>2</th>\n",
       "      <td>3</td>\n",
       "      <td>2</td>\n",
       "      <td>lorichen</td>\n",
       "      <td>Listen treat keep worry. Miss husband tax but ...</td>\n",
       "    </tr>\n",
       "    <tr>\n",
       "      <th>3</th>\n",
       "      <td>4</td>\n",
       "      <td>3</td>\n",
       "      <td>johnsonamanda</td>\n",
       "      <td>Finally month interesting blue could nature cu...</td>\n",
       "    </tr>\n",
       "    <tr>\n",
       "      <th>4</th>\n",
       "      <td>5</td>\n",
       "      <td>3</td>\n",
       "      <td>scotttamara</td>\n",
       "      <td>Nation purpose heavy give wait song will. List...</td>\n",
       "    </tr>\n",
       "  </tbody>\n",
       "</table>\n",
       "</div>"
      ],
      "text/plain": [
       "   review_id  book_id       username  \\\n",
       "0          1        1   brandtandrea   \n",
       "1          2        1     ryanfranco   \n",
       "2          3        2       lorichen   \n",
       "3          4        3  johnsonamanda   \n",
       "4          5        3    scotttamara   \n",
       "\n",
       "                                                text  \n",
       "0  Mention society tell send professor analysis. ...  \n",
       "1  Foot glass pretty audience hit themselves. Amo...  \n",
       "2  Listen treat keep worry. Miss husband tax but ...  \n",
       "3  Finally month interesting blue could nature cu...  \n",
       "4  Nation purpose heavy give wait song will. List...  "
      ]
     },
     "execution_count": 8,
     "metadata": {},
     "output_type": "execute_result"
    }
   ],
   "source": [
    "# для обзоров\n",
    "sql_reviews = '''\n",
    "SELECT *\n",
    "FROM reviews\n",
    "'''\n",
    "reviews = func(sql_reviews)\n",
    "reviews.head()"
   ]
  },
  {
   "cell_type": "code",
   "execution_count": 9,
   "id": "f2afa3e5",
   "metadata": {},
   "outputs": [
    {
     "data": {
      "text/html": [
       "<div>\n",
       "<style scoped>\n",
       "    .dataframe tbody tr th:only-of-type {\n",
       "        vertical-align: middle;\n",
       "    }\n",
       "\n",
       "    .dataframe tbody tr th {\n",
       "        vertical-align: top;\n",
       "    }\n",
       "\n",
       "    .dataframe thead th {\n",
       "        text-align: right;\n",
       "    }\n",
       "</style>\n",
       "<table border=\"1\" class=\"dataframe\">\n",
       "  <thead>\n",
       "    <tr style=\"text-align: right;\">\n",
       "      <th></th>\n",
       "      <th>publisher_id</th>\n",
       "      <th>publisher</th>\n",
       "    </tr>\n",
       "  </thead>\n",
       "  <tbody>\n",
       "    <tr>\n",
       "      <th>0</th>\n",
       "      <td>1</td>\n",
       "      <td>Ace</td>\n",
       "    </tr>\n",
       "    <tr>\n",
       "      <th>1</th>\n",
       "      <td>2</td>\n",
       "      <td>Ace Book</td>\n",
       "    </tr>\n",
       "    <tr>\n",
       "      <th>2</th>\n",
       "      <td>3</td>\n",
       "      <td>Ace Books</td>\n",
       "    </tr>\n",
       "    <tr>\n",
       "      <th>3</th>\n",
       "      <td>4</td>\n",
       "      <td>Ace Hardcover</td>\n",
       "    </tr>\n",
       "    <tr>\n",
       "      <th>4</th>\n",
       "      <td>5</td>\n",
       "      <td>Addison Wesley Publishing Company</td>\n",
       "    </tr>\n",
       "  </tbody>\n",
       "</table>\n",
       "</div>"
      ],
      "text/plain": [
       "   publisher_id                          publisher\n",
       "0             1                                Ace\n",
       "1             2                           Ace Book\n",
       "2             3                          Ace Books\n",
       "3             4                      Ace Hardcover\n",
       "4             5  Addison Wesley Publishing Company"
      ]
     },
     "execution_count": 9,
     "metadata": {},
     "output_type": "execute_result"
    }
   ],
   "source": [
    "# для издательств\n",
    "sql_publishers = '''\n",
    "SELECT *\n",
    "FROM publishers\n",
    "'''\n",
    "publishers = func(sql_publishers)\n",
    "publishers.head()"
   ]
  },
  {
   "cell_type": "markdown",
   "id": "08a490fa",
   "metadata": {},
   "source": [
    "### Сколько книг вышло после 1 января 2000 года;"
   ]
  },
  {
   "cell_type": "code",
   "execution_count": 10,
   "id": "0ebd2411",
   "metadata": {},
   "outputs": [
    {
     "data": {
      "text/html": [
       "<div>\n",
       "<style scoped>\n",
       "    .dataframe tbody tr th:only-of-type {\n",
       "        vertical-align: middle;\n",
       "    }\n",
       "\n",
       "    .dataframe tbody tr th {\n",
       "        vertical-align: top;\n",
       "    }\n",
       "\n",
       "    .dataframe thead th {\n",
       "        text-align: right;\n",
       "    }\n",
       "</style>\n",
       "<table border=\"1\" class=\"dataframe\">\n",
       "  <thead>\n",
       "    <tr style=\"text-align: right;\">\n",
       "      <th></th>\n",
       "      <th>count</th>\n",
       "    </tr>\n",
       "  </thead>\n",
       "  <tbody>\n",
       "    <tr>\n",
       "      <th>0</th>\n",
       "      <td>819</td>\n",
       "    </tr>\n",
       "  </tbody>\n",
       "</table>\n",
       "</div>"
      ],
      "text/plain": [
       "   count\n",
       "0    819"
      ]
     },
     "execution_count": 10,
     "metadata": {},
     "output_type": "execute_result"
    }
   ],
   "source": [
    "query = '''\n",
    "SELECT COUNT(book_id)\n",
    "FROM books \n",
    "WHERE publication_date > '2000-01-01'\n",
    "'''\n",
    "\n",
    "func(query)"
   ]
  },
  {
   "cell_type": "markdown",
   "id": "1ae99975",
   "metadata": {},
   "source": [
    "***После 1 января 2000 года вышло 819 книг***"
   ]
  },
  {
   "cell_type": "markdown",
   "id": "05ed0ca8",
   "metadata": {},
   "source": [
    "### Для каждой книги посчитать количество обзоров и среднюю оценку;"
   ]
  },
  {
   "cell_type": "code",
   "execution_count": 11,
   "id": "c588744e",
   "metadata": {},
   "outputs": [
    {
     "data": {
      "text/html": [
       "<div>\n",
       "<style scoped>\n",
       "    .dataframe tbody tr th:only-of-type {\n",
       "        vertical-align: middle;\n",
       "    }\n",
       "\n",
       "    .dataframe tbody tr th {\n",
       "        vertical-align: top;\n",
       "    }\n",
       "\n",
       "    .dataframe thead th {\n",
       "        text-align: right;\n",
       "    }\n",
       "</style>\n",
       "<table border=\"1\" class=\"dataframe\">\n",
       "  <thead>\n",
       "    <tr style=\"text-align: right;\">\n",
       "      <th></th>\n",
       "      <th>id</th>\n",
       "      <th>title</th>\n",
       "      <th>avg_rating</th>\n",
       "      <th>reviews_count</th>\n",
       "    </tr>\n",
       "  </thead>\n",
       "  <tbody>\n",
       "    <tr>\n",
       "      <th>0</th>\n",
       "      <td>948</td>\n",
       "      <td>Twilight (Twilight  #1)</td>\n",
       "      <td>3.662500</td>\n",
       "      <td>7</td>\n",
       "    </tr>\n",
       "    <tr>\n",
       "      <th>1</th>\n",
       "      <td>963</td>\n",
       "      <td>Water for Elephants</td>\n",
       "      <td>3.977273</td>\n",
       "      <td>6</td>\n",
       "    </tr>\n",
       "    <tr>\n",
       "      <th>2</th>\n",
       "      <td>734</td>\n",
       "      <td>The Glass Castle</td>\n",
       "      <td>4.206897</td>\n",
       "      <td>6</td>\n",
       "    </tr>\n",
       "    <tr>\n",
       "      <th>3</th>\n",
       "      <td>302</td>\n",
       "      <td>Harry Potter and the Prisoner of Azkaban (Harr...</td>\n",
       "      <td>4.414634</td>\n",
       "      <td>6</td>\n",
       "    </tr>\n",
       "    <tr>\n",
       "      <th>4</th>\n",
       "      <td>695</td>\n",
       "      <td>The Curious Incident of the Dog in the Night-Time</td>\n",
       "      <td>4.081081</td>\n",
       "      <td>6</td>\n",
       "    </tr>\n",
       "    <tr>\n",
       "      <th>...</th>\n",
       "      <td>...</td>\n",
       "      <td>...</td>\n",
       "      <td>...</td>\n",
       "      <td>...</td>\n",
       "    </tr>\n",
       "    <tr>\n",
       "      <th>995</th>\n",
       "      <td>83</td>\n",
       "      <td>Anne Rice's The Vampire Lestat: A Graphic Novel</td>\n",
       "      <td>3.666667</td>\n",
       "      <td>0</td>\n",
       "    </tr>\n",
       "    <tr>\n",
       "      <th>996</th>\n",
       "      <td>808</td>\n",
       "      <td>The Natural Way to Draw</td>\n",
       "      <td>3.000000</td>\n",
       "      <td>0</td>\n",
       "    </tr>\n",
       "    <tr>\n",
       "      <th>997</th>\n",
       "      <td>672</td>\n",
       "      <td>The Cat in the Hat and Other Dr. Seuss Favorites</td>\n",
       "      <td>5.000000</td>\n",
       "      <td>0</td>\n",
       "    </tr>\n",
       "    <tr>\n",
       "      <th>998</th>\n",
       "      <td>221</td>\n",
       "      <td>Essential Tales and Poems</td>\n",
       "      <td>4.000000</td>\n",
       "      <td>0</td>\n",
       "    </tr>\n",
       "    <tr>\n",
       "      <th>999</th>\n",
       "      <td>191</td>\n",
       "      <td>Disney's Beauty and the Beast (A Little Golden...</td>\n",
       "      <td>4.000000</td>\n",
       "      <td>0</td>\n",
       "    </tr>\n",
       "  </tbody>\n",
       "</table>\n",
       "<p>1000 rows × 4 columns</p>\n",
       "</div>"
      ],
      "text/plain": [
       "      id                                              title  avg_rating  \\\n",
       "0    948                            Twilight (Twilight  #1)    3.662500   \n",
       "1    963                                Water for Elephants    3.977273   \n",
       "2    734                                   The Glass Castle    4.206897   \n",
       "3    302  Harry Potter and the Prisoner of Azkaban (Harr...    4.414634   \n",
       "4    695  The Curious Incident of the Dog in the Night-Time    4.081081   \n",
       "..   ...                                                ...         ...   \n",
       "995   83    Anne Rice's The Vampire Lestat: A Graphic Novel    3.666667   \n",
       "996  808                            The Natural Way to Draw    3.000000   \n",
       "997  672   The Cat in the Hat and Other Dr. Seuss Favorites    5.000000   \n",
       "998  221                          Essential Tales and Poems    4.000000   \n",
       "999  191  Disney's Beauty and the Beast (A Little Golden...    4.000000   \n",
       "\n",
       "     reviews_count  \n",
       "0                7  \n",
       "1                6  \n",
       "2                6  \n",
       "3                6  \n",
       "4                6  \n",
       "..             ...  \n",
       "995              0  \n",
       "996              0  \n",
       "997              0  \n",
       "998              0  \n",
       "999              0  \n",
       "\n",
       "[1000 rows x 4 columns]"
      ]
     },
     "execution_count": 11,
     "metadata": {},
     "output_type": "execute_result"
    }
   ],
   "source": [
    "query = '''\n",
    "SELECT books.book_id as id,\n",
    "       books.title as title,\n",
    "       AVG(ratings.rating) as avg_rating,\n",
    "       COUNT(DISTINCT reviews.review_id) as reviews_count\n",
    "FROM books\n",
    "LEFT JOIN reviews on reviews.book_id = books.book_id\n",
    "LEFT JOIN ratings on ratings.book_id = books.book_id\n",
    "GROUP BY title, id\n",
    "ORDER BY reviews_count DESC\n",
    "'''\n",
    "func(query)"
   ]
  },
  {
   "cell_type": "markdown",
   "id": "ed849886",
   "metadata": {},
   "source": [
    "***Вывели список книг по количеству обзоров с указанием рейтинга. Книга с id 948 имеет наибольшее количество обзоров***"
   ]
  },
  {
   "cell_type": "markdown",
   "id": "718cfdbe",
   "metadata": {},
   "source": [
    "### Определить издательство, которое выпустило наибольшее число книг толще 50 страниц — так вы исключите из анализа брошюры;"
   ]
  },
  {
   "cell_type": "code",
   "execution_count": 12,
   "id": "f5ce8c2a",
   "metadata": {},
   "outputs": [
    {
     "data": {
      "text/html": [
       "<div>\n",
       "<style scoped>\n",
       "    .dataframe tbody tr th:only-of-type {\n",
       "        vertical-align: middle;\n",
       "    }\n",
       "\n",
       "    .dataframe tbody tr th {\n",
       "        vertical-align: top;\n",
       "    }\n",
       "\n",
       "    .dataframe thead th {\n",
       "        text-align: right;\n",
       "    }\n",
       "</style>\n",
       "<table border=\"1\" class=\"dataframe\">\n",
       "  <thead>\n",
       "    <tr style=\"text-align: right;\">\n",
       "      <th></th>\n",
       "      <th>publisher_name</th>\n",
       "      <th>books_count</th>\n",
       "    </tr>\n",
       "  </thead>\n",
       "  <tbody>\n",
       "    <tr>\n",
       "      <th>0</th>\n",
       "      <td>Penguin Books</td>\n",
       "      <td>42</td>\n",
       "    </tr>\n",
       "    <tr>\n",
       "      <th>1</th>\n",
       "      <td>Vintage</td>\n",
       "      <td>31</td>\n",
       "    </tr>\n",
       "    <tr>\n",
       "      <th>2</th>\n",
       "      <td>Grand Central Publishing</td>\n",
       "      <td>25</td>\n",
       "    </tr>\n",
       "    <tr>\n",
       "      <th>3</th>\n",
       "      <td>Penguin Classics</td>\n",
       "      <td>24</td>\n",
       "    </tr>\n",
       "    <tr>\n",
       "      <th>4</th>\n",
       "      <td>Ballantine Books</td>\n",
       "      <td>19</td>\n",
       "    </tr>\n",
       "    <tr>\n",
       "      <th>5</th>\n",
       "      <td>Bantam</td>\n",
       "      <td>19</td>\n",
       "    </tr>\n",
       "    <tr>\n",
       "      <th>6</th>\n",
       "      <td>Berkley</td>\n",
       "      <td>17</td>\n",
       "    </tr>\n",
       "    <tr>\n",
       "      <th>7</th>\n",
       "      <td>Berkley Books</td>\n",
       "      <td>14</td>\n",
       "    </tr>\n",
       "    <tr>\n",
       "      <th>8</th>\n",
       "      <td>St. Martin's Press</td>\n",
       "      <td>14</td>\n",
       "    </tr>\n",
       "    <tr>\n",
       "      <th>9</th>\n",
       "      <td>Delta</td>\n",
       "      <td>13</td>\n",
       "    </tr>\n",
       "  </tbody>\n",
       "</table>\n",
       "</div>"
      ],
      "text/plain": [
       "             publisher_name  books_count\n",
       "0             Penguin Books           42\n",
       "1                   Vintage           31\n",
       "2  Grand Central Publishing           25\n",
       "3          Penguin Classics           24\n",
       "4          Ballantine Books           19\n",
       "5                    Bantam           19\n",
       "6                   Berkley           17\n",
       "7             Berkley Books           14\n",
       "8        St. Martin's Press           14\n",
       "9                     Delta           13"
      ]
     },
     "execution_count": 12,
     "metadata": {},
     "output_type": "execute_result"
    }
   ],
   "source": [
    "query = '''\n",
    "SELECT pub.publisher as publisher_name,\n",
    "       COUNT(DISTINCT books.book_id) as books_count\n",
    "FROM publishers as pub\n",
    " LEFT JOIN books on pub.publisher_id = books.publisher_id\n",
    "WHERE books.num_pages > 50\n",
    "GROUP BY publisher_name\n",
    "ORDER BY books_count DESC\n",
    "LIMIT 10;\n",
    "'''\n",
    "func(query)"
   ]
  },
  {
   "cell_type": "markdown",
   "id": "638cdcb1",
   "metadata": {},
   "source": [
    "***Издательство Penguin Books выпустило 42 книги толще 50 страниц. Вывели топ-10 издательств.***"
   ]
  },
  {
   "cell_type": "markdown",
   "id": "6a9de3a8",
   "metadata": {},
   "source": [
    "### Определить автора с самой высокой средней оценкой книг — учитывайте только книги с 50 и более оценками;"
   ]
  },
  {
   "cell_type": "code",
   "execution_count": 13,
   "id": "8cf7a77e",
   "metadata": {},
   "outputs": [
    {
     "data": {
      "text/html": [
       "<div>\n",
       "<style scoped>\n",
       "    .dataframe tbody tr th:only-of-type {\n",
       "        vertical-align: middle;\n",
       "    }\n",
       "\n",
       "    .dataframe tbody tr th {\n",
       "        vertical-align: top;\n",
       "    }\n",
       "\n",
       "    .dataframe thead th {\n",
       "        text-align: right;\n",
       "    }\n",
       "</style>\n",
       "<table border=\"1\" class=\"dataframe\">\n",
       "  <thead>\n",
       "    <tr style=\"text-align: right;\">\n",
       "      <th></th>\n",
       "      <th>author</th>\n",
       "      <th>avg_rating</th>\n",
       "    </tr>\n",
       "  </thead>\n",
       "  <tbody>\n",
       "    <tr>\n",
       "      <th>0</th>\n",
       "      <td>J.K. Rowling/Mary GrandPré</td>\n",
       "      <td>4.29</td>\n",
       "    </tr>\n",
       "  </tbody>\n",
       "</table>\n",
       "</div>"
      ],
      "text/plain": [
       "                       author  avg_rating\n",
       "0  J.K. Rowling/Mary GrandPré        4.29"
      ]
     },
     "execution_count": 13,
     "metadata": {},
     "output_type": "execute_result"
    }
   ],
   "source": [
    "query = '''\n",
    "SELECT authors.author,\n",
    "       ROUND(AVG(ratings.rating),2) AS avg_rating\n",
    "                   \n",
    "FROM ratings            \n",
    "LEFT JOIN books AS books ON ratings.book_id=books.book_id\n",
    "LEFT JOIN authors AS authors ON books.author_id=authors.author_id\n",
    "WHERE ratings.book_id IN (SELECT ratings.book_id\n",
    "                          FROM ratings\n",
    "                          GROUP BY ratings.book_id\n",
    "                          HAVING COUNT(ratings.book_id) >= 50)\n",
    "GROUP BY authors.author\n",
    "ORDER BY avg_rating DESC\n",
    "LIMIT 1\n",
    "'''\n",
    "func(query)"
   ]
  },
  {
   "cell_type": "markdown",
   "id": "1b9e65bb",
   "metadata": {},
   "source": [
    "***Автор с самой высокой средней оценкой книг - J.K. Rowling/Mary GrandPré со средним рейтингом 4.288.***"
   ]
  },
  {
   "cell_type": "markdown",
   "id": "25ca2446",
   "metadata": {},
   "source": [
    "### Посчитать среднее количество обзоров от пользователей, которые поставили больше 50 оценок."
   ]
  },
  {
   "cell_type": "code",
   "execution_count": 14,
   "id": "627cd0cb",
   "metadata": {},
   "outputs": [
    {
     "data": {
      "text/html": [
       "<div>\n",
       "<style scoped>\n",
       "    .dataframe tbody tr th:only-of-type {\n",
       "        vertical-align: middle;\n",
       "    }\n",
       "\n",
       "    .dataframe tbody tr th {\n",
       "        vertical-align: top;\n",
       "    }\n",
       "\n",
       "    .dataframe thead th {\n",
       "        text-align: right;\n",
       "    }\n",
       "</style>\n",
       "<table border=\"1\" class=\"dataframe\">\n",
       "  <thead>\n",
       "    <tr style=\"text-align: right;\">\n",
       "      <th></th>\n",
       "      <th>avg</th>\n",
       "    </tr>\n",
       "  </thead>\n",
       "  <tbody>\n",
       "    <tr>\n",
       "      <th>0</th>\n",
       "      <td>24.333333</td>\n",
       "    </tr>\n",
       "  </tbody>\n",
       "</table>\n",
       "</div>"
      ],
      "text/plain": [
       "         avg\n",
       "0  24.333333"
      ]
     },
     "execution_count": 14,
     "metadata": {},
     "output_type": "execute_result"
    }
   ],
   "source": [
    "query = '''\n",
    "WITH t as\n",
    "    (SELECT username,\n",
    "            COUNT(review_id) as review_count\n",
    "     FROM reviews\n",
    "     WHERE username in (SELECT username\n",
    "                         FROM ratings\n",
    "                         GROUP BY username\n",
    "                         HAVING COUNT(rating) > 50)\n",
    "    GROUP BY username)\n",
    "    \n",
    "SELECT AVG(review_count)\n",
    "FROM t\n",
    "       \n",
    "'''\n",
    "func(query)"
   ]
  },
  {
   "cell_type": "markdown",
   "id": "96d8c250",
   "metadata": {},
   "source": [
    "***Среднее количество обзоров от пользователей, которые поставили больше 50 оценок равно 24.33***"
   ]
  },
  {
   "cell_type": "markdown",
   "id": "27a406dd",
   "metadata": {},
   "source": [
    "## Общий вывод\n",
    "\n",
    "- После 1 января 2000 года было выпущено 819 книг.\n",
    "- По количеству обзоров на первом месте книга Twilight со средним рейтингом 3.66.\n",
    "- Издательство, выпустившее наибольшее количество книг, - издательство \"Penguin Books\".\n",
    "- Автор с самой высокой средней оценкой книг - J.K. Rowling/Mary GrandPré.\n",
    "- Среднее количество обзоров от пользователей, поставивших более 50 оценок, - 24.33"
   ]
  }
 ],
 "metadata": {
  "ExecuteTimeLog": [
   {
    "duration": 537,
    "start_time": "2023-02-21T13:53:46.760Z"
   },
   {
    "duration": 9,
    "start_time": "2023-02-21T13:53:47.300Z"
   },
   {
    "duration": 5537,
    "start_time": "2023-02-21T13:53:47.320Z"
   },
   {
    "duration": 3,
    "start_time": "2023-02-21T13:53:52.859Z"
   },
   {
    "duration": 286,
    "start_time": "2023-02-21T13:53:52.864Z"
   },
   {
    "duration": 75,
    "start_time": "2023-02-21T13:53:53.152Z"
   },
   {
    "duration": 98,
    "start_time": "2023-02-21T13:53:53.228Z"
   },
   {
    "duration": 94,
    "start_time": "2023-02-21T13:53:53.327Z"
   },
   {
    "duration": 79,
    "start_time": "2023-02-21T13:53:53.422Z"
   },
   {
    "duration": 75,
    "start_time": "2023-02-21T13:53:53.503Z"
   },
   {
    "duration": 89,
    "start_time": "2023-02-21T13:53:53.580Z"
   },
   {
    "duration": 84,
    "start_time": "2023-02-21T13:53:53.671Z"
   },
   {
    "duration": 80,
    "start_time": "2023-02-21T13:53:53.757Z"
   },
   {
    "duration": 88,
    "start_time": "2023-02-21T13:53:53.839Z"
   },
   {
    "duration": 115,
    "start_time": "2023-02-21T13:56:26.417Z"
   },
   {
    "duration": 92,
    "start_time": "2023-02-21T13:56:30.655Z"
   },
   {
    "duration": 116,
    "start_time": "2023-02-21T13:58:19.395Z"
   },
   {
    "duration": 88,
    "start_time": "2023-02-21T13:58:21.910Z"
   },
   {
    "duration": 512,
    "start_time": "2023-02-21T14:01:00.464Z"
   },
   {
    "duration": 9,
    "start_time": "2023-02-21T14:01:00.978Z"
   },
   {
    "duration": 6188,
    "start_time": "2023-02-21T14:01:00.988Z"
   },
   {
    "duration": 3,
    "start_time": "2023-02-21T14:01:07.179Z"
   },
   {
    "duration": 297,
    "start_time": "2023-02-21T14:01:07.184Z"
   },
   {
    "duration": 80,
    "start_time": "2023-02-21T14:01:07.484Z"
   },
   {
    "duration": 108,
    "start_time": "2023-02-21T14:01:07.566Z"
   },
   {
    "duration": 90,
    "start_time": "2023-02-21T14:01:07.675Z"
   },
   {
    "duration": 75,
    "start_time": "2023-02-21T14:01:07.767Z"
   },
   {
    "duration": 75,
    "start_time": "2023-02-21T14:01:07.845Z"
   },
   {
    "duration": 85,
    "start_time": "2023-02-21T14:01:07.922Z"
   },
   {
    "duration": 74,
    "start_time": "2023-02-21T14:01:08.008Z"
   },
   {
    "duration": 78,
    "start_time": "2023-02-21T14:01:08.084Z"
   },
   {
    "duration": 75,
    "start_time": "2023-02-21T14:01:08.163Z"
   },
   {
    "duration": 49,
    "start_time": "2023-02-21T17:51:38.556Z"
   },
   {
    "duration": 494,
    "start_time": "2023-02-21T17:51:45.530Z"
   },
   {
    "duration": 7,
    "start_time": "2023-02-21T17:51:46.026Z"
   },
   {
    "duration": 8228,
    "start_time": "2023-02-21T17:51:46.035Z"
   },
   {
    "duration": 3,
    "start_time": "2023-02-21T17:51:54.265Z"
   },
   {
    "duration": 285,
    "start_time": "2023-02-21T17:51:54.269Z"
   },
   {
    "duration": 73,
    "start_time": "2023-02-21T17:51:54.555Z"
   },
   {
    "duration": 91,
    "start_time": "2023-02-21T17:51:54.630Z"
   },
   {
    "duration": 87,
    "start_time": "2023-02-21T17:51:54.723Z"
   },
   {
    "duration": 71,
    "start_time": "2023-02-21T17:51:54.811Z"
   },
   {
    "duration": 69,
    "start_time": "2023-02-21T17:51:54.884Z"
   },
   {
    "duration": 86,
    "start_time": "2023-02-21T17:51:54.955Z"
   },
   {
    "duration": 77,
    "start_time": "2023-02-21T17:51:55.043Z"
   },
   {
    "duration": 76,
    "start_time": "2023-02-21T17:51:55.122Z"
   },
   {
    "duration": 72,
    "start_time": "2023-02-21T17:51:55.200Z"
   },
   {
    "duration": 107,
    "start_time": "2023-02-21T17:54:34.339Z"
   },
   {
    "duration": 218,
    "start_time": "2023-02-21T17:55:03.980Z"
   },
   {
    "duration": 156,
    "start_time": "2023-02-21T17:55:07.633Z"
   },
   {
    "duration": 107,
    "start_time": "2023-02-21T17:55:11.763Z"
   },
   {
    "duration": 48,
    "start_time": "2023-02-21T23:07:02.866Z"
   },
   {
    "duration": 6,
    "start_time": "2023-02-21T23:07:06.702Z"
   },
   {
    "duration": 511,
    "start_time": "2023-02-21T23:07:14.972Z"
   },
   {
    "duration": 8,
    "start_time": "2023-02-21T23:07:15.485Z"
   },
   {
    "duration": 8002,
    "start_time": "2023-02-21T23:07:15.494Z"
   },
   {
    "duration": 3,
    "start_time": "2023-02-21T23:07:23.498Z"
   },
   {
    "duration": 305,
    "start_time": "2023-02-21T23:07:23.502Z"
   },
   {
    "duration": 80,
    "start_time": "2023-02-21T23:07:23.809Z"
   },
   {
    "duration": 109,
    "start_time": "2023-02-21T23:07:23.891Z"
   },
   {
    "duration": 93,
    "start_time": "2023-02-21T23:07:24.001Z"
   },
   {
    "duration": 78,
    "start_time": "2023-02-21T23:07:24.096Z"
   },
   {
    "duration": 75,
    "start_time": "2023-02-21T23:07:24.177Z"
   },
   {
    "duration": 240,
    "start_time": "2023-02-21T23:07:24.254Z"
   },
   {
    "duration": 0,
    "start_time": "2023-02-21T23:07:24.496Z"
   },
   {
    "duration": 0,
    "start_time": "2023-02-21T23:07:24.498Z"
   },
   {
    "duration": 0,
    "start_time": "2023-02-21T23:07:24.499Z"
   },
   {
    "duration": 120,
    "start_time": "2023-02-21T23:09:01.580Z"
   },
   {
    "duration": 90,
    "start_time": "2023-02-21T23:22:15.357Z"
   },
   {
    "duration": 86,
    "start_time": "2023-02-21T23:32:15.760Z"
   },
   {
    "duration": 81,
    "start_time": "2023-02-21T23:32:46.160Z"
   },
   {
    "duration": 83,
    "start_time": "2023-02-21T23:32:46.878Z"
   },
   {
    "duration": 82,
    "start_time": "2023-02-21T23:50:19.301Z"
   },
   {
    "duration": 491,
    "start_time": "2023-02-21T23:51:53.180Z"
   },
   {
    "duration": 8,
    "start_time": "2023-02-21T23:51:53.673Z"
   },
   {
    "duration": 7550,
    "start_time": "2023-02-21T23:51:53.682Z"
   },
   {
    "duration": 2,
    "start_time": "2023-02-21T23:52:01.234Z"
   },
   {
    "duration": 316,
    "start_time": "2023-02-21T23:52:01.238Z"
   },
   {
    "duration": 78,
    "start_time": "2023-02-21T23:52:01.555Z"
   },
   {
    "duration": 109,
    "start_time": "2023-02-21T23:52:01.635Z"
   },
   {
    "duration": 95,
    "start_time": "2023-02-21T23:52:01.746Z"
   },
   {
    "duration": 77,
    "start_time": "2023-02-21T23:52:01.843Z"
   },
   {
    "duration": 76,
    "start_time": "2023-02-21T23:52:01.922Z"
   },
   {
    "duration": 96,
    "start_time": "2023-02-21T23:52:02.000Z"
   },
   {
    "duration": 78,
    "start_time": "2023-02-21T23:52:02.098Z"
   },
   {
    "duration": 79,
    "start_time": "2023-02-21T23:52:02.178Z"
   },
   {
    "duration": 77,
    "start_time": "2023-02-21T23:52:02.259Z"
   },
   {
    "duration": 477,
    "start_time": "2023-02-21T23:52:20.791Z"
   },
   {
    "duration": 10,
    "start_time": "2023-02-21T23:52:21.270Z"
   },
   {
    "duration": 7633,
    "start_time": "2023-02-21T23:52:21.282Z"
   },
   {
    "duration": 3,
    "start_time": "2023-02-21T23:52:28.917Z"
   },
   {
    "duration": 266,
    "start_time": "2023-02-21T23:52:28.922Z"
   },
   {
    "duration": 71,
    "start_time": "2023-02-21T23:52:29.190Z"
   },
   {
    "duration": 91,
    "start_time": "2023-02-21T23:52:29.263Z"
   },
   {
    "duration": 88,
    "start_time": "2023-02-21T23:52:29.356Z"
   },
   {
    "duration": 69,
    "start_time": "2023-02-21T23:52:29.446Z"
   },
   {
    "duration": 68,
    "start_time": "2023-02-21T23:52:29.518Z"
   },
   {
    "duration": 85,
    "start_time": "2023-02-21T23:52:29.588Z"
   },
   {
    "duration": 71,
    "start_time": "2023-02-21T23:52:29.674Z"
   },
   {
    "duration": 74,
    "start_time": "2023-02-21T23:52:29.747Z"
   },
   {
    "duration": 73,
    "start_time": "2023-02-21T23:52:29.823Z"
   },
   {
    "duration": 534,
    "start_time": "2023-02-22T11:09:37.879Z"
   },
   {
    "duration": 7,
    "start_time": "2023-02-22T11:09:38.415Z"
   },
   {
    "duration": 7790,
    "start_time": "2023-02-22T11:09:38.424Z"
   },
   {
    "duration": 2,
    "start_time": "2023-02-22T11:09:46.216Z"
   },
   {
    "duration": 81,
    "start_time": "2023-02-22T11:09:46.219Z"
   },
   {
    "duration": 12,
    "start_time": "2023-02-22T11:09:46.302Z"
   },
   {
    "duration": 30,
    "start_time": "2023-02-22T11:09:46.315Z"
   },
   {
    "duration": 16,
    "start_time": "2023-02-22T11:09:46.347Z"
   },
   {
    "duration": 11,
    "start_time": "2023-02-22T11:09:46.364Z"
   },
   {
    "duration": 8,
    "start_time": "2023-02-22T11:09:46.377Z"
   },
   {
    "duration": 28,
    "start_time": "2023-02-22T11:09:46.386Z"
   },
   {
    "duration": 11,
    "start_time": "2023-02-22T11:09:46.415Z"
   },
   {
    "duration": 13,
    "start_time": "2023-02-22T11:09:46.427Z"
   },
   {
    "duration": 11,
    "start_time": "2023-02-22T11:09:46.441Z"
   },
   {
    "duration": 15,
    "start_time": "2023-02-22T11:09:58.656Z"
   },
   {
    "duration": 14,
    "start_time": "2023-02-22T11:10:39.345Z"
   },
   {
    "duration": 528,
    "start_time": "2023-02-22T11:13:14.074Z"
   },
   {
    "duration": 10,
    "start_time": "2023-02-22T11:13:14.604Z"
   },
   {
    "duration": 7623,
    "start_time": "2023-02-22T11:13:14.616Z"
   },
   {
    "duration": 3,
    "start_time": "2023-02-22T11:13:22.241Z"
   },
   {
    "duration": 51,
    "start_time": "2023-02-22T11:13:22.246Z"
   },
   {
    "duration": 11,
    "start_time": "2023-02-22T11:13:22.298Z"
   },
   {
    "duration": 25,
    "start_time": "2023-02-22T11:13:22.310Z"
   },
   {
    "duration": 16,
    "start_time": "2023-02-22T11:13:22.336Z"
   },
   {
    "duration": 10,
    "start_time": "2023-02-22T11:13:22.353Z"
   },
   {
    "duration": 9,
    "start_time": "2023-02-22T11:13:22.364Z"
   },
   {
    "duration": 36,
    "start_time": "2023-02-22T11:13:22.374Z"
   },
   {
    "duration": 12,
    "start_time": "2023-02-22T11:13:22.411Z"
   },
   {
    "duration": 13,
    "start_time": "2023-02-22T11:13:22.424Z"
   },
   {
    "duration": 11,
    "start_time": "2023-02-22T11:13:22.439Z"
   },
   {
    "duration": 50,
    "start_time": "2023-02-22T13:45:24.370Z"
   },
   {
    "duration": 536,
    "start_time": "2023-02-22T13:45:31.377Z"
   },
   {
    "duration": 10,
    "start_time": "2023-02-22T13:45:31.917Z"
   },
   {
    "duration": 4747,
    "start_time": "2023-02-22T13:45:31.929Z"
   },
   {
    "duration": 3,
    "start_time": "2023-02-22T13:45:36.678Z"
   },
   {
    "duration": 102,
    "start_time": "2023-02-22T13:45:36.683Z"
   },
   {
    "duration": 13,
    "start_time": "2023-02-22T13:45:36.787Z"
   },
   {
    "duration": 30,
    "start_time": "2023-02-22T13:45:36.801Z"
   },
   {
    "duration": 20,
    "start_time": "2023-02-22T13:45:36.834Z"
   },
   {
    "duration": 14,
    "start_time": "2023-02-22T13:45:36.855Z"
   },
   {
    "duration": 17,
    "start_time": "2023-02-22T13:45:36.872Z"
   },
   {
    "duration": 34,
    "start_time": "2023-02-22T13:45:36.891Z"
   },
   {
    "duration": 13,
    "start_time": "2023-02-22T13:45:36.927Z"
   },
   {
    "duration": 15,
    "start_time": "2023-02-22T13:45:36.942Z"
   },
   {
    "duration": 12,
    "start_time": "2023-02-22T13:45:36.959Z"
   },
   {
    "duration": 42,
    "start_time": "2023-02-22T13:46:53.039Z"
   },
   {
    "duration": 60,
    "start_time": "2023-02-22T21:46:54.199Z"
   },
   {
    "duration": 558,
    "start_time": "2023-02-22T21:47:01.560Z"
   },
   {
    "duration": 12,
    "start_time": "2023-02-22T21:47:02.121Z"
   },
   {
    "duration": 4919,
    "start_time": "2023-02-22T21:47:02.135Z"
   },
   {
    "duration": 2,
    "start_time": "2023-02-22T21:47:07.057Z"
   },
   {
    "duration": 338,
    "start_time": "2023-02-22T21:47:07.061Z"
   },
   {
    "duration": 82,
    "start_time": "2023-02-22T21:47:07.401Z"
   },
   {
    "duration": 113,
    "start_time": "2023-02-22T21:47:07.486Z"
   },
   {
    "duration": 95,
    "start_time": "2023-02-22T21:47:07.601Z"
   },
   {
    "duration": 77,
    "start_time": "2023-02-22T21:47:07.697Z"
   },
   {
    "duration": 78,
    "start_time": "2023-02-22T21:47:07.778Z"
   },
   {
    "duration": 96,
    "start_time": "2023-02-22T21:47:07.858Z"
   },
   {
    "duration": 80,
    "start_time": "2023-02-22T21:47:07.956Z"
   },
   {
    "duration": 79,
    "start_time": "2023-02-22T21:47:08.038Z"
   },
   {
    "duration": 89,
    "start_time": "2023-02-22T21:47:08.118Z"
   }
  ],
  "kernelspec": {
   "display_name": "Python 3 (ipykernel)",
   "language": "python",
   "name": "python3"
  },
  "language_info": {
   "codemirror_mode": {
    "name": "ipython",
    "version": 3
   },
   "file_extension": ".py",
   "mimetype": "text/x-python",
   "name": "python",
   "nbconvert_exporter": "python",
   "pygments_lexer": "ipython3",
   "version": "3.9.12"
  },
  "toc": {
   "base_numbering": 1,
   "nav_menu": {},
   "number_sections": true,
   "sideBar": true,
   "skip_h1_title": true,
   "title_cell": "Table of Contents",
   "title_sidebar": "Contents",
   "toc_cell": false,
   "toc_position": {},
   "toc_section_display": true,
   "toc_window_display": false
  }
 },
 "nbformat": 4,
 "nbformat_minor": 5
}
